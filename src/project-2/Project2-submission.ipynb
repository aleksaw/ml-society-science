{
 "cells": [
  {
   "cell_type": "markdown",
   "metadata": {},
   "source": [
    "# Medical project"
   ]
  },
  {
   "cell_type": "markdown",
   "metadata": {},
   "source": [
    "## Historical data"
   ]
  },
  {
   "cell_type": "code",
   "execution_count": 1,
   "metadata": {},
   "outputs": [],
   "source": [
    "import numpy as np\n",
    "import pandas as pd\n",
    "\n",
    "X = pd.read_csv('../../data/medical/historical_X.dat', header=None, sep=\" \")\n",
    "A = pd.read_csv('../../data/medical/historical_A.dat', header=None, sep=\" \")\n",
    "Y = pd.read_csv('../../data/medical/historical_Y.dat', header=None, sep=\" \")\n",
    "X = X.rename(index=str, columns={0: 'gender', 1: 'smoker'})\n",
    "X = X.rename(index=str, columns={i: 'gene'+str(i-1) for i in range(2,128)})\n",
    "X_old = X.copy()\n",
    "X.insert(0, 'symptoms', X[128] + X[129]*2)\n",
    "X = X.drop(labels=[128, 129], axis=1)\n",
    "A = A.rename(index=str, columns={0: 'action'})\n",
    "Y = Y.rename(index=str, columns={0: 'outcome'})"
   ]
  },
  {
   "cell_type": "code",
   "execution_count": 2,
   "metadata": {},
   "outputs": [],
   "source": [
    "import matplotlib.pyplot as plt\n",
    "%matplotlib inline\n",
    "import seaborn as sb\n",
    "sb.set()"
   ]
  },
  {
   "cell_type": "markdown",
   "metadata": {},
   "source": [
    "### Discovering structure in the data"
   ]
  },
  {
   "cell_type": "markdown",
   "metadata": {},
   "source": [
    "#### a)"
   ]
  },
  {
   "cell_type": "code",
   "execution_count": 111,
   "metadata": {},
   "outputs": [],
   "source": [
    "from sklearn.cluster import KMeans\n",
    "from sklearn.model_selection import KFold\n",
    "from scipy.stats import sem"
   ]
  },
  {
   "cell_type": "code",
   "execution_count": 4,
   "metadata": {},
   "outputs": [],
   "source": [
    "n_cluster = np.arange(1,15,2)\n",
    "scores_mean = np.zeros(len(n_cluster))\n",
    "scores_sem = np.zeros(len(n_cluster))\n",
    "for i, n in enumerate(n_cluster):\n",
    "    scores = np.zeros(10)\n",
    "    for j, (train, test) in enumerate(KFold(n_splits=10).split(X_old)):\n",
    "        kmeans = KMeans(n_clusters=n).fit(X.iloc[train])\n",
    "        scores[j] = kmeans.score(X.iloc[test])\n",
    "    \n",
    "    scores_mean[i] = scores.mean()\n",
    "    scores_sem[i] = sem(scores)"
   ]
  },
  {
   "cell_type": "code",
   "execution_count": 5,
   "metadata": {},
   "outputs": [
    {
     "data": {
      "text/plain": [
       "<BarContainer object of 7 artists>"
      ]
     },
     "execution_count": 5,
     "metadata": {},
     "output_type": "execute_result"
    },
    {
     "data": {
      "image/png": "[encoded data removed]",
      "text/plain": [
       "<Figure size 432x288 with 1 Axes>"
      ]
     },
     "metadata": {
      "needs_background": "light"
     },
     "output_type": "display_data"
    }
   ],
   "source": [
    "plt.bar(x=n_cluster, height=scores_mean, yerr=scores_sem)"
   ]
  },
  {
   "cell_type": "markdown",
   "metadata": {},
   "source": [
    "OK, we have to do something different, because KMeans will just look better and better the more clusters we use (I also tried np.arange(1,150,20)).\n",
    "\n",
    "From [SKlearn](http://scikit-learn.org/stable/modules/clustering.html#hierarchical-clustering) documentation it looks like Hierarchical Clustering might be a good way to go, but we need to define a metric for similarity. In [A Survey of Binary Similarity and Distance Measures by Choi et al, 2010](http://www.iiisci.org/Journal/CV$/sci/pdfs/GS315JG.pdf) there are 76 potential similarity/distance measures listed. It's difficult to make a very informed decision as to which is the best in our scenario, but we should be able to find one so that we don't have to invent one on our own. It looks as though our features are symmetric (that both 0 and 1 encode some state) and not asymetric (that 0 encodes absence of something and 1 presence) as the mean sum of the genetic features is 64.6 from a total of 126 and the gender is obvious. The exceptions are smoker and the two symptons features, although smoker could also be considered symmetric.\n",
    "\n",
    "For the symmetric features match ratio (Sokal&Michener) seems as good as any, whereas for the asymetric Faith-similarity where negative matches are downplayed seems like a good idea. I don't suppose there is anything wrong in combining them, though given how few asymetric features we have we could just as well have used S&M on all. Given the fact that scipy.spatial.distance has a metric sokalmichener that seems like the best way to go.\n",
    "\n",
    "Now, with the AgglomerativeClustering in SKLearn we don't have a score or a predict method. It seems we can only fit, or fit and predict on the same dataset. There is, however, some measures of cluster fit that can be used, such as silhouette score. I was also considering something like doing CV and predicting every time on the training set, then storing the 9 labels we get from this and creating some measure of how similar the 9 labels created when fitting the clustering on different data, but one big problem with this is how to judge which number of clusters is best. Obviously we'll get perfect score on this if we use 1 cluster. The more clusters the bigger the chance of having differences in the classification. Balancing that well would be hard.\n",
    "\n",
    "I also came across [Powered Outer Probabilistic Clustering, Taraba, 2017](http://www.iaeng.org/publication/WCECS2017/WCECS2017_pp394-398.pdf) which looks interesting and well suited to our binary data, but it doesn't seem to have caught on, and it would have to be implemented from scratch. To get any kind of efficiency that would probably need to be done in C using Cython or something, and even though C#-code is provided it was an unsurmountable obstacle for this project."
   ]
  },
  {
   "cell_type": "code",
   "execution_count": 6,
   "metadata": {},
   "outputs": [
    {
     "data": {
      "text/plain": [
       "64.58447534260279"
      ]
     },
     "execution_count": 6,
     "metadata": {},
     "output_type": "execute_result"
    }
   ],
   "source": [
    "X.iloc[:].iloc[3:].sum(axis=1).mean()"
   ]
  },
  {
   "cell_type": "code",
   "execution_count": 7,
   "metadata": {},
   "outputs": [],
   "source": [
    "from scipy.spatial.distance import sokalmichener\n",
    "from sklearn.cluster import AgglomerativeClustering\n",
    "from sklearn.metrics import silhouette_score, pairwise_distances"
   ]
  },
  {
   "cell_type": "code",
   "execution_count": 140,
   "metadata": {},
   "outputs": [],
   "source": [
    "distances = pairwise_distances(X_old, metric=sokalmichener)"
   ]
  },
  {
   "cell_type": "code",
   "execution_count": 10,
   "metadata": {},
   "outputs": [
    {
     "data": {
      "text/plain": [
       "(10000, 10000)"
      ]
     },
     "execution_count": 10,
     "metadata": {},
     "output_type": "execute_result"
    }
   ],
   "source": [
    "distances.shape"
   ]
  },
  {
   "cell_type": "code",
   "execution_count": 39,
   "metadata": {},
   "outputs": [],
   "source": [
    "n_cluster = np.arange(1,9)\n",
    "scores = np.zeros(len(n_cluster))\n",
    "clusters = np.zeros([len(X_old), len(n_cluster)], dtype=np.int)\n",
    "for i, n in enumerate(n_cluster):\n",
    "    clusterer = AgglomerativeClustering(n_clusters=n, affinity='precomputed', \n",
    "                                        linkage=\"average\")\n",
    "    clusters[:,i] = clusterer.fit_predict(distances)"
   ]
  },
  {
   "cell_type": "code",
   "execution_count": 35,
   "metadata": {},
   "outputs": [],
   "source": [
    "for i in range(1, len(n_cluster)):\n",
    "    scores[i] = silhouette_score(distances, clusters[:,i], metric='precomputed')"
   ]
  },
  {
   "cell_type": "code",
   "execution_count": 36,
   "metadata": {},
   "outputs": [
    {
     "data": {
      "text/plain": [
       "<BarContainer object of 7 artists>"
      ]
     },
     "execution_count": 36,
     "metadata": {},
     "output_type": "execute_result"
    },
    {
     "data": {
      "image/png": "[encoded data removed]",
      "text/plain": [
       "<Figure size 432x288 with 1 Axes>"
      ]
     },
     "metadata": {
      "needs_background": "light"
     },
     "output_type": "display_data"
    }
   ],
   "source": [
    "plt.bar(n_cluster[1:], scores[1:])"
   ]
  },
  {
   "cell_type": "markdown",
   "metadata": {},
   "source": [
    "The silhouette score is not defined for a single cluster, so we can only judge multiple clusters. We see from the scores however, that no matter the number of clusters there is a significant overlap between the clusters. 2 clusters seem best, but at the same time they have so significant overlap that we might as well have concluded that they in are a single cluster."
   ]
  },
  {
   "cell_type": "markdown",
   "metadata": {},
   "source": [
    "We can always try instead of silhouette to calculate the probabilities of seeing the data given their labelling and the number of clusters, then compare the total likelihood for each cluster-size.\n",
    "\n",
    "To do that we'll set \n",
    "$$x_{ij} \\sim Bernoulli(p_{jk})$$\n",
    "$$p_{jk} \\sim Beta(\\alpha_{jk}, \\beta_{jk})$$\n",
    "Then, for each feature and label we find $\\alpha$ and $\\beta$, and then for each datapoint and it's label we calculate $\\sum_{j=1}^d \\log((x_{ij}==1)p_{jk}+(x_{ij}==0)(1-p_{ij})$. Here $(x_{ij}==1)p_{jk}+(x_{ij}==0)(1-p_{ij})$ can be simplified as $x_{ij}p_{jk}+(1-x_{ij})(1-p_{jk}) = 2x_{ij}p_{jk}-x_{ij}-p_{jk}+1$"
   ]
  },
  {
   "cell_type": "code",
   "execution_count": 65,
   "metadata": {},
   "outputs": [
    {
     "name": "stdout",
     "output_type": "stream",
     "text": [
      "0 0.501499700059988 0.498500299940012\n",
      "0 0.5068890500362582 0.49311094996374183\n",
      "0 0.5068890500362582 0.49311094996374183\n",
      "0 0.50199203187251 0.49800796812749004\n",
      "0 0.50199203187251 0.49800796812749004\n",
      "0 0.50199203187251 0.49800796812749004\n",
      "0 0.50199203187251 0.49800796812749004\n",
      "0 0.4987506246876562 0.5012493753123438\n"
     ]
    }
   ],
   "source": [
    "loglik = np.zeros_like(n_cluster, dtype=np.float64)\n",
    "d = X_old.shape[1]\n",
    "for k, n in enumerate(n_cluster):\n",
    "    # For each feature and label find alpha and beta\n",
    "    alpha = np.ones([d, n])\n",
    "    beta = np.ones([d, n])\n",
    "    for i, x_i in enumerate(X_old.values):\n",
    "        for j, x_ij in enumerate(x_i):\n",
    "            alpha[j, clusters[i,k]] += x_ij\n",
    "            beta[j, clusters[i,k]] += 1 - x_ij\n",
    "    # For each datapoint, find log lik\n",
    "    for i, x_i in enumerate(X_old.values):\n",
    "        for j, x_ij in enumerate(x_i):\n",
    "            a = alpha[j, clusters[i,k]]\n",
    "            b = beta[j, clusters[i,k]]\n",
    "            p_jk = a / (a + b)\n",
    "            loglik[k] += np.log(x_ij*p_jk + (1-x_ij)*(1-p_jk))"
   ]
  },
  {
   "cell_type": "code",
   "execution_count": 66,
   "metadata": {},
   "outputs": [
    {
     "data": {
      "text/plain": [
       "<BarContainer object of 8 artists>"
      ]
     },
     "execution_count": 66,
     "metadata": {},
     "output_type": "execute_result"
    },
    {
     "data": {
      "image/png": "[encoded data removed]",
      "text/plain": [
       "<Figure size 432x288 with 1 Axes>"
      ]
     },
     "metadata": {
      "needs_background": "light"
     },
     "output_type": "display_data"
    }
   ],
   "source": [
    "plt.bar(n_cluster, loglik)"
   ]
  },
  {
   "cell_type": "markdown",
   "metadata": {},
   "source": [
    "So here again we see, the more clusters the more likely the data, but this is unsurprising. If we try adjusting it with $BIC = log(N)*p - 2*loglik$ where p is numbers of fitted parameters (or really degrees of freedom) we get"
   ]
  },
  {
   "cell_type": "code",
   "execution_count": 78,
   "metadata": {},
   "outputs": [],
   "source": [
    "BIC = np.zeros_like(loglik)\n",
    "for i, n in enumerate(n_cluster):\n",
    "    BIC[i] = np.log(X_old.shape[0])*d*2*n - 2*loglik[i]"
   ]
  },
  {
   "cell_type": "code",
   "execution_count": 79,
   "metadata": {},
   "outputs": [
    {
     "data": {
      "text/plain": [
       "<BarContainer object of 8 artists>"
      ]
     },
     "execution_count": 79,
     "metadata": {},
     "output_type": "execute_result"
    },
    {
     "data": {
      "image/png": "[encoded data removed]",
      "text/plain": [
       "<Figure size 432x288 with 1 Axes>"
      ]
     },
     "metadata": {
      "needs_background": "light"
     },
     "output_type": "display_data"
    }
   ],
   "source": [
    "plt.bar(n_cluster, BIC)"
   ]
  },
  {
   "cell_type": "markdown",
   "metadata": {},
   "source": [
    "But here we see, quite unsurprisingly, that the likelihood completely dominates since the log-likelihood roughly is $log(0.5)*d*N$ making the BIC roughly $log(N)*d*clusters*2 - 2*log(0.5)*d*N = 2d(N*log(2) + log(N)*clusters)$ and in this expression $N$ completely dominates $log(N)$, so how much we can reduce the 2 in the $log(2)$-term is far more important than how many clusters we use."
   ]
  },
  {
   "cell_type": "markdown",
   "metadata": {},
   "source": [
    "So in conclusion, based on this it seems very difficult to conclude with any number of clusters. The perhaps best answer is that the silhouette score for the best number of clusters, 2, is so close to 0 that it's hard to make any meaningful clusters at all. Perhaps, after we have done feature selection in b) we can try again with the more important features and see if we get any meaningful clusters, because now we just have a lot of random data apparently. Even though the BIC analysis suggests more clusters the BIC scores for multiple clusters are very high, suggesting that the clusters are very undefined."
   ]
  },
  {
   "cell_type": "markdown",
   "metadata": {},
   "source": [
    "#### b)"
   ]
  },
  {
   "cell_type": "markdown",
   "metadata": {},
   "source": [
    "First lets try a l1-penalization on Logistic Regression to see if it can remove some features for us, trying to see what features can be used to predict the symptoms."
   ]
  },
  {
   "cell_type": "code",
   "execution_count": 83,
   "metadata": {},
   "outputs": [],
   "source": [
    "from sklearn.linear_model import LogisticRegression"
   ]
  },
  {
   "cell_type": "code",
   "execution_count": 100,
   "metadata": {},
   "outputs": [],
   "source": [
    "Xs = X.drop(labels=['symptoms'], axis=1)\n",
    "ys = X['symptoms']\n",
    "clf = LogisticRegression(penalty='l1', C=0.1)\n",
    "fit = clf.fit(Xs, ys)"
   ]
  },
  {
   "cell_type": "code",
   "execution_count": 89,
   "metadata": {},
   "outputs": [
    {
     "data": {
      "text/plain": [
       "array([41, 17,  3,  5])"
      ]
     },
     "execution_count": 89,
     "metadata": {},
     "output_type": "execute_result"
    }
   ],
   "source": [
    "1*(fit.coef_[:,:]>np.zeros(fit.coef_.shape[1])).sum(axis=1)"
   ]
  },
  {
   "cell_type": "markdown",
   "metadata": {},
   "source": [
    "So this gives us from 3 to 41 important features, depending on the symptom class."
   ]
  },
  {
   "cell_type": "code",
   "execution_count": 91,
   "metadata": {},
   "outputs": [
    {
     "data": {
      "text/plain": [
       "array([0, 2, 0, 2, 2, 2, 1, 1, 0, 1, 0, 0, 0, 1, 1, 1, 0, 0, 0, 0, 0, 0,\n",
       "       1, 1, 0, 1, 1, 0, 0, 1, 0, 0, 0, 0, 0, 1, 1, 1, 1, 0, 0, 0, 0, 0,\n",
       "       0, 1, 0, 0, 1, 0, 0, 0, 1, 0, 1, 0, 0, 0, 1, 1, 1, 1, 0, 1, 1, 0,\n",
       "       1, 1, 1, 0, 1, 1, 0, 1, 0, 1, 1, 1, 0, 1, 0, 1, 1, 1, 1, 1, 0, 1,\n",
       "       0, 0, 1, 0, 1, 1, 1, 1, 0, 0, 1, 0, 1, 1, 0, 0, 0, 0, 1, 0, 0, 1,\n",
       "       0, 0, 0, 2, 0, 0, 0, 0, 0, 0, 1, 1, 0, 0, 1, 1, 1, 0])"
      ]
     },
     "execution_count": 91,
     "metadata": {},
     "output_type": "execute_result"
    }
   ],
   "source": [
    "1*(fit.coef_[:,:]>np.zeros(fit.coef_.shape[1])).sum(axis=0)"
   ]
  },
  {
   "cell_type": "markdown",
   "metadata": {},
   "source": [
    "But none of the same features look important across all symptom classes. Perhaps with weaker regularization"
   ]
  },
  {
   "cell_type": "code",
   "execution_count": 92,
   "metadata": {},
   "outputs": [
    {
     "data": {
      "text/plain": [
       "array([1, 2, 1, 2, 2, 2, 2, 1, 0, 2, 0, 0, 0, 1, 1, 1, 0, 0, 0, 0, 0, 1,\n",
       "       1, 1, 0, 1, 1, 1, 1, 1, 0, 0, 0, 0, 1, 1, 1, 1, 1, 0, 1, 2, 1, 1,\n",
       "       0, 1, 2, 1, 1, 0, 0, 0, 1, 2, 1, 0, 0, 1, 2, 1, 1, 1, 0, 1, 1, 0,\n",
       "       1, 1, 1, 0, 2, 1, 1, 1, 0, 1, 1, 1, 0, 1, 1, 1, 1, 1, 1, 1, 1, 1,\n",
       "       0, 1, 1, 1, 1, 1, 2, 1, 1, 0, 1, 0, 1, 1, 0, 1, 0, 2, 1, 1, 0, 1,\n",
       "       1, 1, 1, 2, 0, 1, 0, 1, 1, 0, 2, 2, 0, 1, 2, 1, 1, 1])"
      ]
     },
     "execution_count": 92,
     "metadata": {},
     "output_type": "execute_result"
    }
   ],
   "source": [
    "clf = LogisticRegression(penalty='l1', C=0.2)\n",
    "fit = clf.fit(Xs, ys)\n",
    "1*(fit.coef_[:,:]>np.zeros(fit.coef_.shape[1])).sum(axis=0)"
   ]
  },
  {
   "cell_type": "markdown",
   "metadata": {},
   "source": [
    "Nope, we just got a lot more features that appear significant in one class, but still none that seem so in more than 2."
   ]
  },
  {
   "cell_type": "markdown",
   "metadata": {},
   "source": [
    "Let's try something else. RandomForestClassifier and ExtraTreesClassifier come with a nice feature_importance measure, we can try one of those. According to [this](https://stackoverflow.com/questions/22409855/randomforestclassifier-vs-extratreesclassifier-in-scikit-learn) and [this](https://stats.stackexchange.com/questions/175523/difference-between-random-forest-and-extremely-randomized-trees) it doesn't seem to make a very big difference necessarily, and we could try both, but ExtraTrees seems according to this to possible deal somewhat better with high dimensions and high noise, which is what we have."
   ]
  },
  {
   "cell_type": "code",
   "execution_count": 239,
   "metadata": {},
   "outputs": [],
   "source": [
    "from sklearn.ensemble import ExtraTreesClassifier"
   ]
  },
  {
   "cell_type": "code",
   "execution_count": 241,
   "metadata": {},
   "outputs": [
    {
     "data": {
      "text/plain": [
       "ExtraTreesClassifier(bootstrap=False, class_weight=None, criterion='gini',\n",
       "           max_depth=None, max_features='auto', max_leaf_nodes=None,\n",
       "           min_impurity_decrease=0.0, min_impurity_split=None,\n",
       "           min_samples_leaf=1, min_samples_split=2,\n",
       "           min_weight_fraction_leaf=0.0, n_estimators=1000, n_jobs=1,\n",
       "           oob_score=False, random_state=None, verbose=0, warm_start=False)"
      ]
     },
     "execution_count": 241,
     "metadata": {},
     "output_type": "execute_result"
    }
   ],
   "source": [
    "# Random Forest classifiers don't overfit, so we might as well build a big forest\n",
    "clf = ExtraTreesClassifier(n_estimators=1000)\n",
    "clf.fit(Xs, ys)"
   ]
  },
  {
   "cell_type": "code",
   "execution_count": 115,
   "metadata": {},
   "outputs": [],
   "source": [
    "deviations = sem([tree.feature_importances_ for tree in clf.estimators_], axis=0)\n",
    "sorted_feature_ixs = np.argsort(clf.feature_importances_)[::-1]"
   ]
  },
  {
   "cell_type": "code",
   "execution_count": 116,
   "metadata": {},
   "outputs": [
    {
     "data": {
      "text/plain": [
       "<BarContainer object of 128 artists>"
      ]
     },
     "execution_count": 116,
     "metadata": {},
     "output_type": "execute_result"
    },
    {
     "data": {
      "image/png": "[encoded data removed]",
      "text/plain": [
       "<Figure size 432x288 with 1 Axes>"
      ]
     },
     "metadata": {
      "needs_background": "light"
     },
     "output_type": "display_data"
    }
   ],
   "source": [
    "plt.bar(range(Xs.shape[1]), clf.feature_importances_[sorted_feature_ixs],\n",
    "       color=\"k\", yerr=deviations[sorted_feature_ixs], ecolor='r')"
   ]
  },
  {
   "cell_type": "markdown",
   "metadata": {},
   "source": [
    "So we see that there are only very few of the features that seem to have any relevance, so let's try to cut it down to get a more informative plot."
   ]
  },
  {
   "cell_type": "code",
   "execution_count": 119,
   "metadata": {},
   "outputs": [
    {
     "data": {
      "image/png": "[encoded data removed]",
      "text/plain": [
       "<Figure size 432x288 with 1 Axes>"
      ]
     },
     "metadata": {
      "needs_background": "light"
     },
     "output_type": "display_data"
    }
   ],
   "source": [
    "to_show = 25\n",
    "plt.bar(range(to_show), (clf.feature_importances_[sorted_feature_ixs])[:to_show],\n",
    "       color=\"k\", yerr=(deviations[sorted_feature_ixs])[:to_show], ecolor='r')\n",
    "plt.xticks(range(to_show), sorted_feature_ixs[:to_show])\n",
    "plt.show()"
   ]
  },
  {
   "cell_type": "markdown",
   "metadata": {},
   "source": [
    "It's always difficult to know where to make this cut, but from the looks of this, 4 seems like a good number. From 4-25 there seems to be a fairly general decline with a small step at 16, and after 25 it looks (from the first plot) quite flat. In any case, 5 is not all that much higher than the lowest, so I'll cut at 4."
   ]
  },
  {
   "cell_type": "code",
   "execution_count": 125,
   "metadata": {},
   "outputs": [
    {
     "data": {
      "text/html": [
       "<div>\n",
       "<style scoped>\n",
       "    .dataframe tbody tr th:only-of-type {\n",
       "        vertical-align: middle;\n",
       "    }\n",
       "\n",
       "    .dataframe tbody tr th {\n",
       "        vertical-align: top;\n",
       "    }\n",
       "\n",
       "    .dataframe thead th {\n",
       "        text-align: right;\n",
       "    }\n",
       "</style>\n",
       "<table border=\"1\" class=\"dataframe\">\n",
       "  <thead>\n",
       "    <tr style=\"text-align: right;\">\n",
       "      <th></th>\n",
       "      <th>gene3</th>\n",
       "      <th>gene1</th>\n",
       "      <th>gene111</th>\n",
       "      <th>gene9</th>\n",
       "    </tr>\n",
       "  </thead>\n",
       "  <tbody>\n",
       "    <tr>\n",
       "      <th>0</th>\n",
       "      <td>1</td>\n",
       "      <td>0</td>\n",
       "      <td>1</td>\n",
       "      <td>0</td>\n",
       "    </tr>\n",
       "    <tr>\n",
       "      <th>1</th>\n",
       "      <td>0</td>\n",
       "      <td>0</td>\n",
       "      <td>0</td>\n",
       "      <td>1</td>\n",
       "    </tr>\n",
       "    <tr>\n",
       "      <th>2</th>\n",
       "      <td>0</td>\n",
       "      <td>1</td>\n",
       "      <td>1</td>\n",
       "      <td>1</td>\n",
       "    </tr>\n",
       "    <tr>\n",
       "      <th>3</th>\n",
       "      <td>0</td>\n",
       "      <td>1</td>\n",
       "      <td>0</td>\n",
       "      <td>0</td>\n",
       "    </tr>\n",
       "    <tr>\n",
       "      <th>4</th>\n",
       "      <td>0</td>\n",
       "      <td>0</td>\n",
       "      <td>0</td>\n",
       "      <td>1</td>\n",
       "    </tr>\n",
       "  </tbody>\n",
       "</table>\n",
       "</div>"
      ],
      "text/plain": [
       "   gene3  gene1  gene111  gene9\n",
       "0      1      0        1      0\n",
       "1      0      0        0      1\n",
       "2      0      1        1      1\n",
       "3      0      1        0      0\n",
       "4      0      0        0      1"
      ]
     },
     "execution_count": 125,
     "metadata": {},
     "output_type": "execute_result"
    }
   ],
   "source": [
    "X_cut = X.iloc[:,sorted_feature_ixs[:4]].copy()\n",
    "X_cut[:5]"
   ]
  },
  {
   "cell_type": "markdown",
   "metadata": {},
   "source": [
    "Perhaps now we can try again to cluster our data with this reduced dataset, including in it also the symptoms that we used to select features"
   ]
  },
  {
   "cell_type": "code",
   "execution_count": 131,
   "metadata": {},
   "outputs": [
    {
     "data": {
      "text/html": [
       "<div>\n",
       "<style scoped>\n",
       "    .dataframe tbody tr th:only-of-type {\n",
       "        vertical-align: middle;\n",
       "    }\n",
       "\n",
       "    .dataframe tbody tr th {\n",
       "        vertical-align: top;\n",
       "    }\n",
       "\n",
       "    .dataframe thead th {\n",
       "        text-align: right;\n",
       "    }\n",
       "</style>\n",
       "<table border=\"1\" class=\"dataframe\">\n",
       "  <thead>\n",
       "    <tr style=\"text-align: right;\">\n",
       "      <th></th>\n",
       "      <th>gene3</th>\n",
       "      <th>gene1</th>\n",
       "      <th>gene111</th>\n",
       "      <th>gene9</th>\n",
       "      <th>128</th>\n",
       "      <th>129</th>\n",
       "    </tr>\n",
       "  </thead>\n",
       "  <tbody>\n",
       "    <tr>\n",
       "      <th>0</th>\n",
       "      <td>1</td>\n",
       "      <td>0</td>\n",
       "      <td>1</td>\n",
       "      <td>0</td>\n",
       "      <td>1</td>\n",
       "      <td>0</td>\n",
       "    </tr>\n",
       "    <tr>\n",
       "      <th>1</th>\n",
       "      <td>0</td>\n",
       "      <td>0</td>\n",
       "      <td>0</td>\n",
       "      <td>1</td>\n",
       "      <td>0</td>\n",
       "      <td>0</td>\n",
       "    </tr>\n",
       "    <tr>\n",
       "      <th>2</th>\n",
       "      <td>0</td>\n",
       "      <td>1</td>\n",
       "      <td>1</td>\n",
       "      <td>1</td>\n",
       "      <td>0</td>\n",
       "      <td>0</td>\n",
       "    </tr>\n",
       "    <tr>\n",
       "      <th>3</th>\n",
       "      <td>0</td>\n",
       "      <td>1</td>\n",
       "      <td>0</td>\n",
       "      <td>0</td>\n",
       "      <td>0</td>\n",
       "      <td>0</td>\n",
       "    </tr>\n",
       "    <tr>\n",
       "      <th>4</th>\n",
       "      <td>0</td>\n",
       "      <td>0</td>\n",
       "      <td>0</td>\n",
       "      <td>1</td>\n",
       "      <td>1</td>\n",
       "      <td>0</td>\n",
       "    </tr>\n",
       "  </tbody>\n",
       "</table>\n",
       "</div>"
      ],
      "text/plain": [
       "   gene3  gene1  gene111  gene9  128  129\n",
       "0      1      0        1      0    1    0\n",
       "1      0      0        0      1    0    0\n",
       "2      0      1        1      1    0    0\n",
       "3      0      1        0      0    0    0\n",
       "4      0      0        0      1    1    0"
      ]
     },
     "execution_count": 131,
     "metadata": {},
     "output_type": "execute_result"
    }
   ],
   "source": [
    "X_new = pd.concat([X_cut, X_old.iloc[:,-2:]], axis=1)\n",
    "X_new[:5]"
   ]
  },
  {
   "cell_type": "code",
   "execution_count": 139,
   "metadata": {},
   "outputs": [],
   "source": [
    "distances2 = pairwise_distances(X_new, metric=sokalmichener)"
   ]
  },
  {
   "cell_type": "code",
   "execution_count": 153,
   "metadata": {},
   "outputs": [
    {
     "data": {
      "text/plain": [
       "<BarContainer object of 7 artists>"
      ]
     },
     "execution_count": 153,
     "metadata": {},
     "output_type": "execute_result"
    },
    {
     "data": {
      "image/png": "[encoded data removed]",
      "text/plain": [
       "<Figure size 432x288 with 1 Axes>"
      ]
     },
     "metadata": {
      "needs_background": "light"
     },
     "output_type": "display_data"
    }
   ],
   "source": [
    "n_cluster = np.arange(1,9)\n",
    "scores = np.zeros(len(n_cluster))\n",
    "clusters = np.zeros([len(X_new), len(n_cluster)], dtype=np.int)\n",
    "for i, n in enumerate(n_cluster):\n",
    "    clusterer = AgglomerativeClustering(n_clusters=n, affinity='precomputed', \n",
    "                                        linkage=\"average\")\n",
    "    clusters[:,i] = clusterer.fit_predict(distances2)\n",
    "for i in range(1, len(n_cluster)):\n",
    "    scores[i] = silhouette_score(distances2, clusters[:,i], metric='precomputed')\n",
    "plt.bar(n_cluster[1:], scores[1:])"
   ]
  },
  {
   "cell_type": "code",
   "execution_count": 154,
   "metadata": {},
   "outputs": [
    {
     "data": {
      "text/plain": [
       "<BarContainer object of 8 artists>"
      ]
     },
     "execution_count": 154,
     "metadata": {},
     "output_type": "execute_result"
    },
    {
     "data": {
      "image/png": "[encoded data removed]",
      "text/plain": [
       "<Figure size 432x288 with 1 Axes>"
      ]
     },
     "metadata": {
      "needs_background": "light"
     },
     "output_type": "display_data"
    }
   ],
   "source": [
    "loglik = np.zeros_like(n_cluster, dtype=np.float64)\n",
    "d = X_old.shape[1]\n",
    "for k, n in enumerate(n_cluster):\n",
    "    # For each feature and label find alpha and beta\n",
    "    alpha = np.ones([d, n])\n",
    "    beta = np.ones([d, n])\n",
    "    for i, x_i in enumerate(X_old.values):\n",
    "        for j, x_ij in enumerate(x_i):\n",
    "            alpha[j, clusters[i,k]] += x_ij\n",
    "            beta[j, clusters[i,k]] += 1 - x_ij\n",
    "    # For each datapoint, find log lik\n",
    "    for i, x_i in enumerate(X_old.values):\n",
    "        for j, x_ij in enumerate(x_i):\n",
    "            a = alpha[j, clusters[i,k]]\n",
    "            b = beta[j, clusters[i,k]]\n",
    "            p_jk = a / (a + b)\n",
    "            loglik[k] += np.log(x_ij*p_jk + (1-x_ij)*(1-p_jk))\n",
    "plt.bar(n_cluster, loglik)"
   ]
  },
  {
   "cell_type": "code",
   "execution_count": 155,
   "metadata": {},
   "outputs": [
    {
     "data": {
      "text/plain": [
       "<BarContainer object of 8 artists>"
      ]
     },
     "execution_count": 155,
     "metadata": {},
     "output_type": "execute_result"
    },
    {
     "data": {
      "image/png": "[encoded data removed]",
      "text/plain": [
       "<Figure size 432x288 with 1 Axes>"
      ]
     },
     "metadata": {
      "needs_background": "light"
     },
     "output_type": "display_data"
    }
   ],
   "source": [
    "BIC = np.zeros_like(loglik)\n",
    "for i, n in enumerate(n_cluster):\n",
    "    BIC[i] = np.log(X_old.shape[0])*d*2*n - 2*loglik[i]\n",
    "plt.bar(n_cluster, BIC)"
   ]
  },
  {
   "cell_type": "code",
   "execution_count": 156,
   "metadata": {},
   "outputs": [
    {
     "data": {
      "text/plain": [
       "array([1794487.73574171, 1791996.74974792, 1691592.54220145,\n",
       "       1646287.29612007, 1607241.85728178, 1605633.77390828,\n",
       "       1605268.40183749, 1591578.42879986])"
      ]
     },
     "execution_count": 156,
     "metadata": {},
     "output_type": "execute_result"
    }
   ],
   "source": [
    "BIC"
   ]
  },
  {
   "cell_type": "markdown",
   "metadata": {},
   "source": [
    "Now the silhouette score gives us 5 fairly well defined clusters and the BIC score seems to even out at around 5 clusters, so with these 6 features we found to be most important it seems we could group our data into 5 clusters."
   ]
  },
  {
   "cell_type": "code",
   "execution_count": 158,
   "metadata": {},
   "outputs": [],
   "source": [
    "n_cluster = 5"
   ]
  },
  {
   "cell_type": "code",
   "execution_count": 163,
   "metadata": {},
   "outputs": [
    {
     "data": {
      "text/plain": [
       "Counter({1: 2192, 3: 2355, 2: 2563, 4: 2586, 0: 304})"
      ]
     },
     "execution_count": 163,
     "metadata": {},
     "output_type": "execute_result"
    }
   ],
   "source": [
    "C = clusters[:,(n_cluster-1)]\n",
    "from collections import Counter\n",
    "Counter(C)"
   ]
  },
  {
   "cell_type": "markdown",
   "metadata": {},
   "source": [
    "### Measuring the effect of actions"
   ]
  },
  {
   "cell_type": "markdown",
   "metadata": {},
   "source": [
    "Let's see first how the treatments are responded to"
   ]
  },
  {
   "cell_type": "code",
   "execution_count": 173,
   "metadata": {},
   "outputs": [
    {
     "data": {
      "text/plain": [
       "array([[0.99104129, 0.00895871],\n",
       "       [0.41166232, 0.58833768]])"
      ]
     },
     "execution_count": 173,
     "metadata": {},
     "output_type": "execute_result"
    }
   ],
   "source": [
    "# Make a 2x2 matrix with rows being A(action) and columns being Y(effect)\n",
    "responses = np.zeros([2,2])\n",
    "for a, y in zip(A.values, Y.values):\n",
    "    responses[a,y] += 1\n",
    "responses/responses.sum(axis=1).reshape(2,1)"
   ]
  },
  {
   "cell_type": "markdown",
   "metadata": {},
   "source": [
    "So we see that of people people receivng treatment 1, there is a slight majority observing effect 1, while among those receiving treatment 0 there is a vast majority observing effect 0. If we assume, and I think this is supported by the data, that action 1 is the supposedly effective treatment and effect 1 is healing then the placebo has virtually no effect, while the treatment has a fairly good effect."
   ]
  },
  {
   "cell_type": "markdown",
   "metadata": {},
   "source": [
    "Now let's try to group them for each cluster we discovered"
   ]
  },
  {
   "cell_type": "code",
   "execution_count": 189,
   "metadata": {},
   "outputs": [],
   "source": [
    "np.set_printoptions(suppress=True)"
   ]
  },
  {
   "cell_type": "code",
   "execution_count": 190,
   "metadata": {},
   "outputs": [
    {
     "data": {
      "text/plain": [
       "array([[[  79.,    1.],\n",
       "        [ 116.,  108.]],\n",
       "\n",
       "       [[1666.,   13.],\n",
       "        [ 137.,  376.]],\n",
       "\n",
       "       [[2137.,    1.],\n",
       "        [ 193.,  232.]],\n",
       "\n",
       "       [[1835.,    2.],\n",
       "        [ 325.,  193.]],\n",
       "\n",
       "       [[1916.,   52.],\n",
       "        [ 175.,  443.]]])"
      ]
     },
     "execution_count": 190,
     "metadata": {},
     "output_type": "execute_result"
    }
   ],
   "source": [
    "response_matrix = np.zeros([n_cluster,2,2])\n",
    "for i in range(len(A)):\n",
    "    response_matrix[C[i],A.values[i],Y.values[i]] += 1\n",
    "np.round(response_matrix,decimals=0)"
   ]
  },
  {
   "cell_type": "code",
   "execution_count": 184,
   "metadata": {},
   "outputs": [
    {
     "data": {
      "text/plain": [
       "array([[[0.99, 0.01],\n",
       "        [0.52, 0.48]],\n",
       "\n",
       "       [[0.99, 0.01],\n",
       "        [0.27, 0.73]],\n",
       "\n",
       "       [[1.  , 0.  ],\n",
       "        [0.45, 0.55]],\n",
       "\n",
       "       [[1.  , 0.  ],\n",
       "        [0.63, 0.37]],\n",
       "\n",
       "       [[0.97, 0.03],\n",
       "        [0.28, 0.72]]])"
      ]
     },
     "execution_count": 184,
     "metadata": {},
     "output_type": "execute_result"
    }
   ],
   "source": [
    "np.round(response_matrix/response_matrix.sum(axis=2).reshape(n_clusters,2,1),decimals=2)"
   ]
  },
  {
   "cell_type": "markdown",
   "metadata": {},
   "source": [
    "So here we see that practically everyone who heals with placebo are in cluster 5, with some in cluster 2. Given how few they are that could just be random, but it is conspicous. What is more interesting is that there seems to be considerably higher healing rates in the same two clusters with medication as well."
   ]
  },
  {
   "cell_type": "markdown",
   "metadata": {},
   "source": [
    "There is no cluster of people for whom healing is better under placebo than the active drug, so from what we see here there is no reason to withold treatment from anyone. The exception to this is if the treatment is in scarce supply or is so expensive that we can't give it to anyone. In that case it seems best spent on clusters 2 and 5, and least well spent on cluster 4, but that also would depend on what it means to be healed. If the affliction in itself is not problematic, but only the sypmtoms are, then perhaps it's not worthwhile subjecting any asymptomatic people to treatment, and if cluster 4 has a significantly higher proportion of symptomatic people then perhaps that would be where we should allocate a scarce treatment even with poorer healing rates."
   ]
  },
  {
   "cell_type": "markdown",
   "metadata": {},
   "source": [
    "Another option is to see if we can pinpoint other features than cluster that can tell us something about healing.  \n",
    "  \n",
    "We don't know how people were selected to receive placebo or supposedly effective treatment, but given that one of the treatments is a placebo it seems natural to assume that the patients were split into the two groups randomly. Thus there is probably no true correlation between A and any features in X beyond what is there by chance. What we can do, of course, is to have a look at possible correlation between features in X and Y. To get as little noise as possible it's probably best to condition on A, but since there are hardly any healed with action 0 any result from that set will be very variable. For action a=1, however, we have plenty of people with both outcomes to get some potentialy sensible results. We can try again with both the Logistic Regression and the Random Forest classifiers to try to find important features."
   ]
  },
  {
   "cell_type": "code",
   "execution_count": 219,
   "metadata": {},
   "outputs": [],
   "source": [
    "X_A1 = X[A['action']==1].copy()\n",
    "Y_A1 = Y[A['action']==1].copy()"
   ]
  },
  {
   "cell_type": "code",
   "execution_count": 218,
   "metadata": {},
   "outputs": [
    {
     "data": {
      "text/plain": [
       "(2298, 130)"
      ]
     },
     "execution_count": 218,
     "metadata": {},
     "output_type": "execute_result"
    }
   ],
   "source": [
    "X_A1.shape"
   ]
  },
  {
   "cell_type": "code",
   "execution_count": 230,
   "metadata": {},
   "outputs": [],
   "source": [
    "clf = LogisticRegression(penalty='l1', C=0.01)\n",
    "fit = clf.fit(X_A1, Y_A1.values.ravel())"
   ]
  },
  {
   "cell_type": "code",
   "execution_count": 222,
   "metadata": {},
   "outputs": [],
   "source": [
    "from sklearn.feature_selection import SelectFromModel"
   ]
  },
  {
   "cell_type": "code",
   "execution_count": 231,
   "metadata": {},
   "outputs": [
    {
     "data": {
      "text/plain": [
       "array([-0.54060995,  0.06628861,  0.18039801,  0.00594863,  0.08405915,\n",
       "       -0.07683724, -0.2622275 ,  0.27531287,  0.90642858])"
      ]
     },
     "execution_count": 231,
     "metadata": {},
     "output_type": "execute_result"
    }
   ],
   "source": [
    "model = SelectFromModel(fit, prefit=True)\n",
    "fit.coef_[0,model.get_support()]"
   ]
  },
  {
   "cell_type": "code",
   "execution_count": 238,
   "metadata": {},
   "outputs": [
    {
     "name": "stderr",
     "output_type": "stream",
     "text": [
      "C:\\ProgramData\\Anaconda3\\lib\\site-packages\\ipykernel_launcher.py:1: FutureWarning: Using a non-tuple sequence for multidimensional indexing is deprecated; use `arr[tuple(seq)]` instead of `arr[seq]`. In the future this will be interpreted as an array index, `arr[np.array(seq)]`, which will result either in an error or a different result.\n",
      "  \"\"\"Entry point for launching an IPython kernel.\n"
     ]
    },
    {
     "data": {
      "text/plain": [
       "array(['gene6', 'gene22', 'gene43', 'gene47', 'gene49', 'gene57',\n",
       "       'gene83', 'gene100', 'gene101'], dtype=object)"
      ]
     },
     "execution_count": 238,
     "metadata": {},
     "output_type": "execute_result"
    }
   ],
   "source": [
    "X_A1.columns.values[[model.get_support()]]"
   ]
  },
  {
   "cell_type": "markdown",
   "metadata": {},
   "source": [
    "So we get a set of 9 genes after quite heavy regularization, but still they might just be randomly correlated with Y. Lets see what our forests do."
   ]
  },
  {
   "cell_type": "code",
   "execution_count": 242,
   "metadata": {},
   "outputs": [],
   "source": [
    "from sklearn.ensemble import RandomForestClassifier"
   ]
  },
  {
   "cell_type": "code",
   "execution_count": 244,
   "metadata": {},
   "outputs": [],
   "source": [
    "clf1 = ExtraTreesClassifier(n_estimators=1000)\n",
    "clf1.fit(X_A1, Y_A1.values.ravel())\n",
    "deviations1 = sem([tree.feature_importances_ for tree in clf1.estimators_], axis=0)\n",
    "sorted_feature_ixs1 = np.argsort(clf1.feature_importances_)[::-1]"
   ]
  },
  {
   "cell_type": "code",
   "execution_count": 246,
   "metadata": {},
   "outputs": [],
   "source": [
    "clf2 = RandomForestClassifier(n_estimators=1000)\n",
    "clf2.fit(X_A1, Y_A1.values.ravel())\n",
    "deviations2 = sem([tree.feature_importances_ for tree in clf2.estimators_], axis=0)\n",
    "sorted_feature_ixs2 = np.argsort(clf2.feature_importances_)[::-1]"
   ]
  },
  {
   "cell_type": "code",
   "execution_count": 245,
   "metadata": {},
   "outputs": [],
   "source": [
    "to_show = 25"
   ]
  },
  {
   "cell_type": "code",
   "execution_count": 247,
   "metadata": {},
   "outputs": [
    {
     "data": {
      "image/png": "[encoded data removed]",
      "text/plain": [
       "<Figure size 432x288 with 1 Axes>"
      ]
     },
     "metadata": {
      "needs_background": "light"
     },
     "output_type": "display_data"
    }
   ],
   "source": [
    "plt.bar(range(to_show), (clf1.feature_importances_[sorted_feature_ixs1])[:to_show],\n",
    "       color=\"k\", yerr=(deviations1[sorted_feature_ixs1])[:to_show], ecolor='r')\n",
    "plt.xticks(range(to_show), sorted_feature_ixs1[:to_show])\n",
    "plt.show()"
   ]
  },
  {
   "cell_type": "code",
   "execution_count": 248,
   "metadata": {},
   "outputs": [
    {
     "data": {
      "image/png": "[encoded data removed]",
      "text/plain": [
       "<Figure size 432x288 with 1 Axes>"
      ]
     },
     "metadata": {
      "needs_background": "light"
     },
     "output_type": "display_data"
    }
   ],
   "source": [
    "plt.bar(range(to_show), (clf2.feature_importances_[sorted_feature_ixs2])[:to_show],\n",
    "       color=\"k\", yerr=(deviations2[sorted_feature_ixs2])[:to_show], ecolor='r')\n",
    "plt.xticks(range(to_show), sorted_feature_ixs2[:to_show])\n",
    "plt.show()"
   ]
  },
  {
   "cell_type": "markdown",
   "metadata": {},
   "source": [
    "Well, in the first there looks to be three natural cutoffs: 5, 10 or 17 features. In the second the cuts are less clear, but 5 and 17 look sensible there too, for a cut between it would just have to be a choice."
   ]
  },
  {
   "cell_type": "code",
   "execution_count": 251,
   "metadata": {},
   "outputs": [
    {
     "name": "stdout",
     "output_type": "stream",
     "text": [
      "['gene101' 'gene6' 'gene100' 'gene22' 'gene43']\n",
      "['gene101' 'gene6' 'gene100' 'gene22' 'gene43']\n",
      "['gene101' 'gene6' 'gene100' 'gene22' 'gene43' 'gene83' 'gene49' 'gene126'\n",
      " 'gene23' 'gene41']\n",
      "['gene101' 'gene6' 'gene100' 'gene22' 'gene43' 'gene23' 'gene49' 'gene83'\n",
      " 'gene47' 'gene126']\n",
      "['gene101' 'gene6' 'gene100' 'gene22' 'gene43' 'gene83' 'gene49' 'gene126'\n",
      " 'gene23' 'gene41' 'gene47' 'gene57' 'gene96' 'gene1' 'gene125' 'gene124'\n",
      " 'gene84']\n",
      "['gene101' 'gene6' 'gene100' 'gene22' 'gene43' 'gene23' 'gene49' 'gene83'\n",
      " 'gene47' 'gene126' 'gene57' 'gene41' 'gene124' 'gene1' 'gene125' 'gene84'\n",
      " 'gene96']\n"
     ]
    }
   ],
   "source": [
    "print(X_A1.columns.values[sorted_feature_ixs1[:5]])\n",
    "print(X_A1.columns.values[sorted_feature_ixs2[:5]])\n",
    "print(X_A1.columns.values[sorted_feature_ixs1[:10]])\n",
    "print(X_A1.columns.values[sorted_feature_ixs2[:10]])\n",
    "print(X_A1.columns.values[sorted_feature_ixs1[:17]])\n",
    "print(X_A1.columns.values[sorted_feature_ixs2[:17]])"
   ]
  },
  {
   "cell_type": "markdown",
   "metadata": {},
   "source": [
    "Interestingly, but perhaps not so surprisingly, after seeing the above two plots, the 5 most siginificant features are identical for both methods and in the 17 most significant they are identical, but 6-17 are ordered differently. For the 10 most significant there is one missing in each, but they then appear as 11 and 12.  \n",
    "  \n",
    "  We also see that only 1, gene1, of the 17 are in the list gene1, gene3, gene9 and gene111 that we clustered on and that were important for predicting symptoms. This is perhaps not surpring given that the symptoms seem irrelevant to predicting healing.  \n",
    "  \n",
    "  We also see that the list of 9 features we got from the LogisticRegression('gene6', 'gene22', 'gene43', 'gene47', 'gene49', 'gene57', 'gene83', 'gene100', 'gene101'), are also all in the top 11-12 on the trees as well."
   ]
  },
  {
   "cell_type": "markdown",
   "metadata": {},
   "source": [
    "Now of course, there is a chance that there is randomness involved in correlating these features with the healing rates, but how to test that? There isn't really a good way to determine whether these correlations are due to chance or some causal effect. We can try a couple of things to check the correlation, of course. We can cluster based on these features instead of the 6 we used in a) and recreate the matrices from above, and we can resample our dataset a few times and see which features turn up in the top 5 how many times."
   ]
  },
  {
   "cell_type": "code",
   "execution_count": 303,
   "metadata": {},
   "outputs": [],
   "source": [
    "from sklearn.utils import resample"
   ]
  },
  {
   "cell_type": "code",
   "execution_count": 253,
   "metadata": {},
   "outputs": [],
   "source": [
    "B = 100\n",
    "clf = ExtraTreesClassifier(n_estimators=1000)\n",
    "top5 = np.zeros(len(X_A1.columns.values))\n",
    "for b in range(B):\n",
    "    X_S, y_S = resample(X_A1, Y_A1, n_samples=2000)\n",
    "    clf.fit(X_S, y_S.values.ravel())\n",
    "    top5[(np.argsort(clf.feature_importances_)[::-1])[:5]] += 1\n",
    "top5 = {X_A1.columns.values[i]: v for i, v in enumerate(top5)}"
   ]
  },
  {
   "cell_type": "code",
   "execution_count": 258,
   "metadata": {},
   "outputs": [
    {
     "data": {
      "text/plain": [
       "[('gene49', 24.0),\n",
       " ('gene43', 47.0),\n",
       " ('gene22', 94.0),\n",
       " ('gene100', 95.0),\n",
       " ('gene6', 96.0),\n",
       " ('gene101', 100.0)]"
      ]
     },
     "execution_count": 258,
     "metadata": {},
     "output_type": "execute_result"
    }
   ],
   "source": [
    "sorted(top5.items(), key=lambda val: val[1])[-6:]"
   ]
  },
  {
   "cell_type": "markdown",
   "metadata": {},
   "source": [
    "So we see that our list of 5 contains 4 features that appear in almost every top 5 ranking, while our original number 5 only is top 5 in about half. If we go forward with the 4 that are typically top 5 we get"
   ]
  },
  {
   "cell_type": "code",
   "execution_count": 269,
   "metadata": {},
   "outputs": [],
   "source": [
    "X_sub = X[['gene101', 'gene6', 'gene100', 'gene22']].copy()\n",
    "distances3 = pairwise_distances(X_sub, metric=sokalmichener)"
   ]
  },
  {
   "cell_type": "code",
   "execution_count": 270,
   "metadata": {},
   "outputs": [
    {
     "data": {
      "text/plain": [
       "<BarContainer object of 7 artists>"
      ]
     },
     "execution_count": 270,
     "metadata": {},
     "output_type": "execute_result"
    },
    {
     "data": {
      "image/png": "[encoded data removed]",
      "text/plain": [
       "<Figure size 432x288 with 1 Axes>"
      ]
     },
     "metadata": {
      "needs_background": "light"
     },
     "output_type": "display_data"
    }
   ],
   "source": [
    "n_cluster = np.arange(1,9)\n",
    "scores = np.zeros(len(n_cluster))\n",
    "clusters = np.zeros([len(X_sub), len(n_cluster)], dtype=np.int)\n",
    "for i, n in enumerate(n_cluster):\n",
    "    clusterer = AgglomerativeClustering(n_clusters=n, affinity='precomputed', \n",
    "                                        linkage=\"average\")\n",
    "    clusters[:,i] = clusterer.fit_predict(distances3)\n",
    "for i in range(1, len(n_cluster)):\n",
    "    scores[i] = silhouette_score(distances3, clusters[:,i], metric='precomputed')\n",
    "plt.bar(n_cluster[1:], scores[1:])"
   ]
  },
  {
   "cell_type": "code",
   "execution_count": 272,
   "metadata": {},
   "outputs": [
    {
     "data": {
      "text/plain": [
       "<BarContainer object of 8 artists>"
      ]
     },
     "execution_count": 272,
     "metadata": {},
     "output_type": "execute_result"
    },
    {
     "data": {
      "image/png": "[encoded data removed]",
      "text/plain": [
       "<Figure size 432x288 with 1 Axes>"
      ]
     },
     "metadata": {
      "needs_background": "light"
     },
     "output_type": "display_data"
    }
   ],
   "source": [
    "loglik = np.zeros_like(n_cluster, dtype=np.float64)\n",
    "d = X_old.shape[1]\n",
    "for k, n in enumerate(n_cluster):\n",
    "    # For each feature and label find alpha and beta\n",
    "    alpha = np.ones([d, n])\n",
    "    beta = np.ones([d, n])\n",
    "    for i, x_i in enumerate(X_old.values):\n",
    "        for j, x_ij in enumerate(x_i):\n",
    "            alpha[j, clusters[i,k]] += x_ij\n",
    "            beta[j, clusters[i,k]] += 1 - x_ij\n",
    "    # For each datapoint, find log lik\n",
    "    for i, x_i in enumerate(X_old.values):\n",
    "        for j, x_ij in enumerate(x_i):\n",
    "            a = alpha[j, clusters[i,k]]\n",
    "            b = beta[j, clusters[i,k]]\n",
    "            p_jk = a / (a + b)\n",
    "            loglik[k] += np.log(x_ij*p_jk + (1-x_ij)*(1-p_jk))\n",
    "plt.bar(n_cluster, loglik)"
   ]
  },
  {
   "cell_type": "code",
   "execution_count": 273,
   "metadata": {},
   "outputs": [
    {
     "data": {
      "text/plain": [
       "<BarContainer object of 8 artists>"
      ]
     },
     "execution_count": 273,
     "metadata": {},
     "output_type": "execute_result"
    },
    {
     "data": {
      "image/png": "[encoded data removed]",
      "text/plain": [
       "<Figure size 432x288 with 1 Axes>"
      ]
     },
     "metadata": {
      "needs_background": "light"
     },
     "output_type": "display_data"
    }
   ],
   "source": [
    "BIC = np.zeros_like(loglik)\n",
    "for i, n in enumerate(n_cluster):\n",
    "    BIC[i] = np.log(X_old.shape[0])*d*2*n - 2*loglik[i]\n",
    "plt.bar(n_cluster, BIC)"
   ]
  },
  {
   "cell_type": "code",
   "execution_count": 274,
   "metadata": {},
   "outputs": [
    {
     "data": {
      "text/plain": [
       "array([1794487.73574171, 1715860.66473965, 1683694.00368645,\n",
       "       1653585.91563053, 1646219.52234811, 1639873.67265937,\n",
       "       1607984.27613302, 1578755.40693823])"
      ]
     },
     "execution_count": 274,
     "metadata": {},
     "output_type": "execute_result"
    }
   ],
   "source": [
    "BIC"
   ]
  },
  {
   "cell_type": "markdown",
   "metadata": {},
   "source": [
    "Here every metric we use supports the maximum number of clusters, so probably we should have tested with more possible clusters to see if one of them would top out. FOr now, we'll go on with the 8."
   ]
  },
  {
   "cell_type": "code",
   "execution_count": 275,
   "metadata": {},
   "outputs": [],
   "source": [
    "n_cluster = 8"
   ]
  },
  {
   "cell_type": "code",
   "execution_count": 276,
   "metadata": {},
   "outputs": [
    {
     "data": {
      "text/plain": [
       "Counter({6: 2755, 2: 653, 0: 1208, 3: 665, 1: 1122, 7: 2708, 5: 451, 4: 438})"
      ]
     },
     "execution_count": 276,
     "metadata": {},
     "output_type": "execute_result"
    }
   ],
   "source": [
    "C = clusters[:,(n_cluster-1)]\n",
    "Counter(C)"
   ]
  },
  {
   "cell_type": "code",
   "execution_count": 277,
   "metadata": {},
   "outputs": [
    {
     "data": {
      "text/plain": [
       "array([[[ 947.,    0.],\n",
       "        [  85.,  176.]],\n",
       "\n",
       "       [[ 844.,    0.],\n",
       "        [ 154.,  124.]],\n",
       "\n",
       "       [[ 427.,    2.],\n",
       "        [  54.,  170.]],\n",
       "\n",
       "       [[ 580.,    0.],\n",
       "        [  57.,   28.]],\n",
       "\n",
       "       [[ 376.,    0.],\n",
       "        [  23.,   39.]],\n",
       "\n",
       "       [[ 296.,    0.],\n",
       "        [  69.,   86.]],\n",
       "\n",
       "       [[2003.,   67.],\n",
       "        [  57.,  628.]],\n",
       "\n",
       "       [[2160.,    0.],\n",
       "        [ 447.,  101.]]])"
      ]
     },
     "execution_count": 277,
     "metadata": {},
     "output_type": "execute_result"
    }
   ],
   "source": [
    "response_matrix = np.zeros([n_cluster,2,2])\n",
    "for i in range(len(A)):\n",
    "    response_matrix[C[i],A.values[i],Y.values[i]] += 1\n",
    "np.round(response_matrix,decimals=0)"
   ]
  },
  {
   "cell_type": "code",
   "execution_count": 279,
   "metadata": {},
   "outputs": [
    {
     "data": {
      "text/plain": [
       "array([[[1.  , 0.  ],\n",
       "        [0.33, 0.67]],\n",
       "\n",
       "       [[1.  , 0.  ],\n",
       "        [0.55, 0.45]],\n",
       "\n",
       "       [[1.  , 0.  ],\n",
       "        [0.24, 0.76]],\n",
       "\n",
       "       [[1.  , 0.  ],\n",
       "        [0.67, 0.33]],\n",
       "\n",
       "       [[1.  , 0.  ],\n",
       "        [0.37, 0.63]],\n",
       "\n",
       "       [[1.  , 0.  ],\n",
       "        [0.45, 0.55]],\n",
       "\n",
       "       [[0.97, 0.03],\n",
       "        [0.08, 0.92]],\n",
       "\n",
       "       [[1.  , 0.  ],\n",
       "        [0.82, 0.18]]])"
      ]
     },
     "execution_count": 279,
     "metadata": {},
     "output_type": "execute_result"
    }
   ],
   "source": [
    "np.round(response_matrix/response_matrix.sum(axis=2).reshape(n_cluster,2,1),decimals=2)"
   ]
  },
  {
   "cell_type": "markdown",
   "metadata": {},
   "source": [
    "We see here a huge difference in healing rate between the two last and largest clusters. For cluster 7 the treatment is almost ineffective. Seeing how we have two clusters that show the most difference and that hold the majority of the data, so it might be interesting to see with two clusters."
   ]
  },
  {
   "cell_type": "code",
   "execution_count": 280,
   "metadata": {},
   "outputs": [],
   "source": [
    "n_cluster = 2"
   ]
  },
  {
   "cell_type": "code",
   "execution_count": 281,
   "metadata": {},
   "outputs": [
    {
     "data": {
      "text/plain": [
       "Counter({0: 5067, 1: 4933})"
      ]
     },
     "execution_count": 281,
     "metadata": {},
     "output_type": "execute_result"
    }
   ],
   "source": [
    "C = clusters[:,(n_cluster-1)]\n",
    "Counter(C)"
   ]
  },
  {
   "cell_type": "code",
   "execution_count": 282,
   "metadata": {},
   "outputs": [
    {
     "data": {
      "text/plain": [
       "array([[[3673.,   69.],\n",
       "        [ 265., 1060.]],\n",
       "\n",
       "       [[3960.,    0.],\n",
       "        [ 681.,  292.]]])"
      ]
     },
     "execution_count": 282,
     "metadata": {},
     "output_type": "execute_result"
    }
   ],
   "source": [
    "response_matrix = np.zeros([n_cluster,2,2])\n",
    "for i in range(len(A)):\n",
    "    response_matrix[C[i],A.values[i],Y.values[i]] += 1\n",
    "np.round(response_matrix,decimals=0)"
   ]
  },
  {
   "cell_type": "code",
   "execution_count": 283,
   "metadata": {},
   "outputs": [
    {
     "data": {
      "text/plain": [
       "array([[[0.98, 0.02],\n",
       "        [0.2 , 0.8 ]],\n",
       "\n",
       "       [[1.  , 0.  ],\n",
       "        [0.7 , 0.3 ]]])"
      ]
     },
     "execution_count": 283,
     "metadata": {},
     "output_type": "execute_result"
    }
   ],
   "source": [
    "np.round(response_matrix/response_matrix.sum(axis=2).reshape(n_cluster,2,1),decimals=2)"
   ]
  },
  {
   "cell_type": "markdown",
   "metadata": {},
   "source": [
    "Here we see the differences very clearly. Everyone who is healed on placebo is in the one cluster, and the people in that cluster also have a far higher probability of being healed with the active treatment. That being said, the treatment is far better than placebo for everyone."
   ]
  },
  {
   "cell_type": "markdown",
   "metadata": {},
   "source": [
    "Trying the same again with higher number of features to get better distance calculations. With only 4 binary features used to calculate distances between points I suppose we'd be quite likely to see 16 clusters with internal distance 0, so we need to use more features to discriminate better between points."
   ]
  },
  {
   "cell_type": "code",
   "execution_count": 284,
   "metadata": {},
   "outputs": [
    {
     "data": {
      "text/plain": [
       "[('gene12', 19.0),\n",
       " ('gene26', 21.0),\n",
       " ('gene116', 25.0),\n",
       " ('gene96', 75.0),\n",
       " ('gene84', 76.0),\n",
       " ('gene124', 76.0),\n",
       " ('gene125', 77.0),\n",
       " ('gene1', 80.0),\n",
       " ('gene41', 94.0),\n",
       " ('gene57', 94.0),\n",
       " ('gene83', 96.0),\n",
       " ('gene43', 98.0),\n",
       " ('gene126', 98.0),\n",
       " ('gene23', 99.0),\n",
       " ('gene47', 99.0),\n",
       " ('gene49', 99.0),\n",
       " ('gene6', 100.0),\n",
       " ('gene22', 100.0),\n",
       " ('gene100', 100.0),\n",
       " ('gene101', 100.0)]"
      ]
     },
     "execution_count": 284,
     "metadata": {},
     "output_type": "execute_result"
    }
   ],
   "source": [
    "B = 100\n",
    "clf = ExtraTreesClassifier(n_estimators=1000)\n",
    "top17 = np.zeros(len(X_A1.columns.values))\n",
    "for b in range(B):\n",
    "    X_S, y_S = resample(X_A1, Y_A1, n_samples=2000)\n",
    "    clf.fit(X_S, y_S.values.ravel())\n",
    "    top17[(np.argsort(clf.feature_importances_)[::-1])[:17]] += 1\n",
    "top17 = {X_A1.columns.values[i]: v for i, v in enumerate(top17)}\n",
    "sorted(top17.items(), key=lambda val: val[1])[-20:]"
   ]
  },
  {
   "cell_type": "code",
   "execution_count": 285,
   "metadata": {},
   "outputs": [],
   "source": [
    "X_sub = X[['gene101', 'gene6', 'gene100', 'gene22', 'gene49', 'gene47', 'gene23', \n",
    "           'gene126', 'gene43', 'gene83', 'gene57', 'gene41']].copy()\n",
    "distances3 = pairwise_distances(X_sub, metric=sokalmichener)"
   ]
  },
  {
   "cell_type": "code",
   "execution_count": 286,
   "metadata": {},
   "outputs": [
    {
     "data": {
      "text/plain": [
       "<BarContainer object of 7 artists>"
      ]
     },
     "execution_count": 286,
     "metadata": {},
     "output_type": "execute_result"
    },
    {
     "data": {
      "image/png": "[encoded data removed]",
      "text/plain": [
       "<Figure size 432x288 with 1 Axes>"
      ]
     },
     "metadata": {
      "needs_background": "light"
     },
     "output_type": "display_data"
    }
   ],
   "source": [
    "n_cluster = np.arange(1,9)\n",
    "scores = np.zeros(len(n_cluster))\n",
    "clusters = np.zeros([len(X_sub), len(n_cluster)], dtype=np.int)\n",
    "for i, n in enumerate(n_cluster):\n",
    "    clusterer = AgglomerativeClustering(n_clusters=n, affinity='precomputed', \n",
    "                                        linkage=\"average\")\n",
    "    clusters[:,i] = clusterer.fit_predict(distances3)\n",
    "for i in range(1, len(n_cluster)):\n",
    "    scores[i] = silhouette_score(distances3, clusters[:,i], metric='precomputed')\n",
    "plt.bar(n_cluster[1:], scores[1:])"
   ]
  },
  {
   "cell_type": "code",
   "execution_count": 294,
   "metadata": {},
   "outputs": [
    {
     "data": {
      "text/plain": [
       "Counter({0: 5066, 1: 4934})"
      ]
     },
     "execution_count": 294,
     "metadata": {},
     "output_type": "execute_result"
    }
   ],
   "source": [
    "n_cluster = 2\n",
    "C = clusters[:,(n_cluster-1)]\n",
    "Counter(C)"
   ]
  },
  {
   "cell_type": "code",
   "execution_count": 295,
   "metadata": {},
   "outputs": [
    {
     "data": {
      "text/plain": [
       "array([[[3816.,   67.],\n",
       "        [ 282.,  901.]],\n",
       "\n",
       "       [[3817.,    2.],\n",
       "        [ 664.,  451.]]])"
      ]
     },
     "execution_count": 295,
     "metadata": {},
     "output_type": "execute_result"
    }
   ],
   "source": [
    "response_matrix = np.zeros([n_cluster,2,2])\n",
    "for i in range(len(A)):\n",
    "    response_matrix[C[i],A.values[i],Y.values[i]] += 1\n",
    "np.round(response_matrix,decimals=0)"
   ]
  },
  {
   "cell_type": "code",
   "execution_count": 296,
   "metadata": {},
   "outputs": [
    {
     "data": {
      "text/plain": [
       "array([[[0.98, 0.02],\n",
       "        [0.24, 0.76]],\n",
       "\n",
       "       [[1.  , 0.  ],\n",
       "        [0.6 , 0.4 ]]])"
      ]
     },
     "execution_count": 296,
     "metadata": {},
     "output_type": "execute_result"
    }
   ],
   "source": [
    "np.round(response_matrix/response_matrix.sum(axis=2).reshape(n_cluster,2,1),decimals=2)"
   ]
  },
  {
   "cell_type": "markdown",
   "metadata": {},
   "source": [
    "So with these predictors we get 2 clusters as the most likely model by silhouette score, but the two clusters we get are much less defined according to healing rates than the two we got using only a few predictors. It's perhaps not so strange given that those predictors are the ones most closely correlated with healing."
   ]
  },
  {
   "cell_type": "markdown",
   "metadata": {},
   "source": [
    "## Part 2 - Improved policies"
   ]
  },
  {
   "cell_type": "markdown",
   "metadata": {},
   "source": [
    "### Exercise 1 - Measuring utility"
   ]
  },
  {
   "cell_type": "markdown",
   "metadata": {},
   "source": [
    "We have been given the formula $U = \\sum_t r_t$, but this will give larger utility for large populations. If we want to compare policies using utility it seems to me far more reasonable to use $U = \\frac{1}{N}\\sum_t r_t$."
   ]
  },
  {
   "cell_type": "code",
   "execution_count": 333,
   "metadata": {},
   "outputs": [],
   "source": [
    "def utility(a, y):\n",
    "    return np.sum(-0.1*a + y) / len(a)"
   ]
  },
  {
   "cell_type": "code",
   "execution_count": 342,
   "metadata": {},
   "outputs": [
    {
     "data": {
      "text/plain": [
       "0.11912"
      ]
     },
     "execution_count": 342,
     "metadata": {},
     "output_type": "execute_result"
    }
   ],
   "source": [
    "utility(A.values,Y.values)"
   ]
  },
  {
   "cell_type": "code",
   "execution_count": 347,
   "metadata": {},
   "outputs": [],
   "source": [
    "B = 1000\n",
    "utilities = np.zeros(B)\n",
    "for i in range(B):\n",
    "    indices = resample(np.arange(1,len(A)))\n",
    "    utilities[i] = utility(A.iloc[indices].values, Y.iloc[indices].values)"
   ]
  },
  {
   "cell_type": "code",
   "execution_count": 348,
   "metadata": {},
   "outputs": [
    {
     "name": "stdout",
     "output_type": "stream",
     "text": [
      "Mean: 0.119; 95%CI: [0.113,0.125]\n"
     ]
    },
    {
     "data": {
      "image/png": "[encoded data removed]",
      "text/plain": [
       "<Figure size 432x288 with 1 Axes>"
      ]
     },
     "metadata": {
      "needs_background": "light"
     },
     "output_type": "display_data"
    }
   ],
   "source": [
    "alpha = 0.05\n",
    "lower = sorted(utilities)[round(B*alpha/2)]\n",
    "mean= np.mean(utilities)\n",
    "upper = sorted(utilities)[round(B*(1-alpha/2))]\n",
    "plt.hist(utilities)\n",
    "plt.axvline(mean, color='r', linestyle='-')\n",
    "for value in (lower, upper):\n",
    "    plt.axvline(value, color='r', linestyle='--')\n",
    "print(f\"Mean: {mean:.3f}; 95%CI: [{lower:.3f},{upper:.3f}]\")"
   ]
  },
  {
   "cell_type": "markdown",
   "metadata": {},
   "source": [
    "So we see the utility of $\\pi_0$ on the historical data is 0.11912. By creating 1000 bootstrap samples of the historical data and calculating the utility of each we can get a mean and a confidence interval for the expected utility provided the historical data is representative of new data. Our mean her is about the same as we got on the historical data, and we get a fairly narrow confidence interval of [0.113,0.125]."
   ]
  },
  {
   "cell_type": "markdown",
   "metadata": {},
   "source": [
    "### Exercise 2 - Improved policies"
   ]
  },
  {
   "cell_type": "markdown",
   "metadata": {},
   "source": [
    "So how to set about creating an improved policy? In the skeleton code provided there is a fit_data method for preprocessing data unsupervised before, I presume, we are to fit the data with treatment outcome. What this initial preprocessing is to do I am a little uncertain about. In part 1 we attempted some clustering, but the overall impression from that was that the clusters were terribly poorly definesd unless you reduced the feature space to such an extent that a lot of the data points simply wound up in the same point. In addition we don't know anything about what the clusters would imply for our policy.  \n",
    "\n",
    "We could of course create different models for each cluster, hoping that will give us some improvement on prediction, but in reality I think that would just restrict our classificator based on some constraint that is heavily influenced by randomness."
   ]
  },
  {
   "cell_type": "code",
   "execution_count": 357,
   "metadata": {},
   "outputs": [],
   "source": [
    "X_data = X_old.copy()\n",
    "X_data = X_data.rename(index=str, columns={128: 'symptom1', 129: 'symptom2'})"
   ]
  },
  {
   "cell_type": "markdown",
   "metadata": {},
   "source": [
    "Let's try Logistic Regression on $A=1$ to build a model predicting who will get better given a treatment, and then another on $A=0$ to build a model predicting who will get better without treatment, and then we can calculate for new data points the probability of getting better given each possible action, giving us a basis for deciding which action maximizes the reward."
   ]
  },
  {
   "cell_type": "code",
   "execution_count": 359,
   "metadata": {},
   "outputs": [],
   "source": [
    "from sklearn.preprocessing import StandardScaler"
   ]
  },
  {
   "cell_type": "code",
   "execution_count": 360,
   "metadata": {},
   "outputs": [],
   "source": [
    "scaler = StandardScaler()\n",
    "X_sc = scaler.fit_transform(X_data)"
   ]
  },
  {
   "cell_type": "code",
   "execution_count": 418,
   "metadata": {},
   "outputs": [],
   "source": [
    "from sklearn.model_selection import KFold\n",
    "from scipy import stats\n",
    "from sklearn.metrics import accuracy_score"
   ]
  },
  {
   "cell_type": "code",
   "execution_count": 461,
   "metadata": {},
   "outputs": [
    {
     "name": "stdout",
     "output_type": "stream",
     "text": [
      "C=1.000\n",
      "C=1.624\n",
      "C=2.637\n",
      "C=4.281\n",
      "C=6.952\n",
      "C=11.288\n",
      "C=18.330\n",
      "C=29.764\n",
      "C=48.329\n",
      "C=78.476\n",
      "C=127.427\n",
      "C=206.914\n",
      "C=335.982\n",
      "C=545.559\n",
      "C=885.867\n",
      "C=1438.450\n",
      "C=2335.721\n",
      "C=3792.690\n",
      "C=6158.482\n",
      "C=10000.000\n"
     ]
    }
   ],
   "source": [
    "X_A1 = X_sc[(A==1).values[:,0],:]\n",
    "Y_A1 = Y.iloc[(A==1).values[:,0],].values.ravel()\n",
    "n_repeats = 10\n",
    "n_folds = 10\n",
    "Cs = np.logspace(0,4,20)\n",
    "accuracies = np.zeros(len(Cs))\n",
    "deviations = np.zeros(len(Cs))\n",
    "for i, c in enumerate(Cs):\n",
    "    print(f\"C={c:.3f}\")\n",
    "    accuracy = np.zeros(n_repeats * n_folds)\n",
    "    j = 0\n",
    "    for _ in range(n_repeats):\n",
    "        for train, test in KFold(n_splits=n_folds).split(X_A1):\n",
    "            Xtr, ytr = (X_A1[train,], Y_A1[train])\n",
    "            Xte, yte = (X_A1[test,], Y_A1[test])\n",
    "            y_pred = LogisticRegression(C=c).fit(Xtr, ytr).predict(Xte)\n",
    "            accuracy[j] = accuracy_score(y_pred, yte)\n",
    "            j += 1\n",
    "    accuracies[i] = np.mean(accuracy)\n",
    "    deviations[i] = stats.sem(accuracy)"
   ]
  },
  {
   "cell_type": "code",
   "execution_count": 462,
   "metadata": {},
   "outputs": [
    {
     "data": {
      "image/png": "[encoded data removed]",
      "text/plain": [
       "<Figure size 432x288 with 1 Axes>"
      ]
     },
     "metadata": {
      "needs_background": "light"
     },
     "output_type": "display_data"
    }
   ],
   "source": [
    "plt.errorbar(Cs, accuracies, yerr=deviations, ecolor='r')\n",
    "plt.xscale('log')"
   ]
  },
  {
   "cell_type": "markdown",
   "metadata": {},
   "source": [
    "So we see here clearly that the Logistic Regression predicts better than any clustering we have attempted, even when selecting features to be used for clustering based on the outcome, and the clustering algorithm used doesn't support clustering of new data without refitting the entire dataset. Other clustering algorithms supporting this often are making assumption about the data that don't hold in our case.  \n",
    "We also see that there is little risk of overfitting and no need to regularize almost at all. At close to 98% accuracy there might not be much point in trying other classifiers eiethr, though it looks like a more flexible model might be appropriate."
   ]
  },
  {
   "cell_type": "markdown",
   "metadata": {},
   "source": [
    "Let's try to see how we do with the people who didn't get treated. Can we predict their healing? Here the healing rate is no longer about 50/50 as above, but close to 0, so the stupid predictor $Y_t=0 \\forall t$ has a close to 1 accuracy. We therefore need to measure something else. A combination of sensitivity and precision perhaps?"
   ]
  },
  {
   "cell_type": "code",
   "execution_count": 497,
   "metadata": {},
   "outputs": [],
   "source": [
    "from sklearn.metrics import matthews_corrcoef\n",
    "from sklearn.model_selection import RepeatedStratifiedKFold"
   ]
  },
  {
   "cell_type": "code",
   "execution_count": 496,
   "metadata": {},
   "outputs": [
    {
     "name": "stdout",
     "output_type": "stream",
     "text": [
      "C=0.001\n"
     ]
    },
    {
     "name": "stderr",
     "output_type": "stream",
     "text": [
      "C:\\ProgramData\\Anaconda3\\lib\\site-packages\\sklearn\\metrics\\classification.py:538: RuntimeWarning: invalid value encountered in double_scalars\n",
      "  mcc = cov_ytyp / np.sqrt(cov_ytyt * cov_ypyp)\n"
     ]
    },
    {
     "name": "stdout",
     "output_type": "stream",
     "text": [
      "C=0.002\n",
      "C=0.004\n",
      "C=0.009\n",
      "C=0.018\n",
      "C=0.038\n",
      "C=0.078\n",
      "C=0.162\n",
      "C=0.336\n",
      "C=0.695\n",
      "C=1.438\n",
      "C=2.976\n",
      "C=6.158\n",
      "C=12.743\n",
      "C=26.367\n",
      "C=54.556\n",
      "C=112.884\n",
      "C=233.572\n",
      "C=483.293\n",
      "C=1000.000\n"
     ]
    }
   ],
   "source": [
    "X_A1 = X_sc[(A==0).values[:,0],:]\n",
    "Y_A1 = Y.iloc[(A==0).values[:,0],].values.ravel()\n",
    "n_repeats = 5\n",
    "n_folds = 10\n",
    "Cs = np.logspace(-3,3,20)\n",
    "accuracies = np.zeros(len(Cs))\n",
    "deviations = np.zeros(len(Cs))\n",
    "for i, c in enumerate(Cs):\n",
    "    print(f\"C={c:.3f}\")\n",
    "    accuracy = np.zeros(n_folds * n_repeats)\n",
    "    j = 0\n",
    "    rskf = RepeatedStratifiedKFold(n_splits=n_folds, n_repeats=n_repeats)\n",
    "    for train, test in rskf.split(X_A1, Y_A1):\n",
    "        Xtr, ytr = (X_A1[train,], Y_A1[train])\n",
    "        Xte, yte = (X_A1[test,], Y_A1[test])\n",
    "        y_pred = LogisticRegression(C=c).fit(Xtr, ytr).predict(Xte)\n",
    "        accuracy[j] = matthews_corrcoef(y_pred, yte)\n",
    "        j += 1\n",
    "    accuracies[i] = np.mean(accuracy)\n",
    "    deviations[i] = stats.sem(accuracy)"
   ]
  },
  {
   "cell_type": "code",
   "execution_count": 498,
   "metadata": {},
   "outputs": [
    {
     "data": {
      "image/png": "[encoded data removed]",
      "text/plain": [
       "<Figure size 432x288 with 1 Axes>"
      ]
     },
     "metadata": {
      "needs_background": "light"
     },
     "output_type": "display_data"
    }
   ],
   "source": [
    "plt.errorbar(Cs, accuracies, yerr=deviations, ecolor='r')\n",
    "plt.xscale('log')"
   ]
  },
  {
   "cell_type": "code",
   "execution_count": 492,
   "metadata": {},
   "outputs": [
    {
     "data": {
      "text/plain": [
       "array([       nan,        nan,        nan,        nan,        nan,\n",
       "              nan,        nan,        nan,        nan,        nan,\n",
       "       0.63439394, 0.59217172, 0.579136  , 0.56177489, 0.55677489,\n",
       "       0.56670455, 0.55866883, 0.56102994, 0.55380772, 0.55556097])"
      ]
     },
     "execution_count": 492,
     "metadata": {},
     "output_type": "execute_result"
    }
   ],
   "source": [
    "accuracies"
   ]
  },
  {
   "cell_type": "markdown",
   "metadata": {},
   "source": [
    "This was using l2-penalty, which in general gives better prediction, but that has a wekaness compared to l1-penalty for high dimensional data with few true predictors. From our previous analysis it appears that there are in fact only a few truly influential predictors, so l1-penalty might be more appropriate and give better results, though given the amount of data and the quality of the predictions of the almost unregularized l2-regression I don't suppose it's very likely."
   ]
  },
  {
   "cell_type": "code",
   "execution_count": 468,
   "metadata": {},
   "outputs": [
    {
     "name": "stdout",
     "output_type": "stream",
     "text": [
      "0\n",
      "C=0.010\n",
      "C=0.018\n",
      "C=0.034\n",
      "C=0.062\n",
      "C=0.113\n",
      "C=0.207\n",
      "C=0.379\n",
      "C=0.695\n",
      "C=1.274\n",
      "C=2.336\n",
      "C=4.281\n",
      "C=7.848\n",
      "C=14.384\n",
      "C=26.367\n",
      "C=48.329\n",
      "C=88.587\n",
      "C=162.378\n",
      "C=297.635\n",
      "C=545.559\n",
      "C=1000.000\n"
     ]
    },
    {
     "data": {
      "image/png": "[encoded data removed]",
      "text/plain": [
       "<Figure size 432x288 with 1 Axes>"
      ]
     },
     "metadata": {
      "needs_background": "light"
     },
     "output_type": "display_data"
    },
    {
     "name": "stdout",
     "output_type": "stream",
     "text": [
      "1\n",
      "C=1.000\n",
      "C=1.438\n",
      "C=2.069\n",
      "C=2.976\n",
      "C=4.281\n",
      "C=6.158\n",
      "C=8.859\n",
      "C=12.743\n",
      "C=18.330\n",
      "C=26.367\n",
      "C=37.927\n",
      "C=54.556\n",
      "C=78.476\n",
      "C=112.884\n",
      "C=162.378\n",
      "C=233.572\n",
      "C=335.982\n",
      "C=483.293\n",
      "C=695.193\n",
      "C=1000.000\n"
     ]
    },
    {
     "data": {
      "image/png": "[encoded data removed]",
      "text/plain": [
       "<Figure size 432x288 with 1 Axes>"
      ]
     },
     "metadata": {
      "needs_background": "light"
     },
     "output_type": "display_data"
    }
   ],
   "source": [
    "n_repeats = 5\n",
    "n_folds = 10\n",
    "Cs = [np.logspace(-2,3,20), np.logspace(0,3,20)]\n",
    "measure = (accuracy_score, )\n",
    "for a in (0,1):\n",
    "    print(a)\n",
    "    X_A1 = X_sc[(A==a).values[:,0],:]\n",
    "    Y_A1 = Y.iloc[(A==a).values[:,0],].values.ravel()\n",
    "    accuracies = np.zeros(len(Cs[a]))\n",
    "    deviations = np.zeros(len(Cs[a]))\n",
    "    for i, c in enumerate(Cs[a]):\n",
    "        print(f\"C={c:.3f}\")\n",
    "        accuracy = np.zeros(n_folds * n_repeats)\n",
    "        j = 0\n",
    "        for _ in range(n_repeats):\n",
    "            for train, test in KFold(n_splits=n_folds).split(X_A1):\n",
    "                Xtr, ytr = (X_A1[train,], Y_A1[train])\n",
    "                Xte, yte = (X_A1[test,], Y_A1[test])\n",
    "                y_pred = LogisticRegression(C=c).fit(Xtr, ytr).predict(Xte)\n",
    "                accuracy[j] = accuracy_score(y_pred, yte)\n",
    "                j += 1\n",
    "        accuracies[i] = np.mean(accuracy)\n",
    "        deviations[i] = stats.sem(accuracy)\n",
    "    plt.errorbar(Cs[a], accuracies, yerr=deviations, ecolor='r')\n",
    "    plt.xscale('log')\n",
    "    plt.show()"
   ]
  },
  {
   "cell_type": "markdown",
   "metadata": {},
   "source": [
    "So the picture is much the same for both penalties. Same accuracy and same optimal $\\lambda$. But what if we had less data? Would this hold also then?"
   ]
  },
  {
   "cell_type": "code",
   "execution_count": null,
   "metadata": {},
   "outputs": [],
   "source": []
  }
 ],
 "metadata": {
  "kernelspec": {
   "display_name": "Python 3",
   "language": "python",
   "name": "python3"
  },
  "language_info": {
   "codemirror_mode": {
    "name": "ipython",
    "version": 3
   },
   "file_extension": ".py",
   "mimetype": "text/x-python",
   "name": "python",
   "nbconvert_exporter": "python",
   "pygments_lexer": "ipython3",
   "version": "3.6.6"
  }
 },
 "nbformat": 4,
 "nbformat_minor": 2
}
