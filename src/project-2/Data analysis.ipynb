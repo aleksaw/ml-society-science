{
 "cells": [
  {
   "cell_type": "code",
   "execution_count": 4,
   "metadata": {},
   "outputs": [],
   "source": [
    "import numpy as np\n",
    "import pandas\n",
    "\n",
    "features = pandas.read_csv('../../data/medical/historical_X.dat', header=None, sep=\" \").values\n",
    "actions = pandas.read_csv('../../data/medical/historical_A.dat', header=None, sep=\" \").values\n",
    "outcome = pandas.read_csv('../../data/medical/historical_Y.dat', header=None, sep=\" \").values\n",
    "observations = features[:, 0:127]\n",
    "labels = features[:,128] + features[:,129]*2"
   ]
  },
  {
   "cell_type": "code",
   "execution_count": 5,
   "metadata": {},
   "outputs": [
    {
     "data": {
      "text/plain": [
       "LogisticRegression(C=1.0, class_weight=None, dual=False, fit_intercept=True,\n",
       "          intercept_scaling=1, max_iter=100, multi_class='ovr', n_jobs=1,\n",
       "          penalty='l2', random_state=None, solver='liblinear', tol=0.0001,\n",
       "          verbose=0, warm_start=False)"
      ]
     },
     "execution_count": 5,
     "metadata": {},
     "output_type": "execute_result"
    }
   ],
   "source": [
    "# Are some features more predictive of disease symptoms?\n",
    "from sklearn.linear_model import LogisticRegression\n",
    "from sklearn.model_selection import cross_val_score, KFold\n",
    "from sklearn.metrics import confusion_matrix, accuracy_score, make_scorer\n",
    "import matplotlib.pyplot as plt\n",
    "%matplotlib inline\n",
    "\n",
    "clf = LogisticRegression()\n",
    "clf.fit(observations, labels)\n"
   ]
  },
  {
   "cell_type": "code",
   "execution_count": 6,
   "metadata": {},
   "outputs": [
    {
     "data": {
      "text/plain": [
       "ExtraTreesClassifier(bootstrap=False, class_weight=None, criterion='gini',\n",
       "           max_depth=None, max_features='auto', max_leaf_nodes=None,\n",
       "           min_impurity_decrease=0.0, min_impurity_split=None,\n",
       "           min_samples_leaf=1, min_samples_split=2,\n",
       "           min_weight_fraction_leaf=0.0, n_estimators=250, n_jobs=1,\n",
       "           oob_score=False, random_state=0, verbose=0, warm_start=False)"
      ]
     },
     "execution_count": 6,
     "metadata": {},
     "output_type": "execute_result"
    }
   ],
   "source": [
    "from sklearn.ensemble import ExtraTreesClassifier\n",
    "forest = ExtraTreesClassifier(n_estimators=250,\n",
    "                              random_state=0)\n",
    "forest.fit(observations, labels)"
   ]
  },
  {
   "cell_type": "code",
   "execution_count": 7,
   "metadata": {},
   "outputs": [
    {
     "name": "stdout",
     "output_type": "stream",
     "text": [
      "Feature ranking:\n",
      "1. feature 5 (0.081794)\n",
      "2. feature 3 (0.049334)\n",
      "3. feature 113 (0.028859)\n",
      "4. feature 11 (0.016080)\n",
      "5. feature 1 (0.014666)\n",
      "6. feature 72 (0.014489)\n",
      "7. feature 83 (0.014195)\n",
      "8. feature 55 (0.013866)\n",
      "9. feature 94 (0.012365)\n",
      "10. feature 0 (0.012203)\n",
      "11. feature 52 (0.011991)\n",
      "12. feature 69 (0.011398)\n",
      "13. feature 66 (0.011111)\n",
      "14. feature 108 (0.010564)\n",
      "15. feature 126 (0.010197)\n",
      "16. feature 71 (0.009780)\n",
      "17. feature 112 (0.009331)\n",
      "18. feature 51 (0.009247)\n",
      "19. feature 4 (0.008601)\n",
      "20. feature 87 (0.008321)\n",
      "21. feature 105 (0.008165)\n",
      "22. feature 122 (0.008141)\n",
      "23. feature 119 (0.007346)\n",
      "24. feature 9 (0.007133)\n",
      "25. feature 67 (0.006952)\n",
      "26. feature 125 (0.006948)\n",
      "27. feature 60 (0.006811)\n",
      "28. feature 90 (0.006746)\n",
      "29. feature 88 (0.006738)\n",
      "30. feature 13 (0.006710)\n",
      "31. feature 48 (0.006709)\n",
      "32. feature 111 (0.006691)\n",
      "33. feature 34 (0.006682)\n",
      "34. feature 28 (0.006667)\n",
      "35. feature 89 (0.006570)\n",
      "36. feature 6 (0.006542)\n",
      "37. feature 114 (0.006520)\n",
      "38. feature 49 (0.006445)\n",
      "39. feature 79 (0.006351)\n",
      "40. feature 46 (0.006321)\n",
      "41. feature 22 (0.006314)\n",
      "42. feature 109 (0.006304)\n",
      "43. feature 70 (0.006297)\n",
      "44. feature 103 (0.006282)\n",
      "45. feature 53 (0.006234)\n",
      "46. feature 80 (0.006230)\n",
      "47. feature 76 (0.006221)\n",
      "48. feature 12 (0.006167)\n",
      "49. feature 102 (0.006157)\n",
      "50. feature 120 (0.006152)\n",
      "51. feature 95 (0.006143)\n",
      "52. feature 99 (0.006142)\n",
      "53. feature 54 (0.006139)\n",
      "54. feature 7 (0.006133)\n",
      "55. feature 96 (0.006123)\n",
      "56. feature 92 (0.006119)\n",
      "57. feature 16 (0.006118)\n",
      "58. feature 63 (0.006113)\n",
      "59. feature 38 (0.006106)\n",
      "60. feature 68 (0.006099)\n",
      "61. feature 35 (0.006062)\n",
      "62. feature 116 (0.006060)\n",
      "63. feature 85 (0.006049)\n",
      "64. feature 58 (0.006046)\n",
      "65. feature 115 (0.006035)\n",
      "66. feature 2 (0.006023)\n",
      "67. feature 78 (0.006009)\n",
      "68. feature 64 (0.005995)\n",
      "69. feature 77 (0.005978)\n",
      "70. feature 73 (0.005964)\n",
      "71. feature 37 (0.005954)\n",
      "72. feature 21 (0.005926)\n",
      "73. feature 50 (0.005910)\n",
      "74. feature 59 (0.005904)\n",
      "75. feature 123 (0.005900)\n",
      "76. feature 26 (0.005896)\n",
      "77. feature 19 (0.005861)\n",
      "78. feature 81 (0.005837)\n",
      "79. feature 75 (0.005835)\n",
      "80. feature 41 (0.005830)\n",
      "81. feature 30 (0.005821)\n",
      "82. feature 93 (0.005818)\n",
      "83. feature 106 (0.005817)\n",
      "84. feature 43 (0.005805)\n",
      "85. feature 32 (0.005798)\n",
      "86. feature 62 (0.005793)\n",
      "87. feature 101 (0.005787)\n",
      "88. feature 56 (0.005779)\n",
      "89. feature 86 (0.005777)\n",
      "90. feature 104 (0.005736)\n",
      "91. feature 110 (0.005712)\n",
      "92. feature 42 (0.005675)\n",
      "93. feature 118 (0.005672)\n",
      "94. feature 31 (0.005669)\n",
      "95. feature 124 (0.005664)\n",
      "96. feature 44 (0.005662)\n",
      "97. feature 82 (0.005656)\n",
      "98. feature 8 (0.005652)\n",
      "99. feature 91 (0.005651)\n",
      "100. feature 39 (0.005640)\n",
      "101. feature 45 (0.005624)\n",
      "102. feature 61 (0.005624)\n",
      "103. feature 14 (0.005622)\n",
      "104. feature 25 (0.005613)\n",
      "105. feature 84 (0.005577)\n",
      "106. feature 18 (0.005577)\n",
      "107. feature 24 (0.005576)\n",
      "108. feature 23 (0.005561)\n",
      "109. feature 15 (0.005533)\n",
      "110. feature 20 (0.005510)\n",
      "111. feature 107 (0.005508)\n",
      "112. feature 65 (0.005487)\n",
      "113. feature 57 (0.005485)\n",
      "114. feature 117 (0.005473)\n",
      "115. feature 29 (0.005450)\n",
      "116. feature 100 (0.005444)\n",
      "117. feature 33 (0.005434)\n",
      "118. feature 17 (0.005424)\n",
      "119. feature 27 (0.005412)\n",
      "120. feature 74 (0.005401)\n",
      "121. feature 121 (0.005396)\n",
      "122. feature 40 (0.005362)\n",
      "123. feature 36 (0.005349)\n",
      "124. feature 47 (0.005286)\n",
      "125. feature 97 (0.005272)\n",
      "126. feature 10 (0.005125)\n",
      "127. feature 98 (0.005044)\n"
     ]
    },
    {
     "data": {
      "image/png": "[encoded data removed]",
      "text/plain": [
       "<Figure size 432x288 with 1 Axes>"
      ]
     },
     "metadata": {},
     "output_type": "display_data"
    }
   ],
   "source": [
    "importances = forest.feature_importances_\n",
    "std = np.std([tree.feature_importances_ for tree in forest.estimators_],\n",
    "             axis=0)\n",
    "indices = np.argsort(importances)[::-1]\n",
    "\n",
    "# Print the feature ranking\n",
    "print(\"Feature ranking:\")\n",
    "\n",
    "for f in range(observations.shape[1]):\n",
    "    print(\"%d. feature %d (%f)\" % (f + 1, indices[f], importances[indices[f]]))\n",
    "\n",
    "# Plot the feature importances of the forest\n",
    "plt.figure()\n",
    "plt.title(\"Feature importances\")\n",
    "plt.bar(range(observations.shape[1]), importances[indices],\n",
    "       color=\"r\", yerr=std[indices], align=\"center\")\n",
    "plt.xticks(range(observations.shape[1]), indices)\n",
    "plt.xlim([-1, observations.shape[1]])\n",
    "plt.show()"
   ]
  },
  {
   "cell_type": "markdown",
   "metadata": {},
   "source": [
    "# Run a Bayesian clustering algorithm"
   ]
  },
  {
   "cell_type": "code",
   "execution_count": 8,
   "metadata": {},
   "outputs": [
    {
     "data": {
      "text/plain": [
       "BayesianGaussianMixture(covariance_prior=None, covariance_type='full',\n",
       "            degrees_of_freedom_prior=None, init_params='kmeans',\n",
       "            max_iter=100, mean_precision_prior=None, mean_prior=None,\n",
       "            n_components=4, n_init=1, random_state=None, reg_covar=1e-06,\n",
       "            tol=0.001, verbose=0, verbose_interval=10, warm_start=False,\n",
       "            weight_concentration_prior=None,\n",
       "            weight_concentration_prior_type='dirichlet_process')"
      ]
     },
     "execution_count": 8,
     "metadata": {},
     "output_type": "execute_result"
    }
   ],
   "source": [
    "from sklearn import mixture\n",
    "\n",
    "estimator = mixture.BayesianGaussianMixture(weight_concentration_prior_type=\"dirichlet_process\",\n",
    "        n_components=4)\n",
    "estimator.fit(observations)"
   ]
  },
  {
   "cell_type": "code",
   "execution_count": 13,
   "metadata": {},
   "outputs": [
    {
     "ename": "ValueError",
     "evalue": "operands could not be broadcast together with shapes (2,) (130,) ",
     "output_type": "error",
     "traceback": [
      "\u001b[0;31m---------------------------------------------------------------------------\u001b[0m",
      "\u001b[0;31mValueError\u001b[0m                                Traceback (most recent call last)",
      "\u001b[0;32m<ipython-input-13-f943d1adab27>\u001b[0m in \u001b[0;36m<module>\u001b[0;34m()\u001b[0m\n\u001b[1;32m     13\u001b[0m     \u001b[0mmu\u001b[0m \u001b[0;34m=\u001b[0m \u001b[0mnp\u001b[0m\u001b[0;34m.\u001b[0m\u001b[0mzeros\u001b[0m\u001b[0;34m(\u001b[0m\u001b[0mn_dim\u001b[0m\u001b[0;34m)\u001b[0m\u001b[0;34m\u001b[0m\u001b[0m\n\u001b[1;32m     14\u001b[0m \u001b[0;34m\u001b[0m\u001b[0m\n\u001b[0;32m---> 15\u001b[0;31m     \u001b[0mmeans\u001b[0m \u001b[0;34m=\u001b[0m \u001b[0mpm\u001b[0m\u001b[0;34m.\u001b[0m\u001b[0mMvNormal\u001b[0m\u001b[0;34m(\u001b[0m\u001b[0;34m'means'\u001b[0m\u001b[0;34m,\u001b[0m \u001b[0mmu\u001b[0m\u001b[0;34m=\u001b[0m\u001b[0mmu\u001b[0m\u001b[0;34m,\u001b[0m \u001b[0mcov\u001b[0m\u001b[0;34m=\u001b[0m\u001b[0mcov\u001b[0m\u001b[0;34m,\u001b[0m \u001b[0mshape\u001b[0m\u001b[0;34m=\u001b[0m\u001b[0mn_clusters\u001b[0m\u001b[0;34m)\u001b[0m\u001b[0;34m\u001b[0m\u001b[0m\n\u001b[0m\u001b[1;32m     16\u001b[0m \u001b[0;34m\u001b[0m\u001b[0m\n\u001b[1;32m     17\u001b[0m     \u001b[0;31m# measurement error\u001b[0m\u001b[0;34m\u001b[0m\u001b[0;34m\u001b[0m\u001b[0m\n",
      "\u001b[0;32m~/.local/lib/python3.5/site-packages/pymc3/distributions/distribution.py\u001b[0m in \u001b[0;36m__new__\u001b[0;34m(cls, name, *args, **kwargs)\u001b[0m\n\u001b[1;32m     40\u001b[0m             \u001b[0mtotal_size\u001b[0m \u001b[0;34m=\u001b[0m \u001b[0mkwargs\u001b[0m\u001b[0;34m.\u001b[0m\u001b[0mpop\u001b[0m\u001b[0;34m(\u001b[0m\u001b[0;34m'total_size'\u001b[0m\u001b[0;34m,\u001b[0m \u001b[0;32mNone\u001b[0m\u001b[0;34m)\u001b[0m\u001b[0;34m\u001b[0m\u001b[0m\n\u001b[1;32m     41\u001b[0m             \u001b[0mdist\u001b[0m \u001b[0;34m=\u001b[0m \u001b[0mcls\u001b[0m\u001b[0;34m.\u001b[0m\u001b[0mdist\u001b[0m\u001b[0;34m(\u001b[0m\u001b[0;34m*\u001b[0m\u001b[0margs\u001b[0m\u001b[0;34m,\u001b[0m \u001b[0;34m**\u001b[0m\u001b[0mkwargs\u001b[0m\u001b[0;34m)\u001b[0m\u001b[0;34m\u001b[0m\u001b[0m\n\u001b[0;32m---> 42\u001b[0;31m             \u001b[0;32mreturn\u001b[0m \u001b[0mmodel\u001b[0m\u001b[0;34m.\u001b[0m\u001b[0mVar\u001b[0m\u001b[0;34m(\u001b[0m\u001b[0mname\u001b[0m\u001b[0;34m,\u001b[0m \u001b[0mdist\u001b[0m\u001b[0;34m,\u001b[0m \u001b[0mdata\u001b[0m\u001b[0;34m,\u001b[0m \u001b[0mtotal_size\u001b[0m\u001b[0;34m)\u001b[0m\u001b[0;34m\u001b[0m\u001b[0m\n\u001b[0m\u001b[1;32m     43\u001b[0m         \u001b[0;32melse\u001b[0m\u001b[0;34m:\u001b[0m\u001b[0;34m\u001b[0m\u001b[0m\n\u001b[1;32m     44\u001b[0m             \u001b[0;32mraise\u001b[0m \u001b[0mTypeError\u001b[0m\u001b[0;34m(\u001b[0m\u001b[0;34m\"Name needs to be a string but got: {}\"\u001b[0m\u001b[0;34m.\u001b[0m\u001b[0mformat\u001b[0m\u001b[0;34m(\u001b[0m\u001b[0mname\u001b[0m\u001b[0;34m)\u001b[0m\u001b[0;34m)\u001b[0m\u001b[0;34m\u001b[0m\u001b[0m\n",
      "\u001b[0;32m~/.local/lib/python3.5/site-packages/pymc3/model.py\u001b[0m in \u001b[0;36mVar\u001b[0;34m(self, name, dist, data, total_size)\u001b[0m\n\u001b[1;32m    806\u001b[0m                 \u001b[0;32mwith\u001b[0m \u001b[0mself\u001b[0m\u001b[0;34m:\u001b[0m\u001b[0;34m\u001b[0m\u001b[0m\n\u001b[1;32m    807\u001b[0m                     var = FreeRV(name=name, distribution=dist,\n\u001b[0;32m--> 808\u001b[0;31m                                  total_size=total_size, model=self)\n\u001b[0m\u001b[1;32m    809\u001b[0m                 \u001b[0mself\u001b[0m\u001b[0;34m.\u001b[0m\u001b[0mfree_RVs\u001b[0m\u001b[0;34m.\u001b[0m\u001b[0mappend\u001b[0m\u001b[0;34m(\u001b[0m\u001b[0mvar\u001b[0m\u001b[0;34m)\u001b[0m\u001b[0;34m\u001b[0m\u001b[0m\n\u001b[1;32m    810\u001b[0m             \u001b[0;32melse\u001b[0m\u001b[0;34m:\u001b[0m\u001b[0;34m\u001b[0m\u001b[0m\n",
      "\u001b[0;32m~/.local/lib/python3.5/site-packages/pymc3/model.py\u001b[0m in \u001b[0;36m__init__\u001b[0;34m(self, type, owner, index, name, distribution, total_size, model)\u001b[0m\n\u001b[1;32m   1205\u001b[0m             \u001b[0mself\u001b[0m\u001b[0;34m.\u001b[0m\u001b[0mdistribution\u001b[0m \u001b[0;34m=\u001b[0m \u001b[0mdistribution\u001b[0m\u001b[0;34m\u001b[0m\u001b[0m\n\u001b[1;32m   1206\u001b[0m             self.tag.test_value = np.ones(\n\u001b[0;32m-> 1207\u001b[0;31m                 distribution.shape, distribution.dtype) * distribution.default()\n\u001b[0m\u001b[1;32m   1208\u001b[0m             \u001b[0mself\u001b[0m\u001b[0;34m.\u001b[0m\u001b[0mlogp_elemwiset\u001b[0m \u001b[0;34m=\u001b[0m \u001b[0mdistribution\u001b[0m\u001b[0;34m.\u001b[0m\u001b[0mlogp\u001b[0m\u001b[0;34m(\u001b[0m\u001b[0mself\u001b[0m\u001b[0;34m)\u001b[0m\u001b[0;34m\u001b[0m\u001b[0m\n\u001b[1;32m   1209\u001b[0m             \u001b[0;31m# The logp might need scaling in minibatches.\u001b[0m\u001b[0;34m\u001b[0m\u001b[0;34m\u001b[0m\u001b[0m\n",
      "\u001b[0;31mValueError\u001b[0m: operands could not be broadcast together with shapes (2,) (130,) "
     ]
    }
   ],
   "source": [
    "# Try and transform univariate normal into multivariate example\n",
    "import pymc3 as pm, theano.tensor as tt\n",
    "# setup model\n",
    "model = pm.Model()\n",
    "n_clusters = 2\n",
    "n_dim = 130\n",
    "with model:\n",
    "    # cluster sizes\n",
    "    p = pm.Dirichlet('p', a=np.ones(n_clusters), shape=n_clusters)\n",
    "    \n",
    "    # cluster centers\n",
    "    cov = np.identity(n_dim)\n",
    "    mu = np.zeros(n_dim)\n",
    "\n",
    "    means = pm.MvNormal('means', mu=mu, cov=cov, shape=n_clusters)\n",
    "    \n",
    "    # measurement error\n",
    "    sd = pm.Exponential('sd')\n",
    "    \n",
    "    # latent cluster of each observation\n",
    "    category = pm.Categorical('category',\n",
    "                              p=p,\n",
    "                              shape=ndata)\n",
    "\n",
    "    # likelihood for each observed value\n",
    "    points = pm.Normal('obs',\n",
    "                       mu=means[category],\n",
    "                       sd=sd,\n",
    "                       observed=data)\n"
   ]
  },
  {
   "cell_type": "code",
   "execution_count": 14,
   "metadata": {},
   "outputs": [
    {
     "ename": "NameError",
     "evalue": "name 'target_data' is not defined",
     "output_type": "error",
     "traceback": [
      "\u001b[0;31m---------------------------------------------------------------------------\u001b[0m",
      "\u001b[0;31mNameError\u001b[0m                                 Traceback (most recent call last)",
      "\u001b[0;32m<ipython-input-14-073ed5ac9158>\u001b[0m in \u001b[0;36m<module>\u001b[0;34m()\u001b[0m\n\u001b[1;32m      1\u001b[0m \u001b[0mN_COMPONENTS\u001b[0m \u001b[0;34m=\u001b[0m \u001b[0;36m5\u001b[0m\u001b[0;34m\u001b[0m\u001b[0m\n\u001b[0;32m----> 2\u001b[0;31m \u001b[0mN_SAMPLES\u001b[0m\u001b[0;34m,\u001b[0m \u001b[0mN_DIMS\u001b[0m \u001b[0;34m=\u001b[0m \u001b[0mtarget_data\u001b[0m\u001b[0;34m.\u001b[0m\u001b[0mshape\u001b[0m\u001b[0;34m\u001b[0m\u001b[0m\n\u001b[0m\u001b[1;32m      3\u001b[0m \u001b[0;34m\u001b[0m\u001b[0m\n\u001b[1;32m      4\u001b[0m \u001b[0;31m# Dirichilet prior.\u001b[0m\u001b[0;34m\u001b[0m\u001b[0;34m\u001b[0m\u001b[0m\n\u001b[1;32m      5\u001b[0m \u001b[0mALPHA_0\u001b[0m \u001b[0;34m=\u001b[0m \u001b[0mnp\u001b[0m\u001b[0;34m.\u001b[0m\u001b[0mones\u001b[0m\u001b[0;34m(\u001b[0m\u001b[0mN_COMPONENTS\u001b[0m\u001b[0;34m)\u001b[0m\u001b[0;34m\u001b[0m\u001b[0m\n",
      "\u001b[0;31mNameError\u001b[0m: name 'target_data' is not defined"
     ]
    }
   ],
   "source": [
    "# Multivariate example\n",
    "N_COMPONENTS = 5\n",
    "N_SAMPLES, N_DIMS = target_data.shape\n",
    "\n",
    "# Dirichilet prior.\n",
    "ALPHA_0 = np.ones(N_COMPONENTS)\n",
    "# Component means prior.\n",
    "MU_0 = np.zeros(N_DIMS)\n",
    "LAMB_0 = 2. * np.eye(N_DIMS)\n",
    "# Components precision prior.\n",
    "BETA_0, BETA_1 = .1, 2.    # Covariance stds prior uniform limits.\n",
    "L_0 = 5.       # LKJ corr. shape. Larger shape -> more biased to identity.\n",
    "\n",
    "# In order to convert the upper triangular correlation values to a\n",
    "# complete correlation matrix, we need to construct an index matrix:\n",
    "# Source: http://stackoverflow.com/q/29759789/1901296\n",
    "N_ELEMS = N_DIMS * (N_DIMS - 1) / 2\n",
    "tri_index = np.zeros([N_DIMS, N_DIMS], dtype=int)\n",
    "tri_index[np.triu_indices(N_DIMS, k=1)] = np.arange(N_ELEMS)\n",
    "tri_index[np.triu_indices(N_DIMS, k=1)[::-1]] = np.arange(N_ELEMS)\n",
    "\n",
    "with pm.Model() as model:\n",
    "    # Component weight prior.\n",
    "    pi = pm.Dirichlet('pi', ALPHA_0, testval=np.ones(N_COMPONENTS) / N_COMPONENTS)\n",
    "    #pi_potential = pm.Potential('pi_potential', tensor.switch(tensor.min(pi) < .01, -np.inf, 0))\n",
    "\n",
    "    ###################\n",
    "    # Components plate.\n",
    "    ###################\n",
    "    # Component means.\n",
    "    mus = [pm.MvNormal('mu_{}'.format(i), MU_0, LAMB_0, shape=N_DIMS)\n",
    "           for i in range(N_COMPONENTS)]\n",
    "\n",
    "    # Component precisions.\n",
    "    #lamb = diag(sigma) * corr(corr_shape) * diag(sigma)\n",
    "    corr_vecs = [\n",
    "            pm.LKJCorr('corr_vec_{}'.format(i), L_0, N_DIMS)\n",
    "            for i in range(N_COMPONENTS)\n",
    "    ]\n",
    "    # Transform the correlation vector representations to matrices.\n",
    "    corrs = [\n",
    "        tensor.fill_diagonal(corr_vecs[i][tri_index], 1.)\n",
    "        for i in range(N_COMPONENTS)\n",
    "    ]\n",
    "    # Stds for the correlation matrices.\n",
    "    cov_stds = pm.Uniform('cov_stds', BETA_0, BETA_1, shape=(N_COMPONENTS, N_DIMS))\n",
    "    # Finally re-compose the covariance matrices using diag(sigma) * corr * diag(sigma)\n",
    "    # Source http://austinrochford.com/posts/2015-09-16-mvn-pymc3-lkj.html\n",
    "    lambs = []\n",
    "    for i in range(N_COMPONENTS):\n",
    "        std_diag = tensor.diag(cov_stds[i])\n",
    "        cov = std_diag.dot(corrs[i]).dot(std_diag)\n",
    "        lambs.append(tensor.nlinalg.matrix_inverse(cov))\n",
    "\n",
    "    stacked_mus = tensor.stack(mus)\n",
    "    stacked_lambs = tensor.stack(lambs)\n",
    "\n",
    "    #####################\n",
    "    # Observations plate.\n",
    "    #####################\n",
    "    z = pm.Categorical('z', pi, shape=N_SAMPLES)\n",
    "\n",
    "    y = pm.MvNormal('y', stacked_mus[z], stacked_lambs[z], observed=target_data)"
   ]
  },
  {
   "cell_type": "code",
   "execution_count": null,
   "metadata": {},
   "outputs": [],
   "source": []
  }
 ],
 "metadata": {
  "kernelspec": {
   "display_name": "Python 3",
   "language": "python",
   "name": "python3"
  },
  "language_info": {
   "codemirror_mode": {
    "name": "ipython",
    "version": 3
   },
   "file_extension": ".py",
   "mimetype": "text/x-python",
   "name": "python",
   "nbconvert_exporter": "python",
   "pygments_lexer": "ipython3",
   "version": "3.5.2"
  }
 },
 "nbformat": 4,
 "nbformat_minor": 2
}
