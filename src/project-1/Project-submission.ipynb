{
 "cells": [
  {
   "cell_type": "markdown",
   "metadata": {},
   "source": [
    "# Credit risk for mortgages"
   ]
  },
  {
   "cell_type": "markdown",
   "metadata": {},
   "source": [
    "## Part 1"
   ]
  },
  {
   "cell_type": "markdown",
   "metadata": {},
   "source": [
    "### 1)"
   ]
  },
  {
   "cell_type": "markdown",
   "metadata": {},
   "source": [
    "Expected utility for giving loan = Probability of default \\* cost of default + probability of downpayment \\* interest gain  \n",
    "Expected utility for not giving loan = 0"
   ]
  },
  {
   "cell_type": "markdown",
   "metadata": {},
   "source": [
    "\\begin{align}\n",
    "E(U) &= P \\cdot L \\cdot ((1+R)^T-1) - (1-P) \\cdot L \\\\\n",
    "&= PL(1+R)^T - PL - L + PL \\\\\n",
    "&= L(P(1+R)^T-1)\n",
    "\\end{align}"
   ]
  },
  {
   "cell_type": "code",
   "execution_count": 39,
   "metadata": {
    "collapsed": true
   },
   "outputs": [],
   "source": [
    "def expected_utility():\n",
    "    return loan * (get_proba() * (1+interest_rate)**duration - 1)"
   ]
  },
  {
   "cell_type": "markdown",
   "metadata": {},
   "source": [
    "If the expected utility of giving the loan is positive, we give loan, if negative, we don't."
   ]
  },
  {
   "cell_type": "markdown",
   "metadata": {},
   "source": [
    "### 2)"
   ]
  },
  {
   "cell_type": "markdown",
   "metadata": {},
   "source": [
    "##### Questions to self:\n",
    "+ Should the ordered qualitative attributes be made numeric? If so, what should the number conversions be? F.ex checking account, for the first two categories we can use the center, but what about the third where there is no center? Same holds for several of the other ordered qualitative attributes. Is an option for the (x,->)-intervals to use an expectation assuming f.ex an exponential distribution in the category? Or is it better to just number them and model that attribute non-linearly?\n",
    "+ Should we just use kNN, or are we free to select any method? Or should we try many different methods and select the best one?\n",
    "+ How should we select? Should we just use a quarter of the data as a holdout for method selection, and then trim parameters for each method using cv on the remaining three quarters? Or is it better to use some kind of neural network kind of method to combine many other methods. How involved should we do this?"
   ]
  },
  {
   "cell_type": "code",
   "execution_count": 42,
   "metadata": {
    "collapsed": true
   },
   "outputs": [],
   "source": [
    "import pandas as pd\n",
    "import numpy as np"
   ]
  },
  {
   "cell_type": "code",
   "execution_count": 43,
   "metadata": {
    "collapsed": true
   },
   "outputs": [],
   "source": [
    "features = ['checking account balance', 'duration', 'credit history',\n",
    "            'purpose', 'amount', 'savings', 'employment', 'installment',\n",
    "            'marital status', 'other debtors', 'residence time',\n",
    "            'property', 'age', 'other installments', 'housing', 'credits',\n",
    "            'job', 'persons', 'phone', 'foreign']\n",
    "target = ['repaid']"
   ]
  },
  {
   "cell_type": "code",
   "execution_count": 44,
   "metadata": {
    "collapsed": true
   },
   "outputs": [],
   "source": [
    "df = pd.read_csv('../../data/credit/german.data', sep=' ',\n",
    "                     names=features+target)"
   ]
  },
  {
   "cell_type": "code",
   "execution_count": 45,
   "metadata": {
    "collapsed": true
   },
   "outputs": [],
   "source": [
    "numeric_features = df[features].select_dtypes(include=[np.number]).columns.tolist()\n",
    "categorical_features = [f for f in features if f not in numeric_features]"
   ]
  },
  {
   "cell_type": "code",
   "execution_count": 46,
   "metadata": {
    "collapsed": true
   },
   "outputs": [],
   "source": [
    "# Treat the categorical features differently by expanding them into binary features \n",
    "df = pd.get_dummies(df, columns=categorical_features, drop_first=True)"
   ]
  },
  {
   "cell_type": "code",
   "execution_count": 47,
   "metadata": {},
   "outputs": [
    {
     "name": "stdout",
     "output_type": "stream",
     "text": [
      "['duration', 'amount', 'installment', 'residence time', 'age', 'credits', 'persons']\n",
      "['checking account balance', 'credit history', 'purpose', 'savings', 'employment', 'marital status', 'other debtors', 'property', 'other installments', 'housing', 'job', 'phone', 'foreign']\n"
     ]
    }
   ],
   "source": [
    "print(numeric_features)\n",
    "print(categorical_features)"
   ]
  },
  {
   "cell_type": "code",
   "execution_count": 30,
   "metadata": {},
   "outputs": [
    {
     "data": {
      "text/html": [
       "<div>\n",
       "<style>\n",
       "    .dataframe thead tr:only-child th {\n",
       "        text-align: right;\n",
       "    }\n",
       "\n",
       "    .dataframe thead th {\n",
       "        text-align: left;\n",
       "    }\n",
       "\n",
       "    .dataframe tbody tr th {\n",
       "        vertical-align: top;\n",
       "    }\n",
       "</style>\n",
       "<table border=\"1\" class=\"dataframe\">\n",
       "  <thead>\n",
       "    <tr style=\"text-align: right;\">\n",
       "      <th></th>\n",
       "      <th>duration</th>\n",
       "      <th>amount</th>\n",
       "      <th>installment</th>\n",
       "      <th>residence time</th>\n",
       "      <th>age</th>\n",
       "      <th>credits</th>\n",
       "      <th>persons</th>\n",
       "      <th>repaid</th>\n",
       "      <th>checking account balance_A12</th>\n",
       "      <th>checking account balance_A13</th>\n",
       "      <th>...</th>\n",
       "      <th>property_A124</th>\n",
       "      <th>other installments_A142</th>\n",
       "      <th>other installments_A143</th>\n",
       "      <th>housing_A152</th>\n",
       "      <th>housing_A153</th>\n",
       "      <th>job_A172</th>\n",
       "      <th>job_A173</th>\n",
       "      <th>job_A174</th>\n",
       "      <th>phone_A192</th>\n",
       "      <th>foreign_A202</th>\n",
       "    </tr>\n",
       "  </thead>\n",
       "  <tbody>\n",
       "    <tr>\n",
       "      <th>count</th>\n",
       "      <td>1000.000000</td>\n",
       "      <td>1000.000000</td>\n",
       "      <td>1000.000000</td>\n",
       "      <td>1000.000000</td>\n",
       "      <td>1000.000000</td>\n",
       "      <td>1000.000000</td>\n",
       "      <td>1000.000000</td>\n",
       "      <td>1000.000000</td>\n",
       "      <td>1000.000000</td>\n",
       "      <td>1000.000000</td>\n",
       "      <td>...</td>\n",
       "      <td>1000.000000</td>\n",
       "      <td>1000.000000</td>\n",
       "      <td>1000.000000</td>\n",
       "      <td>1000.000000</td>\n",
       "      <td>1000.000000</td>\n",
       "      <td>1000.0000</td>\n",
       "      <td>1000.000000</td>\n",
       "      <td>1000.000000</td>\n",
       "      <td>1000.000000</td>\n",
       "      <td>1000.000000</td>\n",
       "    </tr>\n",
       "    <tr>\n",
       "      <th>mean</th>\n",
       "      <td>20.903000</td>\n",
       "      <td>3271.258000</td>\n",
       "      <td>2.973000</td>\n",
       "      <td>2.845000</td>\n",
       "      <td>35.546000</td>\n",
       "      <td>1.407000</td>\n",
       "      <td>1.155000</td>\n",
       "      <td>1.300000</td>\n",
       "      <td>0.269000</td>\n",
       "      <td>0.063000</td>\n",
       "      <td>...</td>\n",
       "      <td>0.154000</td>\n",
       "      <td>0.047000</td>\n",
       "      <td>0.814000</td>\n",
       "      <td>0.713000</td>\n",
       "      <td>0.108000</td>\n",
       "      <td>0.2000</td>\n",
       "      <td>0.630000</td>\n",
       "      <td>0.148000</td>\n",
       "      <td>0.404000</td>\n",
       "      <td>0.037000</td>\n",
       "    </tr>\n",
       "    <tr>\n",
       "      <th>std</th>\n",
       "      <td>12.058814</td>\n",
       "      <td>2822.736876</td>\n",
       "      <td>1.118715</td>\n",
       "      <td>1.103718</td>\n",
       "      <td>11.375469</td>\n",
       "      <td>0.577654</td>\n",
       "      <td>0.362086</td>\n",
       "      <td>0.458487</td>\n",
       "      <td>0.443662</td>\n",
       "      <td>0.243085</td>\n",
       "      <td>...</td>\n",
       "      <td>0.361129</td>\n",
       "      <td>0.211745</td>\n",
       "      <td>0.389301</td>\n",
       "      <td>0.452588</td>\n",
       "      <td>0.310536</td>\n",
       "      <td>0.4002</td>\n",
       "      <td>0.483046</td>\n",
       "      <td>0.355278</td>\n",
       "      <td>0.490943</td>\n",
       "      <td>0.188856</td>\n",
       "    </tr>\n",
       "    <tr>\n",
       "      <th>min</th>\n",
       "      <td>4.000000</td>\n",
       "      <td>250.000000</td>\n",
       "      <td>1.000000</td>\n",
       "      <td>1.000000</td>\n",
       "      <td>19.000000</td>\n",
       "      <td>1.000000</td>\n",
       "      <td>1.000000</td>\n",
       "      <td>1.000000</td>\n",
       "      <td>0.000000</td>\n",
       "      <td>0.000000</td>\n",
       "      <td>...</td>\n",
       "      <td>0.000000</td>\n",
       "      <td>0.000000</td>\n",
       "      <td>0.000000</td>\n",
       "      <td>0.000000</td>\n",
       "      <td>0.000000</td>\n",
       "      <td>0.0000</td>\n",
       "      <td>0.000000</td>\n",
       "      <td>0.000000</td>\n",
       "      <td>0.000000</td>\n",
       "      <td>0.000000</td>\n",
       "    </tr>\n",
       "    <tr>\n",
       "      <th>25%</th>\n",
       "      <td>12.000000</td>\n",
       "      <td>1365.500000</td>\n",
       "      <td>2.000000</td>\n",
       "      <td>2.000000</td>\n",
       "      <td>27.000000</td>\n",
       "      <td>1.000000</td>\n",
       "      <td>1.000000</td>\n",
       "      <td>1.000000</td>\n",
       "      <td>0.000000</td>\n",
       "      <td>0.000000</td>\n",
       "      <td>...</td>\n",
       "      <td>0.000000</td>\n",
       "      <td>0.000000</td>\n",
       "      <td>1.000000</td>\n",
       "      <td>0.000000</td>\n",
       "      <td>0.000000</td>\n",
       "      <td>0.0000</td>\n",
       "      <td>0.000000</td>\n",
       "      <td>0.000000</td>\n",
       "      <td>0.000000</td>\n",
       "      <td>0.000000</td>\n",
       "    </tr>\n",
       "    <tr>\n",
       "      <th>50%</th>\n",
       "      <td>18.000000</td>\n",
       "      <td>2319.500000</td>\n",
       "      <td>3.000000</td>\n",
       "      <td>3.000000</td>\n",
       "      <td>33.000000</td>\n",
       "      <td>1.000000</td>\n",
       "      <td>1.000000</td>\n",
       "      <td>1.000000</td>\n",
       "      <td>0.000000</td>\n",
       "      <td>0.000000</td>\n",
       "      <td>...</td>\n",
       "      <td>0.000000</td>\n",
       "      <td>0.000000</td>\n",
       "      <td>1.000000</td>\n",
       "      <td>1.000000</td>\n",
       "      <td>0.000000</td>\n",
       "      <td>0.0000</td>\n",
       "      <td>1.000000</td>\n",
       "      <td>0.000000</td>\n",
       "      <td>0.000000</td>\n",
       "      <td>0.000000</td>\n",
       "    </tr>\n",
       "    <tr>\n",
       "      <th>75%</th>\n",
       "      <td>24.000000</td>\n",
       "      <td>3972.250000</td>\n",
       "      <td>4.000000</td>\n",
       "      <td>4.000000</td>\n",
       "      <td>42.000000</td>\n",
       "      <td>2.000000</td>\n",
       "      <td>1.000000</td>\n",
       "      <td>2.000000</td>\n",
       "      <td>1.000000</td>\n",
       "      <td>0.000000</td>\n",
       "      <td>...</td>\n",
       "      <td>0.000000</td>\n",
       "      <td>0.000000</td>\n",
       "      <td>1.000000</td>\n",
       "      <td>1.000000</td>\n",
       "      <td>0.000000</td>\n",
       "      <td>0.0000</td>\n",
       "      <td>1.000000</td>\n",
       "      <td>0.000000</td>\n",
       "      <td>1.000000</td>\n",
       "      <td>0.000000</td>\n",
       "    </tr>\n",
       "    <tr>\n",
       "      <th>max</th>\n",
       "      <td>72.000000</td>\n",
       "      <td>18424.000000</td>\n",
       "      <td>4.000000</td>\n",
       "      <td>4.000000</td>\n",
       "      <td>75.000000</td>\n",
       "      <td>4.000000</td>\n",
       "      <td>2.000000</td>\n",
       "      <td>2.000000</td>\n",
       "      <td>1.000000</td>\n",
       "      <td>1.000000</td>\n",
       "      <td>...</td>\n",
       "      <td>1.000000</td>\n",
       "      <td>1.000000</td>\n",
       "      <td>1.000000</td>\n",
       "      <td>1.000000</td>\n",
       "      <td>1.000000</td>\n",
       "      <td>1.0000</td>\n",
       "      <td>1.000000</td>\n",
       "      <td>1.000000</td>\n",
       "      <td>1.000000</td>\n",
       "      <td>1.000000</td>\n",
       "    </tr>\n",
       "  </tbody>\n",
       "</table>\n",
       "<p>8 rows × 49 columns</p>\n",
       "</div>"
      ],
      "text/plain": [
       "          duration        amount  installment  residence time          age  \\\n",
       "count  1000.000000   1000.000000  1000.000000     1000.000000  1000.000000   \n",
       "mean     20.903000   3271.258000     2.973000        2.845000    35.546000   \n",
       "std      12.058814   2822.736876     1.118715        1.103718    11.375469   \n",
       "min       4.000000    250.000000     1.000000        1.000000    19.000000   \n",
       "25%      12.000000   1365.500000     2.000000        2.000000    27.000000   \n",
       "50%      18.000000   2319.500000     3.000000        3.000000    33.000000   \n",
       "75%      24.000000   3972.250000     4.000000        4.000000    42.000000   \n",
       "max      72.000000  18424.000000     4.000000        4.000000    75.000000   \n",
       "\n",
       "           credits      persons       repaid  checking account balance_A12  \\\n",
       "count  1000.000000  1000.000000  1000.000000                   1000.000000   \n",
       "mean      1.407000     1.155000     1.300000                      0.269000   \n",
       "std       0.577654     0.362086     0.458487                      0.443662   \n",
       "min       1.000000     1.000000     1.000000                      0.000000   \n",
       "25%       1.000000     1.000000     1.000000                      0.000000   \n",
       "50%       1.000000     1.000000     1.000000                      0.000000   \n",
       "75%       2.000000     1.000000     2.000000                      1.000000   \n",
       "max       4.000000     2.000000     2.000000                      1.000000   \n",
       "\n",
       "       checking account balance_A13      ...       property_A124  \\\n",
       "count                   1000.000000      ...         1000.000000   \n",
       "mean                       0.063000      ...            0.154000   \n",
       "std                        0.243085      ...            0.361129   \n",
       "min                        0.000000      ...            0.000000   \n",
       "25%                        0.000000      ...            0.000000   \n",
       "50%                        0.000000      ...            0.000000   \n",
       "75%                        0.000000      ...            0.000000   \n",
       "max                        1.000000      ...            1.000000   \n",
       "\n",
       "       other installments_A142  other installments_A143  housing_A152  \\\n",
       "count              1000.000000              1000.000000   1000.000000   \n",
       "mean                  0.047000                 0.814000      0.713000   \n",
       "std                   0.211745                 0.389301      0.452588   \n",
       "min                   0.000000                 0.000000      0.000000   \n",
       "25%                   0.000000                 1.000000      0.000000   \n",
       "50%                   0.000000                 1.000000      1.000000   \n",
       "75%                   0.000000                 1.000000      1.000000   \n",
       "max                   1.000000                 1.000000      1.000000   \n",
       "\n",
       "       housing_A153   job_A172     job_A173     job_A174   phone_A192  \\\n",
       "count   1000.000000  1000.0000  1000.000000  1000.000000  1000.000000   \n",
       "mean       0.108000     0.2000     0.630000     0.148000     0.404000   \n",
       "std        0.310536     0.4002     0.483046     0.355278     0.490943   \n",
       "min        0.000000     0.0000     0.000000     0.000000     0.000000   \n",
       "25%        0.000000     0.0000     0.000000     0.000000     0.000000   \n",
       "50%        0.000000     0.0000     1.000000     0.000000     0.000000   \n",
       "75%        0.000000     0.0000     1.000000     0.000000     1.000000   \n",
       "max        1.000000     1.0000     1.000000     1.000000     1.000000   \n",
       "\n",
       "       foreign_A202  \n",
       "count   1000.000000  \n",
       "mean       0.037000  \n",
       "std        0.188856  \n",
       "min        0.000000  \n",
       "25%        0.000000  \n",
       "50%        0.000000  \n",
       "75%        0.000000  \n",
       "max        1.000000  \n",
       "\n",
       "[8 rows x 49 columns]"
      ]
     },
     "execution_count": 30,
     "metadata": {},
     "output_type": "execute_result"
    }
   ],
   "source": [
    "df.describe()"
   ]
  },
  {
   "cell_type": "code",
   "execution_count": 48,
   "metadata": {
    "collapsed": true
   },
   "outputs": [],
   "source": [
    "features = df.drop(target, axis=1).select_dtypes(include=[np.number]).columns.tolist()\n",
    "binary_features = [f for f in features if f not in numeric_features]"
   ]
  },
  {
   "cell_type": "code",
   "execution_count": 49,
   "metadata": {},
   "outputs": [
    {
     "data": {
      "text/html": [
       "<div>\n",
       "<style>\n",
       "    .dataframe thead tr:only-child th {\n",
       "        text-align: right;\n",
       "    }\n",
       "\n",
       "    .dataframe thead th {\n",
       "        text-align: left;\n",
       "    }\n",
       "\n",
       "    .dataframe tbody tr th {\n",
       "        vertical-align: top;\n",
       "    }\n",
       "</style>\n",
       "<table border=\"1\" class=\"dataframe\">\n",
       "  <thead>\n",
       "    <tr style=\"text-align: right;\">\n",
       "      <th></th>\n",
       "      <th>repaid</th>\n",
       "      <th>duration</th>\n",
       "      <th>amount</th>\n",
       "      <th>installment</th>\n",
       "      <th>residence time</th>\n",
       "      <th>age</th>\n",
       "      <th>credits</th>\n",
       "      <th>persons</th>\n",
       "      <th>checking account balance_A12</th>\n",
       "      <th>checking account balance_A13</th>\n",
       "      <th>...</th>\n",
       "      <th>property_A124</th>\n",
       "      <th>other installments_A142</th>\n",
       "      <th>other installments_A143</th>\n",
       "      <th>housing_A152</th>\n",
       "      <th>housing_A153</th>\n",
       "      <th>job_A172</th>\n",
       "      <th>job_A173</th>\n",
       "      <th>job_A174</th>\n",
       "      <th>phone_A192</th>\n",
       "      <th>foreign_A202</th>\n",
       "    </tr>\n",
       "  </thead>\n",
       "  <tbody>\n",
       "    <tr>\n",
       "      <th>0</th>\n",
       "      <td>1</td>\n",
       "      <td>6</td>\n",
       "      <td>1169</td>\n",
       "      <td>4</td>\n",
       "      <td>4</td>\n",
       "      <td>67</td>\n",
       "      <td>2</td>\n",
       "      <td>1</td>\n",
       "      <td>0</td>\n",
       "      <td>0</td>\n",
       "      <td>...</td>\n",
       "      <td>0</td>\n",
       "      <td>0</td>\n",
       "      <td>1</td>\n",
       "      <td>1</td>\n",
       "      <td>0</td>\n",
       "      <td>0</td>\n",
       "      <td>1</td>\n",
       "      <td>0</td>\n",
       "      <td>1</td>\n",
       "      <td>0</td>\n",
       "    </tr>\n",
       "    <tr>\n",
       "      <th>1</th>\n",
       "      <td>2</td>\n",
       "      <td>48</td>\n",
       "      <td>5951</td>\n",
       "      <td>2</td>\n",
       "      <td>2</td>\n",
       "      <td>22</td>\n",
       "      <td>1</td>\n",
       "      <td>1</td>\n",
       "      <td>1</td>\n",
       "      <td>0</td>\n",
       "      <td>...</td>\n",
       "      <td>0</td>\n",
       "      <td>0</td>\n",
       "      <td>1</td>\n",
       "      <td>1</td>\n",
       "      <td>0</td>\n",
       "      <td>0</td>\n",
       "      <td>1</td>\n",
       "      <td>0</td>\n",
       "      <td>0</td>\n",
       "      <td>0</td>\n",
       "    </tr>\n",
       "    <tr>\n",
       "      <th>2</th>\n",
       "      <td>1</td>\n",
       "      <td>12</td>\n",
       "      <td>2096</td>\n",
       "      <td>2</td>\n",
       "      <td>3</td>\n",
       "      <td>49</td>\n",
       "      <td>1</td>\n",
       "      <td>2</td>\n",
       "      <td>0</td>\n",
       "      <td>0</td>\n",
       "      <td>...</td>\n",
       "      <td>0</td>\n",
       "      <td>0</td>\n",
       "      <td>1</td>\n",
       "      <td>1</td>\n",
       "      <td>0</td>\n",
       "      <td>1</td>\n",
       "      <td>0</td>\n",
       "      <td>0</td>\n",
       "      <td>0</td>\n",
       "      <td>0</td>\n",
       "    </tr>\n",
       "    <tr>\n",
       "      <th>3</th>\n",
       "      <td>1</td>\n",
       "      <td>42</td>\n",
       "      <td>7882</td>\n",
       "      <td>2</td>\n",
       "      <td>4</td>\n",
       "      <td>45</td>\n",
       "      <td>1</td>\n",
       "      <td>2</td>\n",
       "      <td>0</td>\n",
       "      <td>0</td>\n",
       "      <td>...</td>\n",
       "      <td>0</td>\n",
       "      <td>0</td>\n",
       "      <td>1</td>\n",
       "      <td>0</td>\n",
       "      <td>1</td>\n",
       "      <td>0</td>\n",
       "      <td>1</td>\n",
       "      <td>0</td>\n",
       "      <td>0</td>\n",
       "      <td>0</td>\n",
       "    </tr>\n",
       "    <tr>\n",
       "      <th>4</th>\n",
       "      <td>2</td>\n",
       "      <td>24</td>\n",
       "      <td>4870</td>\n",
       "      <td>3</td>\n",
       "      <td>4</td>\n",
       "      <td>53</td>\n",
       "      <td>2</td>\n",
       "      <td>2</td>\n",
       "      <td>0</td>\n",
       "      <td>0</td>\n",
       "      <td>...</td>\n",
       "      <td>1</td>\n",
       "      <td>0</td>\n",
       "      <td>1</td>\n",
       "      <td>0</td>\n",
       "      <td>1</td>\n",
       "      <td>0</td>\n",
       "      <td>1</td>\n",
       "      <td>0</td>\n",
       "      <td>0</td>\n",
       "      <td>0</td>\n",
       "    </tr>\n",
       "  </tbody>\n",
       "</table>\n",
       "<p>5 rows × 49 columns</p>\n",
       "</div>"
      ],
      "text/plain": [
       "   repaid  duration  amount  installment  residence time  age  credits  \\\n",
       "0       1         6    1169            4               4   67        2   \n",
       "1       2        48    5951            2               2   22        1   \n",
       "2       1        12    2096            2               3   49        1   \n",
       "3       1        42    7882            2               4   45        1   \n",
       "4       2        24    4870            3               4   53        2   \n",
       "\n",
       "   persons  checking account balance_A12  checking account balance_A13  \\\n",
       "0        1                             0                             0   \n",
       "1        1                             1                             0   \n",
       "2        2                             0                             0   \n",
       "3        2                             0                             0   \n",
       "4        2                             0                             0   \n",
       "\n",
       "       ...       property_A124  other installments_A142  \\\n",
       "0      ...                   0                        0   \n",
       "1      ...                   0                        0   \n",
       "2      ...                   0                        0   \n",
       "3      ...                   0                        0   \n",
       "4      ...                   1                        0   \n",
       "\n",
       "   other installments_A143  housing_A152  housing_A153  job_A172  job_A173  \\\n",
       "0                        1             1             0         0         1   \n",
       "1                        1             1             0         0         1   \n",
       "2                        1             1             0         1         0   \n",
       "3                        1             0             1         0         1   \n",
       "4                        1             0             1         0         1   \n",
       "\n",
       "   job_A174  phone_A192  foreign_A202  \n",
       "0         0           1             0  \n",
       "1         0           0             0  \n",
       "2         0           0             0  \n",
       "3         0           0             0  \n",
       "4         0           0             0  \n",
       "\n",
       "[5 rows x 49 columns]"
      ]
     },
     "execution_count": 49,
     "metadata": {},
     "output_type": "execute_result"
    }
   ],
   "source": [
    "df[target+features][:5]"
   ]
  },
  {
   "cell_type": "code",
   "execution_count": 33,
   "metadata": {
    "collapsed": true
   },
   "outputs": [],
   "source": [
    "from sklearn.model_selection import train_test_split"
   ]
  },
  {
   "cell_type": "code",
   "execution_count": 9,
   "metadata": {
    "collapsed": true
   },
   "outputs": [],
   "source": [
    "X_train, X_test, y_train, y_test = train_test_split(df[features], df[target], test_size=0.25)"
   ]
  },
  {
   "cell_type": "code",
   "execution_count": 10,
   "metadata": {},
   "outputs": [
    {
     "data": {
      "text/html": [
       "<div>\n",
       "<style>\n",
       "    .dataframe thead tr:only-child th {\n",
       "        text-align: right;\n",
       "    }\n",
       "\n",
       "    .dataframe thead th {\n",
       "        text-align: left;\n",
       "    }\n",
       "\n",
       "    .dataframe tbody tr th {\n",
       "        vertical-align: top;\n",
       "    }\n",
       "</style>\n",
       "<table border=\"1\" class=\"dataframe\">\n",
       "  <thead>\n",
       "    <tr style=\"text-align: right;\">\n",
       "      <th></th>\n",
       "      <th>duration</th>\n",
       "      <th>amount</th>\n",
       "      <th>installment</th>\n",
       "      <th>residence time</th>\n",
       "      <th>age</th>\n",
       "      <th>credits</th>\n",
       "      <th>persons</th>\n",
       "      <th>checking account balance_A12</th>\n",
       "      <th>checking account balance_A13</th>\n",
       "      <th>checking account balance_A14</th>\n",
       "      <th>...</th>\n",
       "      <th>property_A124</th>\n",
       "      <th>other installments_A142</th>\n",
       "      <th>other installments_A143</th>\n",
       "      <th>housing_A152</th>\n",
       "      <th>housing_A153</th>\n",
       "      <th>job_A172</th>\n",
       "      <th>job_A173</th>\n",
       "      <th>job_A174</th>\n",
       "      <th>phone_A192</th>\n",
       "      <th>foreign_A202</th>\n",
       "    </tr>\n",
       "  </thead>\n",
       "  <tbody>\n",
       "    <tr>\n",
       "      <th>count</th>\n",
       "      <td>750.000000</td>\n",
       "      <td>750.000000</td>\n",
       "      <td>750.000000</td>\n",
       "      <td>750.000000</td>\n",
       "      <td>750.000000</td>\n",
       "      <td>750.000000</td>\n",
       "      <td>750.000000</td>\n",
       "      <td>750.000000</td>\n",
       "      <td>750.000000</td>\n",
       "      <td>750.000000</td>\n",
       "      <td>...</td>\n",
       "      <td>750.000000</td>\n",
       "      <td>750.000000</td>\n",
       "      <td>750.000000</td>\n",
       "      <td>750.000000</td>\n",
       "      <td>750.000000</td>\n",
       "      <td>750.000000</td>\n",
       "      <td>750.000000</td>\n",
       "      <td>750.00000</td>\n",
       "      <td>750.000000</td>\n",
       "      <td>750.000000</td>\n",
       "    </tr>\n",
       "    <tr>\n",
       "      <th>mean</th>\n",
       "      <td>20.737333</td>\n",
       "      <td>3211.626667</td>\n",
       "      <td>2.974667</td>\n",
       "      <td>2.817333</td>\n",
       "      <td>35.658667</td>\n",
       "      <td>1.404000</td>\n",
       "      <td>1.166667</td>\n",
       "      <td>0.266667</td>\n",
       "      <td>0.058667</td>\n",
       "      <td>0.392000</td>\n",
       "      <td>...</td>\n",
       "      <td>0.150667</td>\n",
       "      <td>0.052000</td>\n",
       "      <td>0.805333</td>\n",
       "      <td>0.721333</td>\n",
       "      <td>0.105333</td>\n",
       "      <td>0.204000</td>\n",
       "      <td>0.622667</td>\n",
       "      <td>0.15200</td>\n",
       "      <td>0.413333</td>\n",
       "      <td>0.030667</td>\n",
       "    </tr>\n",
       "    <tr>\n",
       "      <th>std</th>\n",
       "      <td>11.961512</td>\n",
       "      <td>2657.080252</td>\n",
       "      <td>1.125336</td>\n",
       "      <td>1.109478</td>\n",
       "      <td>11.282785</td>\n",
       "      <td>0.569107</td>\n",
       "      <td>0.372927</td>\n",
       "      <td>0.442512</td>\n",
       "      <td>0.235157</td>\n",
       "      <td>0.488522</td>\n",
       "      <td>...</td>\n",
       "      <td>0.357962</td>\n",
       "      <td>0.222175</td>\n",
       "      <td>0.396208</td>\n",
       "      <td>0.448642</td>\n",
       "      <td>0.307187</td>\n",
       "      <td>0.403238</td>\n",
       "      <td>0.485043</td>\n",
       "      <td>0.35926</td>\n",
       "      <td>0.492760</td>\n",
       "      <td>0.172528</td>\n",
       "    </tr>\n",
       "    <tr>\n",
       "      <th>min</th>\n",
       "      <td>4.000000</td>\n",
       "      <td>250.000000</td>\n",
       "      <td>1.000000</td>\n",
       "      <td>1.000000</td>\n",
       "      <td>19.000000</td>\n",
       "      <td>1.000000</td>\n",
       "      <td>1.000000</td>\n",
       "      <td>0.000000</td>\n",
       "      <td>0.000000</td>\n",
       "      <td>0.000000</td>\n",
       "      <td>...</td>\n",
       "      <td>0.000000</td>\n",
       "      <td>0.000000</td>\n",
       "      <td>0.000000</td>\n",
       "      <td>0.000000</td>\n",
       "      <td>0.000000</td>\n",
       "      <td>0.000000</td>\n",
       "      <td>0.000000</td>\n",
       "      <td>0.00000</td>\n",
       "      <td>0.000000</td>\n",
       "      <td>0.000000</td>\n",
       "    </tr>\n",
       "    <tr>\n",
       "      <th>25%</th>\n",
       "      <td>12.000000</td>\n",
       "      <td>1360.250000</td>\n",
       "      <td>2.000000</td>\n",
       "      <td>2.000000</td>\n",
       "      <td>27.000000</td>\n",
       "      <td>1.000000</td>\n",
       "      <td>1.000000</td>\n",
       "      <td>0.000000</td>\n",
       "      <td>0.000000</td>\n",
       "      <td>0.000000</td>\n",
       "      <td>...</td>\n",
       "      <td>0.000000</td>\n",
       "      <td>0.000000</td>\n",
       "      <td>1.000000</td>\n",
       "      <td>0.000000</td>\n",
       "      <td>0.000000</td>\n",
       "      <td>0.000000</td>\n",
       "      <td>0.000000</td>\n",
       "      <td>0.00000</td>\n",
       "      <td>0.000000</td>\n",
       "      <td>0.000000</td>\n",
       "    </tr>\n",
       "    <tr>\n",
       "      <th>50%</th>\n",
       "      <td>18.000000</td>\n",
       "      <td>2327.000000</td>\n",
       "      <td>3.000000</td>\n",
       "      <td>3.000000</td>\n",
       "      <td>33.000000</td>\n",
       "      <td>1.000000</td>\n",
       "      <td>1.000000</td>\n",
       "      <td>0.000000</td>\n",
       "      <td>0.000000</td>\n",
       "      <td>0.000000</td>\n",
       "      <td>...</td>\n",
       "      <td>0.000000</td>\n",
       "      <td>0.000000</td>\n",
       "      <td>1.000000</td>\n",
       "      <td>1.000000</td>\n",
       "      <td>0.000000</td>\n",
       "      <td>0.000000</td>\n",
       "      <td>1.000000</td>\n",
       "      <td>0.00000</td>\n",
       "      <td>0.000000</td>\n",
       "      <td>0.000000</td>\n",
       "    </tr>\n",
       "    <tr>\n",
       "      <th>75%</th>\n",
       "      <td>24.000000</td>\n",
       "      <td>3963.500000</td>\n",
       "      <td>4.000000</td>\n",
       "      <td>4.000000</td>\n",
       "      <td>42.000000</td>\n",
       "      <td>2.000000</td>\n",
       "      <td>1.000000</td>\n",
       "      <td>1.000000</td>\n",
       "      <td>0.000000</td>\n",
       "      <td>1.000000</td>\n",
       "      <td>...</td>\n",
       "      <td>0.000000</td>\n",
       "      <td>0.000000</td>\n",
       "      <td>1.000000</td>\n",
       "      <td>1.000000</td>\n",
       "      <td>0.000000</td>\n",
       "      <td>0.000000</td>\n",
       "      <td>1.000000</td>\n",
       "      <td>0.00000</td>\n",
       "      <td>1.000000</td>\n",
       "      <td>0.000000</td>\n",
       "    </tr>\n",
       "    <tr>\n",
       "      <th>max</th>\n",
       "      <td>72.000000</td>\n",
       "      <td>18424.000000</td>\n",
       "      <td>4.000000</td>\n",
       "      <td>4.000000</td>\n",
       "      <td>75.000000</td>\n",
       "      <td>4.000000</td>\n",
       "      <td>2.000000</td>\n",
       "      <td>1.000000</td>\n",
       "      <td>1.000000</td>\n",
       "      <td>1.000000</td>\n",
       "      <td>...</td>\n",
       "      <td>1.000000</td>\n",
       "      <td>1.000000</td>\n",
       "      <td>1.000000</td>\n",
       "      <td>1.000000</td>\n",
       "      <td>1.000000</td>\n",
       "      <td>1.000000</td>\n",
       "      <td>1.000000</td>\n",
       "      <td>1.00000</td>\n",
       "      <td>1.000000</td>\n",
       "      <td>1.000000</td>\n",
       "    </tr>\n",
       "  </tbody>\n",
       "</table>\n",
       "<p>8 rows × 48 columns</p>\n",
       "</div>"
      ],
      "text/plain": [
       "         duration        amount  installment  residence time         age  \\\n",
       "count  750.000000    750.000000   750.000000      750.000000  750.000000   \n",
       "mean    20.737333   3211.626667     2.974667        2.817333   35.658667   \n",
       "std     11.961512   2657.080252     1.125336        1.109478   11.282785   \n",
       "min      4.000000    250.000000     1.000000        1.000000   19.000000   \n",
       "25%     12.000000   1360.250000     2.000000        2.000000   27.000000   \n",
       "50%     18.000000   2327.000000     3.000000        3.000000   33.000000   \n",
       "75%     24.000000   3963.500000     4.000000        4.000000   42.000000   \n",
       "max     72.000000  18424.000000     4.000000        4.000000   75.000000   \n",
       "\n",
       "          credits     persons  checking account balance_A12  \\\n",
       "count  750.000000  750.000000                    750.000000   \n",
       "mean     1.404000    1.166667                      0.266667   \n",
       "std      0.569107    0.372927                      0.442512   \n",
       "min      1.000000    1.000000                      0.000000   \n",
       "25%      1.000000    1.000000                      0.000000   \n",
       "50%      1.000000    1.000000                      0.000000   \n",
       "75%      2.000000    1.000000                      1.000000   \n",
       "max      4.000000    2.000000                      1.000000   \n",
       "\n",
       "       checking account balance_A13  checking account balance_A14  \\\n",
       "count                    750.000000                    750.000000   \n",
       "mean                       0.058667                      0.392000   \n",
       "std                        0.235157                      0.488522   \n",
       "min                        0.000000                      0.000000   \n",
       "25%                        0.000000                      0.000000   \n",
       "50%                        0.000000                      0.000000   \n",
       "75%                        0.000000                      1.000000   \n",
       "max                        1.000000                      1.000000   \n",
       "\n",
       "           ...       property_A124  other installments_A142  \\\n",
       "count      ...          750.000000               750.000000   \n",
       "mean       ...            0.150667                 0.052000   \n",
       "std        ...            0.357962                 0.222175   \n",
       "min        ...            0.000000                 0.000000   \n",
       "25%        ...            0.000000                 0.000000   \n",
       "50%        ...            0.000000                 0.000000   \n",
       "75%        ...            0.000000                 0.000000   \n",
       "max        ...            1.000000                 1.000000   \n",
       "\n",
       "       other installments_A143  housing_A152  housing_A153    job_A172  \\\n",
       "count               750.000000    750.000000    750.000000  750.000000   \n",
       "mean                  0.805333      0.721333      0.105333    0.204000   \n",
       "std                   0.396208      0.448642      0.307187    0.403238   \n",
       "min                   0.000000      0.000000      0.000000    0.000000   \n",
       "25%                   1.000000      0.000000      0.000000    0.000000   \n",
       "50%                   1.000000      1.000000      0.000000    0.000000   \n",
       "75%                   1.000000      1.000000      0.000000    0.000000   \n",
       "max                   1.000000      1.000000      1.000000    1.000000   \n",
       "\n",
       "         job_A173   job_A174  phone_A192  foreign_A202  \n",
       "count  750.000000  750.00000  750.000000    750.000000  \n",
       "mean     0.622667    0.15200    0.413333      0.030667  \n",
       "std      0.485043    0.35926    0.492760      0.172528  \n",
       "min      0.000000    0.00000    0.000000      0.000000  \n",
       "25%      0.000000    0.00000    0.000000      0.000000  \n",
       "50%      1.000000    0.00000    0.000000      0.000000  \n",
       "75%      1.000000    0.00000    1.000000      0.000000  \n",
       "max      1.000000    1.00000    1.000000      1.000000  \n",
       "\n",
       "[8 rows x 48 columns]"
      ]
     },
     "execution_count": 10,
     "metadata": {},
     "output_type": "execute_result"
    }
   ],
   "source": [
    "X_train.describe()"
   ]
  },
  {
   "cell_type": "code",
   "execution_count": 9,
   "metadata": {
    "collapsed": true
   },
   "outputs": [],
   "source": [
    "from sklearn.preprocessing import StandardScaler"
   ]
  },
  {
   "cell_type": "code",
   "execution_count": 14,
   "metadata": {
    "collapsed": true
   },
   "outputs": [],
   "source": [
    "scaler = StandardScaler()"
   ]
  },
  {
   "cell_type": "code",
   "execution_count": 15,
   "metadata": {
    "collapsed": true
   },
   "outputs": [],
   "source": [
    "X_test_unscaled = X_test\n",
    "X_train = scaler.fit_transform(X_train)\n",
    "X_test = scaler.fit_transform(X_test)\n",
    "y_train = y_train.values.ravel()\n",
    "y_test = y_test.values.ravel()"
   ]
  },
  {
   "cell_type": "code",
   "execution_count": 16,
   "metadata": {},
   "outputs": [
    {
     "data": {
      "text/plain": [
       "array([[ 0.25118621, -0.25697644,  0.93746784, ..., -0.40793071,\n",
       "        -0.80071084, -0.19324699],\n",
       "       [-1.22831372, -0.7195821 , -1.72579308, ..., -0.40793071,\n",
       "        -0.80071084, -0.19324699],\n",
       "       [-0.89953596, -0.14674757, -1.72579308, ..., -0.40793071,\n",
       "        -0.80071084, -0.19324699],\n",
       "       ...,\n",
       "       [ 2.22385279,  0.95660782, -0.83803944, ..., -0.40793071,\n",
       "        -0.80071084, -0.19324699],\n",
       "       [-1.22831372,  4.13724399, -1.72579308, ...,  2.4513967 ,\n",
       "         1.24889029, -0.19324699],\n",
       "       [-0.73514708,  0.08473305,  0.0497142 , ..., -0.40793071,\n",
       "        -0.80071084, -0.19324699]])"
      ]
     },
     "execution_count": 16,
     "metadata": {},
     "output_type": "execute_result"
    }
   ],
   "source": [
    "X_train"
   ]
  },
  {
   "cell_type": "code",
   "execution_count": 56,
   "metadata": {
    "collapsed": true
   },
   "outputs": [],
   "source": [
    "from sklearn.neural_network import MLPClassifier"
   ]
  },
  {
   "cell_type": "code",
   "execution_count": 29,
   "metadata": {
    "collapsed": true
   },
   "outputs": [],
   "source": [
    "# Solver 'lbgfs' for faster and better results on small datasets\n",
    "# We start with alpha 1e-4 (default)\n",
    "# Start with only one hidden layer, size 70 is a bit more than features ...\n",
    "classifier = MLPClassifier(solver='lbfgs', alpha=1e-5, hidden_layer_sizes=(70))"
   ]
  },
  {
   "cell_type": "code",
   "execution_count": 30,
   "metadata": {},
   "outputs": [
    {
     "data": {
      "text/plain": [
       "MLPClassifier(activation='relu', alpha=1e-05, batch_size='auto', beta_1=0.9,\n",
       "       beta_2=0.999, early_stopping=False, epsilon=1e-08,\n",
       "       hidden_layer_sizes=70, learning_rate='constant',\n",
       "       learning_rate_init=0.001, max_iter=200, momentum=0.9,\n",
       "       nesterovs_momentum=True, power_t=0.5, random_state=None,\n",
       "       shuffle=True, solver='lbfgs', tol=0.0001, validation_fraction=0.1,\n",
       "       verbose=False, warm_start=False)"
      ]
     },
     "execution_count": 30,
     "metadata": {},
     "output_type": "execute_result"
    }
   ],
   "source": [
    "classifier.fit(X_train, y_train)"
   ]
  },
  {
   "cell_type": "code",
   "execution_count": 34,
   "metadata": {
    "collapsed": true
   },
   "outputs": [],
   "source": [
    "from sklearn.metrics import accuracy_score\n",
    "from sklearn.model_selection import KFold\n",
    "from scipy import stats"
   ]
  },
  {
   "cell_type": "code",
   "execution_count": 24,
   "metadata": {},
   "outputs": [
    {
     "data": {
      "text/plain": [
       "0.736"
      ]
     },
     "execution_count": 24,
     "metadata": {},
     "output_type": "execute_result"
    }
   ],
   "source": [
    "y_pred = classifier.predict(X_test)\n",
    "accuracy_score(y_test, y_pred)"
   ]
  },
  {
   "cell_type": "code",
   "execution_count": 58,
   "metadata": {
    "collapsed": true
   },
   "outputs": [],
   "source": [
    "n_folds = 10\n",
    "alphas = np.logspace(-5, 0, 21)\n",
    "accuracies = np.zeros(len(alphas))\n",
    "deviations = np.zeros(len(alphas))\n",
    "i = 0\n",
    "for alpha in alphas:\n",
    "    accuracy = np.zeros(n_folds)\n",
    "    j = 0\n",
    "    for train, test in KFold(n_splits=n_folds).split(X_train):\n",
    "        classifier = MLPClassifier(solver='lbfgs', alpha=alpha, hidden_layer_sizes=(70))\n",
    "        classifier.fit(X_train[train], y_train[train])\n",
    "        y_pred = classifier.predict(X_train[test])\n",
    "        accuracy[j] = accuracy_score(y_train[test], y_pred)\n",
    "        j += 1\n",
    "    accuracies[i] = np.mean(accuracy)\n",
    "    deviations[i] = stats.sem(accuracy)\n",
    "    i += 1"
   ]
  },
  {
   "cell_type": "code",
   "execution_count": 35,
   "metadata": {
    "collapsed": true
   },
   "outputs": [],
   "source": [
    "import matplotlib.pyplot as plt\n",
    "import seaborn as sb\n",
    "sb.set()\n",
    "% matplotlib inline"
   ]
  },
  {
   "cell_type": "code",
   "execution_count": 60,
   "metadata": {},
   "outputs": [
    {
     "data": {
      "image/png": "[encoded data removed]",
      "text/plain": [
       "<matplotlib.figure.Figure at 0x1f55ff377f0>"
      ]
     },
     "metadata": {},
     "output_type": "display_data"
    }
   ],
   "source": [
    "plt.errorbar(alphas, accuracies, yerr=deviations, ecolor='r')\n",
    "plt.xscale('log')"
   ]
  },
  {
   "cell_type": "code",
   "execution_count": 64,
   "metadata": {
    "collapsed": true
   },
   "outputs": [],
   "source": [
    "# Here we could perhaps have made some clever claculation to \n",
    "# find the best alpha using 1e-4 as default and the deviations \n",
    "# to select the closest to default among the somewhat significant\n",
    "# or we could just go default, or we could just use the best\n",
    "# even though which one is best changes for every run.\n",
    "nn_alpha = alphas[np.argmax(accuracies)]"
   ]
  },
  {
   "cell_type": "markdown",
   "metadata": {},
   "source": [
    "So alpha setting doesn't seem to matter much here, perhaps layer size is more important"
   ]
  },
  {
   "cell_type": "markdown",
   "metadata": {},
   "source": [
    "Out of curiousity, we might try to see if we get more conclusive results if we judge the alphas by utility rather than accuracy"
   ]
  },
  {
   "cell_type": "code",
   "execution_count": 19,
   "metadata": {
    "collapsed": true
   },
   "outputs": [],
   "source": [
    "def expected_utility(loan, rate, time, prob):\n",
    "    return loan * (prob * (1+rate)**time - 1)\n",
    "def utility(loan, rate, time, outcome):\n",
    "    return loan * (-1 if outcome==2 else (1+rate)**time - 1)"
   ]
  },
  {
   "cell_type": "code",
   "execution_count": 40,
   "metadata": {
    "collapsed": true
   },
   "outputs": [],
   "source": [
    "n_folds = 10\n",
    "rate = 0.005\n",
    "alphas = np.logspace(-5, -3, 11)\n",
    "accuracies = np.zeros(len(alphas))\n",
    "deviations = np.zeros(len(alphas))\n",
    "i = 0\n",
    "for alpha in alphas:\n",
    "    util = np.zeros(n_folds)\n",
    "    j = 0\n",
    "    for train, test in KFold(n_splits=n_folds).split(X_train):\n",
    "        classifier = MLPClassifier(solver='lbfgs', alpha=alpha, hidden_layer_sizes=(70))\n",
    "        classifier.fit(X_train[train], y_train[train])\n",
    "        for k in range(len(y_train[test])):\n",
    "            prob = classifier.predict_proba(X_train[test[k]].reshape(1,-1))[0,0]\n",
    "            loan, time = X_test_unscaled[k:k+1][['amount', 'duration']].values.ravel()\n",
    "            util[j] += utility(loan, rate, time, y_train[test[k]]) \\\n",
    "                        if expected_utility(loan, rate, time, prob) > 0 \\\n",
    "                        else 0 \n",
    "                                         \n",
    "        j += 1\n",
    "    accuracies[i] = np.mean(util)\n",
    "    deviations[i] = stats.sem(util)\n",
    "    i += 1"
   ]
  },
  {
   "cell_type": "code",
   "execution_count": 43,
   "metadata": {},
   "outputs": [
    {
     "data": {
      "image/png": "[encoded data removed]",
      "text/plain": [
       "<matplotlib.figure.Figure at 0x1ca6351f4e0>"
      ]
     },
     "metadata": {},
     "output_type": "display_data"
    }
   ],
   "source": [
    "plt.errorbar(alphas, accuracies, yerr=deviations, ecolor='r')\n",
    "plt.xscale('log')"
   ]
  },
  {
   "cell_type": "markdown",
   "metadata": {},
   "source": [
    "Again no significant difference between the alphas"
   ]
  },
  {
   "cell_type": "markdown",
   "metadata": {},
   "source": [
    "Now for layer sizes"
   ]
  },
  {
   "cell_type": "code",
   "execution_count": 65,
   "metadata": {
    "collapsed": true
   },
   "outputs": [],
   "source": [
    "n_folds = 10\n",
    "hidden_components = np.arange(10, 230, 10)\n",
    "accuracies = np.zeros(len(hidden_components))\n",
    "deviations = np.zeros(len(hidden_components))\n",
    "i = 0\n",
    "for components in hidden_components:\n",
    "    accuracy = np.zeros(n_folds)\n",
    "    j = 0\n",
    "    for train, test in KFold(n_splits=n_folds).split(X_train):\n",
    "        classifier = MLPClassifier(solver='lbfgs', alpha=1e-4, hidden_layer_sizes=(components))\n",
    "        classifier.fit(X_train[train], y_train[train])\n",
    "        y_pred = classifier.predict(X_train[test])\n",
    "        accuracy[j] = accuracy_score(y_train[test], y_pred)\n",
    "        j += 1\n",
    "    accuracies[i] = np.mean(accuracy)\n",
    "    deviations[i] = stats.sem(accuracy)\n",
    "    i += 1"
   ]
  },
  {
   "cell_type": "code",
   "execution_count": 66,
   "metadata": {},
   "outputs": [
    {
     "data": {
      "text/plain": [
       "<Container object of 3 artists>"
      ]
     },
     "execution_count": 66,
     "metadata": {},
     "output_type": "execute_result"
    },
    {
     "data": {
      "image/png": "[encoded data removed]",
      "text/plain": [
       "<matplotlib.figure.Figure at 0x1a041075128>"
      ]
     },
     "metadata": {},
     "output_type": "display_data"
    }
   ],
   "source": [
    "plt.errorbar(hidden_components, accuracies, yerr=deviations, ecolor='r')"
   ]
  },
  {
   "cell_type": "markdown",
   "metadata": {},
   "source": [
    "So number of components also make little difference above, say 40 if even then. Perhaps try some combinations of multiple layers of different sizes, computationally it seems prohibitive to try all combinations of multiple layers of different sizes."
   ]
  },
  {
   "cell_type": "code",
   "execution_count": 67,
   "metadata": {
    "collapsed": true
   },
   "outputs": [],
   "source": [
    "# Some sort of attempt to order the combinations in increasing complexity\n",
    "n_folds = 10\n",
    "hidden_components = [(50), (70), (100), \\\n",
    "                     (50, 10), (70, 10), (100, 10), \\\n",
    "                     (50, 30), (70, 30), (100, 30), \\\n",
    "                     (50, 50), (70, 50), (100, 50), \\\n",
    "                     (50, 70), (70, 70), (100, 70), \\\n",
    "                     (50, 30, 10), (70, 30, 10), (100, 30, 10), \\\n",
    "                     (16, 4, 2)]\n",
    "accuracies = np.zeros(len(hidden_components))\n",
    "deviations = np.zeros(len(hidden_components))\n",
    "i = 0\n",
    "for components in hidden_components:\n",
    "    accuracy = np.zeros(n_folds)\n",
    "    j = 0\n",
    "    for train, test in KFold(n_splits=n_folds).split(X_train):\n",
    "        classifier = MLPClassifier(solver='lbfgs', alpha=nn_alpha, hidden_layer_sizes=components)\n",
    "        classifier.fit(X_train[train], y_train[train])\n",
    "        y_pred = classifier.predict(X_train[test])\n",
    "        accuracy[j] = accuracy_score(y_train[test], y_pred)\n",
    "        j += 1\n",
    "    accuracies[i] = np.mean(accuracy)\n",
    "    deviations[i] = stats.sem(accuracy)\n",
    "    i += 1"
   ]
  },
  {
   "cell_type": "code",
   "execution_count": 68,
   "metadata": {},
   "outputs": [
    {
     "data": {
      "text/plain": [
       "<Container object of 3 artists>"
      ]
     },
     "execution_count": 68,
     "metadata": {},
     "output_type": "execute_result"
    },
    {
     "data": {
      "image/png": "[encoded data removed]",
      "text/plain": [
       "<matplotlib.figure.Figure at 0x1a04143d588>"
      ]
     },
     "metadata": {},
     "output_type": "display_data"
    }
   ],
   "source": [
    "plt.errorbar(range(len(hidden_components)), accuracies, yerr=deviations, ecolor='r')"
   ]
  },
  {
   "cell_type": "code",
   "execution_count": 69,
   "metadata": {
    "collapsed": true
   },
   "outputs": [],
   "source": [
    "# Here we have to see if we should pick from the range above, \n",
    "# or from this list of combinations, or we could choose from\n",
    "# among all those options. Once again we could probably create \n",
    "# some algorithm to choose based on the deviations. Again it \n",
    "# looks quite random which one performs best, so we might as \n",
    "# well just go argmax again. Another simple option might have \n",
    "# been argmax(accuracies-deviations)\n",
    "nn_hidden_components = hidden_components[np.argmax(accuracies)]"
   ]
  },
  {
   "cell_type": "markdown",
   "metadata": {},
   "source": [
    "Once again it's hard to point out any specific combination of layers that seems better than the others."
   ]
  },
  {
   "cell_type": "code",
   "execution_count": 20,
   "metadata": {
    "collapsed": true
   },
   "outputs": [],
   "source": [
    "from sklearn.linear_model import LogisticRegression\n",
    "from sklearn.decomposition import PCA\n",
    "from sklearn.utils import resample"
   ]
  },
  {
   "cell_type": "code",
   "execution_count": 71,
   "metadata": {
    "collapsed": true
   },
   "outputs": [],
   "source": [
    "n_features = len(features)"
   ]
  },
  {
   "cell_type": "code",
   "execution_count": 72,
   "metadata": {
    "collapsed": true
   },
   "outputs": [],
   "source": [
    "n_bootstraps = 100\n",
    "n_folds = 10\n",
    "accuracies = np.zeros(n_features-1)\n",
    "deviations = np.zeros(n_features-1)\n",
    "pca = PCA()\n",
    "X_pca = pca.fit_transform(X_train)\n",
    "for components in range(1, n_features):\n",
    "    accuracy = np.zeros(n_bootstraps * n_folds)\n",
    "    i = 0\n",
    "    for train, test in KFold(n_splits=n_folds).split(X_pca):\n",
    "        for B in range(n_bootstraps):\n",
    "            Xtr, ytr = resample(X_pca[train, :components], y_train[train])\n",
    "            Xte, yte = resample(X_pca[test, :components], y_train[test])\n",
    "            y_pred = LogisticRegression().fit(Xtr, ytr).predict(Xte)\n",
    "            accuracy[i] = accuracy_score(y_pred, yte)\n",
    "            i += 1\n",
    "    accuracies[components-1] = np.mean(accuracy)\n",
    "    deviations[components-1] = stats.sem(accuracy)"
   ]
  },
  {
   "cell_type": "code",
   "execution_count": 73,
   "metadata": {},
   "outputs": [
    {
     "data": {
      "text/plain": [
       "<Container object of 3 artists>"
      ]
     },
     "execution_count": 73,
     "metadata": {},
     "output_type": "execute_result"
    },
    {
     "data": {
      "image/png": "[encoded data removed]",
      "text/plain": [
       "<matplotlib.figure.Figure at 0x1a040efcb00>"
      ]
     },
     "metadata": {},
     "output_type": "display_data"
    }
   ],
   "source": [
    "plt.errorbar(np.arange(1,n_features), accuracies, yerr=deviations, ecolor='r')"
   ]
  },
  {
   "cell_type": "markdown",
   "metadata": {},
   "source": [
    "It looks like we get better predictions the more components we add, so we might as well drop the PCR and use all"
   ]
  },
  {
   "cell_type": "code",
   "execution_count": 74,
   "metadata": {},
   "outputs": [
    {
     "data": {
      "text/plain": [
       "[<matplotlib.lines.Line2D at 0x1a03fec57f0>,\n",
       " <matplotlib.lines.Line2D at 0x1a03fec59e8>]"
      ]
     },
     "execution_count": 74,
     "metadata": {},
     "output_type": "execute_result"
    },
    {
     "data": {
      "image/png": "[encoded data removed]",
      "text/plain": [
       "<matplotlib.figure.Figure at 0x1a0411fd5c0>"
      ]
     },
     "metadata": {},
     "output_type": "display_data"
    }
   ],
   "source": [
    "i = 0\n",
    "accuracies = np.zeros(10)\n",
    "for train, test in KFold(n_splits=10).split(X_train):\n",
    "    y_pred = LogisticRegression().fit(X_train[train], y_train[train]).predict(X_train[test])\n",
    "    accuracies[i] = accuracy_score(y_pred, y_train[test])\n",
    "    i += 1\n",
    "plt.plot(np.arange(1,11), accuracies, np.arange(1,11), [np.average(accuracies) for _ in range(1,11)])"
   ]
  },
  {
   "cell_type": "code",
   "execution_count": 75,
   "metadata": {
    "collapsed": true
   },
   "outputs": [],
   "source": [
    "from sklearn.neighbors import KNeighborsClassifier"
   ]
  },
  {
   "cell_type": "code",
   "execution_count": 77,
   "metadata": {
    "collapsed": true
   },
   "outputs": [],
   "source": [
    "n_folds = 10\n",
    "ks = np.arange(1, int((n_folds-1)*len(X_train)/n_folds))\n",
    "accuracies = np.zeros(len(ks))\n",
    "deviations = np.zeros(len(ks))\n",
    "for k in ks:\n",
    "    accuracy = np.zeros(n_folds)\n",
    "    i = 0\n",
    "    for train, test in KFold(n_splits=n_folds).split(X_train):\n",
    "        y_pred = KNeighborsClassifier(n_neighbors=k).fit(X_train[train], y_train[train]).predict(X_train[test])\n",
    "        accuracy[i] = accuracy_score(y_pred, y_train[test])\n",
    "        i += 1\n",
    "    accuracies[k-1] = np.mean(accuracy)\n",
    "    deviations[k-1] = stats.sem(accuracy)"
   ]
  },
  {
   "cell_type": "code",
   "execution_count": 78,
   "metadata": {},
   "outputs": [
    {
     "data": {
      "text/plain": [
       "<Container object of 3 artists>"
      ]
     },
     "execution_count": 78,
     "metadata": {},
     "output_type": "execute_result"
    },
    {
     "data": {
      "image/png": "[encoded data removed]",
      "text/plain": [
       "<matplotlib.figure.Figure at 0x1a03fe8b898>"
      ]
     },
     "metadata": {},
     "output_type": "display_data"
    }
   ],
   "source": [
    "plt.errorbar(ks, accuracies, yerr=deviations, ecolor='r')"
   ]
  },
  {
   "cell_type": "code",
   "execution_count": 79,
   "metadata": {
    "collapsed": true
   },
   "outputs": [],
   "source": [
    "n_folds = 10\n",
    "# Ks from 1 to the maximum number of point in the cv training set\n",
    "# This could be a huge number, perhaps we should limit it somehow?\n",
    "# ks = np.arange(1, int(((n_folds-1)/n_folds)*len(X_train)))\n",
    "# Perhaps it's better to choose differently. Perhaps not every k\n",
    "# in the interval, and perhaps we don't need the upper half?\n",
    "n_tr_points = int(((n_folds-1)/n_folds)*len(X_train))\n",
    "# Start at 1 (10**0), end at n_tr_point/2 (10**np.log10(int(n_tr_point/2)))\n",
    "ks = np.logspace(0, np.log10(int(n_tr_points/2)), 50)\n",
    "accuracies = np.zeros(len(ks))\n",
    "deviations = np.zeros(len(ks))\n",
    "n_bootstraps = 100\n",
    "j = 0\n",
    "for k in ks:\n",
    "    k = int(k)\n",
    "    accuracy = np.zeros(n_folds*n_bootstraps)\n",
    "    i = 0\n",
    "    for train, test in KFold(n_splits=n_folds).split(X_train):\n",
    "        for B in range(n_bootstraps):\n",
    "            Xtr, ytr = resample(X_train[train], y_train[train])\n",
    "            Xte, yte = resample(X_train[test], y_train[test])\n",
    "            y_pred = KNeighborsClassifier(n_neighbors=k).fit(Xtr, ytr).predict(Xte)\n",
    "            accuracy[i] = accuracy_score(y_pred, yte)\n",
    "            i += 1\n",
    "    accuracies[j] = np.mean(accuracy)\n",
    "    deviations[j] = stats.sem(accuracy)\n",
    "    j += 1"
   ]
  },
  {
   "cell_type": "code",
   "execution_count": 80,
   "metadata": {},
   "outputs": [
    {
     "data": {
      "image/png": "[encoded data removed]",
      "text/plain": [
       "<matplotlib.figure.Figure at 0x1a040ef4978>"
      ]
     },
     "metadata": {},
     "output_type": "display_data"
    }
   ],
   "source": [
    "plt.errorbar(ks, accuracies, yerr=deviations, ecolor='r')\n",
    "plt.xscale('log')"
   ]
  },
  {
   "cell_type": "code",
   "execution_count": 94,
   "metadata": {
    "collapsed": true
   },
   "outputs": [],
   "source": [
    "# Once again we have many candidates for best k, so which one do we pick?\n",
    "# This time, lets go\n",
    "knn_k = int(ks[np.argmax(accuracies-deviations)])\n",
    "# Though I suppose an even better option, here and for the NN\n",
    "# might be to create multiple approximately evenly good models\n",
    "# and use all of them"
   ]
  },
  {
   "cell_type": "markdown",
   "metadata": {},
   "source": [
    "Could we perhaps improve our kNN by reducing the dimensionality?"
   ]
  },
  {
   "cell_type": "code",
   "execution_count": 142,
   "metadata": {
    "collapsed": true
   },
   "outputs": [],
   "source": [
    "n_bootstraps = 100\n",
    "n_folds = 10\n",
    "accuracies = np.zeros(n_features-1)\n",
    "deviations = np.zeros(n_features-1)\n",
    "pca = PCA()\n",
    "X_pca = pca.fit_transform(X_train)\n",
    "# We already have this: X_pca = pca.fit_transform(X_train)\n",
    "for components in range(1, n_features):\n",
    "    accuracy = np.zeros(n_bootstraps * n_folds)\n",
    "    i = 0\n",
    "    for train, test in KFold(n_splits=n_folds).split(X_pca):\n",
    "        for B in range(n_bootstraps):\n",
    "            Xtr, ytr = resample(X_pca[train, :components], y_train[train])\n",
    "            Xte, yte = resample(X_pca[test, :components], y_train[test])\n",
    "            y_pred = KNeighborsClassifier(n_neighbors=knn_k).fit(Xtr, ytr).predict(Xte)\n",
    "            accuracy[i] = accuracy_score(y_pred, yte)\n",
    "            i += 1\n",
    "    accuracies[components-1] = np.mean(accuracy)\n",
    "    deviations[components-1] = stats.sem(accuracy)"
   ]
  },
  {
   "cell_type": "code",
   "execution_count": 143,
   "metadata": {},
   "outputs": [
    {
     "data": {
      "text/plain": [
       "<Container object of 3 artists>"
      ]
     },
     "execution_count": 143,
     "metadata": {},
     "output_type": "execute_result"
    },
    {
     "data": {
      "image/png": "[encoded data removed]",
      "text/plain": [
       "<matplotlib.figure.Figure at 0x1a042ed34a8>"
      ]
     },
     "metadata": {},
     "output_type": "display_data"
    }
   ],
   "source": [
    "plt.errorbar(np.arange(1,n_features), accuracies, yerr=deviations, ecolor='r')"
   ]
  },
  {
   "cell_type": "markdown",
   "metadata": {},
   "source": [
    "It seems that here also, as with Logistic regression, we might as well use all the components"
   ]
  },
  {
   "cell_type": "markdown",
   "metadata": {},
   "source": [
    "Let's now check the accuracy of always granting"
   ]
  },
  {
   "cell_type": "code",
   "execution_count": 84,
   "metadata": {},
   "outputs": [
    {
     "data": {
      "text/plain": [
       "0.7013333333333334"
      ]
     },
     "execution_count": 84,
     "metadata": {},
     "output_type": "execute_result"
    }
   ],
   "source": [
    "accuracy_score(np.ones(len(y_train)), y_train)"
   ]
  },
  {
   "cell_type": "markdown",
   "metadata": {},
   "source": [
    "OK, so now we have three methods that seem fairly equally good at prediction, but with accuracies around 0.73 they arn't very much better than the base at 0.70, so where do we go from here? What happens if we try to use each of the three and classify by majority vote? Will that improve accuracy? Shoudl we somehow weigh the methods? Other things to try, what if we rewind and instead of creating dummies for all categorical features we give ordered values to the features with ordered categories?"
   ]
  },
  {
   "cell_type": "markdown",
   "metadata": {},
   "source": [
    "Try some kind of likelihood calculation based on get_proba() from all methods and then use that to rate the methods to weigh them, then compare the performance of each on the test set vs the combination of the three."
   ]
  },
  {
   "cell_type": "markdown",
   "metadata": {},
   "source": [
    "Make sure to, during fitting, store the feature transformations so that we can use them to transform new data to be predicted"
   ]
  },
  {
   "cell_type": "code",
   "execution_count": 95,
   "metadata": {
    "collapsed": true
   },
   "outputs": [],
   "source": [
    "# Should we create multiple models of each kind by \n",
    "# bootstrapping the training set, or just create one of each\n",
    "# using the whole training set? Lets go with the simple approach\n",
    "classifiers = [MLPClassifier(solver='lbfgs', alpha=nn_alpha, hidden_layer_sizes=nn_hidden_components).fit(X_train, y_train), \\\n",
    "               LogisticRegression().fit(X_train, y_train), \\\n",
    "               KNeighborsClassifier(n_neighbors=knn_k).fit(X_train, y_train)]"
   ]
  },
  {
   "cell_type": "code",
   "execution_count": 97,
   "metadata": {
    "collapsed": true
   },
   "outputs": [],
   "source": [
    "probabilities = np.zeros((len(X_test), len(classifiers)), dtype=np.float64)\n",
    "for i in range(len(X_test)):\n",
    "    for j in range(len(classifiers)):\n",
    "        probabilities[i, j] = classifiers[j].predict_proba(X_test[i].reshape(1, -1))[:,y_test[i]-1]\n",
    "# We do y_test-1 to get outcomes 1, 2 to 0, 1 to correspond to indices"
   ]
  },
  {
   "cell_type": "code",
   "execution_count": 98,
   "metadata": {},
   "outputs": [
    {
     "data": {
      "text/plain": [
       "[<matplotlib.lines.Line2D at 0x1a040106240>,\n",
       " <matplotlib.lines.Line2D at 0x1a040106470>,\n",
       " <matplotlib.lines.Line2D at 0x1a0401066a0>]"
      ]
     },
     "execution_count": 98,
     "metadata": {},
     "output_type": "execute_result"
    },
    {
     "data": {
      "image/png": "[encoded data removed]",
      "text/plain": [
       "<matplotlib.figure.Figure at 0x1a0411c6160>"
      ]
     },
     "metadata": {},
     "output_type": "display_data"
    }
   ],
   "source": [
    "plt.plot(range(len(X_test)), probabilities)"
   ]
  },
  {
   "cell_type": "code",
   "execution_count": 99,
   "metadata": {
    "collapsed": true
   },
   "outputs": [],
   "source": [
    "n_ways_of_weighing = 3\n",
    "weights = np.zeros((n_ways_of_weighing, len(classifiers)))"
   ]
  },
  {
   "cell_type": "code",
   "execution_count": 100,
   "metadata": {
    "collapsed": true
   },
   "outputs": [],
   "source": [
    "# We could have started with np.ones(len(classifiers))/len(classifiers)\n",
    "# but this way is even more uninformed\n",
    "method_weights = np.array([probabilities[0, j] for j in range(len(classifiers))])\n",
    "method_weights /= np.sum(method_weights)\n",
    "for i in range(1, len(X_test)):\n",
    "    method_weights *= probabilities[i, :]\n",
    "    method_weights /= np.sum(method_weights)"
   ]
  },
  {
   "cell_type": "code",
   "execution_count": 101,
   "metadata": {},
   "outputs": [
    {
     "data": {
      "text/plain": [
       "array([0.00000000e+00, 9.99221303e-01, 7.78696814e-04])"
      ]
     },
     "execution_count": 101,
     "metadata": {},
     "output_type": "execute_result"
    }
   ],
   "source": [
    "weights[0, :] = method_weights\n",
    "method_weights"
   ]
  },
  {
   "cell_type": "markdown",
   "metadata": {},
   "source": [
    "Well, from this it looks like the logistic regression is the only one worth anything and we might just go ahead with only that one, but perhaps it's better to keep them all around in case the others perform better on different datasets or runs."
   ]
  },
  {
   "cell_type": "markdown",
   "metadata": {},
   "source": [
    "But what if we try weighing them on utility instead?"
   ]
  },
  {
   "cell_type": "code",
   "execution_count": 102,
   "metadata": {
    "collapsed": true
   },
   "outputs": [],
   "source": [
    "rate = 0.005\n",
    "max_loan = X_test_unscaled['amount'].max()\n",
    "def utility(loan, rate, time, outcome):\n",
    "    return loan * (-1 if outcome==2 else (1+rate)**time - 1)"
   ]
  },
  {
   "cell_type": "code",
   "execution_count": 103,
   "metadata": {
    "collapsed": true
   },
   "outputs": [],
   "source": [
    "def expected_utility(loan, rate, time, prob):\n",
    "    return loan * (prob * (1+rate)**time - 1)"
   ]
  },
  {
   "cell_type": "code",
   "execution_count": 104,
   "metadata": {
    "collapsed": true
   },
   "outputs": [],
   "source": [
    "method_weights = np.ones(len(classifiers))/len(classifiers)\n",
    "for i in range(len(X_test)):\n",
    "    loan, time = X_test_unscaled[i:i+1][['amount', 'duration']].values.ravel()\n",
    "    loan /= max_loan\n",
    "    prob = probabilities[i, :] if y_test[i] == 1 else 1-probabilities[i, :]\n",
    "    # Utility with numbers above will range between -1 and ca 0.43, and we\n",
    "    # can't use negative numbers (or especially the quite likely utility 0)\n",
    "    # So we have to transform it somehow before use. Adding 2 to make it \n",
    "    # range from 1 to ca 2.43 seems reasonable\n",
    "    method_weights *= 2 + np.array([utility(loan, rate, time, y_test[i]) if eu > 0 else 0 for eu in expected_utility(loan, rate, time, prob)])\n",
    "    method_weights /= np.sum(method_weights)"
   ]
  },
  {
   "cell_type": "code",
   "execution_count": 105,
   "metadata": {},
   "outputs": [
    {
     "data": {
      "text/plain": [
       "array([0.00442713, 0.46454614, 0.53102673])"
      ]
     },
     "execution_count": 105,
     "metadata": {},
     "output_type": "execute_result"
    }
   ],
   "source": [
    "weights[1, :] = method_weights\n",
    "method_weights"
   ]
  },
  {
   "cell_type": "markdown",
   "metadata": {},
   "source": [
    "Suddenly things are looking different. Out of curiousity, what would have happened with different utility transformations, I wonder."
   ]
  },
  {
   "cell_type": "code",
   "execution_count": 106,
   "metadata": {},
   "outputs": [
    {
     "data": {
      "text/plain": [
       "[<matplotlib.lines.Line2D at 0x1a0401a8be0>,\n",
       " <matplotlib.lines.Line2D at 0x1a0401a8e10>,\n",
       " <matplotlib.lines.Line2D at 0x1a0401af080>]"
      ]
     },
     "execution_count": 106,
     "metadata": {},
     "output_type": "execute_result"
    },
    {
     "data": {
      "image/png": "[encoded data removed]",
      "text/plain": [
       "<matplotlib.figure.Figure at 0x1a041353208>"
      ]
     },
     "metadata": {},
     "output_type": "display_data"
    }
   ],
   "source": [
    "xvals = np.arange(10)\n",
    "yvals = np.zeros((len(xvals), len(classifiers)))\n",
    "for trans in xvals:\n",
    "    method_weights = np.ones(len(classifiers))/len(classifiers)\n",
    "    for i in range(len(X_test)):\n",
    "        loan, time = X_test_unscaled[i:i+1][['amount', 'duration']].values.ravel()\n",
    "        loan /= max_loan\n",
    "        prob = probabilities[i, :] if y_test[i] == 1 else 1-probabilities[i, :]\n",
    "        # Utility with numbers above will range between -5 and ca 4.1, and we\n",
    "        # can't use negative numbers (or especially the quite likely utility 0)\n",
    "        # So we have to transform it somehow before use. Adding 10 to make it \n",
    "        # range from 5 to ca 14.1 seems reasonable\n",
    "        method_weights *= (1+trans) + np.array([utility(loan, rate, time, y_test[i]) if eu > 0 else 0 for eu in expected_utility(loan, rate, time, prob)])\n",
    "        method_weights /= np.sum(method_weights)\n",
    "    yvals[trans] = method_weights\n",
    "plt.plot(1+xvals, yvals)"
   ]
  },
  {
   "cell_type": "markdown",
   "metadata": {},
   "source": [
    "As expected increasing the transformations evens out the weighing since higher transformation value makes the difference between correct and incorrect classification less, but it's evening out slower than I had expected"
   ]
  },
  {
   "cell_type": "markdown",
   "metadata": {},
   "source": [
    "Perhaps it's also possible to weigh them based on total utility over the test set?"
   ]
  },
  {
   "cell_type": "code",
   "execution_count": 107,
   "metadata": {},
   "outputs": [
    {
     "name": "stdout",
     "output_type": "stream",
     "text": [
      "[-114901.54409832    2234.5352978     4272.59868684]\n"
     ]
    }
   ],
   "source": [
    "method_utility = np.zeros(len(classifiers))\n",
    "for i in range(len(X_test)):\n",
    "    loan, time = X_test_unscaled[i:i+1][['amount', 'duration']].values.ravel()\n",
    "    prob = probabilities[i, :] if y_test[i] == 1 else 1-probabilities[i, :]\n",
    "    method_utility += np.array([utility(loan, rate, time, y_test[i]) if eu > 0 else 0 for eu in expected_utility(loan, rate, time, prob)])\n",
    "\n",
    "# Adjust away possible negative numbers (if you lose money, you get 0 weight)\n",
    "method_weight = method_utility - min(0, np.min(method_utility))\n",
    "method_weight = method_weight / np.sum(method_weight)\n",
    "print(method_utility)"
   ]
  },
  {
   "cell_type": "code",
   "execution_count": 108,
   "metadata": {},
   "outputs": [
    {
     "data": {
      "text/plain": [
       "array([0.        , 0.49568774, 0.50431226])"
      ]
     },
     "execution_count": 108,
     "metadata": {},
     "output_type": "execute_result"
    }
   ],
   "source": [
    "weights[2, :] = method_weight\n",
    "method_weight"
   ]
  },
  {
   "cell_type": "markdown",
   "metadata": {},
   "source": [
    "Now check for each of the three ways of weighing the methods, which gives the best utility over the test set. Perhaps we are now overusing the test set and that we ought to have had another?"
   ]
  },
  {
   "cell_type": "code",
   "execution_count": 109,
   "metadata": {},
   "outputs": [
    {
     "data": {
      "text/plain": [
       "array([[0.00000000e+00, 4.42712950e-03, 0.00000000e+00],\n",
       "       [9.99221303e-01, 4.64546141e-01, 4.95687738e-01],\n",
       "       [7.78696814e-04, 5.31026729e-01, 5.04312262e-01]])"
      ]
     },
     "execution_count": 109,
     "metadata": {},
     "output_type": "execute_result"
    }
   ],
   "source": [
    "weights.T"
   ]
  },
  {
   "cell_type": "code",
   "execution_count": 110,
   "metadata": {},
   "outputs": [
    {
     "data": {
      "text/plain": [
       "array([1.        , 0.41961795, 0.4516129 ])"
      ]
     },
     "execution_count": 110,
     "metadata": {},
     "output_type": "execute_result"
    }
   ],
   "source": [
    "probabilities[0, :]"
   ]
  },
  {
   "cell_type": "code",
   "execution_count": 111,
   "metadata": {},
   "outputs": [
    {
     "data": {
      "text/plain": [
       "array([0.41964286, 0.43917755, 0.4357534 ])"
      ]
     },
     "execution_count": 111,
     "metadata": {},
     "output_type": "execute_result"
    }
   ],
   "source": [
    "probabilities[0, :] @ weights.T"
   ]
  },
  {
   "cell_type": "code",
   "execution_count": 112,
   "metadata": {},
   "outputs": [
    {
     "data": {
      "text/plain": [
       "array([2234.5352978 , 8626.33630585, 8626.33630585])"
      ]
     },
     "execution_count": 112,
     "metadata": {},
     "output_type": "execute_result"
    }
   ],
   "source": [
    "weighing_utility = np.zeros(n_ways_of_weighing)\n",
    "for i in range(len(X_test)):\n",
    "    loan, time = X_test_unscaled[i:i+1][['amount', 'duration']].values.ravel()\n",
    "    prob = probabilities[i, :] if y_test[i] == 1 else 1-probabilities[i, :]\n",
    "    prob = prob @ weights.T\n",
    "    weighing_utility += np.array([utility(loan, rate, time, y_test[i]) if eu > 0 else 0 for eu in expected_utility(loan, rate, time, prob)])\n",
    "\n",
    "weighing_utility"
   ]
  },
  {
   "cell_type": "markdown",
   "metadata": {},
   "source": [
    "OK, not so surprising that the weighing method that maximizes utility over the test set gets the highest utility over the test set, I suppose, so let's do it better and fit weights and then test using XV over the test set. And lets also add the stupid weighing, equal weight for all models as well as variants for the second with transformations of 1, 3 and 4. Finally we'll add three weighings that basically are one for each of the methods"
   ]
  },
  {
   "cell_type": "code",
   "execution_count": 121,
   "metadata": {
    "collapsed": true
   },
   "outputs": [],
   "source": [
    "n_folds = 5\n",
    "n_ways_of_weighing = 10\n",
    "weights = np.zeros((n_ways_of_weighing, len(classifiers)))\n",
    "weighing_utility = np.zeros((n_folds, n_ways_of_weighing))\n",
    "n = 0\n",
    "for train, test in KFold(n_splits=n_folds).split(X_test):\n",
    "    # Fit weights\n",
    "    weights[0, :] = np.ones(len(classifiers))/len(classifiers)\n",
    "    weights[1, :] = np.ones(len(classifiers))/len(classifiers)\n",
    "    weights[2, :] = np.ones(len(classifiers))/len(classifiers)\n",
    "    weights[3, :] = np.ones(len(classifiers))/len(classifiers)\n",
    "    weights[4, :] = np.ones(len(classifiers))/len(classifiers)\n",
    "    weights[5, :] = np.zeros(len(classifiers))\n",
    "    weights[6, :] = np.ones(len(classifiers))/len(classifiers)\n",
    "    weights[7, :] = np.array([1, 0, 0])\n",
    "    weights[8, :] = np.array([0, 1, 0])\n",
    "    weights[9, :] = np.array([0, 0, 1])\n",
    "    for i in train:\n",
    "        loan, time = X_test_unscaled[i:i+1][['amount', 'duration']].values.ravel()\n",
    "        loan /= max_loan\n",
    "        prob = probabilities[i, :] if y_test[i] == 1 else 1-probabilities[i, :]\n",
    "        util = np.array([utility(loan, rate, time, y_test[i]) if eu > 0 else 0 for eu in expected_utility(loan, rate, time, prob)])\n",
    "        \n",
    "        weights[0, :] *= probabilities[i, :]\n",
    "        weights[0, :] /= np.sum(weights[0, :])\n",
    "        weights[1, :] *= 1 + util\n",
    "        weights[1, :] /= np.sum(weights[1, :])\n",
    "        weights[2, :] *= 2 + util\n",
    "        weights[2, :] /= np.sum(weights[2, :])\n",
    "        weights[3, :] *= 3 + util\n",
    "        weights[3, :] /= np.sum(weights[3, :])\n",
    "        weights[4, :] *= 4 + util\n",
    "        weights[4, :] /= np.sum(weights[4, :])\n",
    "        weights[5, :] += util\n",
    "\n",
    "    # Adjust away possible negative numbers (if you lose money, you get 0 weight)\n",
    "    weights[5, :] -= min(0, np.min(weights[5, :]))\n",
    "    weights[5, :] /= np.sum(weights[5, :])\n",
    "    \n",
    "    # Test performance\n",
    "    for i in test:\n",
    "        loan, time = X_test_unscaled[i:i+1][['amount', 'duration']].values.ravel()\n",
    "        prob = probabilities[i, :] if y_test[i] == 1 else 1-probabilities[i, :]\n",
    "        prob = prob @ weights.T\n",
    "        weighing_utility[n, :] += np.array([utility(loan, rate, time, y_test[i]) if eu > 0 else 0 for eu in expected_utility(loan, rate, time, prob)])\n",
    "    \n",
    "    n += 1"
   ]
  },
  {
   "cell_type": "code",
   "execution_count": 122,
   "metadata": {},
   "outputs": [
    {
     "data": {
      "text/plain": [
       "array([[  1345.74773801,    955.66953755,   1286.66643502,\n",
       "          1286.66643502,   1286.66643502,   1286.66643502,\n",
       "          2335.49040725, -33946.41198111,   1535.53036511,\n",
       "          1226.57799191],\n",
       "       [  6112.49286342,   4667.04350702,   4853.46378721,\n",
       "          5015.9739812 ,   5194.75657827,   4853.46378721,\n",
       "          5618.42508618, -14978.13215693,   6112.49286342,\n",
       "          3578.88414814],\n",
       "       [-11804.29741698,  -6644.28622898,  -6644.28622898,\n",
       "         -6644.28622898,  -6644.28622898,  -6644.28622898,\n",
       "         -6302.98938964, -21690.12988474, -11804.29741698,\n",
       "         -2728.15031022],\n",
       "       [  5266.53618519,   2043.44949185,   3100.34156443,\n",
       "          3100.34156443,   3100.34156443,   3100.34156443,\n",
       "          6049.49045954, -30233.85515621,   5266.53618519,\n",
       "           894.44186583],\n",
       "       [   783.65044154,     87.15074816,     87.15074816,\n",
       "            87.15074816,     87.15074816,     87.15074816,\n",
       "          2025.36260678, -14053.01491934,   1124.27330105,\n",
       "          1300.84499118]])"
      ]
     },
     "execution_count": 122,
     "metadata": {},
     "output_type": "execute_result"
    }
   ],
   "source": [
    "weighing_utility"
   ]
  },
  {
   "cell_type": "code",
   "execution_count": 123,
   "metadata": {},
   "outputs": [
    {
     "data": {
      "text/plain": [
       "array([   340.82596224,    221.80541112,    536.66726117,    569.16929997,\n",
       "          604.92581938,    536.66726117,   1945.15583402, -22980.30881966,\n",
       "          446.90705956,    854.51973737])"
      ]
     },
     "execution_count": 123,
     "metadata": {},
     "output_type": "execute_result"
    }
   ],
   "source": [
    "np.mean(weighing_utility, axis=0)"
   ]
  },
  {
   "cell_type": "code",
   "execution_count": 124,
   "metadata": {},
   "outputs": [
    {
     "data": {
      "text/plain": [
       "array([3211.5786088 , 1881.20216525, 1968.98216173, 1986.98250617,\n",
       "       2007.20679988, 1968.98216173, 2219.56260954, 3989.14353222,\n",
       "       3217.63596653, 1014.81312235])"
      ]
     },
     "execution_count": 124,
     "metadata": {},
     "output_type": "execute_result"
    }
   ],
   "source": [
    "stats.sem(weighing_utility)"
   ]
  },
  {
   "cell_type": "code",
   "execution_count": 117,
   "metadata": {},
   "outputs": [
    {
     "data": {
      "text/plain": [
       "<Container object of 3 artists>"
      ]
     },
     "execution_count": 117,
     "metadata": {},
     "output_type": "execute_result"
    },
    {
     "data": {
      "image/png": "[encoded data removed]",
      "text/plain": [
       "<matplotlib.figure.Figure at 0x1a0411e7e48>"
      ]
     },
     "metadata": {},
     "output_type": "display_data"
    }
   ],
   "source": [
    "plt.errorbar(range(n_ways_of_weighing), np.mean(weighing_utility, axis=0), yerr=1*stats.sem(weighing_utility), ecolor='r')"
   ]
  },
  {
   "cell_type": "markdown",
   "metadata": {},
   "source": [
    "So in conclusion it seems hard to know which method works best, other than that the neural nets seem wto work quite poorly, and that that and logistic regression seems to give high variance. Which weighing method to use here is a question. One way is to go with simply argmax, another is to use the highest lower end of a $2\\sigma$ interval, but I'll go with a compromise between the two: the lower end of the $\\sigma$ interval. First though, it might be interesting to try this out using Bagging on the classifiers."
   ]
  },
  {
   "cell_type": "code",
   "execution_count": 125,
   "metadata": {},
   "outputs": [
    {
     "name": "stderr",
     "output_type": "stream",
     "text": [
      "C:\\ProgramData\\Anaconda3\\lib\\site-packages\\sklearn\\ensemble\\weight_boosting.py:29: DeprecationWarning: numpy.core.umath_tests is an internal NumPy module and should not be imported. It will be removed in a future NumPy release.\n",
      "  from numpy.core.umath_tests import inner1d\n"
     ]
    }
   ],
   "source": [
    "from sklearn.ensemble import BaggingClassifier"
   ]
  },
  {
   "cell_type": "code",
   "execution_count": 126,
   "metadata": {},
   "outputs": [
    {
     "data": {
      "text/plain": [
       "<Container object of 3 artists>"
      ]
     },
     "execution_count": 126,
     "metadata": {},
     "output_type": "execute_result"
    },
    {
     "data": {
      "image/png": "[encoded data removed]",
      "text/plain": [
       "<matplotlib.figure.Figure at 0x1a03fef4860>"
      ]
     },
     "metadata": {},
     "output_type": "display_data"
    }
   ],
   "source": [
    "classifiers = [BaggingClassifier(MLPClassifier(solver='lbfgs', alpha=nn_alpha, hidden_layer_sizes=nn_hidden_components)).fit(X_train, y_train), \\\n",
    "               BaggingClassifier(LogisticRegression()).fit(X_train, y_train), \\\n",
    "               BaggingClassifier(KNeighborsClassifier(n_neighbors=knn_k)).fit(X_train, y_train)]\n",
    "\n",
    "probabilities = np.zeros((len(X_test), len(classifiers)), dtype=np.float64)\n",
    "for i in range(len(X_test)):\n",
    "    for j in range(len(classifiers)):\n",
    "        probabilities[i, j] = classifiers[j].predict_proba(X_test[i].reshape(1, -1))[:,y_test[i]-1]\n",
    "# We do y_test-1 to get outcomes 1, 2 to 0, 1 to correspond to indices\n",
    "\n",
    "n_folds = 5\n",
    "n_ways_of_weighing = 10\n",
    "weights = np.zeros((n_ways_of_weighing, len(classifiers)))\n",
    "weighing_utility = np.zeros((n_folds, n_ways_of_weighing))\n",
    "n = 0\n",
    "for train, test in KFold(n_splits=n_folds).split(X_test):\n",
    "    # Fit weights\n",
    "    weights[0, :] = np.ones(len(classifiers))/len(classifiers)\n",
    "    weights[1, :] = np.ones(len(classifiers))/len(classifiers)\n",
    "    weights[2, :] = np.ones(len(classifiers))/len(classifiers)\n",
    "    weights[3, :] = np.ones(len(classifiers))/len(classifiers)\n",
    "    weights[4, :] = np.ones(len(classifiers))/len(classifiers)\n",
    "    weights[5, :] = np.zeros(len(classifiers))\n",
    "    weights[6, :] = np.ones(len(classifiers))/len(classifiers)\n",
    "    weights[7, :] = np.array([1, 0, 0])\n",
    "    weights[8, :] = np.array([0, 1, 0])\n",
    "    weights[9, :] = np.array([0, 0, 1])\n",
    "    for i in train:\n",
    "        loan, time = X_test_unscaled[i:i+1][['amount', 'duration']].values.ravel()\n",
    "        loan /= max_loan\n",
    "        prob = probabilities[i, :] if y_test[i] == 1 else 1-probabilities[i, :]\n",
    "        util = np.array([utility(loan, rate, time, y_test[i]) if eu > 0 else 0 for eu in expected_utility(loan, rate, time, prob)])\n",
    "        \n",
    "        weights[0, :] *= probabilities[i, :]\n",
    "        weights[0, :] /= np.sum(weights[0, :])\n",
    "        weights[1, :] *= 1 + util\n",
    "        weights[1, :] /= np.sum(weights[1, :])\n",
    "        weights[2, :] *= 2 + util\n",
    "        weights[2, :] /= np.sum(weights[2, :])\n",
    "        weights[3, :] *= 3 + util\n",
    "        weights[3, :] /= np.sum(weights[3, :])\n",
    "        weights[4, :] *= 4 + util\n",
    "        weights[4, :] /= np.sum(weights[4, :])\n",
    "        weights[5, :] += util\n",
    "\n",
    "    # Adjust away possible negative numbers (if you lose money, you get 0 weight)\n",
    "    weights[5, :] -= min(0, np.min(weights[5, :]))\n",
    "    weights[5, :] /= np.sum(weights[5, :])\n",
    "    \n",
    "    # Test performance\n",
    "    for i in test:\n",
    "        loan, time = X_test_unscaled[i:i+1][['amount', 'duration']].values.ravel()\n",
    "        prob = probabilities[i, :] if y_test[i] == 1 else 1-probabilities[i, :]\n",
    "        prob = prob @ weights.T\n",
    "        weighing_utility[n, :] += np.array([utility(loan, rate, time, y_test[i]) if eu > 0 else 0 for eu in expected_utility(loan, rate, time, prob)])\n",
    "    \n",
    "    n += 1\n",
    "    \n",
    "plt.errorbar(range(n_ways_of_weighing), np.mean(weighing_utility, axis=0), yerr=1*stats.sem(weighing_utility), ecolor='r')"
   ]
  },
  {
   "cell_type": "markdown",
   "metadata": {},
   "source": [
    "Hmmm, well, it seems no better performance, except on the neural nets, and no less variance, so not much point to move forward on."
   ]
  },
  {
   "cell_type": "code",
   "execution_count": 118,
   "metadata": {},
   "outputs": [
    {
     "data": {
      "text/plain": [
       "array([0., 0., 1.])"
      ]
     },
     "execution_count": 118,
     "metadata": {},
     "output_type": "execute_result"
    }
   ],
   "source": [
    "method_weights = weights[np.argmax(np.mean(weighing_utility, axis=0) - stats.sem(weighing_utility))]\n",
    "method_weights"
   ]
  },
  {
   "cell_type": "markdown",
   "metadata": {},
   "source": [
    "For reference it might be interesting to see the test set earning of the base classifier of always granting a loan, basically mimicking the bank(s) the data is collected from. And also the perfect classfier"
   ]
  },
  {
   "cell_type": "code",
   "execution_count": 119,
   "metadata": {
    "collapsed": true
   },
   "outputs": [],
   "source": [
    "amounts = X_test_unscaled['amount'].values.ravel()\n",
    "durations = X_test_unscaled['duration'].values.ravel()\n",
    "reference_utility1 = np.array([utility(amounts[i], rate, durations[i], y_test[i]) for i in range(len(y_test))])\n",
    "reference_utility2 = np.array([utility(amounts[i], rate, durations[i], y_test[i]) if y_test[i] == 1 else 0 for i in range(len(y_test))])"
   ]
  },
  {
   "cell_type": "code",
   "execution_count": 120,
   "metadata": {},
   "outputs": [
    {
     "name": "stdout",
     "output_type": "stream",
     "text": [
      "Total utility for always granting: -234990.75699153283\n",
      "Total utility for perfect classifier: 63816.24300846715\n"
     ]
    }
   ],
   "source": [
    "print(\"Total utility for always granting: \" + str(np.sum(reference_utility1)))\n",
    "print(\"Total utility for perfect classifier: \" + str(np.sum(reference_utility2)))"
   ]
  },
  {
   "cell_type": "markdown",
   "metadata": {},
   "source": [
    "In this range (-235k, 64k) our best classifier around 3000 is quite close to zero"
   ]
  },
  {
   "cell_type": "markdown",
   "metadata": {},
   "source": [
    "Now the question is only, have I tortured the data too much?"
   ]
  },
  {
   "cell_type": "markdown",
   "metadata": {},
   "source": [
    "So, let's boil it down to an implementation"
   ]
  },
  {
   "cell_type": "code",
   "execution_count": null,
   "metadata": {
    "collapsed": true
   },
   "outputs": [],
   "source": [
    "def fit(self):\n",
    "    X = df[features].values\n",
    "    y = df[target].values.ravel()\n",
    "    scaler = StandardScaler()\n",
    "    scaler.fit(X)\n",
    "    X = scaler.transform(X)\n",
    "    pca = PCA()\n",
    "    pca.fit(X)\n",
    "    X_pca = pca.transform(X)[:, :lr_components]\n",
    "\n",
    "    classifiers = [MLPClassifier(solver='lbfgs', alpha=nn_alpha, hidden_layer_sizes=nn_hidden_components).fit(X, y), \n",
    "                   LogisticRegression().fit(X_pca, y), \n",
    "                   KNeighborsClassifier(n_neighbors=knn_k).fit(X, y)]"
   ]
  },
  {
   "cell_type": "code",
   "execution_count": null,
   "metadata": {
    "collapsed": true
   },
   "outputs": [],
   "source": [
    "def predict_proba(self, x):\n",
    "    x = scaler.transform(x)\n",
    "    x_pca = pca.transform(x)\n",
    "    return  classifier[0].predict_proba(x)[0,0] * method_weights[0] +\n",
    "            classifier[1].predict_proba(x_pca)[0,0] * method_weights[1] +\n",
    "            classifier[2].predict_proba(x)[0,0] * method_weights[2]"
   ]
  },
  {
   "cell_type": "markdown",
   "metadata": {},
   "source": [
    "Concerning part 2 of the question: What are the implicit assumptions about the labelling process in the original data, i.e. what do the labels represent?  \n",
    "The label 1 represents a repaid loan, the label 2 represents a defaulted loan, but it's quite explicit in the documentation as far as I can tell."
   ]
  },
  {
   "cell_type": "markdown",
   "metadata": {},
   "source": [
    "### 3)"
   ]
  },
  {
   "cell_type": "code",
   "execution_count": 2,
   "metadata": {
    "collapsed": true
   },
   "outputs": [],
   "source": [
    "def get_best_action():\n",
    "    # If expected utility is 0, then it makes no difference to us whether we give the loan or not\n",
    "    # so we maximize global utility by assuming that the utility for the lender is >0 with a loan\n",
    "    return 1 if expected_utility(x,1) >= expected_utility(x,0) else 0"
   ]
  },
  {
   "cell_type": "markdown",
   "metadata": {},
   "source": [
    "### 4)"
   ]
  },
  {
   "cell_type": "markdown",
   "metadata": {},
   "source": [
    "[%run documentation](https://ipython.org/ipython-doc/3/interactive/magics.html#magic-run)"
   ]
  },
  {
   "cell_type": "code",
   "execution_count": 44,
   "metadata": {},
   "outputs": [
    {
     "name": "stdout",
     "output_type": "stream",
     "text": [
      "-90503.1372243001\n",
      "Start My Banker\n",
      "Choosing parameters\n",
      "Choosing parameter 1/5\n"
     ]
    },
    {
     "name": "stderr",
     "output_type": "stream",
     "text": [
      "C:\\ProgramData\\Anaconda3\\lib\\site-packages\\sklearn\\utils\\validation.py:475: DataConversionWarning: Data with input dtype int64 was converted to float64 by StandardScaler.\n",
      "  warnings.warn(msg, DataConversionWarning)\n"
     ]
    },
    {
     "name": "stdout",
     "output_type": "stream",
     "text": [
      "Alpha: 3.9810717055349695e-05\n",
      "Choosing parameter 2/5\n",
      "Layers: (50, 30)\n",
      "Choosing parameter 3/5\n",
      "Components: 42\n",
      "Choosing parameter 4/5\n",
      "k: 54\n",
      "Choosing parameter 5/5\n",
      "Weights: [0.00240705 0.21817788 0.77941508]\n",
      "Parameters chosen\n",
      "My Banker: 5533.947976285759\n",
      "\n",
      "IPython CPU timings (estimated):\n",
      "  User   :     361.36 s.\n",
      "  System :       0.00 s.\n",
      "Wall time:     361.36 s.\n"
     ]
    }
   ],
   "source": [
    "%run -t TestLending.py"
   ]
  },
  {
   "cell_type": "markdown",
   "metadata": {},
   "source": [
    "So, in this run I get a total utility of 5534, so I'm gaining a little money, unlike the random banker at -90503, but it's highly variable and also granting loans to around 1% of potential customers doesn't seem like a sustainable business model. I suppose a higher interest rate is in order, or different rates for different customers."
   ]
  },
  {
   "cell_type": "markdown",
   "metadata": {},
   "source": [
    "## Part 2"
   ]
  },
  {
   "cell_type": "markdown",
   "metadata": {},
   "source": [
    "### 1)"
   ]
  },
  {
   "cell_type": "markdown",
   "metadata": {},
   "source": [
    "+ **Is it possible to ensure that your policy maximises revenue?**  \n",
    "It's difficult to ensure, of course, because there is randomness in the selection of training data, and also there is randomness in our future customers. We can only maximize expected revenue given the information that we have now. Then we can, if we want, increase the expected utility for each loan for which we decide to give the loan to get a lower expected variance in revenue at the cost of a slight decrease in expected total revenue, but strictly speaking then, we should probably take the variance into account in our utility function so that we can continue to simply maximize utility.\n",
    "+ **How can you take into account the uncertainty due to the limited and/or biased data?**  \n",
    "Aside from making sure our data collection doesn't introduce biases we have to be rigorous in our model selection, of course, but outside that the best option I believe is as stated above, to determine our risk profile by weighing expected total revenue against expected variance of the total revenue by varying the threshold individual expected utility at which we give a loan.  \n",
    "One option here is of course to update our model continously as we are giving out loans and seeing how they turn out in order to continously improve it, but that might also skew the model further because the results of the bad loans may come in before the results of the good loans by the nature of lending money.  \n",
    "Another option would be to create some kind of prior based on our subjective belief about what predicts good and bad loan takers to counterweigh the potentialy biased data we have, but that requires us to have previous knowledge good enough that we can be fairly confident that we are, in fact, not biasing our model ourselves through our own biases.\n",
    "+ **What if you have to decide for credit for thousands of individuals and your model is wrong?**  \n",
    "Then we have a big problem and I am probably out of a job, unless I can show that the model I created is as good as could be done given the data. If the model is wrong due to highly skewed data then I suppose we were simply terribly unlucky.\n",
    "+ **How should you take that type of risk into account?**  \n",
    "As stated above, we can always lower our risk through not maximizing expected total return. We can also consider if we should add other elements, pehaps judgement, into the final decision. It may, for example, be that past data aren't applicable to predicting new outcomes due to a change in circumstances.    \n",
    "We could of course also have multiple teams develop their own decision model and apply all simultaneously to reduce the risk of making the wrong decision if one model is wrong, but in the end that doesn't entirely remove the risk that the new model, the collection of models, is wrong.  \n",
    "In the end a decision has to be made, or in this case thousands of decisions, and we can only choose as well as we can choose."
   ]
  },
  {
   "cell_type": "markdown",
   "metadata": {},
   "source": [
    "### 2)"
   ]
  },
  {
   "cell_type": "markdown",
   "metadata": {},
   "source": [
    "+ **Does the existence of this database raise any privacy concerns?**  \n",
    "Given the number of attributes in the dataset there is a chance that, given sufficient information about individuals, they can be identified and then linked with a bad loan. On the other hand, if we have to match these attributes to the entire German population there will probably be quite a few candidates matching each row of personal attributes in our dataset. If, however, someone knew that you had applied for a loan of an exact size and duration, it's suddenly much more likely that they could pinpoint you in the database if you're there given that the loan amounts are recorded with accuracy of 1 DM.\n",
    "+ **If the database was secret (and only known by the bank), but the credit decisions were public, how would that affect privacy?**  \n",
    "It would have to compromise privacy that anyone could find out if you are or aren't credit-worthy. If the question means that the credit decisions were public but without names attached to them things are different. In that case it seems very unlikely that anyone is able to pinpoint a specific person to a specific credit decision, unless they are published in real time and someone knows that you just now applied for a loan of x DM for y months(if this information is published). This, of course, assumes that the database stays secret. If someone gains access to it we quickly end up in 1)  \n",
    "If the only information is published is a collection of Granted/Not granted then the only way for someone to know the outcome of your application is to know the outcome of all other applications in the timespan covering this publication, and also to know that you applied for a loan.\n",
    "+ **(a) Explain how you would protect the data of the people in the training set.**\n",
    "The obvious way to protect the data of the people in the training set is to noise up the data in the training set according to some epsilon. This we did in the tutorial, and the method for this has been imported into the aleksaw_banker.py-file in the function private_fit, which noises up the data before using it to fit the model, and is tested and has it's performance graphed below.\n",
    "+ **(b) Explain how would protect the data of the people that apply for new loans.**\n",
    "The best way to do this seems to be to implement the exponential mechanism when deciding who gets a loan and who doesn't, although I'm uncertain if this truly is very valuable. Doing this has a potentially significant cost in two ways that most likely will have to be borne by the customer.  \n",
    "The first is in terms of fairness. Why should someone qualified for a loan not get it due to randomness? And conversely, why should someone not qualified for a loan get one?  \n",
    "The second is financial. The most obvious part is that not granting to good lenders and granting to poor lenders will cost the bank money, which it must recuperate by imposing higher interest rates on all lenders. The other way is for those whose application decisions are changed because of randomness, some will not get the money they need for something, while others will get a loan they never should have had, which they will probably default on with all the negative consequences that brings.  \n",
    "Given this I'm finding it hard to defend the miniscule increment in privacy this will effectively bring to the customer. Given the complexity of the model deciding loan applications it will be very hard to get much information about single features given only the information about whether or not the loan was granted. Even knowing all the features but one it might be hard to find the last.  \n",
    "I would say that not publishing loan decisions, and deleting (or noisifying) the information about the customer after processing the application will probably have a far better effect on actual privacy without the added costs. We also see from below that in order for the model to be useful for  its actual purpose, deciding on loan applications, the $\\epsilon$ for the exponential mechanism must exceed 10, meaning it doesn't bring much increase in privacy anyway.  \n",
    "  \n",
    "The mechanism is implemented in the aleksaw_banker.py-file as get_private_best_action() and it's development and testing is documented below\n",
    "+ **(c) Implement a private decision making mechanism for (b), and estimate the amount of loss in utility as you change the privacy guarantee.**"
   ]
  },
  {
   "cell_type": "markdown",
   "metadata": {},
   "source": [
    "#### Implementing the exponential mechanism for deciding loan applications"
   ]
  },
  {
   "cell_type": "code",
   "execution_count": 15,
   "metadata": {
    "collapsed": true
   },
   "outputs": [],
   "source": [
    "from aleksaw_banker import NameBanker\n",
    "from random_banker import RandomBanker"
   ]
  },
  {
   "cell_type": "code",
   "execution_count": 16,
   "metadata": {},
   "outputs": [],
   "source": [
    "rate = 0.005\n",
    "def utility(loan, rate, time, outcome):\n",
    "    return loan * (((1+rate)**time - 1) if outcome == 1 else -1)\n",
    "def private_utility(banker, x, a):\n",
    "    return banker.expected_utility(x.values, a) - \\\n",
    "           banker.expected_utility(x.values, banker.get_best_action(x))"
   ]
  },
  {
   "cell_type": "markdown",
   "metadata": {},
   "source": [
    "Implementing the exponential mechanism according to the formula  \n",
    "$$ \\pi(a | x) = \\frac{e^{\\epsilon U(a,q,x) / \\Delta U}}{\\sum_{a'}e^{\\epsilon U(a,q,x) / \\Delta U}}$$\n",
    "where\n",
    "$$\\Delta U \\equiv \\max_{a \\in A} \\max_{x, y: \\| x-y \\|_1 \\leq 1} |u(x, a) - u(y, a)|$$\n",
    "but I simplify the latter to:   \n",
    "$$\\Delta U = \\text{Utility}_{x, \\text{repaid}} - \\text{Utility}_{x, \\text{defaulted}}$$"
   ]
  },
  {
   "cell_type": "code",
   "execution_count": 17,
   "metadata": {},
   "outputs": [],
   "source": [
    "def get_private_best_action(banker, x, epsilon):\n",
    "    # Find difference in utility for the two possible decisions for this partiular loan\n",
    "    sensitivity = utility(x['amount'], rate, x['duration'], 1) \\\n",
    "                - utility(x['amount'], rate, x['duration'], 2)\n",
    "    u_qax = np.array([private_utility(banker, x, 0), \n",
    "                      private_utility(banker, x, 1)])\n",
    "    exponential = np.exp(epsilon*u_qax/sensitivity)\n",
    "    prob_keep_grant = exponential[1] / np.sum(exponential)\n",
    "    random_number = np.random.ranf(1)[0]\n",
    "    if banker.get_best_action(x) == 1:\n",
    "        # We would normally grant loan, but may flip the decision\n",
    "        return 0 if random_number > prob_keep_grant else 1\n",
    "    else:\n",
    "        return 1 if random_number > (1-prob_keep_grant) else 0"
   ]
  },
  {
   "cell_type": "code",
   "execution_count": 15,
   "metadata": {},
   "outputs": [],
   "source": [
    "banker = NameBanker(default_parameters=True)"
   ]
  },
  {
   "cell_type": "code",
   "execution_count": 16,
   "metadata": {},
   "outputs": [
    {
     "name": "stderr",
     "output_type": "stream",
     "text": [
      "C:\\ProgramData\\Anaconda3\\lib\\site-packages\\sklearn\\neural_network\\multilayer_perceptron.py:912: DataConversionWarning: A column-vector y was passed when a 1d array was expected. Please change the shape of y to (n_samples, ), for example using ravel().\n",
      "  y = column_or_1d(y, warn=True)\n",
      "C:\\ProgramData\\Anaconda3\\lib\\site-packages\\sklearn\\utils\\validation.py:578: DataConversionWarning: A column-vector y was passed when a 1d array was expected. Please change the shape of y to (n_samples, ), for example using ravel().\n",
      "  y = column_or_1d(y, warn=True)\n",
      "C:\\Users\\aleks\\Dropbox\\A-University\\UiO\\2018H\\IN-STK5000\\ml-society-science\\src\\project-1\\aleksaw_banker.py:265: DataConversionWarning: A column-vector y was passed when a 1d array was expected. Please change the shape of y to (n_samples, ), for example using ravel().\n",
      "  KNeighborsClassifier(n_neighbors=self.knn_k).fit(X, y)]\n"
     ]
    }
   ],
   "source": [
    "X_train, X_test, y_train, y_test = train_test_split(df[features], df[target], test_size=0.25)\n",
    "banker.fit(X_train, y_train)"
   ]
  },
  {
   "cell_type": "code",
   "execution_count": 17,
   "metadata": {},
   "outputs": [
    {
     "name": "stderr",
     "output_type": "stream",
     "text": [
      "C:\\ProgramData\\Anaconda3\\lib\\site-packages\\sklearn\\utils\\validation.py:475: DataConversionWarning: Data with input dtype int64 was converted to float64 by StandardScaler.\n",
      "  warnings.warn(msg, DataConversionWarning)\n"
     ]
    },
    {
     "data": {
      "text/plain": [
       "0"
      ]
     },
     "execution_count": 17,
     "metadata": {},
     "output_type": "execute_result"
    }
   ],
   "source": [
    "get_private_best_action(banker, X_test.iloc[0], 0.1)"
   ]
  },
  {
   "cell_type": "code",
   "execution_count": 57,
   "metadata": {},
   "outputs": [
    {
     "name": "stdout",
     "output_type": "stream",
     "text": [
      "Choosing parameters\n",
      "Choosing parameter 1/5\n"
     ]
    },
    {
     "name": "stderr",
     "output_type": "stream",
     "text": [
      "C:\\ProgramData\\Anaconda3\\lib\\site-packages\\sklearn\\utils\\validation.py:475: DataConversionWarning: Data with input dtype int64 was converted to float64 by StandardScaler.\n",
      "  warnings.warn(msg, DataConversionWarning)\n"
     ]
    },
    {
     "name": "stdout",
     "output_type": "stream",
     "text": [
      "Alpha: 0.5623413251903491\n",
      "Choosing parameter 2/5\n",
      "Layers: (100, 30, 10)\n",
      "Choosing parameter 3/5\n",
      "Components: 43\n",
      "Choosing parameter 4/5\n",
      "k: 46\n",
      "Choosing parameter 5/5\n",
      "Weights: [0. 1. 0.]\n",
      "Parameters chosen\n"
     ]
    },
    {
     "name": "stderr",
     "output_type": "stream",
     "text": [
      "C:\\ProgramData\\Anaconda3\\lib\\site-packages\\sklearn\\neural_network\\multilayer_perceptron.py:912: DataConversionWarning: A column-vector y was passed when a 1d array was expected. Please change the shape of y to (n_samples, ), for example using ravel().\n",
      "  y = column_or_1d(y, warn=True)\n",
      "C:\\ProgramData\\Anaconda3\\lib\\site-packages\\sklearn\\utils\\validation.py:578: DataConversionWarning: A column-vector y was passed when a 1d array was expected. Please change the shape of y to (n_samples, ), for example using ravel().\n",
      "  y = column_or_1d(y, warn=True)\n",
      "C:\\Users\\aleks\\Dropbox\\A-University\\UiO\\2018H\\IN-STK5000\\ml-society-science\\src\\project-1\\aleksaw_banker.py:265: DataConversionWarning: A column-vector y was passed when a 1d array was expected. Please change the shape of y to (n_samples, ), for example using ravel().\n",
      "  KNeighborsClassifier(n_neighbors=self.knn_k).fit(X, y)]\n"
     ]
    }
   ],
   "source": [
    "rate = 0.005\n",
    "es = 50\n",
    "epsilon = np.logspace(-2, 3, es)\n",
    "utility_std = np.zeros(es)\n",
    "utility_mean = np.zeros(es)\n",
    "putility_std = np.zeros(es)\n",
    "putility_mean = np.zeros(es)\n",
    "rutility_std = np.zeros(es)\n",
    "rutility_mean = np.zeros(es)\n",
    "banker = NameBanker(default_parameters=False) # Use defaults for quicker fit?\n",
    "rbanker = RandomBanker()\n",
    "banker.set_interest_rate(rate)\n",
    "rbanker.set_interest_rate(rate)\n",
    "for i in range(es):\n",
    "    total_utility = np.zeros(10)\n",
    "    priv_utility = np.zeros(10)\n",
    "    rand_utility = np.zeros(10)\n",
    "    j = 0\n",
    "    for train, test in KFold(n_splits=10).split(df):\n",
    "        banker.fit(df[features].iloc[train], df[target].iloc[train])\n",
    "        rbanker.fit(df[features].iloc[train], df[target].iloc[train])\n",
    "        for k in range(len(test)):\n",
    "            paction = banker.get_private_best_action(df[features].iloc[test[k]], epsilon[i])\n",
    "            action = banker.get_best_action(df[features].iloc[test[k]])\n",
    "            raction = rbanker.get_best_action(df[features].iloc[test[k]])\n",
    "            u = utility(df['amount'].iloc[test[k]], \n",
    "                        rate, \n",
    "                        df['duration'].iloc[test[k]],\n",
    "                        df[target].iloc[test[k]].values)\n",
    "\n",
    "            if action == 1:\n",
    "                total_utility[j] += u\n",
    "            if paction == 1:\n",
    "                priv_utility[j] += u\n",
    "            if raction == 1:\n",
    "                rand_utility[j] += u\n",
    "        j += 1\n",
    "    utility_mean[i] = np.mean(total_utility)\n",
    "    utility_std[i] = stats.sem(total_utility)\n",
    "    putility_mean[i] = np.mean(priv_utility)\n",
    "    putility_std[i] = stats.sem(priv_utility)\n",
    "    rutility_mean[i] = np.mean(rand_utility)\n",
    "    rutility_std[i] = stats.sem(rand_utility)"
   ]
  },
  {
   "cell_type": "code",
   "execution_count": 58,
   "metadata": {},
   "outputs": [
    {
     "data": {
      "text/plain": [
       "<matplotlib.legend.Legend at 0x27a0bd8ce10>"
      ]
     },
     "execution_count": 58,
     "metadata": {},
     "output_type": "execute_result"
    },
    {
     "data": {
      "image/png": "[encoded data removed]",
      "text/plain": [
       "<matplotlib.figure.Figure at 0x27a0b9ff828>"
      ]
     },
     "metadata": {},
     "output_type": "display_data"
    }
   ],
   "source": [
    "plt.errorbar(epsilon, utility_mean, yerr=utility_std, ecolor='y', label=\"Mean Non-private Utility\", color='g')\n",
    "plt.errorbar(epsilon, rutility_mean, yerr=rutility_std, ecolor='m', label=\"Mean Random Utility\", color='r')\n",
    "plt.errorbar(epsilon, putility_mean, yerr=putility_std, ecolor='c', label=\"Mean Private Utility\")\n",
    "plt.plot(epsilon, np.zeros(es), 'k-', label=\"Break even\")\n",
    "plt.xscale('log')\n",
    "plt.xlabel(r\"$\\epsilon$\")\n",
    "plt.ylabel(\"Utility\")\n",
    "plt.legend(bbox_to_anchor=(0, 0.5), loc='lower left')"
   ]
  },
  {
   "cell_type": "markdown",
   "metadata": {},
   "source": [
    "As expected we see the utility equals that of the random banker for high privacy, and as privacy decreases the utility approaches that of the non-private banker. As we have to approach $\\epsilon=1$ before the private banker has significant gains over the random banker, and $\\epsilon > 10$ for the private banker to make a profit, it's not much privacy we can afford to add. This is not so surprising given the weak signal in the data and the difficulty of the banker in turning a profit even without privacy."
   ]
  },
  {
   "cell_type": "markdown",
   "metadata": {},
   "source": [
    "#### Now for testing the banker using private training data"
   ]
  },
  {
   "cell_type": "code",
   "execution_count": 59,
   "metadata": {},
   "outputs": [
    {
     "name": "stderr",
     "output_type": "stream",
     "text": [
      "C:\\ProgramData\\Anaconda3\\lib\\site-packages\\sklearn\\neural_network\\multilayer_perceptron.py:912: DataConversionWarning: A column-vector y was passed when a 1d array was expected. Please change the shape of y to (n_samples, ), for example using ravel().\n",
      "  y = column_or_1d(y, warn=True)\n",
      "C:\\ProgramData\\Anaconda3\\lib\\site-packages\\sklearn\\utils\\validation.py:578: DataConversionWarning: A column-vector y was passed when a 1d array was expected. Please change the shape of y to (n_samples, ), for example using ravel().\n",
      "  y = column_or_1d(y, warn=True)\n",
      "C:\\Users\\aleks\\Dropbox\\A-University\\UiO\\2018H\\IN-STK5000\\ml-society-science\\src\\project-1\\aleksaw_banker.py:265: DataConversionWarning: A column-vector y was passed when a 1d array was expected. Please change the shape of y to (n_samples, ), for example using ravel().\n",
      "  KNeighborsClassifier(n_neighbors=self.knn_k).fit(X, y)]\n",
      "C:\\ProgramData\\Anaconda3\\lib\\site-packages\\sklearn\\utils\\validation.py:475: DataConversionWarning: Data with input dtype int64 was converted to float64 by StandardScaler.\n",
      "  warnings.warn(msg, DataConversionWarning)\n"
     ]
    }
   ],
   "source": [
    "rate = 0.005\n",
    "es = 50\n",
    "epsilon = np.logspace(-2, 3, es)\n",
    "utility_std = np.zeros(es)\n",
    "utility_mean = np.zeros(es)\n",
    "putility_std = np.zeros(es)\n",
    "putility_mean = np.zeros(es)\n",
    "rutility_std = np.zeros(es)\n",
    "rutility_mean = np.zeros(es)\n",
    "banker = NameBanker(default_parameters=True) # Use defaults for quicker fit?\n",
    "pbanker = NameBanker(default_parameters=True) # Use defaults for quicker fit?\n",
    "rbanker = RandomBanker()\n",
    "banker.set_interest_rate(rate)\n",
    "pbanker.set_interest_rate(rate)\n",
    "rbanker.set_interest_rate(rate)\n",
    "for i in range(es):\n",
    "    total_utility = np.zeros(10)\n",
    "    priv_utility = np.zeros(10)\n",
    "    rand_utility = np.zeros(10)\n",
    "    X = df.copy()\n",
    "    j = 0\n",
    "    for train, test in KFold(n_splits=10).split(X):\n",
    "        banker.fit(X[features].iloc[train], X[target].iloc[train])\n",
    "        pbanker.private_fit(X[features].iloc[train], X[target].iloc[train], \n",
    "                            epsilon[i], numeric_features, binary_features)\n",
    "        rbanker.fit(X[features].iloc[train], X[target].iloc[train])\n",
    "        for k in range(len(test)):\n",
    "            paction = banker.get_private_best_action(X[features].iloc[test[k]], epsilon[i])\n",
    "            action = banker.get_best_action(X[features].iloc[test[k]])\n",
    "            raction = rbanker.get_best_action(X[features].iloc[test[k]])\n",
    "            u = utility(X['amount'].iloc[test[k]], \n",
    "                        rate, \n",
    "                        X['duration'].iloc[test[k]],\n",
    "                        X[target].iloc[test[k]].values)\n",
    "\n",
    "            if action == 1:\n",
    "                total_utility[j] += u\n",
    "            if paction == 1:\n",
    "                priv_utility[j] += u\n",
    "            if raction == 1:\n",
    "                rand_utility[j] += u\n",
    "        j += 1\n",
    "    utility_mean[i] = np.mean(total_utility)\n",
    "    utility_std[i] = stats.sem(total_utility)\n",
    "    putility_mean[i] = np.mean(priv_utility)\n",
    "    putility_std[i] = stats.sem(priv_utility)\n",
    "    rutility_mean[i] = np.mean(rand_utility)\n",
    "    rutility_std[i] = stats.sem(rand_utility)"
   ]
  },
  {
   "cell_type": "code",
   "execution_count": 60,
   "metadata": {},
   "outputs": [
    {
     "data": {
      "text/plain": [
       "<matplotlib.legend.Legend at 0x27a0bdad390>"
      ]
     },
     "execution_count": 60,
     "metadata": {},
     "output_type": "execute_result"
    },
    {
     "data": {
      "image/png": "[encoded data removed]",
      "text/plain": [
       "<matplotlib.figure.Figure at 0x27a0c13d710>"
      ]
     },
     "metadata": {},
     "output_type": "display_data"
    }
   ],
   "source": [
    "plt.errorbar(epsilon, utility_mean, yerr=utility_std, ecolor='y', label=\"Mean Non-private Utility\", color='g')\n",
    "plt.errorbar(epsilon, rutility_mean, yerr=rutility_std, ecolor='m', label=\"Mean Random Utility\", color='r')\n",
    "plt.errorbar(epsilon, putility_mean, yerr=putility_std, ecolor='c', label=\"Mean Private Utility\")\n",
    "plt.plot(epsilon, np.zeros(es), 'k-', label=\"Break even\")\n",
    "plt.xscale('log')\n",
    "plt.xlabel(r\"$\\epsilon$\")\n",
    "plt.ylabel(\"Utility\")\n",
    "plt.legend(bbox_to_anchor=(0, 0.5), loc='lower left')"
   ]
  },
  {
   "cell_type": "markdown",
   "metadata": {},
   "source": [
    "We see again quite the same picture as when applying the exponential mechanism"
   ]
  },
  {
   "cell_type": "markdown",
   "metadata": {},
   "source": [
    "### 3)"
   ]
  },
  {
   "cell_type": "markdown",
   "metadata": {},
   "source": [
    "### Choose one concept of fairness, e.g.  balance of decisions with respect to gender.  \n",
    "+ **How can you ensure that your policy is fair?** \n",
    "+ **How can you measure it?**\n",
    "+ **How does the original training data affect the fairness of your policy?**"
   ]
  }
 ],
 "metadata": {
  "kernelspec": {
   "display_name": "Python 3",
   "language": "python",
   "name": "python3"
  },
  "language_info": {
   "codemirror_mode": {
    "name": "ipython",
    "version": 3
   },
   "file_extension": ".py",
   "mimetype": "text/x-python",
   "name": "python",
   "nbconvert_exporter": "python",
   "pygments_lexer": "ipython3",
   "version": "3.6.1"
  }
 },
 "nbformat": 4,
 "nbformat_minor": 2
}
