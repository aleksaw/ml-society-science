{
 "cells": [
  {
   "cell_type": "markdown",
   "metadata": {},
   "source": [
    "# Credit risk for mortgages"
   ]
  },
  {
   "cell_type": "markdown",
   "metadata": {},
   "source": [
    "## Part 1"
   ]
  },
  {
   "cell_type": "markdown",
   "metadata": {},
   "source": [
    "### 1)"
   ]
  },
  {
   "cell_type": "markdown",
   "metadata": {},
   "source": [
    "Expected utility for giving loan = Probability of default \\* cost of default + probability of downpayment \\* interest gain  \n",
    "Expected utility for not giving loan = 0"
   ]
  },
  {
   "cell_type": "markdown",
   "metadata": {},
   "source": [
    "\\begin{align}\n",
    "E(U) &= P \\cdot L \\cdot ((1+R)^T-1) - (1-P) \\cdot L \\\\\n",
    "&= PL(1+R)^T - PL - L + PL \\\\\n",
    "&= L(P(1+R)^T-1)\n",
    "\\end{align}"
   ]
  },
  {
   "cell_type": "code",
   "execution_count": 1,
   "metadata": {
    "collapsed": true
   },
   "outputs": [],
   "source": [
    "def expected_utility():\n",
    "    return loan * (get_proba() * (1+interest_rate)**duration - 1)"
   ]
  },
  {
   "cell_type": "markdown",
   "metadata": {},
   "source": [
    "If the expected utility of giving the loan is positive, we give loan, if negative, we don't."
   ]
  },
  {
   "cell_type": "markdown",
   "metadata": {},
   "source": [
    "### 2)"
   ]
  },
  {
   "cell_type": "markdown",
   "metadata": {},
   "source": [
    "##### Questions to self:\n",
    "+ Should the ordered qualitative attributes be made numeric? If so, what should the number conversions be? F.ex checking account, for the first two categories we can use the center, but what about the third where there is no center? Same holds for several of the other ordered qualitative attributes. Is an option for the (x,->)-intervals to use an expectation assuming f.ex an exponential distribution in the category? Or is it better to just number them and model that attribute non-linearly?\n",
    "+ Should we just use kNN, or are we free to select any method? Or should we try many different methods and select the best one?\n",
    "+ How should we select? Should we just use a quarter of the data as a holdout for method selection, and then trim parameters for each method using cv on the remaining three quarters? Or is it better to use some kind of neural network kind of method to combine many other methods. How involved should we do this?"
   ]
  },
  {
   "cell_type": "code",
   "execution_count": 2,
   "metadata": {
    "collapsed": true
   },
   "outputs": [],
   "source": [
    "import pandas as pd\n",
    "import numpy as np"
   ]
  },
  {
   "cell_type": "code",
   "execution_count": 3,
   "metadata": {
    "collapsed": true
   },
   "outputs": [],
   "source": [
    "features = ['checking account balance', 'duration', 'credit history',\n",
    "            'purpose', 'amount', 'savings', 'employment', 'installment',\n",
    "            'marital status', 'other debtors', 'residence time',\n",
    "            'property', 'age', 'other installments', 'housing', 'credits',\n",
    "            'job', 'persons', 'phone', 'foreign']\n",
    "target = ['repaid']"
   ]
  },
  {
   "cell_type": "code",
   "execution_count": 4,
   "metadata": {
    "collapsed": true
   },
   "outputs": [],
   "source": [
    "df = pd.read_csv('../../data/credit/german.data', sep=' ',\n",
    "                     names=features+target)"
   ]
  },
  {
   "cell_type": "code",
   "execution_count": 5,
   "metadata": {
    "collapsed": true
   },
   "outputs": [],
   "source": [
    "numeric_features = df[features].select_dtypes(include=[np.number]).columns.tolist()\n",
    "categorical_features = [f for f in features if f not in numeric_features]"
   ]
  },
  {
   "cell_type": "code",
   "execution_count": 6,
   "metadata": {
    "collapsed": true
   },
   "outputs": [],
   "source": [
    "# Treat the categorical features differently by expanding them into binary features \n",
    "df = pd.get_dummies(df, columns=categorical_features, drop_first=True)"
   ]
  },
  {
   "cell_type": "code",
   "execution_count": 7,
   "metadata": {},
   "outputs": [
    {
     "name": "stdout",
     "output_type": "stream",
     "text": [
      "['duration', 'amount', 'installment', 'residence time', 'age', 'credits', 'persons']\n",
      "['checking account balance', 'credit history', 'purpose', 'savings', 'employment', 'marital status', 'other debtors', 'property', 'other installments', 'housing', 'job', 'phone', 'foreign']\n"
     ]
    }
   ],
   "source": [
    "print(numeric_features)\n",
    "print(categorical_features)"
   ]
  },
  {
   "cell_type": "code",
   "execution_count": 8,
   "metadata": {},
   "outputs": [
    {
     "data": {
      "text/html": [
       "<div>\n",
       "<style>\n",
       "    .dataframe thead tr:only-child th {\n",
       "        text-align: right;\n",
       "    }\n",
       "\n",
       "    .dataframe thead th {\n",
       "        text-align: left;\n",
       "    }\n",
       "\n",
       "    .dataframe tbody tr th {\n",
       "        vertical-align: top;\n",
       "    }\n",
       "</style>\n",
       "<table border=\"1\" class=\"dataframe\">\n",
       "  <thead>\n",
       "    <tr style=\"text-align: right;\">\n",
       "      <th></th>\n",
       "      <th>duration</th>\n",
       "      <th>amount</th>\n",
       "      <th>installment</th>\n",
       "      <th>residence time</th>\n",
       "      <th>age</th>\n",
       "      <th>credits</th>\n",
       "      <th>persons</th>\n",
       "      <th>repaid</th>\n",
       "      <th>checking account balance_A12</th>\n",
       "      <th>checking account balance_A13</th>\n",
       "      <th>...</th>\n",
       "      <th>property_A124</th>\n",
       "      <th>other installments_A142</th>\n",
       "      <th>other installments_A143</th>\n",
       "      <th>housing_A152</th>\n",
       "      <th>housing_A153</th>\n",
       "      <th>job_A172</th>\n",
       "      <th>job_A173</th>\n",
       "      <th>job_A174</th>\n",
       "      <th>phone_A192</th>\n",
       "      <th>foreign_A202</th>\n",
       "    </tr>\n",
       "  </thead>\n",
       "  <tbody>\n",
       "    <tr>\n",
       "      <th>count</th>\n",
       "      <td>1000.000000</td>\n",
       "      <td>1000.000000</td>\n",
       "      <td>1000.000000</td>\n",
       "      <td>1000.000000</td>\n",
       "      <td>1000.000000</td>\n",
       "      <td>1000.000000</td>\n",
       "      <td>1000.000000</td>\n",
       "      <td>1000.000000</td>\n",
       "      <td>1000.000000</td>\n",
       "      <td>1000.000000</td>\n",
       "      <td>...</td>\n",
       "      <td>1000.000000</td>\n",
       "      <td>1000.000000</td>\n",
       "      <td>1000.000000</td>\n",
       "      <td>1000.000000</td>\n",
       "      <td>1000.000000</td>\n",
       "      <td>1000.0000</td>\n",
       "      <td>1000.000000</td>\n",
       "      <td>1000.000000</td>\n",
       "      <td>1000.000000</td>\n",
       "      <td>1000.000000</td>\n",
       "    </tr>\n",
       "    <tr>\n",
       "      <th>mean</th>\n",
       "      <td>20.903000</td>\n",
       "      <td>3271.258000</td>\n",
       "      <td>2.973000</td>\n",
       "      <td>2.845000</td>\n",
       "      <td>35.546000</td>\n",
       "      <td>1.407000</td>\n",
       "      <td>1.155000</td>\n",
       "      <td>1.300000</td>\n",
       "      <td>0.269000</td>\n",
       "      <td>0.063000</td>\n",
       "      <td>...</td>\n",
       "      <td>0.154000</td>\n",
       "      <td>0.047000</td>\n",
       "      <td>0.814000</td>\n",
       "      <td>0.713000</td>\n",
       "      <td>0.108000</td>\n",
       "      <td>0.2000</td>\n",
       "      <td>0.630000</td>\n",
       "      <td>0.148000</td>\n",
       "      <td>0.404000</td>\n",
       "      <td>0.037000</td>\n",
       "    </tr>\n",
       "    <tr>\n",
       "      <th>std</th>\n",
       "      <td>12.058814</td>\n",
       "      <td>2822.736876</td>\n",
       "      <td>1.118715</td>\n",
       "      <td>1.103718</td>\n",
       "      <td>11.375469</td>\n",
       "      <td>0.577654</td>\n",
       "      <td>0.362086</td>\n",
       "      <td>0.458487</td>\n",
       "      <td>0.443662</td>\n",
       "      <td>0.243085</td>\n",
       "      <td>...</td>\n",
       "      <td>0.361129</td>\n",
       "      <td>0.211745</td>\n",
       "      <td>0.389301</td>\n",
       "      <td>0.452588</td>\n",
       "      <td>0.310536</td>\n",
       "      <td>0.4002</td>\n",
       "      <td>0.483046</td>\n",
       "      <td>0.355278</td>\n",
       "      <td>0.490943</td>\n",
       "      <td>0.188856</td>\n",
       "    </tr>\n",
       "    <tr>\n",
       "      <th>min</th>\n",
       "      <td>4.000000</td>\n",
       "      <td>250.000000</td>\n",
       "      <td>1.000000</td>\n",
       "      <td>1.000000</td>\n",
       "      <td>19.000000</td>\n",
       "      <td>1.000000</td>\n",
       "      <td>1.000000</td>\n",
       "      <td>1.000000</td>\n",
       "      <td>0.000000</td>\n",
       "      <td>0.000000</td>\n",
       "      <td>...</td>\n",
       "      <td>0.000000</td>\n",
       "      <td>0.000000</td>\n",
       "      <td>0.000000</td>\n",
       "      <td>0.000000</td>\n",
       "      <td>0.000000</td>\n",
       "      <td>0.0000</td>\n",
       "      <td>0.000000</td>\n",
       "      <td>0.000000</td>\n",
       "      <td>0.000000</td>\n",
       "      <td>0.000000</td>\n",
       "    </tr>\n",
       "    <tr>\n",
       "      <th>25%</th>\n",
       "      <td>12.000000</td>\n",
       "      <td>1365.500000</td>\n",
       "      <td>2.000000</td>\n",
       "      <td>2.000000</td>\n",
       "      <td>27.000000</td>\n",
       "      <td>1.000000</td>\n",
       "      <td>1.000000</td>\n",
       "      <td>1.000000</td>\n",
       "      <td>0.000000</td>\n",
       "      <td>0.000000</td>\n",
       "      <td>...</td>\n",
       "      <td>0.000000</td>\n",
       "      <td>0.000000</td>\n",
       "      <td>1.000000</td>\n",
       "      <td>0.000000</td>\n",
       "      <td>0.000000</td>\n",
       "      <td>0.0000</td>\n",
       "      <td>0.000000</td>\n",
       "      <td>0.000000</td>\n",
       "      <td>0.000000</td>\n",
       "      <td>0.000000</td>\n",
       "    </tr>\n",
       "    <tr>\n",
       "      <th>50%</th>\n",
       "      <td>18.000000</td>\n",
       "      <td>2319.500000</td>\n",
       "      <td>3.000000</td>\n",
       "      <td>3.000000</td>\n",
       "      <td>33.000000</td>\n",
       "      <td>1.000000</td>\n",
       "      <td>1.000000</td>\n",
       "      <td>1.000000</td>\n",
       "      <td>0.000000</td>\n",
       "      <td>0.000000</td>\n",
       "      <td>...</td>\n",
       "      <td>0.000000</td>\n",
       "      <td>0.000000</td>\n",
       "      <td>1.000000</td>\n",
       "      <td>1.000000</td>\n",
       "      <td>0.000000</td>\n",
       "      <td>0.0000</td>\n",
       "      <td>1.000000</td>\n",
       "      <td>0.000000</td>\n",
       "      <td>0.000000</td>\n",
       "      <td>0.000000</td>\n",
       "    </tr>\n",
       "    <tr>\n",
       "      <th>75%</th>\n",
       "      <td>24.000000</td>\n",
       "      <td>3972.250000</td>\n",
       "      <td>4.000000</td>\n",
       "      <td>4.000000</td>\n",
       "      <td>42.000000</td>\n",
       "      <td>2.000000</td>\n",
       "      <td>1.000000</td>\n",
       "      <td>2.000000</td>\n",
       "      <td>1.000000</td>\n",
       "      <td>0.000000</td>\n",
       "      <td>...</td>\n",
       "      <td>0.000000</td>\n",
       "      <td>0.000000</td>\n",
       "      <td>1.000000</td>\n",
       "      <td>1.000000</td>\n",
       "      <td>0.000000</td>\n",
       "      <td>0.0000</td>\n",
       "      <td>1.000000</td>\n",
       "      <td>0.000000</td>\n",
       "      <td>1.000000</td>\n",
       "      <td>0.000000</td>\n",
       "    </tr>\n",
       "    <tr>\n",
       "      <th>max</th>\n",
       "      <td>72.000000</td>\n",
       "      <td>18424.000000</td>\n",
       "      <td>4.000000</td>\n",
       "      <td>4.000000</td>\n",
       "      <td>75.000000</td>\n",
       "      <td>4.000000</td>\n",
       "      <td>2.000000</td>\n",
       "      <td>2.000000</td>\n",
       "      <td>1.000000</td>\n",
       "      <td>1.000000</td>\n",
       "      <td>...</td>\n",
       "      <td>1.000000</td>\n",
       "      <td>1.000000</td>\n",
       "      <td>1.000000</td>\n",
       "      <td>1.000000</td>\n",
       "      <td>1.000000</td>\n",
       "      <td>1.0000</td>\n",
       "      <td>1.000000</td>\n",
       "      <td>1.000000</td>\n",
       "      <td>1.000000</td>\n",
       "      <td>1.000000</td>\n",
       "    </tr>\n",
       "  </tbody>\n",
       "</table>\n",
       "<p>8 rows × 49 columns</p>\n",
       "</div>"
      ],
      "text/plain": [
       "          duration        amount  installment  residence time          age  \\\n",
       "count  1000.000000   1000.000000  1000.000000     1000.000000  1000.000000   \n",
       "mean     20.903000   3271.258000     2.973000        2.845000    35.546000   \n",
       "std      12.058814   2822.736876     1.118715        1.103718    11.375469   \n",
       "min       4.000000    250.000000     1.000000        1.000000    19.000000   \n",
       "25%      12.000000   1365.500000     2.000000        2.000000    27.000000   \n",
       "50%      18.000000   2319.500000     3.000000        3.000000    33.000000   \n",
       "75%      24.000000   3972.250000     4.000000        4.000000    42.000000   \n",
       "max      72.000000  18424.000000     4.000000        4.000000    75.000000   \n",
       "\n",
       "           credits      persons       repaid  checking account balance_A12  \\\n",
       "count  1000.000000  1000.000000  1000.000000                   1000.000000   \n",
       "mean      1.407000     1.155000     1.300000                      0.269000   \n",
       "std       0.577654     0.362086     0.458487                      0.443662   \n",
       "min       1.000000     1.000000     1.000000                      0.000000   \n",
       "25%       1.000000     1.000000     1.000000                      0.000000   \n",
       "50%       1.000000     1.000000     1.000000                      0.000000   \n",
       "75%       2.000000     1.000000     2.000000                      1.000000   \n",
       "max       4.000000     2.000000     2.000000                      1.000000   \n",
       "\n",
       "       checking account balance_A13      ...       property_A124  \\\n",
       "count                   1000.000000      ...         1000.000000   \n",
       "mean                       0.063000      ...            0.154000   \n",
       "std                        0.243085      ...            0.361129   \n",
       "min                        0.000000      ...            0.000000   \n",
       "25%                        0.000000      ...            0.000000   \n",
       "50%                        0.000000      ...            0.000000   \n",
       "75%                        0.000000      ...            0.000000   \n",
       "max                        1.000000      ...            1.000000   \n",
       "\n",
       "       other installments_A142  other installments_A143  housing_A152  \\\n",
       "count              1000.000000              1000.000000   1000.000000   \n",
       "mean                  0.047000                 0.814000      0.713000   \n",
       "std                   0.211745                 0.389301      0.452588   \n",
       "min                   0.000000                 0.000000      0.000000   \n",
       "25%                   0.000000                 1.000000      0.000000   \n",
       "50%                   0.000000                 1.000000      1.000000   \n",
       "75%                   0.000000                 1.000000      1.000000   \n",
       "max                   1.000000                 1.000000      1.000000   \n",
       "\n",
       "       housing_A153   job_A172     job_A173     job_A174   phone_A192  \\\n",
       "count   1000.000000  1000.0000  1000.000000  1000.000000  1000.000000   \n",
       "mean       0.108000     0.2000     0.630000     0.148000     0.404000   \n",
       "std        0.310536     0.4002     0.483046     0.355278     0.490943   \n",
       "min        0.000000     0.0000     0.000000     0.000000     0.000000   \n",
       "25%        0.000000     0.0000     0.000000     0.000000     0.000000   \n",
       "50%        0.000000     0.0000     1.000000     0.000000     0.000000   \n",
       "75%        0.000000     0.0000     1.000000     0.000000     1.000000   \n",
       "max        1.000000     1.0000     1.000000     1.000000     1.000000   \n",
       "\n",
       "       foreign_A202  \n",
       "count   1000.000000  \n",
       "mean       0.037000  \n",
       "std        0.188856  \n",
       "min        0.000000  \n",
       "25%        0.000000  \n",
       "50%        0.000000  \n",
       "75%        0.000000  \n",
       "max        1.000000  \n",
       "\n",
       "[8 rows x 49 columns]"
      ]
     },
     "execution_count": 8,
     "metadata": {},
     "output_type": "execute_result"
    }
   ],
   "source": [
    "df.describe()"
   ]
  },
  {
   "cell_type": "code",
   "execution_count": 9,
   "metadata": {
    "collapsed": true
   },
   "outputs": [],
   "source": [
    "features = df.drop(target, axis=1).select_dtypes(include=[np.number]).columns.tolist()\n",
    "binary_features = [f for f in features if f not in numeric_features]"
   ]
  },
  {
   "cell_type": "code",
   "execution_count": 10,
   "metadata": {},
   "outputs": [
    {
     "data": {
      "text/html": [
       "<div>\n",
       "<style>\n",
       "    .dataframe thead tr:only-child th {\n",
       "        text-align: right;\n",
       "    }\n",
       "\n",
       "    .dataframe thead th {\n",
       "        text-align: left;\n",
       "    }\n",
       "\n",
       "    .dataframe tbody tr th {\n",
       "        vertical-align: top;\n",
       "    }\n",
       "</style>\n",
       "<table border=\"1\" class=\"dataframe\">\n",
       "  <thead>\n",
       "    <tr style=\"text-align: right;\">\n",
       "      <th></th>\n",
       "      <th>repaid</th>\n",
       "      <th>duration</th>\n",
       "      <th>amount</th>\n",
       "      <th>installment</th>\n",
       "      <th>residence time</th>\n",
       "      <th>age</th>\n",
       "      <th>credits</th>\n",
       "      <th>persons</th>\n",
       "      <th>checking account balance_A12</th>\n",
       "      <th>checking account balance_A13</th>\n",
       "      <th>...</th>\n",
       "      <th>property_A124</th>\n",
       "      <th>other installments_A142</th>\n",
       "      <th>other installments_A143</th>\n",
       "      <th>housing_A152</th>\n",
       "      <th>housing_A153</th>\n",
       "      <th>job_A172</th>\n",
       "      <th>job_A173</th>\n",
       "      <th>job_A174</th>\n",
       "      <th>phone_A192</th>\n",
       "      <th>foreign_A202</th>\n",
       "    </tr>\n",
       "  </thead>\n",
       "  <tbody>\n",
       "    <tr>\n",
       "      <th>0</th>\n",
       "      <td>1</td>\n",
       "      <td>6</td>\n",
       "      <td>1169</td>\n",
       "      <td>4</td>\n",
       "      <td>4</td>\n",
       "      <td>67</td>\n",
       "      <td>2</td>\n",
       "      <td>1</td>\n",
       "      <td>0</td>\n",
       "      <td>0</td>\n",
       "      <td>...</td>\n",
       "      <td>0</td>\n",
       "      <td>0</td>\n",
       "      <td>1</td>\n",
       "      <td>1</td>\n",
       "      <td>0</td>\n",
       "      <td>0</td>\n",
       "      <td>1</td>\n",
       "      <td>0</td>\n",
       "      <td>1</td>\n",
       "      <td>0</td>\n",
       "    </tr>\n",
       "    <tr>\n",
       "      <th>1</th>\n",
       "      <td>2</td>\n",
       "      <td>48</td>\n",
       "      <td>5951</td>\n",
       "      <td>2</td>\n",
       "      <td>2</td>\n",
       "      <td>22</td>\n",
       "      <td>1</td>\n",
       "      <td>1</td>\n",
       "      <td>1</td>\n",
       "      <td>0</td>\n",
       "      <td>...</td>\n",
       "      <td>0</td>\n",
       "      <td>0</td>\n",
       "      <td>1</td>\n",
       "      <td>1</td>\n",
       "      <td>0</td>\n",
       "      <td>0</td>\n",
       "      <td>1</td>\n",
       "      <td>0</td>\n",
       "      <td>0</td>\n",
       "      <td>0</td>\n",
       "    </tr>\n",
       "    <tr>\n",
       "      <th>2</th>\n",
       "      <td>1</td>\n",
       "      <td>12</td>\n",
       "      <td>2096</td>\n",
       "      <td>2</td>\n",
       "      <td>3</td>\n",
       "      <td>49</td>\n",
       "      <td>1</td>\n",
       "      <td>2</td>\n",
       "      <td>0</td>\n",
       "      <td>0</td>\n",
       "      <td>...</td>\n",
       "      <td>0</td>\n",
       "      <td>0</td>\n",
       "      <td>1</td>\n",
       "      <td>1</td>\n",
       "      <td>0</td>\n",
       "      <td>1</td>\n",
       "      <td>0</td>\n",
       "      <td>0</td>\n",
       "      <td>0</td>\n",
       "      <td>0</td>\n",
       "    </tr>\n",
       "    <tr>\n",
       "      <th>3</th>\n",
       "      <td>1</td>\n",
       "      <td>42</td>\n",
       "      <td>7882</td>\n",
       "      <td>2</td>\n",
       "      <td>4</td>\n",
       "      <td>45</td>\n",
       "      <td>1</td>\n",
       "      <td>2</td>\n",
       "      <td>0</td>\n",
       "      <td>0</td>\n",
       "      <td>...</td>\n",
       "      <td>0</td>\n",
       "      <td>0</td>\n",
       "      <td>1</td>\n",
       "      <td>0</td>\n",
       "      <td>1</td>\n",
       "      <td>0</td>\n",
       "      <td>1</td>\n",
       "      <td>0</td>\n",
       "      <td>0</td>\n",
       "      <td>0</td>\n",
       "    </tr>\n",
       "    <tr>\n",
       "      <th>4</th>\n",
       "      <td>2</td>\n",
       "      <td>24</td>\n",
       "      <td>4870</td>\n",
       "      <td>3</td>\n",
       "      <td>4</td>\n",
       "      <td>53</td>\n",
       "      <td>2</td>\n",
       "      <td>2</td>\n",
       "      <td>0</td>\n",
       "      <td>0</td>\n",
       "      <td>...</td>\n",
       "      <td>1</td>\n",
       "      <td>0</td>\n",
       "      <td>1</td>\n",
       "      <td>0</td>\n",
       "      <td>1</td>\n",
       "      <td>0</td>\n",
       "      <td>1</td>\n",
       "      <td>0</td>\n",
       "      <td>0</td>\n",
       "      <td>0</td>\n",
       "    </tr>\n",
       "  </tbody>\n",
       "</table>\n",
       "<p>5 rows × 49 columns</p>\n",
       "</div>"
      ],
      "text/plain": [
       "   repaid  duration  amount  installment  residence time  age  credits  \\\n",
       "0       1         6    1169            4               4   67        2   \n",
       "1       2        48    5951            2               2   22        1   \n",
       "2       1        12    2096            2               3   49        1   \n",
       "3       1        42    7882            2               4   45        1   \n",
       "4       2        24    4870            3               4   53        2   \n",
       "\n",
       "   persons  checking account balance_A12  checking account balance_A13  \\\n",
       "0        1                             0                             0   \n",
       "1        1                             1                             0   \n",
       "2        2                             0                             0   \n",
       "3        2                             0                             0   \n",
       "4        2                             0                             0   \n",
       "\n",
       "       ...       property_A124  other installments_A142  \\\n",
       "0      ...                   0                        0   \n",
       "1      ...                   0                        0   \n",
       "2      ...                   0                        0   \n",
       "3      ...                   0                        0   \n",
       "4      ...                   1                        0   \n",
       "\n",
       "   other installments_A143  housing_A152  housing_A153  job_A172  job_A173  \\\n",
       "0                        1             1             0         0         1   \n",
       "1                        1             1             0         0         1   \n",
       "2                        1             1             0         1         0   \n",
       "3                        1             0             1         0         1   \n",
       "4                        1             0             1         0         1   \n",
       "\n",
       "   job_A174  phone_A192  foreign_A202  \n",
       "0         0           1             0  \n",
       "1         0           0             0  \n",
       "2         0           0             0  \n",
       "3         0           0             0  \n",
       "4         0           0             0  \n",
       "\n",
       "[5 rows x 49 columns]"
      ]
     },
     "execution_count": 10,
     "metadata": {},
     "output_type": "execute_result"
    }
   ],
   "source": [
    "df[target+features][:5]"
   ]
  },
  {
   "cell_type": "code",
   "execution_count": 11,
   "metadata": {
    "collapsed": true
   },
   "outputs": [],
   "source": [
    "from sklearn.model_selection import train_test_split"
   ]
  },
  {
   "cell_type": "code",
   "execution_count": 12,
   "metadata": {
    "collapsed": true
   },
   "outputs": [],
   "source": [
    "X_train, X_test, y_train, y_test = train_test_split(df[features], df[target], test_size=0.25)"
   ]
  },
  {
   "cell_type": "code",
   "execution_count": 13,
   "metadata": {},
   "outputs": [
    {
     "data": {
      "text/html": [
       "<div>\n",
       "<style>\n",
       "    .dataframe thead tr:only-child th {\n",
       "        text-align: right;\n",
       "    }\n",
       "\n",
       "    .dataframe thead th {\n",
       "        text-align: left;\n",
       "    }\n",
       "\n",
       "    .dataframe tbody tr th {\n",
       "        vertical-align: top;\n",
       "    }\n",
       "</style>\n",
       "<table border=\"1\" class=\"dataframe\">\n",
       "  <thead>\n",
       "    <tr style=\"text-align: right;\">\n",
       "      <th></th>\n",
       "      <th>duration</th>\n",
       "      <th>amount</th>\n",
       "      <th>installment</th>\n",
       "      <th>residence time</th>\n",
       "      <th>age</th>\n",
       "      <th>credits</th>\n",
       "      <th>persons</th>\n",
       "      <th>checking account balance_A12</th>\n",
       "      <th>checking account balance_A13</th>\n",
       "      <th>checking account balance_A14</th>\n",
       "      <th>...</th>\n",
       "      <th>property_A124</th>\n",
       "      <th>other installments_A142</th>\n",
       "      <th>other installments_A143</th>\n",
       "      <th>housing_A152</th>\n",
       "      <th>housing_A153</th>\n",
       "      <th>job_A172</th>\n",
       "      <th>job_A173</th>\n",
       "      <th>job_A174</th>\n",
       "      <th>phone_A192</th>\n",
       "      <th>foreign_A202</th>\n",
       "    </tr>\n",
       "  </thead>\n",
       "  <tbody>\n",
       "    <tr>\n",
       "      <th>count</th>\n",
       "      <td>750.000000</td>\n",
       "      <td>750.000000</td>\n",
       "      <td>750.000000</td>\n",
       "      <td>750.000000</td>\n",
       "      <td>750.000000</td>\n",
       "      <td>750.000000</td>\n",
       "      <td>750.000000</td>\n",
       "      <td>750.000000</td>\n",
       "      <td>750.000000</td>\n",
       "      <td>750.000000</td>\n",
       "      <td>...</td>\n",
       "      <td>750.000000</td>\n",
       "      <td>750.000000</td>\n",
       "      <td>750.000000</td>\n",
       "      <td>750.000000</td>\n",
       "      <td>750.000000</td>\n",
       "      <td>750.000000</td>\n",
       "      <td>750.000000</td>\n",
       "      <td>750.000000</td>\n",
       "      <td>750.000000</td>\n",
       "      <td>750.000000</td>\n",
       "    </tr>\n",
       "    <tr>\n",
       "      <th>mean</th>\n",
       "      <td>21.044000</td>\n",
       "      <td>3257.537333</td>\n",
       "      <td>2.994667</td>\n",
       "      <td>2.825333</td>\n",
       "      <td>35.409333</td>\n",
       "      <td>1.412000</td>\n",
       "      <td>1.142667</td>\n",
       "      <td>0.266667</td>\n",
       "      <td>0.062667</td>\n",
       "      <td>0.393333</td>\n",
       "      <td>...</td>\n",
       "      <td>0.137333</td>\n",
       "      <td>0.052000</td>\n",
       "      <td>0.818667</td>\n",
       "      <td>0.722667</td>\n",
       "      <td>0.090667</td>\n",
       "      <td>0.202667</td>\n",
       "      <td>0.634667</td>\n",
       "      <td>0.141333</td>\n",
       "      <td>0.401333</td>\n",
       "      <td>0.034667</td>\n",
       "    </tr>\n",
       "    <tr>\n",
       "      <th>std</th>\n",
       "      <td>11.979931</td>\n",
       "      <td>2807.583953</td>\n",
       "      <td>1.113084</td>\n",
       "      <td>1.103532</td>\n",
       "      <td>11.485716</td>\n",
       "      <td>0.586556</td>\n",
       "      <td>0.349966</td>\n",
       "      <td>0.442512</td>\n",
       "      <td>0.242524</td>\n",
       "      <td>0.488816</td>\n",
       "      <td>...</td>\n",
       "      <td>0.344429</td>\n",
       "      <td>0.222175</td>\n",
       "      <td>0.385551</td>\n",
       "      <td>0.447981</td>\n",
       "      <td>0.287326</td>\n",
       "      <td>0.402254</td>\n",
       "      <td>0.481845</td>\n",
       "      <td>0.348598</td>\n",
       "      <td>0.490495</td>\n",
       "      <td>0.183056</td>\n",
       "    </tr>\n",
       "    <tr>\n",
       "      <th>min</th>\n",
       "      <td>4.000000</td>\n",
       "      <td>276.000000</td>\n",
       "      <td>1.000000</td>\n",
       "      <td>1.000000</td>\n",
       "      <td>19.000000</td>\n",
       "      <td>1.000000</td>\n",
       "      <td>1.000000</td>\n",
       "      <td>0.000000</td>\n",
       "      <td>0.000000</td>\n",
       "      <td>0.000000</td>\n",
       "      <td>...</td>\n",
       "      <td>0.000000</td>\n",
       "      <td>0.000000</td>\n",
       "      <td>0.000000</td>\n",
       "      <td>0.000000</td>\n",
       "      <td>0.000000</td>\n",
       "      <td>0.000000</td>\n",
       "      <td>0.000000</td>\n",
       "      <td>0.000000</td>\n",
       "      <td>0.000000</td>\n",
       "      <td>0.000000</td>\n",
       "    </tr>\n",
       "    <tr>\n",
       "      <th>25%</th>\n",
       "      <td>12.000000</td>\n",
       "      <td>1404.500000</td>\n",
       "      <td>2.000000</td>\n",
       "      <td>2.000000</td>\n",
       "      <td>27.000000</td>\n",
       "      <td>1.000000</td>\n",
       "      <td>1.000000</td>\n",
       "      <td>0.000000</td>\n",
       "      <td>0.000000</td>\n",
       "      <td>0.000000</td>\n",
       "      <td>...</td>\n",
       "      <td>0.000000</td>\n",
       "      <td>0.000000</td>\n",
       "      <td>1.000000</td>\n",
       "      <td>0.000000</td>\n",
       "      <td>0.000000</td>\n",
       "      <td>0.000000</td>\n",
       "      <td>0.000000</td>\n",
       "      <td>0.000000</td>\n",
       "      <td>0.000000</td>\n",
       "      <td>0.000000</td>\n",
       "    </tr>\n",
       "    <tr>\n",
       "      <th>50%</th>\n",
       "      <td>18.000000</td>\n",
       "      <td>2317.500000</td>\n",
       "      <td>3.000000</td>\n",
       "      <td>3.000000</td>\n",
       "      <td>33.000000</td>\n",
       "      <td>1.000000</td>\n",
       "      <td>1.000000</td>\n",
       "      <td>0.000000</td>\n",
       "      <td>0.000000</td>\n",
       "      <td>0.000000</td>\n",
       "      <td>...</td>\n",
       "      <td>0.000000</td>\n",
       "      <td>0.000000</td>\n",
       "      <td>1.000000</td>\n",
       "      <td>1.000000</td>\n",
       "      <td>0.000000</td>\n",
       "      <td>0.000000</td>\n",
       "      <td>1.000000</td>\n",
       "      <td>0.000000</td>\n",
       "      <td>0.000000</td>\n",
       "      <td>0.000000</td>\n",
       "    </tr>\n",
       "    <tr>\n",
       "      <th>75%</th>\n",
       "      <td>24.000000</td>\n",
       "      <td>3911.000000</td>\n",
       "      <td>4.000000</td>\n",
       "      <td>4.000000</td>\n",
       "      <td>41.750000</td>\n",
       "      <td>2.000000</td>\n",
       "      <td>1.000000</td>\n",
       "      <td>1.000000</td>\n",
       "      <td>0.000000</td>\n",
       "      <td>1.000000</td>\n",
       "      <td>...</td>\n",
       "      <td>0.000000</td>\n",
       "      <td>0.000000</td>\n",
       "      <td>1.000000</td>\n",
       "      <td>1.000000</td>\n",
       "      <td>0.000000</td>\n",
       "      <td>0.000000</td>\n",
       "      <td>1.000000</td>\n",
       "      <td>0.000000</td>\n",
       "      <td>1.000000</td>\n",
       "      <td>0.000000</td>\n",
       "    </tr>\n",
       "    <tr>\n",
       "      <th>max</th>\n",
       "      <td>72.000000</td>\n",
       "      <td>18424.000000</td>\n",
       "      <td>4.000000</td>\n",
       "      <td>4.000000</td>\n",
       "      <td>75.000000</td>\n",
       "      <td>4.000000</td>\n",
       "      <td>2.000000</td>\n",
       "      <td>1.000000</td>\n",
       "      <td>1.000000</td>\n",
       "      <td>1.000000</td>\n",
       "      <td>...</td>\n",
       "      <td>1.000000</td>\n",
       "      <td>1.000000</td>\n",
       "      <td>1.000000</td>\n",
       "      <td>1.000000</td>\n",
       "      <td>1.000000</td>\n",
       "      <td>1.000000</td>\n",
       "      <td>1.000000</td>\n",
       "      <td>1.000000</td>\n",
       "      <td>1.000000</td>\n",
       "      <td>1.000000</td>\n",
       "    </tr>\n",
       "  </tbody>\n",
       "</table>\n",
       "<p>8 rows × 48 columns</p>\n",
       "</div>"
      ],
      "text/plain": [
       "         duration        amount  installment  residence time         age  \\\n",
       "count  750.000000    750.000000   750.000000      750.000000  750.000000   \n",
       "mean    21.044000   3257.537333     2.994667        2.825333   35.409333   \n",
       "std     11.979931   2807.583953     1.113084        1.103532   11.485716   \n",
       "min      4.000000    276.000000     1.000000        1.000000   19.000000   \n",
       "25%     12.000000   1404.500000     2.000000        2.000000   27.000000   \n",
       "50%     18.000000   2317.500000     3.000000        3.000000   33.000000   \n",
       "75%     24.000000   3911.000000     4.000000        4.000000   41.750000   \n",
       "max     72.000000  18424.000000     4.000000        4.000000   75.000000   \n",
       "\n",
       "          credits     persons  checking account balance_A12  \\\n",
       "count  750.000000  750.000000                    750.000000   \n",
       "mean     1.412000    1.142667                      0.266667   \n",
       "std      0.586556    0.349966                      0.442512   \n",
       "min      1.000000    1.000000                      0.000000   \n",
       "25%      1.000000    1.000000                      0.000000   \n",
       "50%      1.000000    1.000000                      0.000000   \n",
       "75%      2.000000    1.000000                      1.000000   \n",
       "max      4.000000    2.000000                      1.000000   \n",
       "\n",
       "       checking account balance_A13  checking account balance_A14  \\\n",
       "count                    750.000000                    750.000000   \n",
       "mean                       0.062667                      0.393333   \n",
       "std                        0.242524                      0.488816   \n",
       "min                        0.000000                      0.000000   \n",
       "25%                        0.000000                      0.000000   \n",
       "50%                        0.000000                      0.000000   \n",
       "75%                        0.000000                      1.000000   \n",
       "max                        1.000000                      1.000000   \n",
       "\n",
       "           ...       property_A124  other installments_A142  \\\n",
       "count      ...          750.000000               750.000000   \n",
       "mean       ...            0.137333                 0.052000   \n",
       "std        ...            0.344429                 0.222175   \n",
       "min        ...            0.000000                 0.000000   \n",
       "25%        ...            0.000000                 0.000000   \n",
       "50%        ...            0.000000                 0.000000   \n",
       "75%        ...            0.000000                 0.000000   \n",
       "max        ...            1.000000                 1.000000   \n",
       "\n",
       "       other installments_A143  housing_A152  housing_A153    job_A172  \\\n",
       "count               750.000000    750.000000    750.000000  750.000000   \n",
       "mean                  0.818667      0.722667      0.090667    0.202667   \n",
       "std                   0.385551      0.447981      0.287326    0.402254   \n",
       "min                   0.000000      0.000000      0.000000    0.000000   \n",
       "25%                   1.000000      0.000000      0.000000    0.000000   \n",
       "50%                   1.000000      1.000000      0.000000    0.000000   \n",
       "75%                   1.000000      1.000000      0.000000    0.000000   \n",
       "max                   1.000000      1.000000      1.000000    1.000000   \n",
       "\n",
       "         job_A173    job_A174  phone_A192  foreign_A202  \n",
       "count  750.000000  750.000000  750.000000    750.000000  \n",
       "mean     0.634667    0.141333    0.401333      0.034667  \n",
       "std      0.481845    0.348598    0.490495      0.183056  \n",
       "min      0.000000    0.000000    0.000000      0.000000  \n",
       "25%      0.000000    0.000000    0.000000      0.000000  \n",
       "50%      1.000000    0.000000    0.000000      0.000000  \n",
       "75%      1.000000    0.000000    1.000000      0.000000  \n",
       "max      1.000000    1.000000    1.000000      1.000000  \n",
       "\n",
       "[8 rows x 48 columns]"
      ]
     },
     "execution_count": 13,
     "metadata": {},
     "output_type": "execute_result"
    }
   ],
   "source": [
    "X_train.describe()"
   ]
  },
  {
   "cell_type": "code",
   "execution_count": 14,
   "metadata": {
    "collapsed": true
   },
   "outputs": [],
   "source": [
    "from sklearn.preprocessing import StandardScaler"
   ]
  },
  {
   "cell_type": "code",
   "execution_count": 15,
   "metadata": {
    "collapsed": true
   },
   "outputs": [],
   "source": [
    "scaler = StandardScaler()"
   ]
  },
  {
   "cell_type": "code",
   "execution_count": 16,
   "metadata": {
    "collapsed": true
   },
   "outputs": [],
   "source": [
    "X_test_unscaled = X_test\n",
    "X_train = scaler.fit_transform(X_train)\n",
    "X_test = scaler.fit_transform(X_test)\n",
    "y_train = y_train.values.ravel()\n",
    "y_test = y_test.values.ravel()"
   ]
  },
  {
   "cell_type": "code",
   "execution_count": 17,
   "metadata": {},
   "outputs": [
    {
     "data": {
      "text/plain": [
       "array([[-6.71904353e-01, -4.12208201e-01, -8.94209336e-01, ...,\n",
       "        -4.05704663e-01, -8.18766523e-01, -1.89503568e-01],\n",
       "       [ 2.46910650e-01,  6.14684226e-02,  4.79468813e-03, ...,\n",
       "        -4.05704663e-01,  1.22134940e+00, -1.89503568e-01],\n",
       "       [-9.22490263e-01, -6.18929376e-01,  9.03798712e-01, ...,\n",
       "        -4.05704663e-01, -8.18766523e-01, -1.89503568e-01],\n",
       "       ...,\n",
       "       [-7.55432989e-01, -3.44132779e-01,  9.03798712e-01, ...,\n",
       "         2.46484720e+00,  1.22134940e+00, -1.89503568e-01],\n",
       "       [ 2.46910650e-01, -2.76057358e-01,  9.03798712e-01, ...,\n",
       "        -4.05704663e-01,  1.22134940e+00, -1.89503568e-01],\n",
       "       [-5.04847080e-01, -7.85731979e-01,  9.03798712e-01, ...,\n",
       "        -4.05704663e-01, -8.18766523e-01,  5.27694550e+00]])"
      ]
     },
     "execution_count": 17,
     "metadata": {},
     "output_type": "execute_result"
    }
   ],
   "source": [
    "X_train"
   ]
  },
  {
   "cell_type": "code",
   "execution_count": 18,
   "metadata": {
    "collapsed": true
   },
   "outputs": [],
   "source": [
    "from sklearn.neural_network import MLPClassifier"
   ]
  },
  {
   "cell_type": "code",
   "execution_count": 19,
   "metadata": {
    "collapsed": true
   },
   "outputs": [],
   "source": [
    "# Solver 'lbgfs' for faster and better results on small datasets\n",
    "# We start with alpha 1e-4 (default)\n",
    "# Start with only one hidden layer, size 70 is a bit more than features ...\n",
    "classifier = MLPClassifier(solver='lbfgs', alpha=1e-5, hidden_layer_sizes=(70))"
   ]
  },
  {
   "cell_type": "code",
   "execution_count": 20,
   "metadata": {},
   "outputs": [
    {
     "data": {
      "text/plain": [
       "MLPClassifier(activation='relu', alpha=1e-05, batch_size='auto', beta_1=0.9,\n",
       "       beta_2=0.999, early_stopping=False, epsilon=1e-08,\n",
       "       hidden_layer_sizes=70, learning_rate='constant',\n",
       "       learning_rate_init=0.001, max_iter=200, momentum=0.9,\n",
       "       nesterovs_momentum=True, power_t=0.5, random_state=None,\n",
       "       shuffle=True, solver='lbfgs', tol=0.0001, validation_fraction=0.1,\n",
       "       verbose=False, warm_start=False)"
      ]
     },
     "execution_count": 20,
     "metadata": {},
     "output_type": "execute_result"
    }
   ],
   "source": [
    "classifier.fit(X_train, y_train)"
   ]
  },
  {
   "cell_type": "code",
   "execution_count": 21,
   "metadata": {
    "collapsed": true
   },
   "outputs": [],
   "source": [
    "from sklearn.metrics import accuracy_score\n",
    "from sklearn.model_selection import KFold\n",
    "from scipy import stats"
   ]
  },
  {
   "cell_type": "code",
   "execution_count": 22,
   "metadata": {},
   "outputs": [
    {
     "data": {
      "text/plain": [
       "0.728"
      ]
     },
     "execution_count": 22,
     "metadata": {},
     "output_type": "execute_result"
    }
   ],
   "source": [
    "y_pred = classifier.predict(X_test)\n",
    "accuracy_score(y_test, y_pred)"
   ]
  },
  {
   "cell_type": "code",
   "execution_count": 23,
   "metadata": {
    "collapsed": true
   },
   "outputs": [],
   "source": [
    "n_folds = 10\n",
    "alphas = np.logspace(-5, 0, 21)\n",
    "accuracies = np.zeros(len(alphas))\n",
    "deviations = np.zeros(len(alphas))\n",
    "i = 0\n",
    "for alpha in alphas:\n",
    "    accuracy = np.zeros(n_folds)\n",
    "    j = 0\n",
    "    for train, test in KFold(n_splits=n_folds).split(X_train):\n",
    "        classifier = MLPClassifier(solver='lbfgs', alpha=alpha, hidden_layer_sizes=(70))\n",
    "        classifier.fit(X_train[train], y_train[train])\n",
    "        y_pred = classifier.predict(X_train[test])\n",
    "        accuracy[j] = accuracy_score(y_train[test], y_pred)\n",
    "        j += 1\n",
    "    accuracies[i] = np.mean(accuracy)\n",
    "    deviations[i] = stats.sem(accuracy)\n",
    "    i += 1"
   ]
  },
  {
   "cell_type": "code",
   "execution_count": 24,
   "metadata": {
    "collapsed": true
   },
   "outputs": [],
   "source": [
    "import matplotlib.pyplot as plt\n",
    "import seaborn as sb\n",
    "sb.set()\n",
    "% matplotlib inline"
   ]
  },
  {
   "cell_type": "code",
   "execution_count": 25,
   "metadata": {},
   "outputs": [
    {
     "data": {
      "image/png": "[encoded data removed]",
      "text/plain": [
       "<matplotlib.figure.Figure at 0x1b1bbe4be80>"
      ]
     },
     "metadata": {},
     "output_type": "display_data"
    }
   ],
   "source": [
    "plt.errorbar(alphas, accuracies, yerr=deviations, ecolor='r')\n",
    "plt.xscale('log')"
   ]
  },
  {
   "cell_type": "code",
   "execution_count": 26,
   "metadata": {
    "collapsed": true
   },
   "outputs": [],
   "source": [
    "# Here we could perhaps have made some clever claculation to \n",
    "# find the best alpha using 1e-4 as default and the deviations \n",
    "# to select the closest to default among the somewhat significant\n",
    "# or we could just go default, or we could just use the best\n",
    "# even though which one is best changes for every run.\n",
    "nn_alpha = alphas[np.argmax(accuracies)]"
   ]
  },
  {
   "cell_type": "markdown",
   "metadata": {},
   "source": [
    "So alpha setting doesn't seem to matter much here, perhaps layer size is more important"
   ]
  },
  {
   "cell_type": "markdown",
   "metadata": {},
   "source": [
    "Out of curiousity, we might try to see if we get more conclusive results if we judge the alphas by utility rather than accuracy"
   ]
  },
  {
   "cell_type": "code",
   "execution_count": 27,
   "metadata": {
    "collapsed": true
   },
   "outputs": [],
   "source": [
    "def expected_utility(loan, rate, time, prob):\n",
    "    return loan * (prob * (1+rate)**time - 1)\n",
    "def utility(loan, rate, time, outcome):\n",
    "    return loan * (-1 if outcome==2 else (1+rate)**time - 1)"
   ]
  },
  {
   "cell_type": "code",
   "execution_count": 28,
   "metadata": {
    "collapsed": true
   },
   "outputs": [],
   "source": [
    "n_folds = 10\n",
    "rate = 0.005\n",
    "alphas = np.logspace(-5, -3, 11)\n",
    "accuracies = np.zeros(len(alphas))\n",
    "deviations = np.zeros(len(alphas))\n",
    "i = 0\n",
    "for alpha in alphas:\n",
    "    util = np.zeros(n_folds)\n",
    "    j = 0\n",
    "    for train, test in KFold(n_splits=n_folds).split(X_train):\n",
    "        classifier = MLPClassifier(solver='lbfgs', alpha=alpha, hidden_layer_sizes=(70))\n",
    "        classifier.fit(X_train[train], y_train[train])\n",
    "        for k in range(len(y_train[test])):\n",
    "            prob = classifier.predict_proba(X_train[test[k]].reshape(1,-1))[0,0]\n",
    "            loan, time = X_test_unscaled[k:k+1][['amount', 'duration']].values.ravel()\n",
    "            util[j] += utility(loan, rate, time, y_train[test[k]]) \\\n",
    "                        if expected_utility(loan, rate, time, prob) > 0 \\\n",
    "                        else 0 \n",
    "                                         \n",
    "        j += 1\n",
    "    accuracies[i] = np.mean(util)\n",
    "    deviations[i] = stats.sem(util)\n",
    "    i += 1"
   ]
  },
  {
   "cell_type": "code",
   "execution_count": 29,
   "metadata": {},
   "outputs": [
    {
     "data": {
      "image/png": "[encoded data removed]",
      "text/plain": [
       "<matplotlib.figure.Figure at 0x1b1bc7eaa20>"
      ]
     },
     "metadata": {},
     "output_type": "display_data"
    }
   ],
   "source": [
    "plt.errorbar(alphas, accuracies, yerr=deviations, ecolor='r')\n",
    "plt.xscale('log')"
   ]
  },
  {
   "cell_type": "markdown",
   "metadata": {},
   "source": [
    "Again no significant difference between the alphas"
   ]
  },
  {
   "cell_type": "markdown",
   "metadata": {},
   "source": [
    "Now for layer sizes"
   ]
  },
  {
   "cell_type": "code",
   "execution_count": 30,
   "metadata": {
    "collapsed": true
   },
   "outputs": [],
   "source": [
    "n_folds = 10\n",
    "hidden_components = np.arange(10, 230, 10)\n",
    "accuracies = np.zeros(len(hidden_components))\n",
    "deviations = np.zeros(len(hidden_components))\n",
    "i = 0\n",
    "for components in hidden_components:\n",
    "    accuracy = np.zeros(n_folds)\n",
    "    j = 0\n",
    "    for train, test in KFold(n_splits=n_folds).split(X_train):\n",
    "        classifier = MLPClassifier(solver='lbfgs', alpha=1e-4, hidden_layer_sizes=(components))\n",
    "        classifier.fit(X_train[train], y_train[train])\n",
    "        y_pred = classifier.predict(X_train[test])\n",
    "        accuracy[j] = accuracy_score(y_train[test], y_pred)\n",
    "        j += 1\n",
    "    accuracies[i] = np.mean(accuracy)\n",
    "    deviations[i] = stats.sem(accuracy)\n",
    "    i += 1"
   ]
  },
  {
   "cell_type": "code",
   "execution_count": 31,
   "metadata": {},
   "outputs": [
    {
     "data": {
      "text/plain": [
       "<Container object of 3 artists>"
      ]
     },
     "execution_count": 31,
     "metadata": {},
     "output_type": "execute_result"
    },
    {
     "data": {
      "image/png": "[encoded data removed]",
      "text/plain": [
       "<matplotlib.figure.Figure at 0x1b1bc2bc3c8>"
      ]
     },
     "metadata": {},
     "output_type": "display_data"
    }
   ],
   "source": [
    "plt.errorbar(hidden_components, accuracies, yerr=deviations, ecolor='r')"
   ]
  },
  {
   "cell_type": "markdown",
   "metadata": {},
   "source": [
    "So number of components also make little difference above, say 40 if even then. Perhaps try some combinations of multiple layers of different sizes, computationally it seems prohibitive to try all combinations of multiple layers of different sizes."
   ]
  },
  {
   "cell_type": "code",
   "execution_count": 32,
   "metadata": {
    "collapsed": true
   },
   "outputs": [],
   "source": [
    "# Some sort of attempt to order the combinations in increasing complexity\n",
    "n_folds = 10\n",
    "hidden_components = [(50), (70), (100), \\\n",
    "                     (50, 10), (70, 10), (100, 10), \\\n",
    "                     (50, 30), (70, 30), (100, 30), \\\n",
    "                     (50, 50), (70, 50), (100, 50), \\\n",
    "                     (50, 70), (70, 70), (100, 70), \\\n",
    "                     (50, 30, 10), (70, 30, 10), (100, 30, 10), \\\n",
    "                     (16, 4, 2)]\n",
    "accuracies = np.zeros(len(hidden_components))\n",
    "deviations = np.zeros(len(hidden_components))\n",
    "i = 0\n",
    "for components in hidden_components:\n",
    "    accuracy = np.zeros(n_folds)\n",
    "    j = 0\n",
    "    for train, test in KFold(n_splits=n_folds).split(X_train):\n",
    "        classifier = MLPClassifier(solver='lbfgs', alpha=nn_alpha, hidden_layer_sizes=components)\n",
    "        classifier.fit(X_train[train], y_train[train])\n",
    "        y_pred = classifier.predict(X_train[test])\n",
    "        accuracy[j] = accuracy_score(y_train[test], y_pred)\n",
    "        j += 1\n",
    "    accuracies[i] = np.mean(accuracy)\n",
    "    deviations[i] = stats.sem(accuracy)\n",
    "    i += 1"
   ]
  },
  {
   "cell_type": "code",
   "execution_count": 33,
   "metadata": {},
   "outputs": [
    {
     "data": {
      "text/plain": [
       "<Container object of 3 artists>"
      ]
     },
     "execution_count": 33,
     "metadata": {},
     "output_type": "execute_result"
    },
    {
     "data": {
      "image/png": "[encoded data removed]",
      "text/plain": [
       "<matplotlib.figure.Figure at 0x1b1bc018860>"
      ]
     },
     "metadata": {},
     "output_type": "display_data"
    }
   ],
   "source": [
    "plt.errorbar(range(len(hidden_components)), accuracies, yerr=deviations, ecolor='r')"
   ]
  },
  {
   "cell_type": "code",
   "execution_count": 34,
   "metadata": {
    "collapsed": true
   },
   "outputs": [],
   "source": [
    "# Here we have to see if we should pick from the range above, \n",
    "# or from this list of combinations, or we could choose from\n",
    "# among all those options. Once again we could probably create \n",
    "# some algorithm to choose based on the deviations. Again it \n",
    "# looks quite random which one performs best, so we might as \n",
    "# well just go argmax again. Another simple option might have \n",
    "# been argmax(accuracies-deviations)\n",
    "nn_hidden_components = hidden_components[np.argmax(accuracies)]"
   ]
  },
  {
   "cell_type": "markdown",
   "metadata": {},
   "source": [
    "Once again it's hard to point out any specific combination of layers that seems better than the others."
   ]
  },
  {
   "cell_type": "code",
   "execution_count": 35,
   "metadata": {
    "collapsed": true
   },
   "outputs": [],
   "source": [
    "from sklearn.linear_model import LogisticRegression\n",
    "from sklearn.decomposition import PCA\n",
    "from sklearn.utils import resample"
   ]
  },
  {
   "cell_type": "code",
   "execution_count": 36,
   "metadata": {
    "collapsed": true
   },
   "outputs": [],
   "source": [
    "n_features = len(features)"
   ]
  },
  {
   "cell_type": "code",
   "execution_count": 37,
   "metadata": {
    "collapsed": true
   },
   "outputs": [],
   "source": [
    "n_bootstraps = 100\n",
    "n_folds = 10\n",
    "accuracies = np.zeros(n_features-1)\n",
    "deviations = np.zeros(n_features-1)\n",
    "pca = PCA()\n",
    "X_pca = pca.fit_transform(X_train)\n",
    "for components in range(1, n_features):\n",
    "    accuracy = np.zeros(n_bootstraps * n_folds)\n",
    "    i = 0\n",
    "    for train, test in KFold(n_splits=n_folds).split(X_pca):\n",
    "        for B in range(n_bootstraps):\n",
    "            Xtr, ytr = resample(X_pca[train, :components], y_train[train])\n",
    "            Xte, yte = resample(X_pca[test, :components], y_train[test])\n",
    "            y_pred = LogisticRegression().fit(Xtr, ytr).predict(Xte)\n",
    "            accuracy[i] = accuracy_score(y_pred, yte)\n",
    "            i += 1\n",
    "    accuracies[components-1] = np.mean(accuracy)\n",
    "    deviations[components-1] = stats.sem(accuracy)"
   ]
  },
  {
   "cell_type": "code",
   "execution_count": 38,
   "metadata": {},
   "outputs": [
    {
     "data": {
      "text/plain": [
       "<Container object of 3 artists>"
      ]
     },
     "execution_count": 38,
     "metadata": {},
     "output_type": "execute_result"
    },
    {
     "data": {
      "image/png": "[encoded data removed]",
      "text/plain": [
       "<matplotlib.figure.Figure at 0x1b1bc7eaf28>"
      ]
     },
     "metadata": {},
     "output_type": "display_data"
    }
   ],
   "source": [
    "plt.errorbar(np.arange(1,n_features), accuracies, yerr=deviations, ecolor='r')"
   ]
  },
  {
   "cell_type": "markdown",
   "metadata": {},
   "source": [
    "It looks like we get better predictions the more components we add, so we might as well drop the PCR and use all"
   ]
  },
  {
   "cell_type": "code",
   "execution_count": 39,
   "metadata": {},
   "outputs": [
    {
     "data": {
      "text/plain": [
       "[<matplotlib.lines.Line2D at 0x1b1bc83d4a8>,\n",
       " <matplotlib.lines.Line2D at 0x1b1bc83d6a0>]"
      ]
     },
     "execution_count": 39,
     "metadata": {},
     "output_type": "execute_result"
    },
    {
     "data": {
      "image/png": "[encoded data removed]",
      "text/plain": [
       "<matplotlib.figure.Figure at 0x1b1bc87cf60>"
      ]
     },
     "metadata": {},
     "output_type": "display_data"
    }
   ],
   "source": [
    "i = 0\n",
    "accuracies = np.zeros(10)\n",
    "for train, test in KFold(n_splits=10).split(X_train):\n",
    "    y_pred = LogisticRegression().fit(X_train[train], y_train[train]).predict(X_train[test])\n",
    "    accuracies[i] = accuracy_score(y_pred, y_train[test])\n",
    "    i += 1\n",
    "plt.plot(np.arange(1,11), accuracies, np.arange(1,11), [np.average(accuracies) for _ in range(1,11)])"
   ]
  },
  {
   "cell_type": "code",
   "execution_count": 40,
   "metadata": {
    "collapsed": true
   },
   "outputs": [],
   "source": [
    "from sklearn.neighbors import KNeighborsClassifier"
   ]
  },
  {
   "cell_type": "code",
   "execution_count": 41,
   "metadata": {
    "collapsed": true
   },
   "outputs": [],
   "source": [
    "n_folds = 10\n",
    "ks = np.arange(1, int((n_folds-1)*len(X_train)/n_folds))\n",
    "accuracies = np.zeros(len(ks))\n",
    "deviations = np.zeros(len(ks))\n",
    "for k in ks:\n",
    "    accuracy = np.zeros(n_folds)\n",
    "    i = 0\n",
    "    for train, test in KFold(n_splits=n_folds).split(X_train):\n",
    "        y_pred = KNeighborsClassifier(n_neighbors=k).fit(X_train[train], y_train[train]).predict(X_train[test])\n",
    "        accuracy[i] = accuracy_score(y_pred, y_train[test])\n",
    "        i += 1\n",
    "    accuracies[k-1] = np.mean(accuracy)\n",
    "    deviations[k-1] = stats.sem(accuracy)"
   ]
  },
  {
   "cell_type": "code",
   "execution_count": 42,
   "metadata": {},
   "outputs": [
    {
     "data": {
      "text/plain": [
       "<Container object of 3 artists>"
      ]
     },
     "execution_count": 42,
     "metadata": {},
     "output_type": "execute_result"
    },
    {
     "data": {
      "image/png": "[encoded data removed]",
      "text/plain": [
       "<matplotlib.figure.Figure at 0x1b1bc912c88>"
      ]
     },
     "metadata": {},
     "output_type": "display_data"
    }
   ],
   "source": [
    "plt.errorbar(ks, accuracies, yerr=deviations, ecolor='r')"
   ]
  },
  {
   "cell_type": "code",
   "execution_count": 43,
   "metadata": {
    "collapsed": true
   },
   "outputs": [],
   "source": [
    "n_folds = 10\n",
    "# Ks from 1 to the maximum number of point in the cv training set\n",
    "# This could be a huge number, perhaps we should limit it somehow?\n",
    "# ks = np.arange(1, int(((n_folds-1)/n_folds)*len(X_train)))\n",
    "# Perhaps it's better to choose differently. Perhaps not every k\n",
    "# in the interval, and perhaps we don't need the upper half?\n",
    "n_tr_points = int(((n_folds-1)/n_folds)*len(X_train))\n",
    "# Start at 1 (10**0), end at n_tr_point/2 (10**np.log10(int(n_tr_point/2)))\n",
    "ks = np.logspace(0, np.log10(int(n_tr_points/2)), 50)\n",
    "accuracies = np.zeros(len(ks))\n",
    "deviations = np.zeros(len(ks))\n",
    "n_bootstraps = 100\n",
    "j = 0\n",
    "for k in ks:\n",
    "    k = int(k)\n",
    "    accuracy = np.zeros(n_folds*n_bootstraps)\n",
    "    i = 0\n",
    "    for train, test in KFold(n_splits=n_folds).split(X_train):\n",
    "        for B in range(n_bootstraps):\n",
    "            Xtr, ytr = resample(X_train[train], y_train[train])\n",
    "            Xte, yte = resample(X_train[test], y_train[test])\n",
    "            y_pred = KNeighborsClassifier(n_neighbors=k).fit(Xtr, ytr).predict(Xte)\n",
    "            accuracy[i] = accuracy_score(y_pred, yte)\n",
    "            i += 1\n",
    "    accuracies[j] = np.mean(accuracy)\n",
    "    deviations[j] = stats.sem(accuracy)\n",
    "    j += 1"
   ]
  },
  {
   "cell_type": "code",
   "execution_count": 44,
   "metadata": {},
   "outputs": [
    {
     "data": {
      "image/png": "[encoded data removed]",
      "text/plain": [
       "<matplotlib.figure.Figure at 0x1b1bb78a3c8>"
      ]
     },
     "metadata": {},
     "output_type": "display_data"
    }
   ],
   "source": [
    "plt.errorbar(ks, accuracies, yerr=deviations, ecolor='r')\n",
    "plt.xscale('log')"
   ]
  },
  {
   "cell_type": "code",
   "execution_count": 45,
   "metadata": {
    "collapsed": true
   },
   "outputs": [],
   "source": [
    "# Once again we have many candidates for best k, so which one do we pick?\n",
    "# This time, lets go\n",
    "knn_k = int(ks[np.argmax(accuracies-deviations)])\n",
    "# Though I suppose an even better option, here and for the NN\n",
    "# might be to create multiple approximately evenly good models\n",
    "# and use all of them"
   ]
  },
  {
   "cell_type": "markdown",
   "metadata": {},
   "source": [
    "Could we perhaps improve our kNN by reducing the dimensionality?"
   ]
  },
  {
   "cell_type": "code",
   "execution_count": 46,
   "metadata": {
    "collapsed": true
   },
   "outputs": [],
   "source": [
    "n_bootstraps = 100\n",
    "n_folds = 10\n",
    "accuracies = np.zeros(n_features-1)\n",
    "deviations = np.zeros(n_features-1)\n",
    "pca = PCA()\n",
    "X_pca = pca.fit_transform(X_train)\n",
    "# We already have this: X_pca = pca.fit_transform(X_train)\n",
    "for components in range(1, n_features):\n",
    "    accuracy = np.zeros(n_bootstraps * n_folds)\n",
    "    i = 0\n",
    "    for train, test in KFold(n_splits=n_folds).split(X_pca):\n",
    "        for B in range(n_bootstraps):\n",
    "            Xtr, ytr = resample(X_pca[train, :components], y_train[train])\n",
    "            Xte, yte = resample(X_pca[test, :components], y_train[test])\n",
    "            y_pred = KNeighborsClassifier(n_neighbors=knn_k).fit(Xtr, ytr).predict(Xte)\n",
    "            accuracy[i] = accuracy_score(y_pred, yte)\n",
    "            i += 1\n",
    "    accuracies[components-1] = np.mean(accuracy)\n",
    "    deviations[components-1] = stats.sem(accuracy)"
   ]
  },
  {
   "cell_type": "code",
   "execution_count": 47,
   "metadata": {},
   "outputs": [
    {
     "data": {
      "text/plain": [
       "<Container object of 3 artists>"
      ]
     },
     "execution_count": 47,
     "metadata": {},
     "output_type": "execute_result"
    },
    {
     "data": {
      "image/png": "[encoded data removed]",
      "text/plain": [
       "<matplotlib.figure.Figure at 0x1b1bc8980b8>"
      ]
     },
     "metadata": {},
     "output_type": "display_data"
    }
   ],
   "source": [
    "plt.errorbar(np.arange(1,n_features), accuracies, yerr=deviations, ecolor='r')"
   ]
  },
  {
   "cell_type": "markdown",
   "metadata": {},
   "source": [
    "It seems that here also, as with Logistic regression, we might as well use all the components"
   ]
  },
  {
   "cell_type": "markdown",
   "metadata": {},
   "source": [
    "Let's now check the accuracy of always granting"
   ]
  },
  {
   "cell_type": "code",
   "execution_count": 48,
   "metadata": {},
   "outputs": [
    {
     "data": {
      "text/plain": [
       "0.7013333333333334"
      ]
     },
     "execution_count": 48,
     "metadata": {},
     "output_type": "execute_result"
    }
   ],
   "source": [
    "accuracy_score(np.ones(len(y_train)), y_train)"
   ]
  },
  {
   "cell_type": "markdown",
   "metadata": {},
   "source": [
    "OK, so now we have three methods that seem fairly equally good at prediction, but with accuracies around 0.73 they arn't very much better than the base at 0.70, so where do we go from here? What happens if we try to use each of the three and classify by majority vote? Will that improve accuracy? Shoudl we somehow weigh the methods? Other things to try, what if we rewind and instead of creating dummies for all categorical features we give ordered values to the features with ordered categories?"
   ]
  },
  {
   "cell_type": "markdown",
   "metadata": {},
   "source": [
    "Try some kind of likelihood calculation based on get_proba() from all methods and then use that to rate the methods to weigh them, then compare the performance of each on the test set vs the combination of the three."
   ]
  },
  {
   "cell_type": "markdown",
   "metadata": {},
   "source": [
    "Make sure to, during fitting, store the feature transformations so that we can use them to transform new data to be predicted"
   ]
  },
  {
   "cell_type": "code",
   "execution_count": 49,
   "metadata": {
    "collapsed": true
   },
   "outputs": [],
   "source": [
    "# Should we create multiple models of each kind by \n",
    "# bootstrapping the training set, or just create one of each\n",
    "# using the whole training set? Lets go with the simple approach\n",
    "classifiers = [MLPClassifier(solver='lbfgs', alpha=nn_alpha, hidden_layer_sizes=nn_hidden_components).fit(X_train, y_train), \\\n",
    "               LogisticRegression().fit(X_train, y_train), \\\n",
    "               KNeighborsClassifier(n_neighbors=knn_k).fit(X_train, y_train)]"
   ]
  },
  {
   "cell_type": "code",
   "execution_count": 50,
   "metadata": {
    "collapsed": true
   },
   "outputs": [],
   "source": [
    "probabilities = np.zeros((len(X_test), len(classifiers)), dtype=np.float64)\n",
    "for i in range(len(X_test)):\n",
    "    for j in range(len(classifiers)):\n",
    "        probabilities[i, j] = classifiers[j].predict_proba(X_test[i].reshape(1, -1))[:,y_test[i]-1]\n",
    "# We do y_test-1 to get outcomes 1, 2 to 0, 1 to correspond to indices"
   ]
  },
  {
   "cell_type": "code",
   "execution_count": 51,
   "metadata": {},
   "outputs": [
    {
     "data": {
      "text/plain": [
       "[<matplotlib.lines.Line2D at 0x1b1bed684e0>,\n",
       " <matplotlib.lines.Line2D at 0x1b1bed68710>,\n",
       " <matplotlib.lines.Line2D at 0x1b1bed68940>]"
      ]
     },
     "execution_count": 51,
     "metadata": {},
     "output_type": "execute_result"
    },
    {
     "data": {
      "image/png": "[encoded data removed]",
      "text/plain": [
       "<matplotlib.figure.Figure at 0x1b1bc8a2f28>"
      ]
     },
     "metadata": {},
     "output_type": "display_data"
    }
   ],
   "source": [
    "plt.plot(range(len(X_test)), probabilities)"
   ]
  },
  {
   "cell_type": "code",
   "execution_count": 52,
   "metadata": {
    "collapsed": true
   },
   "outputs": [],
   "source": [
    "n_ways_of_weighing = 3\n",
    "weights = np.zeros((n_ways_of_weighing, len(classifiers)))"
   ]
  },
  {
   "cell_type": "code",
   "execution_count": 53,
   "metadata": {
    "collapsed": true
   },
   "outputs": [],
   "source": [
    "# We could have started with np.ones(len(classifiers))/len(classifiers)\n",
    "# but this way is even more uninformed\n",
    "method_weights = np.array([probabilities[0, j] for j in range(len(classifiers))])\n",
    "method_weights /= np.sum(method_weights)\n",
    "for i in range(1, len(X_test)):\n",
    "    method_weights *= probabilities[i, :]\n",
    "    method_weights /= np.sum(method_weights)"
   ]
  },
  {
   "cell_type": "code",
   "execution_count": 54,
   "metadata": {},
   "outputs": [
    {
     "data": {
      "text/plain": [
       "array([1.84887820e-104, 9.58594009e-001, 4.14059907e-002])"
      ]
     },
     "execution_count": 54,
     "metadata": {},
     "output_type": "execute_result"
    }
   ],
   "source": [
    "weights[0, :] = method_weights\n",
    "method_weights"
   ]
  },
  {
   "cell_type": "markdown",
   "metadata": {},
   "source": [
    "Well, from this it looks like the logistic regression is the only one worth anything and we might just go ahead with only that one, but perhaps it's better to keep them all around in case the others perform better on different datasets or runs."
   ]
  },
  {
   "cell_type": "markdown",
   "metadata": {},
   "source": [
    "But what if we try weighing them on utility instead?"
   ]
  },
  {
   "cell_type": "code",
   "execution_count": 55,
   "metadata": {
    "collapsed": true
   },
   "outputs": [],
   "source": [
    "rate = 0.005\n",
    "max_loan = X_test_unscaled['amount'].max()\n",
    "def utility(loan, rate, time, outcome):\n",
    "    return loan * (-1 if outcome==2 else (1+rate)**time - 1)"
   ]
  },
  {
   "cell_type": "code",
   "execution_count": 56,
   "metadata": {
    "collapsed": true
   },
   "outputs": [],
   "source": [
    "def expected_utility(loan, rate, time, prob):\n",
    "    return loan * (prob * (1+rate)**time - 1)"
   ]
  },
  {
   "cell_type": "code",
   "execution_count": 57,
   "metadata": {
    "collapsed": true
   },
   "outputs": [],
   "source": [
    "method_weights = np.ones(len(classifiers))/len(classifiers)\n",
    "for i in range(len(X_test)):\n",
    "    loan, time = X_test_unscaled[i:i+1][['amount', 'duration']].values.ravel()\n",
    "    loan /= max_loan\n",
    "    prob = probabilities[i, :] if y_test[i] == 1 else 1-probabilities[i, :]\n",
    "    # Utility with numbers above will range between -1 and ca 0.43, and we\n",
    "    # can't use negative numbers (or especially the quite likely utility 0)\n",
    "    # So we have to transform it somehow before use. Adding 2 to make it \n",
    "    # range from 1 to ca 2.43 seems reasonable\n",
    "    method_weights *= 2 + np.array([utility(loan, rate, time, y_test[i]) if eu > 0 else 0 for eu in expected_utility(loan, rate, time, prob)])\n",
    "    method_weights /= np.sum(method_weights)"
   ]
  },
  {
   "cell_type": "code",
   "execution_count": 58,
   "metadata": {},
   "outputs": [
    {
     "data": {
      "text/plain": [
       "array([0.02155585, 0.40613086, 0.57231329])"
      ]
     },
     "execution_count": 58,
     "metadata": {},
     "output_type": "execute_result"
    }
   ],
   "source": [
    "weights[1, :] = method_weights\n",
    "method_weights"
   ]
  },
  {
   "cell_type": "markdown",
   "metadata": {},
   "source": [
    "Suddenly things are looking different. Out of curiousity, what would have happened with different utility transformations, I wonder."
   ]
  },
  {
   "cell_type": "code",
   "execution_count": 59,
   "metadata": {},
   "outputs": [
    {
     "data": {
      "text/plain": [
       "[<matplotlib.lines.Line2D at 0x1b1bee16240>,\n",
       " <matplotlib.lines.Line2D at 0x1b1bee16470>,\n",
       " <matplotlib.lines.Line2D at 0x1b1bee166a0>]"
      ]
     },
     "execution_count": 59,
     "metadata": {},
     "output_type": "execute_result"
    },
    {
     "data": {
      "image/png": "[encoded data removed]",
      "text/plain": [
       "<matplotlib.figure.Figure at 0x1b1bedad0f0>"
      ]
     },
     "metadata": {},
     "output_type": "display_data"
    }
   ],
   "source": [
    "xvals = np.arange(10)\n",
    "yvals = np.zeros((len(xvals), len(classifiers)))\n",
    "for trans in xvals:\n",
    "    method_weights = np.ones(len(classifiers))/len(classifiers)\n",
    "    for i in range(len(X_test)):\n",
    "        loan, time = X_test_unscaled[i:i+1][['amount', 'duration']].values.ravel()\n",
    "        loan /= max_loan\n",
    "        prob = probabilities[i, :] if y_test[i] == 1 else 1-probabilities[i, :]\n",
    "        # Utility with numbers above will range between -5 and ca 4.1, and we\n",
    "        # can't use negative numbers (or especially the quite likely utility 0)\n",
    "        # So we have to transform it somehow before use. Adding 10 to make it \n",
    "        # range from 5 to ca 14.1 seems reasonable\n",
    "        method_weights *= (1+trans) + np.array([utility(loan, rate, time, y_test[i]) if eu > 0 else 0 for eu in expected_utility(loan, rate, time, prob)])\n",
    "        method_weights /= np.sum(method_weights)\n",
    "    yvals[trans] = method_weights\n",
    "plt.plot(1+xvals, yvals)"
   ]
  },
  {
   "cell_type": "markdown",
   "metadata": {},
   "source": [
    "As expected increasing the transformations evens out the weighing since higher transformation value makes the difference between correct and incorrect classification less, but it's evening out slower than I had expected"
   ]
  },
  {
   "cell_type": "markdown",
   "metadata": {},
   "source": [
    "Perhaps it's also possible to weigh them based on total utility over the test set?"
   ]
  },
  {
   "cell_type": "code",
   "execution_count": 60,
   "metadata": {},
   "outputs": [
    {
     "name": "stdout",
     "output_type": "stream",
     "text": [
      "[-87817.71416024 -11876.51280245  -5097.94683599]\n"
     ]
    }
   ],
   "source": [
    "method_utility = np.zeros(len(classifiers))\n",
    "for i in range(len(X_test)):\n",
    "    loan, time = X_test_unscaled[i:i+1][['amount', 'duration']].values.ravel()\n",
    "    prob = probabilities[i, :] if y_test[i] == 1 else 1-probabilities[i, :]\n",
    "    method_utility += np.array([utility(loan, rate, time, y_test[i]) if eu > 0 else 0 for eu in expected_utility(loan, rate, time, prob)])\n",
    "\n",
    "# Adjust away possible negative numbers (if you lose money, you get 0 weight)\n",
    "method_weight = method_utility - min(0, np.min(method_utility))\n",
    "method_weight = method_weight / np.sum(method_weight)\n",
    "print(method_utility)"
   ]
  },
  {
   "cell_type": "code",
   "execution_count": 61,
   "metadata": {},
   "outputs": [
    {
     "data": {
      "text/plain": [
       "array([0.        , 0.47863821, 0.52136179])"
      ]
     },
     "execution_count": 61,
     "metadata": {},
     "output_type": "execute_result"
    }
   ],
   "source": [
    "weights[2, :] = method_weight\n",
    "method_weight"
   ]
  },
  {
   "cell_type": "markdown",
   "metadata": {},
   "source": [
    "Now check for each of the three ways of weighing the methods, which gives the best utility over the test set. Perhaps we are now overusing the test set and that we ought to have had another?"
   ]
  },
  {
   "cell_type": "code",
   "execution_count": 62,
   "metadata": {},
   "outputs": [
    {
     "data": {
      "text/plain": [
       "array([[1.84887820e-104, 2.15558513e-002, 0.00000000e+000],\n",
       "       [9.58594009e-001, 4.06130863e-001, 4.78638206e-001],\n",
       "       [4.14059907e-002, 5.72313286e-001, 5.21361794e-001]])"
      ]
     },
     "execution_count": 62,
     "metadata": {},
     "output_type": "execute_result"
    }
   ],
   "source": [
    "weights.T"
   ]
  },
  {
   "cell_type": "code",
   "execution_count": 63,
   "metadata": {},
   "outputs": [
    {
     "data": {
      "text/plain": [
       "array([0.2039158 , 0.49150959, 0.74193548])"
      ]
     },
     "execution_count": 63,
     "metadata": {},
     "output_type": "execute_result"
    }
   ],
   "source": [
    "probabilities[0, :]"
   ]
  },
  {
   "cell_type": "code",
   "execution_count": 64,
   "metadata": {},
   "outputs": [
    {
     "data": {
      "text/plain": [
       "array([0.50187872, 0.62863233, 0.62207208])"
      ]
     },
     "execution_count": 64,
     "metadata": {},
     "output_type": "execute_result"
    }
   ],
   "source": [
    "probabilities[0, :] @ weights.T"
   ]
  },
  {
   "cell_type": "code",
   "execution_count": 65,
   "metadata": {},
   "outputs": [
    {
     "data": {
      "text/plain": [
       "array([-12617.09299169,   2698.40109883,   2698.40109883])"
      ]
     },
     "execution_count": 65,
     "metadata": {},
     "output_type": "execute_result"
    }
   ],
   "source": [
    "weighing_utility = np.zeros(n_ways_of_weighing)\n",
    "for i in range(len(X_test)):\n",
    "    loan, time = X_test_unscaled[i:i+1][['amount', 'duration']].values.ravel()\n",
    "    prob = probabilities[i, :] if y_test[i] == 1 else 1-probabilities[i, :]\n",
    "    prob = prob @ weights.T\n",
    "    weighing_utility += np.array([utility(loan, rate, time, y_test[i]) if eu > 0 else 0 for eu in expected_utility(loan, rate, time, prob)])\n",
    "\n",
    "weighing_utility"
   ]
  },
  {
   "cell_type": "markdown",
   "metadata": {},
   "source": [
    "OK, not so surprising that the weighing method that maximizes utility over the test set gets the highest utility over the test set, I suppose, so let's do it better and fit weights and then test using XV over the test set. And lets also add the stupid weighing, equal weight for all models as well as variants for the second with transformations of 1, 3 and 4. Finally we'll add three weighings that basically are one for each of the methods"
   ]
  },
  {
   "cell_type": "code",
   "execution_count": 66,
   "metadata": {
    "collapsed": true
   },
   "outputs": [],
   "source": [
    "n_folds = 5\n",
    "n_ways_of_weighing = 10\n",
    "weights = np.zeros((n_ways_of_weighing, len(classifiers)))\n",
    "weighing_utility = np.zeros((n_folds, n_ways_of_weighing))\n",
    "n = 0\n",
    "for train, test in KFold(n_splits=n_folds).split(X_test):\n",
    "    # Fit weights\n",
    "    weights[0, :] = np.ones(len(classifiers))/len(classifiers)\n",
    "    weights[1, :] = np.ones(len(classifiers))/len(classifiers)\n",
    "    weights[2, :] = np.ones(len(classifiers))/len(classifiers)\n",
    "    weights[3, :] = np.ones(len(classifiers))/len(classifiers)\n",
    "    weights[4, :] = np.ones(len(classifiers))/len(classifiers)\n",
    "    weights[5, :] = np.zeros(len(classifiers))\n",
    "    weights[6, :] = np.ones(len(classifiers))/len(classifiers)\n",
    "    weights[7, :] = np.array([1, 0, 0])\n",
    "    weights[8, :] = np.array([0, 1, 0])\n",
    "    weights[9, :] = np.array([0, 0, 1])\n",
    "    for i in train:\n",
    "        loan, time = X_test_unscaled[i:i+1][['amount', 'duration']].values.ravel()\n",
    "        loan /= max_loan\n",
    "        prob = probabilities[i, :] if y_test[i] == 1 else 1-probabilities[i, :]\n",
    "        util = np.array([utility(loan, rate, time, y_test[i]) if eu > 0 else 0 for eu in expected_utility(loan, rate, time, prob)])\n",
    "        \n",
    "        weights[0, :] *= probabilities[i, :]\n",
    "        weights[0, :] /= np.sum(weights[0, :])\n",
    "        weights[1, :] *= 1 + util\n",
    "        weights[1, :] /= np.sum(weights[1, :])\n",
    "        weights[2, :] *= 2 + util\n",
    "        weights[2, :] /= np.sum(weights[2, :])\n",
    "        weights[3, :] *= 3 + util\n",
    "        weights[3, :] /= np.sum(weights[3, :])\n",
    "        weights[4, :] *= 4 + util\n",
    "        weights[4, :] /= np.sum(weights[4, :])\n",
    "        weights[5, :] += util\n",
    "\n",
    "    # Adjust away possible negative numbers (if you lose money, you get 0 weight)\n",
    "    weights[5, :] -= min(0, np.min(weights[5, :]))\n",
    "    weights[5, :] /= np.sum(weights[5, :])\n",
    "    \n",
    "    # Test performance\n",
    "    for i in test:\n",
    "        loan, time = X_test_unscaled[i:i+1][['amount', 'duration']].values.ravel()\n",
    "        prob = probabilities[i, :] if y_test[i] == 1 else 1-probabilities[i, :]\n",
    "        prob = prob @ weights.T\n",
    "        weighing_utility[n, :] += np.array([utility(loan, rate, time, y_test[i]) if eu > 0 else 0 for eu in expected_utility(loan, rate, time, prob)])\n",
    "    \n",
    "    n += 1"
   ]
  },
  {
   "cell_type": "code",
   "execution_count": 67,
   "metadata": {},
   "outputs": [
    {
     "data": {
      "text/plain": [
       "array([[  1061.2563866 ,    330.11401108,   1061.2563866 ,\n",
       "          1061.2563866 ,   1061.2563866 ,   1061.2563866 ,\n",
       "          2523.60779741, -16976.32957169,   2869.31337565,\n",
       "           330.11401108],\n",
       "       [ -3947.08203574,  -4538.62337046,  -4176.99695312,\n",
       "         -3966.78398637,  -3966.78398637,  -4176.99695312,\n",
       "         -9839.82790266, -17083.70293071,  -3947.08203574,\n",
       "         -4559.88762704],\n",
       "       [  -154.60437037,   1381.71472434,    384.03198619,\n",
       "          1535.44886203,   1930.27996715,    384.03198619,\n",
       "          2682.73462382, -18841.50567349,    721.09914764,\n",
       "          1294.56397618],\n",
       "       [  2643.03520501,    726.82855762,   1278.44586462,\n",
       "          1278.44586462,   1278.44586462,   1278.44586462,\n",
       "          4924.10369761,  -5008.85219588,   2643.03520501,\n",
       "          3314.59898924],\n",
       "       [  6598.13159028,   4517.22490104,   4517.22490104,\n",
       "          4517.22490104,   4517.22490104,   4517.22490104,\n",
       "          7652.59775483, -29907.32378847, -14162.878495  ,\n",
       "         -5477.33618545]])"
      ]
     },
     "execution_count": 67,
     "metadata": {},
     "output_type": "execute_result"
    }
   ],
   "source": [
    "weighing_utility"
   ]
  },
  {
   "cell_type": "code",
   "execution_count": 68,
   "metadata": {},
   "outputs": [
    {
     "data": {
      "text/plain": [
       "array([  1240.14735516,    483.45176473,    612.79243707,    885.11840558,\n",
       "          964.08462661,    612.79243707,   1588.6431942 , -17563.54283205,\n",
       "        -2375.30256049,  -1019.5893672 ])"
      ]
     },
     "execution_count": 68,
     "metadata": {},
     "output_type": "execute_result"
    }
   ],
   "source": [
    "np.mean(weighing_utility, axis=0)"
   ]
  },
  {
   "cell_type": "code",
   "execution_count": 69,
   "metadata": {},
   "outputs": [
    {
     "data": {
      "text/plain": [
       "array([1725.69945951, 1455.7160687 , 1394.33175772, 1366.41529552,\n",
       "       1378.04335678, 1394.33175772, 3004.81270765, 3950.9330546 ,\n",
       "       3191.3543435 , 1708.32391658])"
      ]
     },
     "execution_count": 69,
     "metadata": {},
     "output_type": "execute_result"
    }
   ],
   "source": [
    "stats.sem(weighing_utility)"
   ]
  },
  {
   "cell_type": "code",
   "execution_count": 70,
   "metadata": {},
   "outputs": [
    {
     "data": {
      "text/plain": [
       "<Container object of 3 artists>"
      ]
     },
     "execution_count": 70,
     "metadata": {},
     "output_type": "execute_result"
    },
    {
     "data": {
      "image/png": "[encoded data removed]",
      "text/plain": [
       "<matplotlib.figure.Figure at 0x1b1bee36908>"
      ]
     },
     "metadata": {},
     "output_type": "display_data"
    }
   ],
   "source": [
    "plt.errorbar(range(n_ways_of_weighing), np.mean(weighing_utility, axis=0), yerr=1*stats.sem(weighing_utility), ecolor='r')"
   ]
  },
  {
   "cell_type": "markdown",
   "metadata": {},
   "source": [
    "So in conclusion it seems hard to know which method works best, other than that the neural nets seem wto work quite poorly, and that that and logistic regression seems to give high variance. Which weighing method to use here is a question. One way is to go with simply argmax, another is to use the highest lower end of a $2\\sigma$ interval, but I'll go with a compromise between the two: the lower end of the $\\sigma$ interval. First though, it might be interesting to try this out using Bagging on the classifiers."
   ]
  },
  {
   "cell_type": "code",
   "execution_count": 71,
   "metadata": {},
   "outputs": [
    {
     "name": "stderr",
     "output_type": "stream",
     "text": [
      "C:\\ProgramData\\Anaconda3\\lib\\site-packages\\sklearn\\ensemble\\weight_boosting.py:29: DeprecationWarning: numpy.core.umath_tests is an internal NumPy module and should not be imported. It will be removed in a future NumPy release.\n",
      "  from numpy.core.umath_tests import inner1d\n"
     ]
    }
   ],
   "source": [
    "from sklearn.ensemble import BaggingClassifier"
   ]
  },
  {
   "cell_type": "code",
   "execution_count": 72,
   "metadata": {},
   "outputs": [
    {
     "data": {
      "text/plain": [
       "<Container object of 3 artists>"
      ]
     },
     "execution_count": 72,
     "metadata": {},
     "output_type": "execute_result"
    },
    {
     "data": {
      "image/png": "[encoded data removed]",
      "text/plain": [
       "<matplotlib.figure.Figure at 0x1b1bb8d0198>"
      ]
     },
     "metadata": {},
     "output_type": "display_data"
    }
   ],
   "source": [
    "classifiers = [BaggingClassifier(MLPClassifier(solver='lbfgs', alpha=nn_alpha, hidden_layer_sizes=nn_hidden_components)).fit(X_train, y_train), \\\n",
    "               BaggingClassifier(LogisticRegression()).fit(X_train, y_train), \\\n",
    "               BaggingClassifier(KNeighborsClassifier(n_neighbors=knn_k)).fit(X_train, y_train)]\n",
    "\n",
    "probabilities = np.zeros((len(X_test), len(classifiers)), dtype=np.float64)\n",
    "for i in range(len(X_test)):\n",
    "    for j in range(len(classifiers)):\n",
    "        probabilities[i, j] = classifiers[j].predict_proba(X_test[i].reshape(1, -1))[:,y_test[i]-1]\n",
    "# We do y_test-1 to get outcomes 1, 2 to 0, 1 to correspond to indices\n",
    "\n",
    "n_folds = 5\n",
    "n_ways_of_weighing = 10\n",
    "weights = np.zeros((n_ways_of_weighing, len(classifiers)))\n",
    "weighing_utility = np.zeros((n_folds, n_ways_of_weighing))\n",
    "n = 0\n",
    "for train, test in KFold(n_splits=n_folds).split(X_test):\n",
    "    # Fit weights\n",
    "    weights[0, :] = np.ones(len(classifiers))/len(classifiers)\n",
    "    weights[1, :] = np.ones(len(classifiers))/len(classifiers)\n",
    "    weights[2, :] = np.ones(len(classifiers))/len(classifiers)\n",
    "    weights[3, :] = np.ones(len(classifiers))/len(classifiers)\n",
    "    weights[4, :] = np.ones(len(classifiers))/len(classifiers)\n",
    "    weights[5, :] = np.zeros(len(classifiers))\n",
    "    weights[6, :] = np.ones(len(classifiers))/len(classifiers)\n",
    "    weights[7, :] = np.array([1, 0, 0])\n",
    "    weights[8, :] = np.array([0, 1, 0])\n",
    "    weights[9, :] = np.array([0, 0, 1])\n",
    "    for i in train:\n",
    "        loan, time = X_test_unscaled[i:i+1][['amount', 'duration']].values.ravel()\n",
    "        loan /= max_loan\n",
    "        prob = probabilities[i, :] if y_test[i] == 1 else 1-probabilities[i, :]\n",
    "        util = np.array([utility(loan, rate, time, y_test[i]) if eu > 0 else 0 for eu in expected_utility(loan, rate, time, prob)])\n",
    "        \n",
    "        weights[0, :] *= probabilities[i, :]\n",
    "        weights[0, :] /= np.sum(weights[0, :])\n",
    "        weights[1, :] *= 1 + util\n",
    "        weights[1, :] /= np.sum(weights[1, :])\n",
    "        weights[2, :] *= 2 + util\n",
    "        weights[2, :] /= np.sum(weights[2, :])\n",
    "        weights[3, :] *= 3 + util\n",
    "        weights[3, :] /= np.sum(weights[3, :])\n",
    "        weights[4, :] *= 4 + util\n",
    "        weights[4, :] /= np.sum(weights[4, :])\n",
    "        weights[5, :] += util\n",
    "\n",
    "    # Adjust away possible negative numbers (if you lose money, you get 0 weight)\n",
    "    weights[5, :] -= min(0, np.min(weights[5, :]))\n",
    "    weights[5, :] /= np.sum(weights[5, :])\n",
    "    \n",
    "    # Test performance\n",
    "    for i in test:\n",
    "        loan, time = X_test_unscaled[i:i+1][['amount', 'duration']].values.ravel()\n",
    "        prob = probabilities[i, :] if y_test[i] == 1 else 1-probabilities[i, :]\n",
    "        prob = prob @ weights.T\n",
    "        weighing_utility[n, :] += np.array([utility(loan, rate, time, y_test[i]) if eu > 0 else 0 for eu in expected_utility(loan, rate, time, prob)])\n",
    "    \n",
    "    n += 1\n",
    "    \n",
    "plt.errorbar(range(n_ways_of_weighing), np.mean(weighing_utility, axis=0), yerr=1*stats.sem(weighing_utility), ecolor='r')"
   ]
  },
  {
   "cell_type": "markdown",
   "metadata": {},
   "source": [
    "Hmmm, well, it seems no better performance, except on the neural nets, and no less variance, so not much point to move forward on."
   ]
  },
  {
   "cell_type": "code",
   "execution_count": 73,
   "metadata": {},
   "outputs": [
    {
     "data": {
      "text/plain": [
       "array([0.02384417, 0.50545876, 0.47069707])"
      ]
     },
     "execution_count": 73,
     "metadata": {},
     "output_type": "execute_result"
    }
   ],
   "source": [
    "method_weights = weights[np.argmax(np.mean(weighing_utility, axis=0) - stats.sem(weighing_utility))]\n",
    "method_weights"
   ]
  },
  {
   "cell_type": "markdown",
   "metadata": {},
   "source": [
    "For reference it might be interesting to see the test set earning of the base classifier of always granting a loan, basically mimicking the bank(s) the data is collected from. And also the perfect classfier"
   ]
  },
  {
   "cell_type": "code",
   "execution_count": 74,
   "metadata": {
    "collapsed": true
   },
   "outputs": [],
   "source": [
    "amounts = X_test_unscaled['amount'].values.ravel()\n",
    "durations = X_test_unscaled['duration'].values.ravel()\n",
    "reference_utility1 = np.array([utility(amounts[i], rate, durations[i], y_test[i]) for i in range(len(y_test))])\n",
    "reference_utility2 = np.array([utility(amounts[i], rate, durations[i], y_test[i]) if y_test[i] == 1 else 0 for i in range(len(y_test))])"
   ]
  },
  {
   "cell_type": "code",
   "execution_count": 75,
   "metadata": {},
   "outputs": [
    {
     "name": "stdout",
     "output_type": "stream",
     "text": [
      "Total utility for always granting: -249398.931887534\n",
      "Total utility for perfect classifier: 70960.068112466\n"
     ]
    }
   ],
   "source": [
    "print(\"Total utility for always granting: \" + str(np.sum(reference_utility1)))\n",
    "print(\"Total utility for perfect classifier: \" + str(np.sum(reference_utility2)))"
   ]
  },
  {
   "cell_type": "markdown",
   "metadata": {},
   "source": [
    "In this range (-235k, 64k) our best classifier around 3000 is quite close to zero"
   ]
  },
  {
   "cell_type": "markdown",
   "metadata": {},
   "source": [
    "Now the question is only, have I tortured the data too much?"
   ]
  },
  {
   "cell_type": "markdown",
   "metadata": {},
   "source": [
    "So, let's boil it down to an implementation"
   ]
  },
  {
   "cell_type": "code",
   "execution_count": 76,
   "metadata": {
    "collapsed": true
   },
   "outputs": [],
   "source": [
    "def fit(self):\n",
    "    X = df[features].values\n",
    "    y = df[target].values.ravel()\n",
    "    scaler = StandardScaler()\n",
    "    scaler.fit(X)\n",
    "    X = scaler.transform(X)\n",
    "    pca = PCA()\n",
    "    pca.fit(X)\n",
    "    X_pca = pca.transform(X)[:, :lr_components]\n",
    "\n",
    "    classifiers = [MLPClassifier(solver='lbfgs', alpha=nn_alpha, hidden_layer_sizes=nn_hidden_components).fit(X, y), \n",
    "                   LogisticRegression().fit(X_pca, y), \n",
    "                   KNeighborsClassifier(n_neighbors=knn_k).fit(X, y)]"
   ]
  },
  {
   "cell_type": "code",
   "execution_count": 77,
   "metadata": {
    "collapsed": true
   },
   "outputs": [],
   "source": [
    "def predict_proba(self, x):\n",
    "    x = scaler.transform(x)\n",
    "    x_pca = pca.transform(x)\n",
    "    return  classifier[0].predict_proba(x)[0,0] * method_weights[0] + \\\n",
    "            classifier[1].predict_proba(x_pca)[0,0] * method_weights[1] + \\\n",
    "            classifier[2].predict_proba(x)[0,0] * method_weights[2]"
   ]
  },
  {
   "cell_type": "markdown",
   "metadata": {},
   "source": [
    "Concerning part 2 of the question: What are the implicit assumptions about the labelling process in the original data, i.e. what do the labels represent?  \n",
    "The label 1 represents a repaid loan, the label 2 represents a defaulted loan, but it's quite explicit in the documentation as far as I can tell."
   ]
  },
  {
   "cell_type": "markdown",
   "metadata": {},
   "source": [
    "### 3)"
   ]
  },
  {
   "cell_type": "code",
   "execution_count": 78,
   "metadata": {
    "collapsed": true
   },
   "outputs": [],
   "source": [
    "def get_best_action():\n",
    "    # If expected utility is 0, then it makes no difference to us whether we give the loan or not\n",
    "    # so we maximize global utility by assuming that the utility for the lender is >0 with a loan\n",
    "    return 1 if expected_utility(x,1) >= expected_utility(x,0) else 0"
   ]
  },
  {
   "cell_type": "markdown",
   "metadata": {},
   "source": [
    "### 4)"
   ]
  },
  {
   "cell_type": "markdown",
   "metadata": {},
   "source": [
    "[%run documentation](https://ipython.org/ipython-doc/3/interactive/magics.html#magic-run)"
   ]
  },
  {
   "cell_type": "code",
   "execution_count": 79,
   "metadata": {},
   "outputs": [
    {
     "ename": "AttributeError",
     "evalue": "module 'aleksaw_banker' has no attribute 'AlexBanker'",
     "output_type": "error",
     "traceback": [
      "\u001b[1;31m---------------------------------------------------------------------------\u001b[0m",
      "\u001b[1;31mAttributeError\u001b[0m                            Traceback (most recent call last)",
      "\u001b[1;32mC:\\Users\\aleks\\Dropbox\\A-University\\UiO\\2018H\\IN-STK5000\\ml-society-science\\src\\project-1\\TestLending.py\u001b[0m in \u001b[0;36m<module>\u001b[1;34m()\u001b[0m\n\u001b[0;32m     43\u001b[0m \u001b[1;31m#decision_maker = random_banker.RandomBanker()\u001b[0m\u001b[1;33m\u001b[0m\u001b[1;33m\u001b[0m\u001b[0m\n\u001b[0;32m     44\u001b[0m \u001b[1;32mimport\u001b[0m \u001b[0maleksaw_banker\u001b[0m\u001b[1;33m\u001b[0m\u001b[0m\n\u001b[1;32m---> 45\u001b[1;33m \u001b[0mdecision_maker\u001b[0m \u001b[1;33m=\u001b[0m \u001b[0maleksaw_banker\u001b[0m\u001b[1;33m.\u001b[0m\u001b[0mAlexBanker\u001b[0m\u001b[1;33m(\u001b[0m\u001b[1;33m)\u001b[0m\u001b[1;33m\u001b[0m\u001b[0m\n\u001b[0m\u001b[0;32m     46\u001b[0m \u001b[1;33m\u001b[0m\u001b[0m\n\u001b[0;32m     47\u001b[0m \u001b[0minterest_rate\u001b[0m \u001b[1;33m=\u001b[0m \u001b[1;36m0.05\u001b[0m\u001b[1;33m\u001b[0m\u001b[0m\n",
      "\u001b[1;31mAttributeError\u001b[0m: module 'aleksaw_banker' has no attribute 'AlexBanker'"
     ]
    },
    {
     "name": "stdout",
     "output_type": "stream",
     "text": [
      "\n",
      "IPython CPU timings (estimated):\n",
      "  User   :       0.04 s.\n",
      "  System :       0.00 s.\n",
      "Wall time:       0.04 s.\n"
     ]
    },
    {
     "data": {
      "text/plain": [
       "<matplotlib.figure.Figure at 0x1b1bb850a90>"
      ]
     },
     "metadata": {},
     "output_type": "display_data"
    }
   ],
   "source": [
    "%run -t TestLending.py"
   ]
  },
  {
   "cell_type": "markdown",
   "metadata": {},
   "source": [
    "So, in this run I get a total utility of 5534, so I'm gaining a little money, unlike the random banker at -90503, but it's highly variable and also granting loans to around 1% of potential customers doesn't seem like a sustainable business model. I suppose a higher interest rate is in order, or different rates for different customers."
   ]
  },
  {
   "cell_type": "markdown",
   "metadata": {},
   "source": [
    "## Part 2"
   ]
  },
  {
   "cell_type": "markdown",
   "metadata": {},
   "source": [
    "### 1)"
   ]
  },
  {
   "cell_type": "markdown",
   "metadata": {},
   "source": [
    "+ **Is it possible to ensure that your policy maximises revenue?**  \n",
    "It's difficult to ensure, of course, because there is randomness in the selection of training data, and also there is randomness in our future customers. We can only maximize expected revenue given the information that we have now. Then we can, if we want, increase the expected utility for each loan for which we decide to give the loan to get a lower expected variance in revenue at the cost of a slight decrease in expected total revenue, but strictly speaking then, we should probably take the variance into account in our utility function so that we can continue to simply maximize utility.\n",
    "+ **How can you take into account the uncertainty due to the limited and/or biased data?**  \n",
    "Aside from making sure our data collection doesn't introduce biases we have to be rigorous in our model selection, of course, but outside that the best option I believe is as stated above, to determine our risk profile by weighing expected total revenue against expected variance of the total revenue by varying the threshold individual expected utility at which we give a loan.  \n",
    "One option here is of course to update our model continously as we are giving out loans and seeing how they turn out in order to continously improve it, but that might also skew the model further because the results of the bad loans may come in before the results of the good loans by the nature of lending money.  \n",
    "Another option would be to create some kind of prior based on our subjective belief about what predicts good and bad loan takers to counterweigh the potentialy biased data we have, but that requires us to have previous knowledge good enough that we can be fairly confident that we are, in fact, not biasing our model ourselves through our own biases.\n",
    "+ **What if you have to decide for credit for thousands of individuals and your model is wrong?**  \n",
    "Then we have a big problem and I am probably out of a job, unless I can show that the model I created is as good as could be done given the data. If the model is wrong due to highly skewed data then I suppose we were simply terribly unlucky.\n",
    "+ **How should you take that type of risk into account?**  \n",
    "As stated above, we can always lower our risk through not maximizing expected total return. We can also consider if we should add other elements, pehaps judgement, into the final decision. It may, for example, be that past data aren't applicable to predicting new outcomes due to a change in circumstances.    \n",
    "We could of course also have multiple teams develop their own decision model and apply all simultaneously to reduce the risk of making the wrong decision if one model is wrong, but in the end that doesn't entirely remove the risk that the new model, the collection of models, is wrong.  \n",
    "In the end a decision has to be made, or in this case thousands of decisions, and we can only choose as well as we can choose."
   ]
  },
  {
   "cell_type": "markdown",
   "metadata": {},
   "source": [
    "### 2)"
   ]
  },
  {
   "cell_type": "markdown",
   "metadata": {},
   "source": [
    "+ **Does the existence of this database raise any privacy concerns?**  \n",
    "Given the number of attributes in the dataset there is a chance that, given sufficient information about individuals, they can be identified and then linked with a bad loan. On the other hand, if we have to match these attributes to the entire German population there will probably be quite a few candidates matching each row of personal attributes in our dataset. If, however, someone knew that you had applied for a loan of an exact size and duration, it's suddenly much more likely that they could pinpoint you in the database if you're there given that the loan amounts are recorded with accuracy of 1 DM.\n",
    "+ **If the database was secret (and only known by the bank), but the credit decisions were public, how would that affect privacy?**  \n",
    "It would have to compromise privacy that anyone could find out if you are or aren't credit-worthy. If the question means that the credit decisions were public but without names attached to them things are different. In that case it seems very unlikely that anyone is able to pinpoint a specific person to a specific credit decision, unless they are published in real time and someone knows that you just now applied for a loan of x DM for y months(if this information is published). This, of course, assumes that the database stays secret. If someone gains access to it we quickly end up in 1)  \n",
    "If the only information is published is a collection of Granted/Not granted then the only way for someone to know the outcome of your application is to know the outcome of all other applications in the timespan covering this publication, and also to know that you applied for a loan.\n",
    "+ **(a) Explain how you would protect the data of the people in the training set.**\n",
    "The obvious way to protect the data of the people in the training set is to noise up the data in the training set according to some epsilon. This we did in the tutorial, and the method for this has been imported into the aleksaw_banker.py-file in the function private_fit, which noises up the data before using it to fit the model, and is tested and has it's performance graphed below.\n",
    "+ **(b) Explain how would protect the data of the people that apply for new loans.**\n",
    "The best way to do this seems to be to implement the exponential mechanism when deciding who gets a loan and who doesn't, although I'm uncertain if this truly is very valuable. Doing this has a potentially significant cost in two ways that most likely will have to be borne by the customer.  \n",
    "The first is in terms of fairness. Why should someone qualified for a loan not get it due to randomness? And conversely, why should someone not qualified for a loan get one?  \n",
    "The second is financial. The most obvious part is that not granting to good lenders and granting to poor lenders will cost the bank money, which it must recuperate by imposing higher interest rates on all lenders. The other way is for those whose application decisions are changed because of randomness, some will not get the money they need for something, while others will get a loan they never should have had, which they will probably default on with all the negative consequences that brings.  \n",
    "Given this I'm finding it hard to defend the miniscule increment in privacy this will effectively bring to the customer. Given the complexity of the model deciding loan applications it will be very hard to get much information about single features given only the information about whether or not the loan was granted. Even knowing all the features but one it might be hard to find the last.  \n",
    "I would say that not publishing loan decisions, and deleting (or noisifying) the information about the customer after processing the application will probably have a far better effect on actual privacy without the added costs. We also see from below that in order for the model to be useful for  its actual purpose, deciding on loan applications, the $\\epsilon$ for the exponential mechanism must exceed 10, meaning it doesn't bring much increase in privacy anyway.  \n",
    "  \n",
    "The mechanism is implemented in the aleksaw_banker.py-file as get_private_best_action() and it's development and testing is documented below\n",
    "+ **(c) Implement a private decision making mechanism for (b), and estimate the amount of loss in utility as you change the privacy guarantee.**"
   ]
  },
  {
   "cell_type": "markdown",
   "metadata": {},
   "source": [
    "#### Implementing the exponential mechanism for deciding loan applications"
   ]
  },
  {
   "cell_type": "code",
   "execution_count": 80,
   "metadata": {
    "collapsed": true
   },
   "outputs": [],
   "source": [
    "from aleksaw_banker import NameBanker, PrivateBanker\n",
    "from random_banker import RandomBanker"
   ]
  },
  {
   "cell_type": "code",
   "execution_count": 81,
   "metadata": {
    "collapsed": true
   },
   "outputs": [],
   "source": [
    "rate = 0.005\n",
    "def utility(loan, rate, time, outcome):\n",
    "    return loan * (((1+rate)**time - 1) if outcome == 1 else -1)\n",
    "def private_utility(banker, x, a):\n",
    "    return banker.expected_utility(x.values, a) - \\\n",
    "           banker.expected_utility(x.values, banker.get_best_action(x))"
   ]
  },
  {
   "cell_type": "markdown",
   "metadata": {},
   "source": [
    "Implementing the exponential mechanism according to the formula  \n",
    "$$ \\pi(a | x) = \\frac{e^{\\epsilon U(a,q,x) / \\Delta U}}{\\sum_{a'}e^{\\epsilon U(a,q,x) / \\Delta U}}$$\n",
    "where\n",
    "$$\\Delta U \\equiv \\max_{a \\in A} \\max_{x, y: \\| x-y \\|_1 \\leq 1} |u(x, a) - u(y, a)|$$\n",
    "but I simplify the latter to:   \n",
    "$$\\Delta U = \\text{Utility}_{x, \\text{repaid}} - \\text{Utility}_{x, \\text{defaulted}}$$"
   ]
  },
  {
   "cell_type": "code",
   "execution_count": 82,
   "metadata": {
    "collapsed": true
   },
   "outputs": [],
   "source": [
    "def get_private_best_action(banker, x, epsilon):\n",
    "    # Find difference in utility for the two possible decisions for this partiular loan\n",
    "    sensitivity = utility(x['amount'], rate, x['duration'], 1) \\\n",
    "                - utility(x['amount'], rate, x['duration'], 2)\n",
    "    u_qax = np.array([private_utility(banker, x, 0), \n",
    "                      private_utility(banker, x, 1)])\n",
    "    exponential = np.exp(epsilon*u_qax/sensitivity)\n",
    "    prob_keep_grant = exponential[1] / np.sum(exponential)\n",
    "    random_number = np.random.ranf(1)[0]\n",
    "    if banker.get_best_action(x) == 1:\n",
    "        # We would normally grant loan, but may flip the decision\n",
    "        return 0 if random_number > prob_keep_grant else 1\n",
    "    else:\n",
    "        return 1 if random_number > (1-prob_keep_grant) else 0"
   ]
  },
  {
   "cell_type": "code",
   "execution_count": 83,
   "metadata": {
    "collapsed": true
   },
   "outputs": [],
   "source": [
    "banker = NameBanker(default_parameters=True)"
   ]
  },
  {
   "cell_type": "code",
   "execution_count": 84,
   "metadata": {
    "collapsed": true
   },
   "outputs": [],
   "source": [
    "features = ['checking account balance', 'duration', 'credit history',\n",
    "            'purpose', 'amount', 'savings', 'employment', 'installment',\n",
    "            'marital status', 'other debtors', 'residence time',\n",
    "            'property', 'age', 'other installments', 'housing', 'credits',\n",
    "            'job', 'persons', 'phone', 'foreign']\n",
    "target = ['repaid']\n",
    "df = pd.read_csv('../../data/credit/german.data', sep=' ',\n",
    "                     names=features+target)\n",
    "numeric_features = df[features].select_dtypes(include=[np.number]).columns.tolist()\n",
    "categorical_features = [f for f in features if f not in numeric_features]\n",
    "# Treat the categorical features differently by expanding them into binary features \n",
    "df = pd.get_dummies(df, columns=categorical_features, drop_first=True)\n",
    "features = df.drop(target, axis=1).select_dtypes(include=[np.number]).columns.tolist()\n",
    "binary_features = [f for f in features if f not in numeric_features]"
   ]
  },
  {
   "cell_type": "code",
   "execution_count": 85,
   "metadata": {},
   "outputs": [
    {
     "name": "stderr",
     "output_type": "stream",
     "text": [
      "C:\\ProgramData\\Anaconda3\\lib\\site-packages\\sklearn\\neural_network\\multilayer_perceptron.py:912: DataConversionWarning: A column-vector y was passed when a 1d array was expected. Please change the shape of y to (n_samples, ), for example using ravel().\n",
      "  y = column_or_1d(y, warn=True)\n",
      "C:\\ProgramData\\Anaconda3\\lib\\site-packages\\sklearn\\utils\\validation.py:578: DataConversionWarning: A column-vector y was passed when a 1d array was expected. Please change the shape of y to (n_samples, ), for example using ravel().\n",
      "  y = column_or_1d(y, warn=True)\n",
      "C:\\Users\\aleks\\Dropbox\\A-University\\UiO\\2018H\\IN-STK5000\\ml-society-science\\src\\project-1\\aleksaw_banker.py:265: DataConversionWarning: A column-vector y was passed when a 1d array was expected. Please change the shape of y to (n_samples, ), for example using ravel().\n",
      "  KNeighborsClassifier(n_neighbors=self.knn_k).fit(X, y)]\n"
     ]
    }
   ],
   "source": [
    "X_train, X_test, y_train, y_test = train_test_split(df[features], df[target], test_size=0.25)\n",
    "banker.fit(X_train, y_train)"
   ]
  },
  {
   "cell_type": "code",
   "execution_count": 86,
   "metadata": {},
   "outputs": [
    {
     "name": "stderr",
     "output_type": "stream",
     "text": [
      "C:\\ProgramData\\Anaconda3\\lib\\site-packages\\sklearn\\utils\\validation.py:475: DataConversionWarning: Data with input dtype int64 was converted to float64 by StandardScaler.\n",
      "  warnings.warn(msg, DataConversionWarning)\n"
     ]
    },
    {
     "data": {
      "text/plain": [
       "0"
      ]
     },
     "execution_count": 86,
     "metadata": {},
     "output_type": "execute_result"
    }
   ],
   "source": [
    "get_private_best_action(banker, X_test.iloc[0], 0.1)"
   ]
  },
  {
   "cell_type": "code",
   "execution_count": 87,
   "metadata": {},
   "outputs": [
    {
     "name": "stderr",
     "output_type": "stream",
     "text": [
      "C:\\ProgramData\\Anaconda3\\lib\\site-packages\\sklearn\\utils\\validation.py:475: DataConversionWarning: Data with input dtype int64 was converted to float64 by StandardScaler.\n",
      "  warnings.warn(msg, DataConversionWarning)\n"
     ]
    },
    {
     "name": "stdout",
     "output_type": "stream",
     "text": [
      "Choosing parameters\n",
      "Choosing parameter 1/5\n",
      "Alpha: 0.1\n",
      "Choosing parameter 2/5\n",
      "Layers: (50, 30, 10)\n",
      "Choosing parameter 3/5\n",
      "Components: 42\n",
      "Choosing parameter 4/5\n",
      "k: 52\n",
      "Choosing parameter 5/5\n",
      "Weights: [0.06152563 0.49571404 0.44276033]\n",
      "Parameters chosen\n"
     ]
    },
    {
     "name": "stderr",
     "output_type": "stream",
     "text": [
      "C:\\ProgramData\\Anaconda3\\lib\\site-packages\\sklearn\\neural_network\\multilayer_perceptron.py:912: DataConversionWarning: A column-vector y was passed when a 1d array was expected. Please change the shape of y to (n_samples, ), for example using ravel().\n",
      "  y = column_or_1d(y, warn=True)\n",
      "C:\\ProgramData\\Anaconda3\\lib\\site-packages\\sklearn\\utils\\validation.py:578: DataConversionWarning: A column-vector y was passed when a 1d array was expected. Please change the shape of y to (n_samples, ), for example using ravel().\n",
      "  y = column_or_1d(y, warn=True)\n",
      "C:\\Users\\aleks\\Dropbox\\A-University\\UiO\\2018H\\IN-STK5000\\ml-society-science\\src\\project-1\\aleksaw_banker.py:265: DataConversionWarning: A column-vector y was passed when a 1d array was expected. Please change the shape of y to (n_samples, ), for example using ravel().\n",
      "  KNeighborsClassifier(n_neighbors=self.knn_k).fit(X, y)]\n"
     ]
    }
   ],
   "source": [
    "rate = 0.005\n",
    "es = 50\n",
    "epsilon = np.logspace(-2, 3, es)\n",
    "utility_std = np.zeros(es)\n",
    "utility_mean = np.zeros(es)\n",
    "putility_std = np.zeros(es)\n",
    "putility_mean = np.zeros(es)\n",
    "rutility_std = np.zeros(es)\n",
    "rutility_mean = np.zeros(es)\n",
    "banker = PrivateBanker(default_parameters=False) # Use defaults for quicker fit?\n",
    "rbanker = RandomBanker()\n",
    "banker.set_interest_rate(rate)\n",
    "rbanker.set_interest_rate(rate)\n",
    "for i in range(es):\n",
    "    total_utility = np.zeros(10)\n",
    "    priv_utility = np.zeros(10)\n",
    "    rand_utility = np.zeros(10)\n",
    "    j = 0\n",
    "    for train, test in KFold(n_splits=10).split(df):\n",
    "        banker.fit(df[features].iloc[train], df[target].iloc[train])\n",
    "        rbanker.fit(df[features].iloc[train], df[target].iloc[train])\n",
    "        for k in range(len(test)):\n",
    "            paction = banker.get_best_action(df[features].iloc[test[k]], epsilon[i])\n",
    "            action = banker.get_best_action(df[features].iloc[test[k]])\n",
    "            raction = rbanker.get_best_action(df[features].iloc[test[k]])\n",
    "            u = utility(df['amount'].iloc[test[k]], \n",
    "                        rate, \n",
    "                        df['duration'].iloc[test[k]],\n",
    "                        df[target].iloc[test[k]].values)\n",
    "\n",
    "            if action == 1:\n",
    "                total_utility[j] += u\n",
    "            if paction == 1:\n",
    "                priv_utility[j] += u\n",
    "            if raction == 1:\n",
    "                rand_utility[j] += u\n",
    "        j += 1\n",
    "    utility_mean[i] = np.mean(total_utility)\n",
    "    utility_std[i] = stats.sem(total_utility)\n",
    "    putility_mean[i] = np.mean(priv_utility)\n",
    "    putility_std[i] = stats.sem(priv_utility)\n",
    "    rutility_mean[i] = np.mean(rand_utility)\n",
    "    rutility_std[i] = stats.sem(rand_utility)"
   ]
  },
  {
   "cell_type": "code",
   "execution_count": 88,
   "metadata": {},
   "outputs": [
    {
     "data": {
      "text/plain": [
       "<matplotlib.legend.Legend at 0x1b1bb8cada0>"
      ]
     },
     "execution_count": 88,
     "metadata": {},
     "output_type": "execute_result"
    },
    {
     "data": {
      "image/png": "[encoded data removed]",
      "text/plain": [
       "<matplotlib.figure.Figure at 0x1b1bb8c4048>"
      ]
     },
     "metadata": {},
     "output_type": "display_data"
    }
   ],
   "source": [
    "plt.errorbar(epsilon, utility_mean, yerr=utility_std, ecolor='y', label=\"Mean Non-private Utility\", color='g')\n",
    "plt.errorbar(epsilon, rutility_mean, yerr=rutility_std, ecolor='m', label=\"Mean Random Utility\", color='r')\n",
    "plt.errorbar(epsilon, putility_mean, yerr=putility_std, ecolor='c', label=\"Mean Private Utility\")\n",
    "plt.plot(epsilon, np.zeros(es), 'k-', label=\"Break even\")\n",
    "plt.xscale('log')\n",
    "plt.xlabel(r\"$\\epsilon$\")\n",
    "plt.ylabel(\"Utility\")\n",
    "plt.legend(bbox_to_anchor=(0, 0.5), loc='lower left')"
   ]
  },
  {
   "cell_type": "markdown",
   "metadata": {},
   "source": [
    "As expected we see the utility equals that of the random banker for high privacy, and as privacy decreases the utility approaches that of the non-private banker. As we have to approach $\\epsilon=1$ before the private banker has significant gains over the random banker, and $\\epsilon > 10$ for the private banker to make a profit, it's not much privacy we can afford to add. This is not so surprising given the weak signal in the data and the difficulty of the banker in turning a profit even without privacy."
   ]
  },
  {
   "cell_type": "markdown",
   "metadata": {},
   "source": [
    "#### Now for testing the banker using private training data"
   ]
  },
  {
   "cell_type": "code",
   "execution_count": 123,
   "metadata": {},
   "outputs": [
    {
     "name": "stderr",
     "output_type": "stream",
     "text": [
      "C:\\ProgramData\\Anaconda3\\lib\\site-packages\\sklearn\\neural_network\\multilayer_perceptron.py:912: DataConversionWarning: A column-vector y was passed when a 1d array was expected. Please change the shape of y to (n_samples, ), for example using ravel().\n",
      "  y = column_or_1d(y, warn=True)\n",
      "C:\\ProgramData\\Anaconda3\\lib\\site-packages\\sklearn\\utils\\validation.py:578: DataConversionWarning: A column-vector y was passed when a 1d array was expected. Please change the shape of y to (n_samples, ), for example using ravel().\n",
      "  y = column_or_1d(y, warn=True)\n",
      "C:\\Users\\aleks\\Dropbox\\A-University\\UiO\\2018H\\IN-STK5000\\ml-society-science\\src\\project-1\\aleksaw_banker.py:265: DataConversionWarning: A column-vector y was passed when a 1d array was expected. Please change the shape of y to (n_samples, ), for example using ravel().\n",
      "  KNeighborsClassifier(n_neighbors=self.knn_k).fit(X, y)]\n",
      "C:\\ProgramData\\Anaconda3\\lib\\site-packages\\sklearn\\utils\\validation.py:475: DataConversionWarning: Data with input dtype int64 was converted to float64 by StandardScaler.\n",
      "  warnings.warn(msg, DataConversionWarning)\n"
     ]
    }
   ],
   "source": [
    "rate = 0.005\n",
    "es = 50\n",
    "epsilon = np.logspace(-5, 3, es)\n",
    "utility_std = np.zeros(es)\n",
    "utility_mean = np.zeros(es)\n",
    "putility_std = np.zeros(es)\n",
    "putility_mean = np.zeros(es)\n",
    "rutility_std = np.zeros(es)\n",
    "rutility_mean = np.zeros(es)\n",
    "banker = NameBanker(default_parameters=True) # Use defaults for quicker fit?\n",
    "pbanker = PrivateBanker(default_parameters=True) # Use defaults for quicker fit?\n",
    "rbanker = RandomBanker()\n",
    "banker.set_interest_rate(rate)\n",
    "pbanker.set_interest_rate(rate)\n",
    "rbanker.set_interest_rate(rate)\n",
    "for i in range(es):\n",
    "    total_utility = np.zeros(10)\n",
    "    priv_utility = np.zeros(10)\n",
    "    rand_utility = np.zeros(10)\n",
    "    X = df.copy()\n",
    "    j = 0\n",
    "    for train, test in KFold(n_splits=10).split(X):\n",
    "        banker.fit(X[features].iloc[train], X[target].iloc[train])\n",
    "        pbanker.fit(X[features].iloc[train], X[target].iloc[train], \n",
    "                            epsilon[i], numeric_features, binary_features)\n",
    "        rbanker.fit(X[features].iloc[train], X[target].iloc[train])\n",
    "        for k in range(len(test)):\n",
    "            paction = pbanker.get_best_action(X[features].iloc[test[k]])#, epsilon[i])\n",
    "            action = banker.get_best_action(X[features].iloc[test[k]])\n",
    "            raction = rbanker.get_best_action(X[features].iloc[test[k]])\n",
    "            u = utility(X['amount'].iloc[test[k]], \n",
    "                        rate, \n",
    "                        X['duration'].iloc[test[k]],\n",
    "                        X[target].iloc[test[k]].values)\n",
    "\n",
    "            if action == 1:\n",
    "                total_utility[j] += u\n",
    "            if paction == 1:\n",
    "                priv_utility[j] += u\n",
    "            if raction == 1:\n",
    "                rand_utility[j] += u\n",
    "        j += 1\n",
    "    utility_mean[i] = np.mean(total_utility)\n",
    "    utility_std[i] = stats.sem(total_utility)\n",
    "    putility_mean[i] = np.mean(priv_utility)\n",
    "    putility_std[i] = stats.sem(priv_utility)\n",
    "    rutility_mean[i] = np.mean(rand_utility)\n",
    "    rutility_std[i] = stats.sem(rand_utility)"
   ]
  },
  {
   "cell_type": "code",
   "execution_count": 124,
   "metadata": {},
   "outputs": [
    {
     "data": {
      "text/plain": [
       "<matplotlib.legend.Legend at 0x1b1c18f8b70>"
      ]
     },
     "execution_count": 124,
     "metadata": {},
     "output_type": "execute_result"
    },
    {
     "data": {
      "image/png": "[encoded data removed]",
      "text/plain": [
       "<matplotlib.figure.Figure at 0x1b1c20e4128>"
      ]
     },
     "metadata": {},
     "output_type": "display_data"
    }
   ],
   "source": [
    "plt.errorbar(epsilon, utility_mean, yerr=utility_std, ecolor='y', label=\"Mean Non-private Utility\", color='g')\n",
    "plt.errorbar(epsilon, rutility_mean, yerr=rutility_std, ecolor='m', label=\"Mean Random Utility\", color='r')\n",
    "plt.errorbar(epsilon, putility_mean, yerr=putility_std, ecolor='c', label=\"Mean Private Utility\")\n",
    "plt.plot(epsilon, np.zeros(es), 'k-', label=\"Break even\")\n",
    "plt.xscale('log')\n",
    "plt.xlabel(r\"$\\epsilon$\")\n",
    "plt.ylabel(\"Utility\")\n",
    "plt.legend(bbox_to_anchor=(0, 0.5), loc='lower left')"
   ]
  },
  {
   "cell_type": "markdown",
   "metadata": {},
   "source": [
    "We see again some of the same picture as when applying the exponential mechanism, but we are now able to stay far above the result of the random banker even at high privacy, though we reach the performance of the non-private banker at a somewhat lower privacy level than with the exponential mechanism. "
   ]
  },
  {
   "cell_type": "markdown",
   "metadata": {},
   "source": [
    "### 3)"
   ]
  },
  {
   "cell_type": "markdown",
   "metadata": {},
   "source": [
    "### Choose one concept of fairness, e.g.  balance of decisions with respect to gender.  \n",
    "+ **How can you ensure that your policy is fair?** \n",
    "This is very difficult, because what is fair? We would first have to define what we mean by fair, and then someone would surely disagree with that definition and feel that our policy is unfair, thus I would claim that a truly fair policy is near impossible to achieve, so all we can try to do is to make it as fair as possible. Now, if we want our policy to be fair with respect to gender we should make sure that our decision is the same regardless of whether it's a male or female applicant given that the other data is similar, but this poses several challenges.  \n",
    "One obvious challenge is how we deal with it if, given similar data, one gender is truly more reliable lenders than the other, what is fair in this case?  \n",
    "Another challenge is that other features might be correlated with gender, so that even if we remove gender from the explainatory variables we might still get the effect of having it, and so downplay the difference between the model dependent on gender and the one truly independent of gender.\n",
    "+ **How can you measure it?**\n",
    "Some metric on the similarity of distributions including and excluding gender.\n",
    "+ **How does the original training data affect the fairness of your policy?**\n",
    "I'm not entirely sure what this question actually asks. Are we asked to measure the fairness of our model trained on the training data? If so, when assessing the answer we get from this calculation we quickly run into the same problems as described in the first answer above. Is the discrimination truly unfair? Is it due to coincidences in the training data or an underlying pattern? Etc."
   ]
  },
  {
   "cell_type": "markdown",
   "metadata": {},
   "source": [
    "#### Identify sensitive variables\n",
    "Are we here asked to identify variables that may be considered sensitive? It's hard to draw a definite line here, but here are a few possibilities:  \n",
    "*Gender*: Not really a separate variable in our dataset, but it can be separated out. This seems like the most obvious.  \n",
    "*Marital status*: Same as above, but can be separated from gender. Should singles be treated differently from couples? Should singles be treated differently from other singles (separated/divorved/widowed)? Should people living in a married-like relationship be treated differently because they aren't officially married?  \n",
    "*Job*: Should people be treated differently based on occupation and level of education when income and wealth has already been taken into account?  \n",
    "*Foreign worker*: Should people be treated differently just because they are foreign? There might be legal arguments in favour of this discrimination in that it might be more difficult to collect something in case of default, but I don't know.\n",
    "\n",
    "I'll go with gender as it's the most obvious, and the one suggested in the assignment, although that requires some tweaking of the data to extract gender as a separate feature, and since the second best choice, foreign worker, is split 37/963 among the two values while gender is split 310/690.\n",
    "\n",
    "The original gender features have gender lumped together with marital status with females and males having different marital status categories, meaning there is potentially more information available for males than for females given that there are 3 categories with males and only 1 (and 1 with no entries) for females."
   ]
  },
  {
   "cell_type": "markdown",
   "metadata": {},
   "source": [
    "#### Simple analysis of data"
   ]
  },
  {
   "cell_type": "code",
   "execution_count": 91,
   "metadata": {
    "collapsed": true
   },
   "outputs": [],
   "source": [
    "# Reload the data\n",
    "features = ['checking account balance', 'duration', 'credit history',\n",
    "            'purpose', 'amount', 'savings', 'employment', 'installment',\n",
    "            'marital status', 'other debtors', 'residence time',\n",
    "            'property', 'age', 'other installments', 'housing', 'credits',\n",
    "            'job', 'persons', 'phone', 'foreign']\n",
    "target = ['repaid']\n",
    "df = pd.read_csv('../../data/credit/german.data', sep=' ',\n",
    "                     names=features+target)\n",
    "numeric_features = df[features].select_dtypes(include=[np.number]).columns.tolist()\n",
    "categorical_features = [f for f in features if f not in numeric_features]"
   ]
  },
  {
   "cell_type": "code",
   "execution_count": 92,
   "metadata": {
    "collapsed": true
   },
   "outputs": [],
   "source": [
    "df['gender'] = df.apply(lambda row: 'Female' if row['marital status'] in ('A92', 'A95') else 'Male', axis=1)"
   ]
  },
  {
   "cell_type": "code",
   "execution_count": 93,
   "metadata": {
    "collapsed": true
   },
   "outputs": [],
   "source": [
    "#df['marital status'] = df.apply(lambda row: 'Single' if row['marital status'] in ('A93', 'A95') else 'NonSingle', axis=1)"
   ]
  },
  {
   "cell_type": "code",
   "execution_count": 94,
   "metadata": {
    "collapsed": true
   },
   "outputs": [],
   "source": [
    "# Treat the categorical features differently by expanding them into binary features \n",
    "df = pd.get_dummies(df, columns=categorical_features, drop_first=True)\n",
    "features = df.drop(target, axis=1).select_dtypes(include=[np.number]).columns.tolist()\n",
    "binary_features = [f for f in features if f not in numeric_features]"
   ]
  },
  {
   "cell_type": "code",
   "execution_count": 95,
   "metadata": {
    "collapsed": true
   },
   "outputs": [],
   "source": [
    "from aleksaw_banker import NameBanker"
   ]
  },
  {
   "cell_type": "code",
   "execution_count": 96,
   "metadata": {
    "collapsed": true
   },
   "outputs": [],
   "source": [
    "df['proba good'] = 0.0\n",
    "df['EU'] = 0.0\n",
    "df['action'] = -1\n",
    "#def update_df(row, banker, features):\n",
    "#    row['proba good'] = banker.predict_proba(row[features].values)\n",
    "#    row['EU'] = banker.expected_utility(row[features].values, 1)\n",
    "#    row['action'] = banker.get_best_action(row[features])"
   ]
  },
  {
   "cell_type": "code",
   "execution_count": 97,
   "metadata": {},
   "outputs": [
    {
     "name": "stderr",
     "output_type": "stream",
     "text": [
      "C:\\ProgramData\\Anaconda3\\lib\\site-packages\\sklearn\\neural_network\\multilayer_perceptron.py:912: DataConversionWarning: A column-vector y was passed when a 1d array was expected. Please change the shape of y to (n_samples, ), for example using ravel().\n",
      "  y = column_or_1d(y, warn=True)\n",
      "C:\\ProgramData\\Anaconda3\\lib\\site-packages\\sklearn\\utils\\validation.py:578: DataConversionWarning: A column-vector y was passed when a 1d array was expected. Please change the shape of y to (n_samples, ), for example using ravel().\n",
      "  y = column_or_1d(y, warn=True)\n",
      "C:\\Users\\aleks\\Dropbox\\A-University\\UiO\\2018H\\IN-STK5000\\ml-society-science\\src\\project-1\\aleksaw_banker.py:265: DataConversionWarning: A column-vector y was passed when a 1d array was expected. Please change the shape of y to (n_samples, ), for example using ravel().\n",
      "  KNeighborsClassifier(n_neighbors=self.knn_k).fit(X, y)]\n",
      "C:\\ProgramData\\Anaconda3\\lib\\site-packages\\sklearn\\utils\\validation.py:475: DataConversionWarning: Data with input dtype int64 was converted to float64 by StandardScaler.\n",
      "  warnings.warn(msg, DataConversionWarning)\n",
      "C:\\ProgramData\\Anaconda3\\lib\\site-packages\\pandas\\core\\indexing.py:179: SettingWithCopyWarning: \n",
      "A value is trying to be set on a copy of a slice from a DataFrame\n",
      "\n",
      "See the caveats in the documentation: http://pandas.pydata.org/pandas-docs/stable/indexing.html#indexing-view-versus-copy\n",
      "  self._setitem_with_indexer(indexer, value)\n"
     ]
    }
   ],
   "source": [
    "# Set the rate to a level where some loans are rejected, but not so many that only a few are accepted\n",
    "rate = 0.02 \n",
    "banker = NameBanker(default_parameters=True) # Use defaults for quicker fit?\n",
    "banker.set_interest_rate(rate)\n",
    "for train, test in KFold(n_splits=5).split(df):\n",
    "        banker.fit(df[features].iloc[train], df[target].iloc[train])\n",
    "        for k in test:\n",
    "            df['proba good'].iloc[k] = banker.predict_proba(df[features].iloc[k].values)\n",
    "            df['EU'].iloc[k] = banker.expected_utility(df[features].iloc[k].values, 1)\n",
    "            df['action'].iloc[k] = banker.get_best_action(df[features].iloc[k])"
   ]
  },
  {
   "cell_type": "code",
   "execution_count": 98,
   "metadata": {},
   "outputs": [
    {
     "data": {
      "text/plain": [
       "{'Female': 0.639882613962133, 'Male': 0.722697539496875}"
      ]
     },
     "execution_count": 98,
     "metadata": {},
     "output_type": "execute_result"
    }
   ],
   "source": [
    "{gender: data['proba good'].sum() / data['proba good'].count()\n",
    " for gender, data in df.groupby(['gender'])}"
   ]
  },
  {
   "cell_type": "markdown",
   "metadata": {},
   "source": [
    "So women are in general considered less likely to repay their loans by our banker."
   ]
  },
  {
   "cell_type": "code",
   "execution_count": 99,
   "metadata": {},
   "outputs": [
    {
     "data": {
      "text/plain": [
       "{'Female': 0.3935483870967742, 'Male': 0.6376811594202898}"
      ]
     },
     "execution_count": 99,
     "metadata": {},
     "output_type": "execute_result"
    }
   ],
   "source": [
    "{gender: data['action'].sum() / data['action'].count()\n",
    " for gender, data in df.groupby(['gender'])}"
   ]
  },
  {
   "cell_type": "markdown",
   "metadata": {},
   "source": [
    "And as a natural consequence they have their applications granted far less frequently, but do they turn out to be worse actually?"
   ]
  },
  {
   "cell_type": "code",
   "execution_count": 100,
   "metadata": {},
   "outputs": [
    {
     "data": {
      "text/plain": [
       "<matplotlib.axes._subplots.AxesSubplot at 0x1b1c16e18d0>"
      ]
     },
     "execution_count": 100,
     "metadata": {},
     "output_type": "execute_result"
    },
    {
     "data": {
      "image/png": "[encoded data removed]",
      "text/plain": [
       "<matplotlib.figure.Figure at 0x1b1c16aee10>"
      ]
     },
     "metadata": {},
     "output_type": "display_data"
    }
   ],
   "source": [
    "sel = lambda r, g: (df['repaid']==r) & (df['gender']==g)\n",
    "pandas.DataFrame({g: {r: df['action'][sel(r,g)].sum() / df['action'][sel(r,g)].count() \n",
    "                      for r in (1,2)} \n",
    "                  for g in ('Male', 'Female')}).plot(kind='bar')"
   ]
  },
  {
   "cell_type": "markdown",
   "metadata": {},
   "source": [
    "What is clear from this is that our banker would grant a loan to a male far more often than a female  also considering the actual repayment status. In fact, our banker seems far too eager to grant loans to males who won't repay, and far too hesitant to grant to females who will repay. This indicates our banker is not particularly balanced."
   ]
  },
  {
   "cell_type": "code",
   "execution_count": 101,
   "metadata": {},
   "outputs": [
    {
     "data": {
      "text/plain": [
       "<matplotlib.axes._subplots.AxesSubplot at 0x1b1c18044e0>"
      ]
     },
     "execution_count": 101,
     "metadata": {},
     "output_type": "execute_result"
    },
    {
     "data": {
      "image/png": "[encoded data removed]",
      "text/plain": [
       "<matplotlib.figure.Figure at 0x1b1c18152e8>"
      ]
     },
     "metadata": {},
     "output_type": "display_data"
    }
   ],
   "source": [
    "sel = lambda a, g: (df['action']==a) & (df['gender']==g)\n",
    "pandas.DataFrame({g: {a: -1*((df['repaid'][sel(a,g)].sum() / df['repaid'][sel(a,g)].count())-2) \n",
    "                      for a in (0, 1)} \n",
    "                  for g in ('Male', 'Female')}).plot(kind='bar')"
   ]
  },
  {
   "cell_type": "markdown",
   "metadata": {},
   "source": [
    "Now here we see that females who would have their loans granted would in fact be less likely to repay their loans than males who would not their loans granted, while females who would get their loans granted would be more likely to repay their loans than males who would get their loans granted, but the difference is very small. This indicates that our banker is relatively well calibrated, but that it seems more accurate with females than males."
   ]
  },
  {
   "cell_type": "markdown",
   "metadata": {},
   "source": [
    "Now, there are two factors that make it more likely our banker will grant a loan, one is high probability of repayment, the other is long duration of the loan, earning us more interest for the same potential loss, so let's see how our bankers estimate of probability corresponds with the actual probability of repayment. For this we'll have to group probabilities together, so let's use 10 groups: 0-10%, ... , 90-100%. With 310 female applicants this should give us an average of 31 per group."
   ]
  },
  {
   "cell_type": "code",
   "execution_count": 102,
   "metadata": {
    "collapsed": true
   },
   "outputs": [],
   "source": [
    "x = np.around(np.linspace(0.1, 1, 10), decimals=1)\n",
    "y_m = [(df['repaid'][(df['gender']=='Male')&((df['proba good']+0.05).round(1)==p)].mean()-2)*-1 \n",
    "       for p in x]\n",
    "y_f = [(df['repaid'][(df['gender']=='Female')&((df['proba good']+0.05).round(1)==p)].mean()-2)*-1 \n",
    "       for p in x]\n",
    "y_a = [(df['repaid'][((df['proba good']+0.05).round(1)==p)].mean()-2)*-1 \n",
    "       for p in x]\n",
    "ye_m = [df['repaid'][(df['gender']=='Male')&((df['proba good']+0.05).round(1)==p)].sem()*2\n",
    "       for p in x]\n",
    "ye_f = [df['repaid'][(df['gender']=='Female')&((df['proba good']+0.05).round(1)==p)].sem()*2 \n",
    "       for p in x]\n",
    "ye_a = [df['repaid'][((df['proba good']+0.05).round(1)==p)].sem()*2 \n",
    "       for p in x]"
   ]
  },
  {
   "cell_type": "code",
   "execution_count": 103,
   "metadata": {},
   "outputs": [
    {
     "data": {
      "image/png": "[encoded data removed]",
      "text/plain": [
       "<matplotlib.figure.Figure at 0x1b1c1857c88>"
      ]
     },
     "metadata": {},
     "output_type": "display_data"
    }
   ],
   "source": [
    "plt.plot(x-0.05, x-0.05, 'k-', label='Target')\n",
    "plt.errorbar(x-0.05, y_a, color='g', yerr=ye_a, ecolor='y', label='Total')\n",
    "plt.errorbar(x-0.05, y_m, color='b', yerr=ye_m, ecolor='c', label='Males')\n",
    "plt.errorbar(x-0.05, y_f, color='r', yerr=ye_f, ecolor='m', label='Females')\n",
    "plt.legend()\n",
    "plt.xlabel('Estimated probability of repayment')\n",
    "plt.ylabel('True probability of repayment')\n",
    "plt.show()"
   ]
  },
  {
   "cell_type": "markdown",
   "metadata": {},
   "source": [
    "So we see that the $2\\sigma$ errrorbars mostly overlap, indicating there might be a slight difference, but it's hard to call it significant. Thus our banker seems to do a pretty good job of estimating the probability of default both for men and women."
   ]
  },
  {
   "cell_type": "markdown",
   "metadata": {},
   "source": [
    "What if we look at expected utility vs true utility?"
   ]
  },
  {
   "cell_type": "code",
   "execution_count": 104,
   "metadata": {},
   "outputs": [
    {
     "name": "stdout",
     "output_type": "stream",
     "text": [
      "17821.87501629068\n",
      "-5874.758067061074\n"
     ]
    }
   ],
   "source": [
    "print(df['EU'].max())\n",
    "print(df['EU'].min())"
   ]
  },
  {
   "cell_type": "markdown",
   "metadata": {},
   "source": [
    "So the range of expected utility is from -6k to 18k. If we divide this into parts of 2k we can do the same as before, but it's probably very few extreme points with most around 0, so we might do a better split, for example so that we have 100 points in each group."
   ]
  },
  {
   "cell_type": "code",
   "execution_count": 105,
   "metadata": {
    "collapsed": true
   },
   "outputs": [],
   "source": [
    "splits = (0, 99, 199, 299, 399, 499, 599, 699, 799, 899, 999)\n",
    "x = [df['EU'].sort_values().iloc[i] for i in splits]\n",
    "x[0] -= 1\n",
    "y = {gender: \n",
    "     [np.mean(list(map(lambda x: x[0]*((1+rate)**x[1]-1) if x[2] == 1 else -x[0], \n",
    "                      df[['amount', 'duration', 'repaid']][(df['gender']==gender)&(df['EU']>x[i-1])&(df['EU']<=x[i])].values)))\n",
    "      for i in range(1, len(x))]\n",
    "     for gender in ('Male', 'Female')}\n",
    "ye = {gender: \n",
    "      [stats.sem(list(map(lambda x: x[0]*((1+rate)**x[1]-1) if x[2] == 1 else -x[0], \n",
    "                          df[['amount', 'duration', 'repaid']][(df['gender']==gender)&(df['EU']>x[i-1])&(df['EU']<=x[i])].values)))\n",
    "       for i in range(1, len(x))]\n",
    "      for gender in ('Male', 'Female')}"
   ]
  },
  {
   "cell_type": "code",
   "execution_count": 106,
   "metadata": {},
   "outputs": [
    {
     "data": {
      "image/png": "[encoded data removed]",
      "text/plain": [
       "<matplotlib.figure.Figure at 0x1b1c1908e10>"
      ]
     },
     "metadata": {},
     "output_type": "display_data"
    }
   ],
   "source": [
    "plt.errorbar(x[1:], y['Male'], color='b', yerr=ye['Male'], ecolor='c', label='Males')\n",
    "plt.errorbar(x[1:], y['Female'], color='r', yerr=ye['Female'], ecolor='m', label='Females')\n",
    "plt.legend()\n",
    "plt.xlabel('Estimated utility')\n",
    "plt.ylabel('True utility')\n",
    "plt.show()"
   ]
  },
  {
   "cell_type": "markdown",
   "metadata": {},
   "source": [
    "In this plot we have two problems. The interesting part of the graph is truncated because of the extreme value of the highest expected utility group, which is also less interesting because it's very variable in true utility. The other is that the expected utilityis overreported because it's given as the maximum in the group. These things we can fix."
   ]
  },
  {
   "cell_type": "code",
   "execution_count": 107,
   "metadata": {},
   "outputs": [
    {
     "data": {
      "image/png": "[encoded data removed]",
      "text/plain": [
       "<matplotlib.figure.Figure at 0x1b1c19114e0>"
      ]
     },
     "metadata": {},
     "output_type": "display_data"
    }
   ],
   "source": [
    "# Using all data as problems were smaller with fixed x-values, \n",
    "# change to hc=-i, lc=j to remove first j and last i\n",
    "hc = 10\n",
    "lc = 0\n",
    "xs = [np.mean(df['EU'].sort_values().iloc[splits[i-1]:splits[i]].values) for i in range(1, len(splits))]\n",
    "plt.plot(xs[lc:hc], xs[lc:hc], 'k-', label='Target')\n",
    "plt.errorbar(xs[lc:hc], y['Male'][lc:hc], color='b', yerr=ye['Male'][lc:hc], ecolor='c', label='Males')\n",
    "plt.errorbar(xs[lc:hc], y['Female'][lc:hc], color='r', yerr=ye['Female'][lc:hc], ecolor='m', label='Females')\n",
    "plt.legend()\n",
    "plt.xlabel('Estimated utility')\n",
    "plt.ylabel('True utility')\n",
    "plt.show()"
   ]
  },
  {
   "cell_type": "markdown",
   "metadata": {},
   "source": [
    "We see something of the same picture as with the probabilities: The best females look slightly underrated by our banker, but the difference is not significant, and the males are quite well on target."
   ]
  },
  {
   "cell_type": "markdown",
   "metadata": {},
   "source": [
    "#### Balance: measure total variation of action for different outcomes as gender varies"
   ]
  },
  {
   "cell_type": "code",
   "execution_count": 108,
   "metadata": {
    "collapsed": true
   },
   "outputs": [],
   "source": [
    "from scipy.stats import beta"
   ]
  },
  {
   "cell_type": "code",
   "execution_count": 109,
   "metadata": {
    "collapsed": true
   },
   "outputs": [],
   "source": [
    "def perform_ci_test(A, Y, Z):\n",
    "    def marginal_posterior(data, alpha, beta):\n",
    "        n_data = len(data)\n",
    "        total_probability = 1\n",
    "        log_probability = 0\n",
    "        for t in range(n_data):\n",
    "            p = alpha / (alpha + beta)\n",
    "            if (data[t] > 0):\n",
    "                #total_probability *= p\n",
    "                log_probability += np.log(p)\n",
    "                alpha += 1\n",
    "            else:\n",
    "                #total_probability *= (1 - p)\n",
    "                log_probability += np.log(1 - p)\n",
    "                beta +=1\n",
    "        return np.exp(log_probability)\n",
    "\n",
    "    n_figures = 0\n",
    "    P_D_mu0 = 0\n",
    "    P_D_mu1 = 0\n",
    "    for y in [-1, 1]:\n",
    "        ## P(A | Y, Z = 1)\n",
    "        positive = (Y==y) & (Z==1)\n",
    "        positive_alpha = sum(A[positive]==1)\n",
    "        positive_beta = sum(A[positive]==-1)\n",
    "        positive_ratio = positive_alpha / (positive_alpha + positive_beta)\n",
    "\n",
    "        ## P(A | Y, Z = - 1)\n",
    "        negative = (Y==y) & (Z==-1)\n",
    "        negative_alpha = sum(A[negative]==1)\n",
    "        negative_beta = sum(A[negative]==-1)\n",
    "        negative_ratio = negative_alpha / (negative_alpha + negative_beta)\n",
    "\n",
    "        print(\"y: \", y, \"Deviation: \", abs(positive_ratio - negative_ratio))\n",
    "\n",
    "        print (\"Calculate the marginals for each model\")\n",
    "        P_D_positive = marginal_posterior(A[positive], 1, 1)\n",
    "        P_D_negative = marginal_posterior(A[negative], 1, 1)\n",
    "        P_D = marginal_posterior(A[(Y==y)], 1, 1)\n",
    "\n",
    "        print(\"Marginal likelihoods: \", P_D, P_D_negative, P_D_positive)\n",
    "        ## Now you need to calculate the probability of either the\n",
    "        ## dependent or independent model by combining all of the above\n",
    "        ## into a single number.  This is not completely trivial, as you\n",
    "        ## need to combine the negative and positive Z into it, but I\n",
    "        ## think you can all work it out.\n",
    "\n",
    "        P_D_mu0 += np.log(P_D)\n",
    "        P_D_mu1 += np.log(P_D_positive) + np.log(P_D_negative)\n",
    "\n",
    "        print (\"Now calculate a posterior distribution for the relevant Bernoulli parameter. Focus on just one value of y for simplicity\")\n",
    "\n",
    "\n",
    "        # First plot the joint distribution\n",
    "        prior_alpha = 1\n",
    "        prior_beta = 1\n",
    "        xplot = np.linspace(0, 1, 200)\n",
    "        pdf_p = beta.pdf(xplot, prior_alpha + positive_alpha, prior_beta + positive_beta)\n",
    "        pdf_n = beta.pdf(xplot, prior_alpha + negative_alpha, prior_beta + negative_beta)\n",
    "        pdf_m = beta.pdf(xplot, prior_alpha + positive_alpha + negative_alpha, prior_beta + positive_beta + negative_beta)\n",
    "        n_figures+=1\n",
    "        plt.figure(n_figures)\n",
    "        plt.clf()\n",
    "        plt.plot(xplot, pdf_p)\n",
    "        plt.plot(xplot, pdf_n)\n",
    "        plt.plot(xplot, pdf_m)\n",
    "        plt.legend([\"z=1\", \"z=-1\", \"marginal\"])\n",
    "        plt.title(\"y=\" + str(y))\n",
    "\n",
    "    plt.show()\n",
    "\n",
    "    P_D_mu0 = np.exp(P_D_mu0)\n",
    "    P_D_mu1 = np.exp(P_D_mu1)\n",
    "    print(r\"$P(\\mu_0|D) = P(D|\\mu_0) / P(D|\\mu_0) + P(D|\\mu_1) = {}$\".format(P_D_mu0/(P_D_mu0+P_D_mu1)))"
   ]
  },
  {
   "cell_type": "code",
   "execution_count": 110,
   "metadata": {
    "collapsed": true
   },
   "outputs": [],
   "source": [
    "Z = np.array([1 if z=='Female' else -1 for z in df['gender'].values])\n",
    "Y = np.array([1 if y==1 else -1 for y in df['repaid'].values])\n",
    "A = np.array([1 if a==1 else -1 for a in df['action'].values])"
   ]
  },
  {
   "cell_type": "code",
   "execution_count": 111,
   "metadata": {},
   "outputs": [
    {
     "name": "stdout",
     "output_type": "stream",
     "text": [
      "y:  -1 Deviation:  0.2785436380229598\n",
      "Calculate the marginals for each model\n",
      "Marginal likelihoods:  9.750060651057786e-88 3.944903542091022e-59 5.966635952488243e-25\n",
      "Now calculate a posterior distribution for the relevant Bernoulli parameter. Focus on just one value of y for simplicity\n",
      "y:  1 Deviation:  0.1989152434221677\n",
      "Calculate the marginals for each model\n",
      "Marginal likelihoods:  5.954078216187981e-200 3.8580498330283664e-134 2.747214792536823e-62\n",
      "Now calculate a posterior distribution for the relevant Bernoulli parameter. Focus on just one value of y for simplicity\n"
     ]
    },
    {
     "data": {
      "image/png": "[encoded data removed]",
      "text/plain": [
       "<matplotlib.figure.Figure at 0x1b1c19085f8>"
      ]
     },
     "metadata": {},
     "output_type": "display_data"
    },
    {
     "data": {
      "image/png": "[encoded data removed]",
      "text/plain": [
       "<matplotlib.figure.Figure at 0x1b1c1b43080>"
      ]
     },
     "metadata": {},
     "output_type": "display_data"
    },
    {
     "name": "stdout",
     "output_type": "stream",
     "text": [
      "$P(\\mu_0|D) = P(D|\\mu_0) / P(D|\\mu_0) + P(D|\\mu_1) = 2.326995123573559e-09$\n"
     ]
    }
   ],
   "source": [
    "perform_ci_test(A, Y, Z)"
   ]
  },
  {
   "cell_type": "markdown",
   "metadata": {},
   "source": [
    "So the modes of these distributions are the same as the values of the bar-plot above, but here additionally we get the distributions and we can see quite easily that there is, with probability close to 1, a marked difference in probability of having a loan granted given your future repayment if you are male or female. This is also suported by calculated $P(\\mu_0|D)\\approx10^{-9}$ with $\\mu_0$ being action and gender being conditionally independent given the outcome. One thing this does not take into account, however, is that our banker isn't only looking at whether it thinks you'll default, but also at how much it will earn if you don't and lose if you do, but on the surface it looks as though our banker is not particularly balanced."
   ]
  },
  {
   "cell_type": "markdown",
   "metadata": {},
   "source": [
    "##### Calibration:\n",
    "We can check calibration by just swapping the A and the Y in the ci_test-function"
   ]
  },
  {
   "cell_type": "code",
   "execution_count": 112,
   "metadata": {},
   "outputs": [
    {
     "name": "stdout",
     "output_type": "stream",
     "text": [
      "y:  -1 Deviation:  0.06408510638297871\n",
      "Calculate the marginals for each model\n",
      "Marginal likelihoods:  5.149097964640026e-132 4.424529177795728e-75 3.3975878557933514e-58\n",
      "Now calculate a posterior distribution for the relevant Bernoulli parameter. Focus on just one value of y for simplicity\n",
      "y:  1 Deviation:  0.03241430700447101\n",
      "Calculate the marginals for each model\n",
      "Marginal likelihoods:  2.1700349062312307e-123 7.395495465757588e-99 3.9648319139676285e-26\n",
      "Now calculate a posterior distribution for the relevant Bernoulli parameter. Focus on just one value of y for simplicity\n"
     ]
    },
    {
     "data": {
      "image/png": "[encoded data removed]",
      "text/plain": [
       "<matplotlib.figure.Figure at 0x1b1c1b7a5f8>"
      ]
     },
     "metadata": {},
     "output_type": "display_data"
    },
    {
     "data": {
      "image/png": "[encoded data removed]",
      "text/plain": [
       "<matplotlib.figure.Figure at 0x1b1c1cc9e80>"
      ]
     },
     "metadata": {},
     "output_type": "display_data"
    },
    {
     "name": "stdout",
     "output_type": "stream",
     "text": [
      "$P(\\mu_0|D) = P(D|\\mu_0) / P(D|\\mu_0) + P(D|\\mu_1) = 0.9620485032454965$\n"
     ]
    }
   ],
   "source": [
    "perform_ci_test(Y, A, Z)"
   ]
  },
  {
   "cell_type": "markdown",
   "metadata": {},
   "source": [
    "A note on these plots is that the plot titles should of course read a=1/-1 rather than y.  \n",
    "This again looks much like the graphs from the previous section, showing for proposed granted loans a slightly higher chance of repayment for females and for proposed non-granted loans a slightly lower rate of repayment, though this difference is not at all significant and we see that the estimated probability of our banker being calibrated with respect to gender being 96%."
   ]
  },
  {
   "cell_type": "markdown",
   "metadata": {},
   "source": [
    "#### What would happen if we look at fairness when also taking into account amount of loan requested? "
   ]
  },
  {
   "cell_type": "markdown",
   "metadata": {},
   "source": [
    "Basically then we would look at $P(a|y,z,l)$ vs $P(a|y,l)$ for balance and $P(y|a,z,l)$ vs $P(y|a,l)$ for calibration where $l$ is the amount of loan granted. For simplicity we can lump amounts into a few categories, say, Low, Medium, High, Very High."
   ]
  },
  {
   "cell_type": "code",
   "execution_count": 125,
   "metadata": {},
   "outputs": [
    {
     "data": {
      "text/plain": [
       "array([<matplotlib.axes._subplots.AxesSubplot object at 0x000001B1C1F75C18>,\n",
       "       <matplotlib.axes._subplots.AxesSubplot object at 0x000001B1C33B9F98>],\n",
       "      dtype=object)"
      ]
     },
     "execution_count": 125,
     "metadata": {},
     "output_type": "execute_result"
    },
    {
     "data": {
      "image/png": "[encoded data removed]",
      "text/plain": [
       "<matplotlib.figure.Figure at 0x1b1c1b0e518>"
      ]
     },
     "metadata": {},
     "output_type": "display_data"
    }
   ],
   "source": [
    "df.hist(column='amount', by='gender', alpha=0.5, bins=[0, 1000, 2000, 3000, 4000, 5000, 6500, 8000, 10000, 13000, 18000])"
   ]
  },
  {
   "cell_type": "markdown",
   "metadata": {},
   "source": [
    "From this it appears that the males in general apply for slightly larger loans than females, so that there is some correlation between the two."
   ]
  },
  {
   "cell_type": "code",
   "execution_count": 192,
   "metadata": {
    "collapsed": true
   },
   "outputs": [],
   "source": [
    "def marginal_posterior(data, alpha, beta):\n",
    "    log_probability = 0\n",
    "    for t in range(len(data)):\n",
    "        p = alpha / (alpha + beta)\n",
    "        if (data[t] > 0):\n",
    "            log_probability += np.log(p)\n",
    "            alpha += 1\n",
    "        else:\n",
    "            log_probability += np.log(1 - p)\n",
    "            beta +=1\n",
    "    return np.exp(log_probability)"
   ]
  },
  {
   "cell_type": "code",
   "execution_count": 145,
   "metadata": {
    "collapsed": true
   },
   "outputs": [],
   "source": [
    "bins = [0, 1500, 3000, 8000, 20000]\n",
    "n_bins = len(bins)-1\n",
    "def in_bin(l):\n",
    "    for i in range(n_bins):\n",
    "        if bins[i]<=l<bins[i+1]:\n",
    "            return i"
   ]
  },
  {
   "cell_type": "code",
   "execution_count": 146,
   "metadata": {
    "collapsed": true
   },
   "outputs": [],
   "source": [
    "Z = np.array([1 if z=='Female' else -1 for z in df['gender'].values])\n",
    "Y = np.array([1 if y==1 else -1 for y in df['repaid'].values])\n",
    "A = np.array([1 if a==1 else -1 for a in df['action'].values])\n",
    "L = np.array([in_bin(l) for l in df['amount'].values])"
   ]
  },
  {
   "cell_type": "code",
   "execution_count": 148,
   "metadata": {},
   "outputs": [
    {
     "name": "stdout",
     "output_type": "stream",
     "text": [
      "$P(\\mu_0|D) = P(D|\\mu_0) / P(D|\\mu_0) + P(D|\\mu_1) = 1.3013307355238604e-06$\n"
     ]
    }
   ],
   "source": [
    "P_D_mu0 = 0\n",
    "P_D_mu1 = 0\n",
    "for l in range(n_bins):\n",
    "    for y in [-1, 1]:\n",
    "        indep_filter = (Y==y) & (L==l)\n",
    "        for z in [-1, 1]:\n",
    "            ## P(A | Y = y, Z = z, L = l)\n",
    "            P_D_mu1 += np.log(marginal_posterior(A[indep_filter & (Z==z)], 1, 1))\n",
    "\n",
    "        P_D_mu0 += np.log(marginal_posterior(A[indep_filter], 1, 1))\n",
    "\n",
    "P_D_mu0 = np.exp(P_D_mu0)\n",
    "P_D_mu1 = np.exp(P_D_mu1)\n",
    "print(r\"$P(\\mu_0|D) = P(D|\\mu_0) / P(D|\\mu_0) + P(D|\\mu_1) = {}$\".format(P_D_mu0/(P_D_mu0+P_D_mu1)))"
   ]
  },
  {
   "cell_type": "markdown",
   "metadata": {},
   "source": [
    "So we see that the probability of the banker being balanced with regard to gender is significantly higher when taking amount into consideration, it is still minuscule and we can conclude that it is not."
   ]
  },
  {
   "cell_type": "code",
   "execution_count": 149,
   "metadata": {},
   "outputs": [
    {
     "name": "stdout",
     "output_type": "stream",
     "text": [
      "$P(\\mu_0|D) = P(D|\\mu_0) / P(D|\\mu_0) + P(D|\\mu_1) = 0.9997920702358508$\n"
     ]
    }
   ],
   "source": [
    "P_D_mu0 = 0\n",
    "P_D_mu1 = 0\n",
    "for l in range(n_bins):\n",
    "    for a in [-1, 1]:\n",
    "        indep_filter = (A==a) & (L==l)\n",
    "        for z in [-1, 1]:\n",
    "            ## P(Y | A = a, Z = z, L = l)\n",
    "            P_D_mu1 += np.log(marginal_posterior(Y[indep_filter & (Z==z)], 1, 1))\n",
    "\n",
    "        P_D_mu0 += np.log(marginal_posterior(Y[indep_filter], 1, 1))\n",
    "\n",
    "P_D_mu0 = np.exp(P_D_mu0)\n",
    "P_D_mu1 = np.exp(P_D_mu1)\n",
    "print(r\"$P(\\mu_0|D) = P(D|\\mu_0) / P(D|\\mu_0) + P(D|\\mu_1) = {}$\".format(P_D_mu0/(P_D_mu0+P_D_mu1)))"
   ]
  },
  {
   "cell_type": "markdown",
   "metadata": {},
   "source": [
    "And we see that taking amount into account we find an even higher probability of calibration, at 99.98%"
   ]
  },
  {
   "cell_type": "markdown",
   "metadata": {},
   "source": [
    "##### But what if we test the same with regard to duration, which actually has far more direct impact on the action decisions?"
   ]
  },
  {
   "cell_type": "code",
   "execution_count": 159,
   "metadata": {},
   "outputs": [
    {
     "name": "stdout",
     "output_type": "stream",
     "text": [
      "$P(\\mu_0|D) = P(D|\\mu_0) / P(D|\\mu_0) + P(D|\\mu_1) = 1.889377621233979e-05$\n",
      "$P(\\mu_0|D) = P(D|\\mu_0) / P(D|\\mu_0) + P(D|\\mu_1) = 0.9994066860671641$\n"
     ]
    }
   ],
   "source": [
    "bins = [0, 10, 20, 40, 80]\n",
    "Z = np.array([1 if z=='Female' else -1 for z in df['gender'].values])\n",
    "Y = np.array([1 if y==1 else -1 for y in df['repaid'].values])\n",
    "A = np.array([1 if a==1 else -1 for a in df['action'].values])\n",
    "D = np.array([in_bin(d) for d in df['duration'].values])\n",
    "\n",
    "P_D_mu0 = 0\n",
    "P_D_mu1 = 0\n",
    "for d in range(n_bins):\n",
    "    for y in [-1, 1]:\n",
    "        indep_filter = (Y==y) & (D==d)\n",
    "        for z in [-1, 1]:\n",
    "            ## P(A | Y = y, Z = z, D = d)\n",
    "            P_D_mu1 += np.log(marginal_posterior(A[indep_filter & (Z==z)], 1, 1))\n",
    "\n",
    "        P_D_mu0 += np.log(marginal_posterior(A[indep_filter], 1, 1))\n",
    "\n",
    "P_D_mu0 = np.exp(P_D_mu0)\n",
    "P_D_mu1 = np.exp(P_D_mu1)\n",
    "print(r\"$P(\\mu_0|D) = P(D|\\mu_0) / P(D|\\mu_0) + P(D|\\mu_1) = {}$\".format(P_D_mu0/(P_D_mu0+P_D_mu1)))\n",
    "\n",
    "P_D_mu0 = 0\n",
    "P_D_mu1 = 0\n",
    "for d in range(n_bins):\n",
    "    for a in [-1, 1]:\n",
    "        indep_filter = (A==a) & (D==d)\n",
    "        for z in [-1, 1]:\n",
    "            ## P(Y | A = a, Z = z, D = d)\n",
    "            P_D_mu1 += np.log(marginal_posterior(Y[indep_filter & (Z==z)], 1, 1))\n",
    "\n",
    "        P_D_mu0 += np.log(marginal_posterior(Y[indep_filter], 1, 1))\n",
    "\n",
    "P_D_mu0 = np.exp(P_D_mu0)\n",
    "P_D_mu1 = np.exp(P_D_mu1)\n",
    "print(r\"$P(\\mu_0|D) = P(D|\\mu_0) / P(D|\\mu_0) + P(D|\\mu_1) = {}$\".format(P_D_mu0/(P_D_mu0+P_D_mu1)))"
   ]
  },
  {
   "cell_type": "markdown",
   "metadata": {},
   "source": [
    "Much the same as for amount."
   ]
  },
  {
   "cell_type": "markdown",
   "metadata": {},
   "source": [
    "#### Using stochastic gradient descent, find a policy that balances out fairness and utlility"
   ]
  },
  {
   "cell_type": "markdown",
   "metadata": {},
   "source": [
    "Well, I honestly don't know how to approach this, but I'll give it a shot  \n",
    "I'll try to create a new utility function that reduces the true utility if the probability of balance and calibration are low. Then I'll try adjusting the probabilities of repayment calculated by the banker for males and females up and down for both for a sample of the dataset, calculate the adjusted utility for both adjustments and select the one that gives best utility adjusted for fairness between the one with increased probability of repayment for male and the one for females. Then I'll iterate this a set number of times, and hopefully we should have found an adjustment that gives the best adjusted utility that we could then apply to the decisions made by our banker."
   ]
  },
  {
   "cell_type": "code",
   "execution_count": 160,
   "metadata": {
    "collapsed": true
   },
   "outputs": [],
   "source": [
    "adjustment = {'Male': 1, 'Female': 1}"
   ]
  },
  {
   "cell_type": "code",
   "execution_count": 163,
   "metadata": {
    "collapsed": true
   },
   "outputs": [],
   "source": [
    "def utility_f(utility, balance, calibration):\n",
    "    \"\"\" Calculates a fairness-adjusted utility \n",
    "    \n",
    "    Parameters\n",
    "    ----------\n",
    "    utility : 'float\n",
    "        The pure utility of the banker\n",
    "    balance : 'float'\n",
    "        The probability of the banker being balanced\n",
    "    calibration : 'float'\n",
    "        The probability of the banker being calibrated\n",
    "              \n",
    "    Returns\n",
    "    -------\n",
    "    'float'\n",
    "        A fairness-adjusted utility, adjusted according to predefined weights\n",
    "    \"\"\"\n",
    "    wb = 1 # importance of balance, 0 is very important, toward infinity balance is discarded\n",
    "    wc = 1 # same for calibration\n",
    "    \n",
    "    balance_factor = (wb+balance) / (wb+1)\n",
    "    calibration_factor = (wc+calibration) / (wc+1)\n",
    "    utility_correction = abs(utility) * (1 - balance_factor * calibration_factor)\n",
    "    return utility - utility_correction"
   ]
  },
  {
   "cell_type": "code",
   "execution_count": 230,
   "metadata": {
    "collapsed": true
   },
   "outputs": [],
   "source": [
    "def get_fairness(d):\n",
    "    Z = 1*(d['gender'].values=='Female')\n",
    "    Y = 1*(d['repaid'].values==1)\n",
    "    A = d['action'].values\n",
    "\n",
    "    def do_calc(A, Y, Z):\n",
    "        P_D_mu = np.zeros(2)\n",
    "        for y in [0, 1]:\n",
    "            for z in [0, 1]:\n",
    "                P_D_mu[1] += np.log(marginal_posterior(A[(Y==y) & (Z==z)], 1, 1))\n",
    "            P_D_mu[0] += np.log(marginal_posterior(A[(Y==y)], 1, 1))\n",
    "        P_D_mu = np.exp(P_D_mu)\n",
    "        return P_D_mu[0] / P_D_mu.sum()\n",
    "\n",
    "    P_balance = do_calc(A, Y, Z)\n",
    "    P_calibration = do_calc(Y, A, Z)\n",
    "    return P_balance, P_calibration"
   ]
  },
  {
   "cell_type": "code",
   "execution_count": 226,
   "metadata": {
    "collapsed": true
   },
   "outputs": [],
   "source": [
    "def expected_utility(time, loan, prob):\n",
    "    return loan * (prob * (1+rate)**time - 1)\n",
    "def utility(time, loan, repaid):\n",
    "    return loan * (((1+rate)**time - 1) if repaid==1 else -1)"
   ]
  },
  {
   "cell_type": "code",
   "execution_count": 232,
   "metadata": {},
   "outputs": [
    {
     "name": "stderr",
     "output_type": "stream",
     "text": [
      "C:\\ProgramData\\Anaconda3\\lib\\site-packages\\ipykernel_launcher.py:13: SettingWithCopyWarning: \n",
      "A value is trying to be set on a copy of a slice from a DataFrame.\n",
      "Try using .loc[row_indexer,col_indexer] = value instead\n",
      "\n",
      "See the caveats in the documentation: http://pandas.pydata.org/pandas-docs/stable/indexing.html#indexing-view-versus-copy\n",
      "  del sys.path[0]\n"
     ]
    }
   ],
   "source": [
    "iterations = 500\n",
    "sample_size = 50\n",
    "alpha = 0.01\n",
    "utilities = np.zeros(iterations)\n",
    "adj_utils = np.zeros(iterations)\n",
    "bal = np.zeros(iterations)\n",
    "cal = np.zeros(iterations)\n",
    "for i in range(iterations):\n",
    "    d = resample(df, n_samples=sample_size)\n",
    "    for direction in (-1, 1):\n",
    "        e = d.copy()\n",
    "        for g in ('Male', 'Female'):\n",
    "            e[e['gender']==g]['proba good'] *= adjustment[g] + alpha * direction * (-1 if g=='Male' else 1)\n",
    "        e['EU'] = expected_utility(d['duration'], e['amount'], e['proba good'])\n",
    "        e['action'] = 1*(e['EU']>=0)\n",
    "        util = np.zeros(sample_size)\n",
    "        for j in range(sample_size):\n",
    "            util[j] = utility(e['duration'].iloc[j], e['amount'].iloc[j], e['repaid'].iloc[j])\n",
    "        b, c, u, a = (bal[i], cal[i], utilities[i], adj_utils[i])\n",
    "        bal[i], cal[i] = get_fairness(e)\n",
    "        utilities[i] = util.sum()\n",
    "        adj_utils[i] = utility_f(utilities[i], bal[i], cal[i])\n",
    "    if adj_utils[i] < a:\n",
    "        direction = -1\n",
    "        bal[i], cal[i], utilities[i], adj_utils[i] = (b, c, u, a)\n",
    "    for g in ('Male', 'Female'):\n",
    "        adjustment[g] += alpha * direction * (-1 if g=='Male' else 1)"
   ]
  },
  {
   "cell_type": "code",
   "execution_count": 233,
   "metadata": {},
   "outputs": [
    {
     "data": {
      "image/png": "[encoded data removed]",
      "text/plain": [
       "<matplotlib.figure.Figure at 0x1b1c1effa20>"
      ]
     },
     "metadata": {},
     "output_type": "display_data"
    },
    {
     "data": {
      "image/png": "[encoded data removed]",
      "text/plain": [
       "<matplotlib.figure.Figure at 0x1b1c20ebd68>"
      ]
     },
     "metadata": {},
     "output_type": "display_data"
    },
    {
     "data": {
      "image/png": "[encoded data removed]",
      "text/plain": [
       "<matplotlib.figure.Figure at 0x1b1c326a8d0>"
      ]
     },
     "metadata": {},
     "output_type": "display_data"
    },
    {
     "data": {
      "image/png": "[encoded data removed]",
      "text/plain": [
       "<matplotlib.figure.Figure at 0x1b1c3211978>"
      ]
     },
     "metadata": {},
     "output_type": "display_data"
    }
   ],
   "source": [
    "plt.plot(np.arange(iterations), utilities)\n",
    "plt.show()\n",
    "plt.plot(np.arange(iterations), adj_utils)\n",
    "plt.show()\n",
    "plt.plot(np.arange(iterations), bal)\n",
    "plt.show()\n",
    "plt.plot(np.arange(iterations), cal)\n",
    "plt.show()"
   ]
  },
  {
   "cell_type": "code",
   "execution_count": 235,
   "metadata": {},
   "outputs": [
    {
     "data": {
      "text/plain": [
       "{'Female': 5.999999999999916, 'Male': -3.9999999999999596}"
      ]
     },
     "execution_count": 235,
     "metadata": {},
     "output_type": "execute_result"
    }
   ],
   "source": [
    "adjustment"
   ]
  },
  {
   "cell_type": "markdown",
   "metadata": {},
   "source": [
    "Well, that obviously didn't work. How I get a probability of balance close to 1 for the unadjusted banker when our previous calculations found that to be close to 0 I don't know. This seems like a lot of debugging work, and I'm not even sure the method is valid, so I'll just leave it at that. I'd dearly like to know how this should have been solved, though!"
   ]
  },
  {
   "cell_type": "markdown",
   "metadata": {},
   "source": [
    "## Conclusion"
   ]
  },
  {
   "cell_type": "markdown",
   "metadata": {},
   "source": [
    "The banker attached in the file aleksaw_banker.py seems to do a fairly good job at predicting whether a customer will repay their loan or not, although the signal in the data seems to be rather weak. It does this by using three different classifiers, weighing them by performance and using this to get an aggregate prediction. It seems like different training sets will yield wildly different hyperparameters, so performance will probably be almost as good just selecting some reasonable parameters manually, saving the heavy bit of the fitting procedure. \n",
    "\n",
    "The banker is extended by a private banker that includes the option to noisify the training data to increase the privacy of the people in the database as well as an option to protect the privacy of new customers by creating private decisions on new loans. It appears, however, that due to the weak signal in the data we need a significantly higher interest rate to still make money while providing some reasonable amount of privacy.\n",
    "\n",
    "The banker seems well calibrated in it's decisions with regard to gender, but unfortunately it is very unbalanced, and women are far less likely to be granted loans than men given their eventual repayment status. At the sam"
   ]
  }
 ],
 "metadata": {
  "kernelspec": {
   "display_name": "Python 3",
   "language": "python",
   "name": "python3"
  },
  "language_info": {
   "codemirror_mode": {
    "name": "ipython",
    "version": 3
   },
   "file_extension": ".py",
   "mimetype": "text/x-python",
   "name": "python",
   "nbconvert_exporter": "python",
   "pygments_lexer": "ipython3",
   "version": "3.6.1"
  }
 },
 "nbformat": 4,
 "nbformat_minor": 2
}
