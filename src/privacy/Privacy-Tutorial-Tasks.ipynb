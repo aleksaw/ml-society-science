{
 "cells": [
  {
   "cell_type": "markdown",
   "metadata": {},
   "source": [
    "# Part 1"
   ]
  },
  {
   "cell_type": "code",
   "execution_count": 39,
   "metadata": {
    "collapsed": true
   },
   "outputs": [],
   "source": [
    "import matplotlib.pyplot as plt\n",
    "import numpy as np\n",
    "% matplotlib inline\n",
    "import seaborn as sb\n",
    "sb.set()"
   ]
  },
  {
   "cell_type": "code",
   "execution_count": 2,
   "metadata": {
    "collapsed": true
   },
   "outputs": [],
   "source": [
    "## We want to calculate teh average salary\n",
    "n_people = 100 # The number of people participating\n",
    "max_salary = 10 # maximum salary of people - otherwise we can't use Laplace\n",
    "epsilon = 0.1 # the amount of privacy we want to lose"
   ]
  },
  {
   "cell_type": "code",
   "execution_count": 3,
   "metadata": {
    "collapsed": true
   },
   "outputs": [],
   "source": [
    "# Assume the distribution of people is coming from a clipped gamma distribution. \n",
    "# Not necessarily true\n",
    "data = np.random.gamma(shape=2, scale=1, size=n_people)\n",
    "for i in range(n_people):\n",
    "    data[i] = min(data[i], max_salary)"
   ]
  },
  {
   "cell_type": "code",
   "execution_count": 4,
   "metadata": {},
   "outputs": [
    {
     "name": "stdout",
     "output_type": "stream",
     "text": [
      "The actual average salary is  2.0149063122346234\n"
     ]
    }
   ],
   "source": [
    "# Calculate the average salary\n",
    "average_salary = np.average(data)\n",
    "print(\"The actual average salary is \", average_salary)"
   ]
  },
  {
   "cell_type": "code",
   "execution_count": 5,
   "metadata": {},
   "outputs": [
    {
     "name": "stdout",
     "output_type": "stream",
     "text": [
      "The average salary computed with local DP + Laplace is  0.773124387644594\n"
     ]
    }
   ],
   "source": [
    "#### Laplace mechanism for local DP\n",
    "#\n",
    "# We need the sensitivity of individual data points. Since an\n",
    "# individual's data can vary at most by max_salary, we have:\n",
    "local_sensitivity = max_salary\n",
    "# We now tune the noise to the sensitivity\n",
    "local_noise = np.random.laplace(scale=local_sensitivity/epsilon, size=n_people)\n",
    "# Calculate the average\n",
    "local_average = np.average(data + local_noise)\n",
    "print(\"The average salary computed with local DP + Laplace is \", local_average)"
   ]
  },
  {
   "cell_type": "code",
   "execution_count": 6,
   "metadata": {},
   "outputs": [
    {
     "name": "stdout",
     "output_type": "stream",
     "text": [
      "The average salary computed with central DP + Laplace is  4.286879354726363\n"
     ]
    }
   ],
   "source": [
    "#### Laplace mechanism for centralised DP\n",
    "#\n",
    "# We calculate the average, so if an individual's data changes by max_salary, the average\n",
    "# changes by max_salary / n. So:\n",
    "central_sensitivity = max_salary / n_people\n",
    "# We now tune sensitivity to the function\n",
    "central_noise = np.random.laplace(scale=central_sensitivity / epsilon, size=1)\n",
    "# Calculate the average\n",
    "central_average = np.average(data + central_noise)\n",
    "print(\"The average salary computed with central DP + Laplace is \", central_average)"
   ]
  },
  {
   "cell_type": "markdown",
   "metadata": {},
   "source": [
    "Laplace in local privacy model gives total variance $2\\frac{M^2}{\\epsilon^2n}$ and in centralised privacy model $2\\big(\\frac{M}{\\epsilon n}\\big)^2 = \\frac{\\text{Local variance}}{n}$"
   ]
  },
  {
   "cell_type": "code",
   "execution_count": 30,
   "metadata": {},
   "outputs": [],
   "source": [
    "def get_local_average(data, epsilon, n_people, max_salary):\n",
    "    #### Laplace mechanism for local DP\n",
    "    #\n",
    "    # We need the sensitivity of individual data points. Since an\n",
    "    # individual's data can vary at most by max_salary, we have:\n",
    "    local_sensitivity = max_salary\n",
    "    # We now tune the noise to the sensitivity\n",
    "    local_noise = np.random.laplace(scale=local_sensitivity/epsilon, size=n_people)\n",
    "    # Calculate the average\n",
    "    return np.average(data + local_noise)"
   ]
  },
  {
   "cell_type": "code",
   "execution_count": 29,
   "metadata": {
    "collapsed": true
   },
   "outputs": [],
   "source": [
    "def get_central_average(data, epsilon, n_people, max_salary):\n",
    "    #### Laplace mechanism for centralised DP\n",
    "    #\n",
    "    # We calculate the average, so if an individual's data changes by max_salary, the average\n",
    "    # changes by max_salary / n. So:\n",
    "    central_sensitivity = max_salary / n_people\n",
    "    # We now tune sensitivity to the function\n",
    "    central_noise = np.random.laplace(scale=central_sensitivity / epsilon, size=1)\n",
    "    # Calculate the average\n",
    "    return np.average(data + central_noise)"
   ]
  },
  {
   "cell_type": "code",
   "execution_count": 42,
   "metadata": {},
   "outputs": [],
   "source": [
    "# Vary number of people\n",
    "ns = 50\n",
    "N = np.logspace(0, 4, ns, dtype=np.int)\n",
    "iterations = 10000\n",
    "local_variances = np.zeros(ns)\n",
    "central_variances = np.zeros(ns)\n",
    "for i in range(ns):\n",
    "    n = N[i]\n",
    "    data = np.random.gamma(shape=2, scale=1, size=n)\n",
    "    for j in range(n):\n",
    "        data[j] = min(data[j], max_salary)\n",
    "    local_averages = np.zeros(iterations)\n",
    "    central_averages = np.zeros(iterations)\n",
    "    for j in range(iterations):\n",
    "        local_averages[j] = get_local_average(data, epsilon, n, max_salary)\n",
    "        central_averages[j] = get_central_average(data, epsilon, n, max_salary)\n",
    "    local_variances[i] = np.std(local_averages)\n",
    "    central_variances[i] = np.std(central_averages)"
   ]
  },
  {
   "cell_type": "code",
   "execution_count": 43,
   "metadata": {},
   "outputs": [
    {
     "data": {
      "text/plain": [
       "[<matplotlib.lines.Line2D at 0x24b171d4080>]"
      ]
     },
     "execution_count": 43,
     "metadata": {},
     "output_type": "execute_result"
    },
    {
     "data": {
      "image/png": "[encoded data removed]",
      "text/plain": [
       "<matplotlib.figure.Figure at 0x24b17192eb8>"
      ]
     },
     "metadata": {},
     "output_type": "display_data"
    }
   ],
   "source": [
    "plt.semilogx(N, local_variances)"
   ]
  },
  {
   "cell_type": "code",
   "execution_count": 44,
   "metadata": {},
   "outputs": [
    {
     "data": {
      "text/plain": [
       "[<matplotlib.lines.Line2D at 0x24b17232cf8>]"
      ]
     },
     "execution_count": 44,
     "metadata": {},
     "output_type": "execute_result"
    },
    {
     "data": {
      "image/png": "[encoded data removed]",
      "text/plain": [
       "<matplotlib.figure.Figure at 0x24b172b5fd0>"
      ]
     },
     "metadata": {},
     "output_type": "display_data"
    }
   ],
   "source": [
    "plt.semilogx(N, central_variances)"
   ]
  },
  {
   "cell_type": "code",
   "execution_count": 46,
   "metadata": {},
   "outputs": [],
   "source": [
    "# Vary epsilon\n",
    "data = np.random.gamma(shape=2, scale=1, size=n_people)\n",
    "for i in range(n_people):\n",
    "    data[i] = min(data[i], max_salary)\n",
    "es = 50\n",
    "epsilon = np.logspace(-4, 1, es)\n",
    "iterations = 10000\n",
    "local_variances = np.zeros(es)\n",
    "central_variances = np.zeros(es)\n",
    "for i in range(es):\n",
    "    e = epsilon[i]\n",
    "    local_averages = np.zeros(iterations)\n",
    "    central_averages = np.zeros(iterations)\n",
    "    for j in range(iterations):\n",
    "        local_averages[j] = get_local_average(data, e, n_people, max_salary)\n",
    "        central_averages[j] = get_central_average(data, e, n_people, max_salary)\n",
    "    local_variances[i] = np.std(local_averages)\n",
    "    central_variances[i] = np.std(central_averages)"
   ]
  },
  {
   "cell_type": "code",
   "execution_count": 47,
   "metadata": {},
   "outputs": [
    {
     "data": {
      "text/plain": [
       "[<matplotlib.lines.Line2D at 0x24b170049e8>]"
      ]
     },
     "execution_count": 47,
     "metadata": {},
     "output_type": "execute_result"
    },
    {
     "data": {
      "image/png": "[encoded data removed]",
      "text/plain": [
       "<matplotlib.figure.Figure at 0x24b1755ccf8>"
      ]
     },
     "metadata": {},
     "output_type": "display_data"
    }
   ],
   "source": [
    "plt.semilogx(epsilon, local_variances)"
   ]
  },
  {
   "cell_type": "code",
   "execution_count": 48,
   "metadata": {},
   "outputs": [
    {
     "data": {
      "text/plain": [
       "[<matplotlib.lines.Line2D at 0x24b177aaa90>]"
      ]
     },
     "execution_count": 48,
     "metadata": {},
     "output_type": "execute_result"
    },
    {
     "data": {
      "image/png": "[encoded data removed]",
      "text/plain": [
       "<matplotlib.figure.Figure at 0x24b172c4f28>"
      ]
     },
     "metadata": {},
     "output_type": "display_data"
    }
   ],
   "source": [
    "plt.semilogx(epsilon, central_variances)"
   ]
  },
  {
   "cell_type": "markdown",
   "metadata": {},
   "source": [
    "# Part 2"
   ]
  },
  {
   "cell_type": "code",
   "execution_count": 86,
   "metadata": {},
   "outputs": [],
   "source": [
    "from sklearn.model_selection import cross_val_score, KFold\n",
    "from sklearn.metrics import confusion_matrix, accuracy_score, make_scorer\n",
    "from sklearn.linear_model import LogisticRegression\n",
    "\n",
    "import numpy as np"
   ]
  },
  {
   "cell_type": "markdown",
   "metadata": {},
   "source": [
    "From the Notes we have for $p \\leq \\frac{1}{2}$ we are ($\\ln\\frac{1-p}{p}$)-DP meaning that for each feature to be $\\epsilon$-DP then $\\epsilon = \\ln\\frac{1-p}{p} \\implies e^\\epsilon = \\frac{1-p}{p} \\implies p + pe^\\epsilon = 1 \\implies p = \\frac{1}{1+e^\\epsilon}$.\n",
    "\n",
    "Then since each feature should be $\\frac{\\epsilon}{k}$-DP for a total $\\epsilon$-DP, our flip ratio $p$ should be $\\frac{1}{1+e^{\\frac{\\epsilon}{k}}}$."
   ]
  },
  {
   "cell_type": "code",
   "execution_count": 103,
   "metadata": {
    "collapsed": true
   },
   "outputs": [],
   "source": [
    "def create_noisy_data(X, epsilon, k, numerical_features, binary_features):\n",
    "    flip_fraction = 1 / (1 + np.exp(epsilon/k)) \n",
    "    # All non-numerical features are binary. \n",
    "    # What fraction should we flip to be epsilon-DP, given that there are k attributes in total? \n",
    "    # If we want to be epsilon-DP overall, then each feature should be \\epsilon / k - DP.\n",
    "\n",
    "    X_noise = X.copy()\n",
    "\n",
    "    n_data = len(X_noise)\n",
    "    # We can use the same random response mechanism for all binary features\n",
    "    w = np.random.choice([0, 1], \n",
    "                         size=(n_data, len(binary_features)), \n",
    "                         p=[1 - flip_fraction, flip_fraction])\n",
    "    X_noise[binary_features] = (X_noise[binary_features] + w) % 2\n",
    "    \n",
    "    # For numerical features, it is different. \n",
    "    # The scaling factor should depend on k, \\epsilon, and the sensitivity of that particular \n",
    "    # attribite. In this case, it's simply the range of the attribute.\n",
    "    for c in numerical_features:\n",
    "        lambda_ = (X[c].max()-X[c].min())/(k*epsilon)\n",
    "        w = np.random.laplace(scale=lambda_, size=n_data)\n",
    "        X_noise[c] += w\n",
    "\n",
    "    return X_noise"
   ]
  },
  {
   "cell_type": "code",
   "execution_count": 104,
   "metadata": {},
   "outputs": [],
   "source": [
    "import pandas\n",
    "features = ['checking account balance', 'duration', 'credit history',\n",
    "            'purpose', 'amount', 'savings', 'employment', 'installment',\n",
    "            'marital status', 'other debtors', 'residence time',\n",
    "            'property', 'age', 'other installments', 'housing', 'credits',\n",
    "            'job', 'persons', 'phone', 'foreign']\n",
    "target = 'repaid'\n",
    "# Data taken from https://archive.ics.uci.edu/ml/datasets/Statlog+%28German+Credit+Data%29\n",
    "df = pandas.read_csv('../../data/credit/german.data', sep=' ',\n",
    "                     names=features+[target])\n",
    "numerical_features = ['duration', 'age', 'residence time', 'installment', 'amount', 'duration', 'persons', 'credits']\n",
    "quantitative_features = list(filter(lambda x: x not in numerical_features, features))\n",
    "\n",
    "X = pandas.get_dummies(df, columns=quantitative_features, drop_first=True)\n",
    "encoded_features = list(filter(lambda x: x != target, X.columns))\n",
    "\n",
    "X_noise = create_noisy_data(X, \n",
    "                            epsilon=0.1,\n",
    "                            k=len(encoded_features),\n",
    "                            numerical_features=numerical_features,\n",
    "                            binary_features=[f for f in encoded_features if f not in numerical_features])"
   ]
  },
  {
   "cell_type": "code",
   "execution_count": 105,
   "metadata": {},
   "outputs": [
    {
     "data": {
      "text/html": [
       "<div>\n",
       "<style>\n",
       "    .dataframe thead tr:only-child th {\n",
       "        text-align: right;\n",
       "    }\n",
       "\n",
       "    .dataframe thead th {\n",
       "        text-align: left;\n",
       "    }\n",
       "\n",
       "    .dataframe tbody tr th {\n",
       "        vertical-align: top;\n",
       "    }\n",
       "</style>\n",
       "<table border=\"1\" class=\"dataframe\">\n",
       "  <thead>\n",
       "    <tr style=\"text-align: right;\">\n",
       "      <th></th>\n",
       "      <th>duration</th>\n",
       "      <th>amount</th>\n",
       "      <th>installment</th>\n",
       "      <th>residence time</th>\n",
       "      <th>age</th>\n",
       "      <th>credits</th>\n",
       "      <th>persons</th>\n",
       "      <th>repaid</th>\n",
       "      <th>checking account balance_A12</th>\n",
       "      <th>checking account balance_A13</th>\n",
       "      <th>...</th>\n",
       "      <th>property_A124</th>\n",
       "      <th>other installments_A142</th>\n",
       "      <th>other installments_A143</th>\n",
       "      <th>housing_A152</th>\n",
       "      <th>housing_A153</th>\n",
       "      <th>job_A172</th>\n",
       "      <th>job_A173</th>\n",
       "      <th>job_A174</th>\n",
       "      <th>phone_A192</th>\n",
       "      <th>foreign_A202</th>\n",
       "    </tr>\n",
       "  </thead>\n",
       "  <tbody>\n",
       "    <tr>\n",
       "      <th>0</th>\n",
       "      <td>-2.791975</td>\n",
       "      <td>-857.286930</td>\n",
       "      <td>2.547130</td>\n",
       "      <td>2.499363</td>\n",
       "      <td>45.089927</td>\n",
       "      <td>1.701282</td>\n",
       "      <td>0.999636</td>\n",
       "      <td>1</td>\n",
       "      <td>0</td>\n",
       "      <td>0</td>\n",
       "      <td>...</td>\n",
       "      <td>1</td>\n",
       "      <td>1</td>\n",
       "      <td>0</td>\n",
       "      <td>0</td>\n",
       "      <td>1</td>\n",
       "      <td>0</td>\n",
       "      <td>0</td>\n",
       "      <td>1</td>\n",
       "      <td>1</td>\n",
       "      <td>0</td>\n",
       "    </tr>\n",
       "    <tr>\n",
       "      <th>1</th>\n",
       "      <td>43.025092</td>\n",
       "      <td>414.544350</td>\n",
       "      <td>1.912678</td>\n",
       "      <td>2.113314</td>\n",
       "      <td>14.101350</td>\n",
       "      <td>0.541711</td>\n",
       "      <td>0.615734</td>\n",
       "      <td>2</td>\n",
       "      <td>1</td>\n",
       "      <td>0</td>\n",
       "      <td>...</td>\n",
       "      <td>1</td>\n",
       "      <td>0</td>\n",
       "      <td>1</td>\n",
       "      <td>1</td>\n",
       "      <td>0</td>\n",
       "      <td>0</td>\n",
       "      <td>0</td>\n",
       "      <td>0</td>\n",
       "      <td>1</td>\n",
       "      <td>0</td>\n",
       "    </tr>\n",
       "    <tr>\n",
       "      <th>2</th>\n",
       "      <td>61.057727</td>\n",
       "      <td>1333.839702</td>\n",
       "      <td>1.830973</td>\n",
       "      <td>3.775776</td>\n",
       "      <td>61.630417</td>\n",
       "      <td>1.365348</td>\n",
       "      <td>2.010173</td>\n",
       "      <td>1</td>\n",
       "      <td>1</td>\n",
       "      <td>1</td>\n",
       "      <td>...</td>\n",
       "      <td>0</td>\n",
       "      <td>1</td>\n",
       "      <td>0</td>\n",
       "      <td>1</td>\n",
       "      <td>0</td>\n",
       "      <td>0</td>\n",
       "      <td>1</td>\n",
       "      <td>1</td>\n",
       "      <td>0</td>\n",
       "      <td>0</td>\n",
       "    </tr>\n",
       "    <tr>\n",
       "      <th>3</th>\n",
       "      <td>47.148963</td>\n",
       "      <td>9421.882222</td>\n",
       "      <td>3.741428</td>\n",
       "      <td>6.389558</td>\n",
       "      <td>50.930502</td>\n",
       "      <td>4.244969</td>\n",
       "      <td>1.953721</td>\n",
       "      <td>1</td>\n",
       "      <td>1</td>\n",
       "      <td>0</td>\n",
       "      <td>...</td>\n",
       "      <td>0</td>\n",
       "      <td>1</td>\n",
       "      <td>1</td>\n",
       "      <td>1</td>\n",
       "      <td>1</td>\n",
       "      <td>0</td>\n",
       "      <td>1</td>\n",
       "      <td>1</td>\n",
       "      <td>1</td>\n",
       "      <td>0</td>\n",
       "    </tr>\n",
       "    <tr>\n",
       "      <th>4</th>\n",
       "      <td>41.118625</td>\n",
       "      <td>540.732799</td>\n",
       "      <td>2.920986</td>\n",
       "      <td>3.229260</td>\n",
       "      <td>36.835162</td>\n",
       "      <td>1.218662</td>\n",
       "      <td>1.782928</td>\n",
       "      <td>2</td>\n",
       "      <td>0</td>\n",
       "      <td>1</td>\n",
       "      <td>...</td>\n",
       "      <td>0</td>\n",
       "      <td>0</td>\n",
       "      <td>1</td>\n",
       "      <td>1</td>\n",
       "      <td>1</td>\n",
       "      <td>0</td>\n",
       "      <td>1</td>\n",
       "      <td>1</td>\n",
       "      <td>0</td>\n",
       "      <td>0</td>\n",
       "    </tr>\n",
       "  </tbody>\n",
       "</table>\n",
       "<p>5 rows × 49 columns</p>\n",
       "</div>"
      ],
      "text/plain": [
       "    duration       amount  installment  residence time        age   credits  \\\n",
       "0  -2.791975  -857.286930     2.547130        2.499363  45.089927  1.701282   \n",
       "1  43.025092   414.544350     1.912678        2.113314  14.101350  0.541711   \n",
       "2  61.057727  1333.839702     1.830973        3.775776  61.630417  1.365348   \n",
       "3  47.148963  9421.882222     3.741428        6.389558  50.930502  4.244969   \n",
       "4  41.118625   540.732799     2.920986        3.229260  36.835162  1.218662   \n",
       "\n",
       "    persons  repaid  checking account balance_A12  \\\n",
       "0  0.999636       1                             0   \n",
       "1  0.615734       2                             1   \n",
       "2  2.010173       1                             1   \n",
       "3  1.953721       1                             1   \n",
       "4  1.782928       2                             0   \n",
       "\n",
       "   checking account balance_A13      ...       property_A124  \\\n",
       "0                             0      ...                   1   \n",
       "1                             0      ...                   1   \n",
       "2                             1      ...                   0   \n",
       "3                             0      ...                   0   \n",
       "4                             1      ...                   0   \n",
       "\n",
       "   other installments_A142  other installments_A143  housing_A152  \\\n",
       "0                        1                        0             0   \n",
       "1                        0                        1             1   \n",
       "2                        1                        0             1   \n",
       "3                        1                        1             1   \n",
       "4                        0                        1             1   \n",
       "\n",
       "   housing_A153  job_A172  job_A173  job_A174  phone_A192  foreign_A202  \n",
       "0             1         0         0         1           1             0  \n",
       "1             0         0         0         0           1             0  \n",
       "2             0         0         1         1           0             0  \n",
       "3             1         0         1         1           1             0  \n",
       "4             1         0         1         1           0             0  \n",
       "\n",
       "[5 rows x 49 columns]"
      ]
     },
     "execution_count": 105,
     "metadata": {},
     "output_type": "execute_result"
    }
   ],
   "source": [
    "X_noise.head()"
   ]
  },
  {
   "cell_type": "code",
   "execution_count": 106,
   "metadata": {},
   "outputs": [
    {
     "data": {
      "text/plain": [
       "(0.749, 0.04011234224026317)"
      ]
     },
     "execution_count": 106,
     "metadata": {},
     "output_type": "execute_result"
    }
   ],
   "source": [
    "cv_accuracy = cross_val_score(LogisticRegression(),\n",
    "                X[encoded_features],\n",
    "                X[target],\n",
    "                scoring=make_scorer(accuracy_score),\n",
    "                cv=10)\n",
    "cv_accuracy.mean(), cv_accuracy.std()"
   ]
  },
  {
   "cell_type": "code",
   "execution_count": 107,
   "metadata": {},
   "outputs": [
    {
     "data": {
      "text/plain": [
       "(0.6799999999999999, 0.02190890230020662)"
      ]
     },
     "execution_count": 107,
     "metadata": {},
     "output_type": "execute_result"
    }
   ],
   "source": [
    "cv_accuracy = cross_val_score(LogisticRegression(),\n",
    "                X_noise[encoded_features],\n",
    "                X_noise[target],\n",
    "                scoring=make_scorer(accuracy_score),\n",
    "                cv=10)\n",
    "cv_accuracy.mean(), cv_accuracy.std()"
   ]
  },
  {
   "cell_type": "markdown",
   "metadata": {},
   "source": [
    "Now test for different values of $\\epsilon$ and plot"
   ]
  },
  {
   "cell_type": "code",
   "execution_count": 118,
   "metadata": {
    "collapsed": true
   },
   "outputs": [],
   "source": [
    "es = 50\n",
    "epsilon = np.logspace(-4, 4, es)\n",
    "binary_features = [f for f in encoded_features if f not in numerical_features]\n",
    "accuracy_std = np.zeros(es)\n",
    "accuracy_mean = np.zeros(es)\n",
    "for i in range(es):\n",
    "    # Generate new noisy data\n",
    "    X_noise = create_noisy_data(X, \n",
    "                            epsilon=epsilon[i],\n",
    "                            k=len(encoded_features),\n",
    "                            numerical_features=numerical_features,\n",
    "                            binary_features=binary_features)\n",
    "                \n",
    "    cv_accuracy = cross_val_score(LogisticRegression(),\n",
    "                                  X_noise[encoded_features],\n",
    "                                  X_noise[target],\n",
    "                                  scoring=make_scorer(accuracy_score),\n",
    "                                  cv=10)\n",
    "    accuracy_mean[i] = cv_accuracy.mean()\n",
    "    accuracy_std[i] = cv_accuracy.std()"
   ]
  },
  {
   "cell_type": "code",
   "execution_count": 122,
   "metadata": {},
   "outputs": [
    {
     "data": {
      "text/plain": [
       "<matplotlib.legend.Legend at 0x24b1a4f0ef0>"
      ]
     },
     "execution_count": 122,
     "metadata": {},
     "output_type": "execute_result"
    },
    {
     "data": {
      "image/png": "[encoded data removed]",
      "text/plain": [
       "<matplotlib.figure.Figure at 0x24b18f037b8>"
      ]
     },
     "metadata": {},
     "output_type": "display_data"
    }
   ],
   "source": [
    "plt.errorbar(epsilon, accuracy_mean, yerr=accuracy_std, ecolor='r', label=\"Mean Accuracy\")\n",
    "plt.plot(epsilon, [2-X[target].mean() for _ in range(es)], 'g-', label=\"Always Grant Accuracy\")\n",
    "plt.xscale('log')\n",
    "plt.xlabel(\"Epsilon\")\n",
    "plt.ylabel(\"Accuracy\")\n",
    "plt.legend(bbox_to_anchor=(1, 0), loc='lower right')"
   ]
  }
 ],
 "metadata": {
  "kernelspec": {
   "display_name": "Python 3",
   "language": "python",
   "name": "python3"
  },
  "language_info": {
   "codemirror_mode": {
    "name": "ipython",
    "version": 3
   },
   "file_extension": ".py",
   "mimetype": "text/x-python",
   "name": "python",
   "nbconvert_exporter": "python",
   "pygments_lexer": "ipython3",
   "version": "3.6.1"
  }
 },
 "nbformat": 4,
 "nbformat_minor": 2
}
